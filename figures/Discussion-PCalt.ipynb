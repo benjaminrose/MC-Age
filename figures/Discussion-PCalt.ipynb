{
  "cells": [
    {
      "cell_type": "markdown",
      "source": [
        "Making Peter happy"
      ],
      "metadata": {}
    },
    {
      "cell_type": "code",
      "source": [
        "from glob import glob\n",
        "import datetime\n",
        "\n",
        "import numpy as np\n",
        "from astropy.table import Table\n",
        "import pandas as pd\n",
        "\n",
        "from sklearn.preprocessing import StandardScaler\n",
        "from sklearn.decomposition import PCA\n",
        "\n",
        "from scipy.stats import spearmanr\n",
        "from scipy.stats import ks_2samp\n",
        "from scipy.stats import mannwhitneyu\n",
        "import seaborn as sns\n",
        "\n",
        "import matplotlib\n",
        "import matplotlib.pyplot as plt\n",
        "from mpl_toolkits.axes_grid1 import make_axes_locatable\n",
        "from matplotlib.ticker import MultipleLocator\n",
        "sns.set(context='talk', style='ticks', font='serif', color_codes=True)"
      ],
      "outputs": [],
      "execution_count": 1,
      "metadata": {
        "collapsed": false,
        "outputHidden": false,
        "inputHidden": false
      }
    },
    {
      "cell_type": "code",
      "source": [
        "HR = pd.read_csv('../data/campbell_local.tsv', sep='\\t', usecols=['SNID', 'redshift', 'hr', 'err_mu'], index_col='SNID')\n",
        "HR.rename(columns={'err_mu': 'hr uncert'}, inplace=True)\n",
        "HR = HR[HR['redshift']<0.2]  \n",
        "HR = HR[HR['hr']<0.7]\n",
        "HR.describe()"
      ],
      "outputs": [
        {
          "output_type": "execute_result",
          "execution_count": 2,
          "data": {
            "text/plain": [
              "         redshift   hr uncert          hr\n",
              "count  103.000000  103.000000  103.000000\n",
              "mean     0.143292    0.078358   -0.012718\n",
              "std      0.042126    0.016502    0.168172\n",
              "min      0.045248    0.056201   -0.424369\n",
              "25%      0.114303    0.065649   -0.118307\n",
              "50%      0.154056    0.075748   -0.030987\n",
              "75%      0.180766    0.085845    0.078726\n",
              "max      0.198704    0.133972    0.514934"
            ],
            "text/html": [
              "<div>\n",
              "<style scoped>\n",
              "    .dataframe tbody tr th:only-of-type {\n",
              "        vertical-align: middle;\n",
              "    }\n",
              "\n",
              "    .dataframe tbody tr th {\n",
              "        vertical-align: top;\n",
              "    }\n",
              "\n",
              "    .dataframe thead th {\n",
              "        text-align: right;\n",
              "    }\n",
              "</style>\n",
              "<table border=\"1\" class=\"dataframe\">\n",
              "  <thead>\n",
              "    <tr style=\"text-align: right;\">\n",
              "      <th></th>\n",
              "      <th>redshift</th>\n",
              "      <th>hr uncert</th>\n",
              "      <th>hr</th>\n",
              "    </tr>\n",
              "  </thead>\n",
              "  <tbody>\n",
              "    <tr>\n",
              "      <th>count</th>\n",
              "      <td>103.000000</td>\n",
              "      <td>103.000000</td>\n",
              "      <td>103.000000</td>\n",
              "    </tr>\n",
              "    <tr>\n",
              "      <th>mean</th>\n",
              "      <td>0.143292</td>\n",
              "      <td>0.078358</td>\n",
              "      <td>-0.012718</td>\n",
              "    </tr>\n",
              "    <tr>\n",
              "      <th>std</th>\n",
              "      <td>0.042126</td>\n",
              "      <td>0.016502</td>\n",
              "      <td>0.168172</td>\n",
              "    </tr>\n",
              "    <tr>\n",
              "      <th>min</th>\n",
              "      <td>0.045248</td>\n",
              "      <td>0.056201</td>\n",
              "      <td>-0.424369</td>\n",
              "    </tr>\n",
              "    <tr>\n",
              "      <th>25%</th>\n",
              "      <td>0.114303</td>\n",
              "      <td>0.065649</td>\n",
              "      <td>-0.118307</td>\n",
              "    </tr>\n",
              "    <tr>\n",
              "      <th>50%</th>\n",
              "      <td>0.154056</td>\n",
              "      <td>0.075748</td>\n",
              "      <td>-0.030987</td>\n",
              "    </tr>\n",
              "    <tr>\n",
              "      <th>75%</th>\n",
              "      <td>0.180766</td>\n",
              "      <td>0.085845</td>\n",
              "      <td>0.078726</td>\n",
              "    </tr>\n",
              "    <tr>\n",
              "      <th>max</th>\n",
              "      <td>0.198704</td>\n",
              "      <td>0.133972</td>\n",
              "      <td>0.514934</td>\n",
              "    </tr>\n",
              "  </tbody>\n",
              "</table>\n",
              "</div>"
            ]
          },
          "metadata": {}
        }
      ],
      "execution_count": 2,
      "metadata": {
        "collapsed": false,
        "outputHidden": false,
        "inputHidden": false
      }
    },
    {
      "cell_type": "code",
      "source": [
        "t = Table.read('../data/SDSS_Photometric_SNe_Ia.fits')\n",
        "salt = t['CID','Z','X1','X1_ERR','COLOR','COLOR_ERR'].to_pandas()\n",
        "salt.columns = salt.columns.str.lower()\n",
        "salt.rename(columns={'cid': 'SNID', 'z': 'redshift'}, inplace=True)\n",
        "salt.set_index('SNID', inplace=True)\n",
        "salt.describe()"
      ],
      "outputs": [
        {
          "output_type": "execute_result",
          "execution_count": 3,
          "data": {
            "text/plain": [
              "         redshift          x1      x1_err       color   color_err\n",
              "count  752.000000  752.000000  752.000000  752.000000  752.000000\n",
              "mean     0.294032   -0.006514    0.765859   -0.013105    0.059070\n",
              "std      0.103553    1.082517    0.506811    0.100019    0.023878\n",
              "min      0.037069   -2.952440    0.061210   -0.245912    0.024959\n",
              "25%      0.220188   -0.776738    0.426394   -0.084207    0.041157\n",
              "50%      0.294489    0.022410    0.702974   -0.019256    0.055565\n",
              "75%      0.369411    0.793196    1.011968    0.051200    0.073263\n",
              "max      0.700345    2.887440    8.048070    0.246569    0.195758"
            ],
            "text/html": [
              "<div>\n",
              "<style scoped>\n",
              "    .dataframe tbody tr th:only-of-type {\n",
              "        vertical-align: middle;\n",
              "    }\n",
              "\n",
              "    .dataframe tbody tr th {\n",
              "        vertical-align: top;\n",
              "    }\n",
              "\n",
              "    .dataframe thead th {\n",
              "        text-align: right;\n",
              "    }\n",
              "</style>\n",
              "<table border=\"1\" class=\"dataframe\">\n",
              "  <thead>\n",
              "    <tr style=\"text-align: right;\">\n",
              "      <th></th>\n",
              "      <th>redshift</th>\n",
              "      <th>x1</th>\n",
              "      <th>x1_err</th>\n",
              "      <th>color</th>\n",
              "      <th>color_err</th>\n",
              "    </tr>\n",
              "  </thead>\n",
              "  <tbody>\n",
              "    <tr>\n",
              "      <th>count</th>\n",
              "      <td>752.000000</td>\n",
              "      <td>752.000000</td>\n",
              "      <td>752.000000</td>\n",
              "      <td>752.000000</td>\n",
              "      <td>752.000000</td>\n",
              "    </tr>\n",
              "    <tr>\n",
              "      <th>mean</th>\n",
              "      <td>0.294032</td>\n",
              "      <td>-0.006514</td>\n",
              "      <td>0.765859</td>\n",
              "      <td>-0.013105</td>\n",
              "      <td>0.059070</td>\n",
              "    </tr>\n",
              "    <tr>\n",
              "      <th>std</th>\n",
              "      <td>0.103553</td>\n",
              "      <td>1.082517</td>\n",
              "      <td>0.506811</td>\n",
              "      <td>0.100019</td>\n",
              "      <td>0.023878</td>\n",
              "    </tr>\n",
              "    <tr>\n",
              "      <th>min</th>\n",
              "      <td>0.037069</td>\n",
              "      <td>-2.952440</td>\n",
              "      <td>0.061210</td>\n",
              "      <td>-0.245912</td>\n",
              "      <td>0.024959</td>\n",
              "    </tr>\n",
              "    <tr>\n",
              "      <th>25%</th>\n",
              "      <td>0.220188</td>\n",
              "      <td>-0.776738</td>\n",
              "      <td>0.426394</td>\n",
              "      <td>-0.084207</td>\n",
              "      <td>0.041157</td>\n",
              "    </tr>\n",
              "    <tr>\n",
              "      <th>50%</th>\n",
              "      <td>0.294489</td>\n",
              "      <td>0.022410</td>\n",
              "      <td>0.702974</td>\n",
              "      <td>-0.019256</td>\n",
              "      <td>0.055565</td>\n",
              "    </tr>\n",
              "    <tr>\n",
              "      <th>75%</th>\n",
              "      <td>0.369411</td>\n",
              "      <td>0.793196</td>\n",
              "      <td>1.011968</td>\n",
              "      <td>0.051200</td>\n",
              "      <td>0.073263</td>\n",
              "    </tr>\n",
              "    <tr>\n",
              "      <th>max</th>\n",
              "      <td>0.700345</td>\n",
              "      <td>2.887440</td>\n",
              "      <td>8.048070</td>\n",
              "      <td>0.246569</td>\n",
              "      <td>0.195758</td>\n",
              "    </tr>\n",
              "  </tbody>\n",
              "</table>\n",
              "</div>"
            ]
          },
          "metadata": {}
        }
      ],
      "execution_count": 3,
      "metadata": {
        "collapsed": false,
        "outputHidden": false,
        "inputHidden": false
      }
    },
    {
      "cell_type": "code",
      "source": [
        "galaxy = pd.read_csv('../resources/kcorrect_stellarmass.csv',  usecols=['GAL', 'redshift', 'stellarmass'], index_col='GAL')\n",
        "galaxy.rename(columns={'redshift': 'gal redshift', 'stellarmass': 'stellar mass'}, inplace=True)\n",
        "galaxy.describe()"
      ],
      "outputs": [
        {
          "output_type": "execute_result",
          "execution_count": 4,
          "data": {
            "text/plain": [
              "       gal redshift  stellar mass\n",
              "count    305.000000  3.050000e+02\n",
              "mean       0.223845  4.177042e+10\n",
              "std        0.071923  5.006189e+10\n",
              "min        0.045363  3.521470e+07\n",
              "25%        0.175242  8.513790e+09\n",
              "50%        0.236310  2.342800e+10\n",
              "75%        0.284038  5.800110e+10\n",
              "max        0.336325  3.486340e+11"
            ],
            "text/html": [
              "<div>\n",
              "<style scoped>\n",
              "    .dataframe tbody tr th:only-of-type {\n",
              "        vertical-align: middle;\n",
              "    }\n",
              "\n",
              "    .dataframe tbody tr th {\n",
              "        vertical-align: top;\n",
              "    }\n",
              "\n",
              "    .dataframe thead th {\n",
              "        text-align: right;\n",
              "    }\n",
              "</style>\n",
              "<table border=\"1\" class=\"dataframe\">\n",
              "  <thead>\n",
              "    <tr style=\"text-align: right;\">\n",
              "      <th></th>\n",
              "      <th>gal redshift</th>\n",
              "      <th>stellar mass</th>\n",
              "    </tr>\n",
              "  </thead>\n",
              "  <tbody>\n",
              "    <tr>\n",
              "      <th>count</th>\n",
              "      <td>305.000000</td>\n",
              "      <td>3.050000e+02</td>\n",
              "    </tr>\n",
              "    <tr>\n",
              "      <th>mean</th>\n",
              "      <td>0.223845</td>\n",
              "      <td>4.177042e+10</td>\n",
              "    </tr>\n",
              "    <tr>\n",
              "      <th>std</th>\n",
              "      <td>0.071923</td>\n",
              "      <td>5.006189e+10</td>\n",
              "    </tr>\n",
              "    <tr>\n",
              "      <th>min</th>\n",
              "      <td>0.045363</td>\n",
              "      <td>3.521470e+07</td>\n",
              "    </tr>\n",
              "    <tr>\n",
              "      <th>25%</th>\n",
              "      <td>0.175242</td>\n",
              "      <td>8.513790e+09</td>\n",
              "    </tr>\n",
              "    <tr>\n",
              "      <th>50%</th>\n",
              "      <td>0.236310</td>\n",
              "      <td>2.342800e+10</td>\n",
              "    </tr>\n",
              "    <tr>\n",
              "      <th>75%</th>\n",
              "      <td>0.284038</td>\n",
              "      <td>5.800110e+10</td>\n",
              "    </tr>\n",
              "    <tr>\n",
              "      <th>max</th>\n",
              "      <td>0.336325</td>\n",
              "      <td>3.486340e+11</td>\n",
              "    </tr>\n",
              "  </tbody>\n",
              "</table>\n",
              "</div>"
            ]
          },
          "metadata": {}
        }
      ],
      "execution_count": 4,
      "metadata": {
        "collapsed": false,
        "outputHidden": false,
        "inputHidden": false
      }
    },
    {
      "cell_type": "code",
      "source": [
        "age = pd.read_csv('../resources/ages_campbell.tsv', sep='\\t',  skiprows=[1],\n",
        "                   usecols=['# sn id', 'age'], dtype={'age': np.float64, '# sn id': np.int})\n",
        "age.rename(columns={'# sn id': 'SNID'}, inplace=True)\n",
        "age.set_index('SNID', inplace=True)\n",
        "age.describe()"
      ],
      "outputs": [
        {
          "output_type": "execute_result",
          "execution_count": 5,
          "data": {
            "text/plain": [
              "              age\n",
              "count  103.000000\n",
              "mean     5.221552\n",
              "std      2.121162\n",
              "min      1.628953\n",
              "25%      3.447774\n",
              "50%      5.071533\n",
              "75%      6.625620\n",
              "max      9.740748"
            ],
            "text/html": [
              "<div>\n",
              "<style scoped>\n",
              "    .dataframe tbody tr th:only-of-type {\n",
              "        vertical-align: middle;\n",
              "    }\n",
              "\n",
              "    .dataframe tbody tr th {\n",
              "        vertical-align: top;\n",
              "    }\n",
              "\n",
              "    .dataframe thead th {\n",
              "        text-align: right;\n",
              "    }\n",
              "</style>\n",
              "<table border=\"1\" class=\"dataframe\">\n",
              "  <thead>\n",
              "    <tr style=\"text-align: right;\">\n",
              "      <th></th>\n",
              "      <th>age</th>\n",
              "    </tr>\n",
              "  </thead>\n",
              "  <tbody>\n",
              "    <tr>\n",
              "      <th>count</th>\n",
              "      <td>103.000000</td>\n",
              "    </tr>\n",
              "    <tr>\n",
              "      <th>mean</th>\n",
              "      <td>5.221552</td>\n",
              "    </tr>\n",
              "    <tr>\n",
              "      <th>std</th>\n",
              "      <td>2.121162</td>\n",
              "    </tr>\n",
              "    <tr>\n",
              "      <th>min</th>\n",
              "      <td>1.628953</td>\n",
              "    </tr>\n",
              "    <tr>\n",
              "      <th>25%</th>\n",
              "      <td>3.447774</td>\n",
              "    </tr>\n",
              "    <tr>\n",
              "      <th>50%</th>\n",
              "      <td>5.071533</td>\n",
              "    </tr>\n",
              "    <tr>\n",
              "      <th>75%</th>\n",
              "      <td>6.625620</td>\n",
              "    </tr>\n",
              "    <tr>\n",
              "      <th>max</th>\n",
              "      <td>9.740748</td>\n",
              "    </tr>\n",
              "  </tbody>\n",
              "</table>\n",
              "</div>"
            ]
          },
          "metadata": {}
        }
      ],
      "execution_count": 5,
      "metadata": {
        "collapsed": false,
        "outputHidden": false,
        "inputHidden": false
      }
    },
    {
      "cell_type": "code",
      "source": [
        "data = pd.concat([HR, salt, galaxy, age], axis=1)\n",
        "data.dropna(inplace=True)\n",
        "data['stellar mass'] = np.log10(data['stellar mass'])\n",
        "data.describe()"
      ],
      "outputs": [
        {
          "output_type": "execute_result",
          "execution_count": 6,
          "data": {
            "text/plain": [
              "         redshift   hr uncert          hr    redshift          x1      x1_err  \\\n",
              "count  103.000000  103.000000  103.000000  103.000000  103.000000  103.000000   \n",
              "mean     0.143292    0.078358   -0.012718    0.143292   -0.177168    0.268273   \n",
              "std      0.042126    0.016502    0.168172    0.042126    1.020424    0.127680   \n",
              "min      0.045248    0.056201   -0.424369    0.045248   -2.641650    0.061210   \n",
              "25%      0.114303    0.065649   -0.118307    0.114303   -0.769090    0.176328   \n",
              "50%      0.154056    0.075748   -0.030987    0.154056   -0.115550    0.236314   \n",
              "75%      0.180766    0.085845    0.078726    0.180766    0.693757    0.354695   \n",
              "max      0.198704    0.133972    0.514934    0.198704    1.812530    0.635581   \n",
              "\n",
              "            color   color_err  gal redshift  stellar mass         age  \n",
              "count  103.000000  103.000000    103.000000    103.000000  103.000000  \n",
              "mean     0.010006    0.032914      0.143292     10.152806    5.221552  \n",
              "std      0.083329    0.006243      0.042150      0.693578    2.121162  \n",
              "min     -0.201667    0.024959      0.045363      7.546724    1.628953  \n",
              "25%     -0.041371    0.028793      0.114276      9.764876    3.447774  \n",
              "50%     -0.004241    0.030807      0.154034     10.307932    5.071533  \n",
              "75%      0.081210    0.035345      0.180752     10.632817    6.625620  \n",
              "max      0.246569    0.054852      0.198706     11.355490    9.740748  "
            ],
            "text/html": [
              "<div>\n",
              "<style scoped>\n",
              "    .dataframe tbody tr th:only-of-type {\n",
              "        vertical-align: middle;\n",
              "    }\n",
              "\n",
              "    .dataframe tbody tr th {\n",
              "        vertical-align: top;\n",
              "    }\n",
              "\n",
              "    .dataframe thead th {\n",
              "        text-align: right;\n",
              "    }\n",
              "</style>\n",
              "<table border=\"1\" class=\"dataframe\">\n",
              "  <thead>\n",
              "    <tr style=\"text-align: right;\">\n",
              "      <th></th>\n",
              "      <th>redshift</th>\n",
              "      <th>hr uncert</th>\n",
              "      <th>hr</th>\n",
              "      <th>redshift</th>\n",
              "      <th>x1</th>\n",
              "      <th>x1_err</th>\n",
              "      <th>color</th>\n",
              "      <th>color_err</th>\n",
              "      <th>gal redshift</th>\n",
              "      <th>stellar mass</th>\n",
              "      <th>age</th>\n",
              "    </tr>\n",
              "  </thead>\n",
              "  <tbody>\n",
              "    <tr>\n",
              "      <th>count</th>\n",
              "      <td>103.000000</td>\n",
              "      <td>103.000000</td>\n",
              "      <td>103.000000</td>\n",
              "      <td>103.000000</td>\n",
              "      <td>103.000000</td>\n",
              "      <td>103.000000</td>\n",
              "      <td>103.000000</td>\n",
              "      <td>103.000000</td>\n",
              "      <td>103.000000</td>\n",
              "      <td>103.000000</td>\n",
              "      <td>103.000000</td>\n",
              "    </tr>\n",
              "    <tr>\n",
              "      <th>mean</th>\n",
              "      <td>0.143292</td>\n",
              "      <td>0.078358</td>\n",
              "      <td>-0.012718</td>\n",
              "      <td>0.143292</td>\n",
              "      <td>-0.177168</td>\n",
              "      <td>0.268273</td>\n",
              "      <td>0.010006</td>\n",
              "      <td>0.032914</td>\n",
              "      <td>0.143292</td>\n",
              "      <td>10.152806</td>\n",
              "      <td>5.221552</td>\n",
              "    </tr>\n",
              "    <tr>\n",
              "      <th>std</th>\n",
              "      <td>0.042126</td>\n",
              "      <td>0.016502</td>\n",
              "      <td>0.168172</td>\n",
              "      <td>0.042126</td>\n",
              "      <td>1.020424</td>\n",
              "      <td>0.127680</td>\n",
              "      <td>0.083329</td>\n",
              "      <td>0.006243</td>\n",
              "      <td>0.042150</td>\n",
              "      <td>0.693578</td>\n",
              "      <td>2.121162</td>\n",
              "    </tr>\n",
              "    <tr>\n",
              "      <th>min</th>\n",
              "      <td>0.045248</td>\n",
              "      <td>0.056201</td>\n",
              "      <td>-0.424369</td>\n",
              "      <td>0.045248</td>\n",
              "      <td>-2.641650</td>\n",
              "      <td>0.061210</td>\n",
              "      <td>-0.201667</td>\n",
              "      <td>0.024959</td>\n",
              "      <td>0.045363</td>\n",
              "      <td>7.546724</td>\n",
              "      <td>1.628953</td>\n",
              "    </tr>\n",
              "    <tr>\n",
              "      <th>25%</th>\n",
              "      <td>0.114303</td>\n",
              "      <td>0.065649</td>\n",
              "      <td>-0.118307</td>\n",
              "      <td>0.114303</td>\n",
              "      <td>-0.769090</td>\n",
              "      <td>0.176328</td>\n",
              "      <td>-0.041371</td>\n",
              "      <td>0.028793</td>\n",
              "      <td>0.114276</td>\n",
              "      <td>9.764876</td>\n",
              "      <td>3.447774</td>\n",
              "    </tr>\n",
              "    <tr>\n",
              "      <th>50%</th>\n",
              "      <td>0.154056</td>\n",
              "      <td>0.075748</td>\n",
              "      <td>-0.030987</td>\n",
              "      <td>0.154056</td>\n",
              "      <td>-0.115550</td>\n",
              "      <td>0.236314</td>\n",
              "      <td>-0.004241</td>\n",
              "      <td>0.030807</td>\n",
              "      <td>0.154034</td>\n",
              "      <td>10.307932</td>\n",
              "      <td>5.071533</td>\n",
              "    </tr>\n",
              "    <tr>\n",
              "      <th>75%</th>\n",
              "      <td>0.180766</td>\n",
              "      <td>0.085845</td>\n",
              "      <td>0.078726</td>\n",
              "      <td>0.180766</td>\n",
              "      <td>0.693757</td>\n",
              "      <td>0.354695</td>\n",
              "      <td>0.081210</td>\n",
              "      <td>0.035345</td>\n",
              "      <td>0.180752</td>\n",
              "      <td>10.632817</td>\n",
              "      <td>6.625620</td>\n",
              "    </tr>\n",
              "    <tr>\n",
              "      <th>max</th>\n",
              "      <td>0.198704</td>\n",
              "      <td>0.133972</td>\n",
              "      <td>0.514934</td>\n",
              "      <td>0.198704</td>\n",
              "      <td>1.812530</td>\n",
              "      <td>0.635581</td>\n",
              "      <td>0.246569</td>\n",
              "      <td>0.054852</td>\n",
              "      <td>0.198706</td>\n",
              "      <td>11.355490</td>\n",
              "      <td>9.740748</td>\n",
              "    </tr>\n",
              "  </tbody>\n",
              "</table>\n",
              "</div>"
            ]
          },
          "metadata": {}
        }
      ],
      "execution_count": 6,
      "metadata": {
        "collapsed": false,
        "outputHidden": false,
        "inputHidden": false
      }
    },
    {
      "cell_type": "markdown",
      "source": [
        "Test non-PCA generated parameters"
      ],
      "metadata": {}
    },
    {
      "cell_type": "code",
      "source": [
        "features = ['x1', 'color', 'stellar mass', 'age']\n",
        "y = data.loc[:, features].values\n",
        "scaler = StandardScaler()\n",
        "scaler.fit(y)   # get the needed transformation off of y\n",
        "y = scaler.transform(y)     # transform y\n",
        "y.shape"
      ],
      "outputs": [
        {
          "output_type": "execute_result",
          "execution_count": 7,
          "data": {
            "text/plain": [
              "(103, 4)"
            ]
          },
          "metadata": {}
        }
      ],
      "execution_count": 7,
      "metadata": {
        "collapsed": false,
        "outputHidden": false,
        "inputHidden": false
      }
    },
    {
      "cell_type": "code",
      "source": [
        "coefficients = [-0.557, -0.103, -0.535, -0.627]"
      ],
      "outputs": [],
      "execution_count": 8,
      "metadata": {
        "collapsed": false,
        "outputHidden": false,
        "inputHidden": false
      }
    },
    {
      "cell_type": "code",
      "source": [
        "delta_alpha = 0.06"
      ],
      "outputs": [],
      "execution_count": 9,
      "metadata": {
        "collapsed": false,
        "outputHidden": false,
        "inputHidden": false
      }
    },
    {
      "cell_type": "code",
      "source": [
        "def to_pc(data):\n",
        "    \"\"\"need input to be a Nx4 numpy array\n",
        "    \"\"\"\n",
        "    x, c, m, a = data[:,0], data[:,1], data[:,2], data[:,3]\n",
        "    return coefficients[0]*x+coefficients[1]*c+coefficients[2]*m+coefficients[3]*a"
      ],
      "outputs": [],
      "execution_count": 10,
      "metadata": {
        "collapsed": false,
        "outputHidden": false,
        "inputHidden": false
      }
    },
    {
      "cell_type": "code",
      "source": [
        "# pc = to_pc(data[['x1', 'color', 'stellar mass', 'age']].values)\n",
        "pc = to_pc(y)"
      ],
      "outputs": [],
      "execution_count": 11,
      "metadata": {
        "collapsed": false,
        "outputHidden": false,
        "inputHidden": false
      }
    },
    {
      "cell_type": "code",
      "source": [
        "spearmanr(pc, data['hr']-delta_alpha*data[\"x1\"])"
      ],
      "outputs": [
        {
          "output_type": "execute_result",
          "execution_count": 12,
          "data": {
            "text/plain": [
              "SpearmanrResult(correlation=0.4679853270658525, pvalue=6.210499059292744e-07)"
            ]
          },
          "metadata": {}
        }
      ],
      "execution_count": 12,
      "metadata": {
        "collapsed": false,
        "outputHidden": false,
        "inputHidden": false
      }
    },
    {
      "cell_type": "code",
      "source": [
        "(m, b), cov = np.polyfit(pc, data['hr']-delta_alpha*data[\"x1\"], 1, full=False, cov=True)\n",
        "print(m, b)\n",
        "print(cov)\n",
        "print(np.sqrt(cov[0,0]), np.sqrt(cov[1,1]))"
      ],
      "outputs": [
        {
          "output_type": "stream",
          "name": "stdout",
          "text": [
            "0.09228249399017087 -0.0020877004602234\n",
            "[[ 2.77802151e-04 -1.49668484e-19]\n",
            " [-1.49668484e-19  2.25060055e-04]]\n",
            "0.01666739785730652 0.015002001702488277\n"
          ]
        }
      ],
      "execution_count": 13,
      "metadata": {
        "collapsed": false,
        "outputHidden": false,
        "inputHidden": false
      }
    },
    {
      "cell_type": "code",
      "source": [
        "fig = plt.figure()\n",
        "    \n",
        "#fix axes major spacing & size\n",
        "ax = plt.gca()\n",
        "ax.get_yaxis().set_major_locator(MultipleLocator(0.2))\n",
        "ax.set_ylim(-0.67, 0.67)\n",
        "ax.get_xaxis().set_major_locator(MultipleLocator(1))\n",
        "ax.set_xlim(-3.5, 3.5)\n",
        "\n",
        "#set axes ticks and gridlines\n",
        "ax.tick_params(axis='both', top='on', right='on', direction='in')\n",
        "ax.grid(which='major', axis='both', color='0.90', linestyle='-')\n",
        "ax.set_axisbelow(True)\n",
        "\n",
        "sns.regplot(pc, data['hr'], marker='', color='grey', ax=ax)\n",
        "\n",
        "plt.scatter(pc, data['hr'], marker='.', c=data['x1'],\n",
        "                cmap=\"RdBu\", vmin=-3.0, vmax=3.0, edgecolor='k', zorder=10)\n",
        "\n",
        "plt.xlabel(r\"$-0.557 x'_1 - 0.103 c' - 0.535 m' - 0.627 a'$\", fontsize=17)\n",
        "plt.ylabel('Hubble residual [mag]', fontsize=17)\n",
        "\n",
        "cax = fig.add_axes([0.98, 0.197, 0.02, 0.729])\n",
        "cax.tick_params(axis='y', direction='in')\n",
        "cax.set_axisbelow(False)   # bring tick marks above coloring\n",
        "plt.colorbar(label=r\"$x_1$\", cax=cax)\n",
        "\n",
        "sp_r, sp_p = spearmanr(pc, data['hr'])\n",
        "ax.text(-2.9, 0.42, f\"Spearman's correlation: {sp_r:.2f}\\np: {sp_p:.2e}\", \n",
        "        {'fontsize':12})\n",
        "\n",
        "fig.set_tight_layout({'pad': 1.5})\n",
        "plt.savefig(f'HRvPCalt.pdf', bbox_inches='tight')\n",
        "plt.show()"
      ],
      "outputs": [
        {
          "output_type": "stream",
          "name": "stderr",
          "text": [
            "/usr/local/lib/python3.7/site-packages/matplotlib/cbook/deprecation.py:107: MatplotlibDeprecationWarning: Passing one of 'on', 'true', 'off', 'false' as a boolean is deprecated; use an actual boolean (True/False) instead.\n",
            "  warnings.warn(message, mplDeprecation, stacklevel=1)\n",
            "/usr/local/lib/python3.7/site-packages/scipy/stats/stats.py:1713: FutureWarning: Using a non-tuple sequence for multidimensional indexing is deprecated; use `arr[tuple(seq)]` instead of `arr[seq]`. In the future this will be interpreted as an array index, `arr[np.array(seq)]`, which will result either in an error or a different result.\n",
            "  return np.add.reduce(sorted[indexer] * weights, axis=axis) / sumval\n",
            "/usr/local/lib/python3.7/site-packages/matplotlib/figure.py:2299: UserWarning: This figure includes Axes that are not compatible with tight_layout, so results might be incorrect.\n",
            "  warnings.warn(\"This figure includes Axes that are not compatible \"\n"
          ]
        },
        {
          "output_type": "display_data",
          "data": {
            "text/plain": [
              "<Figure size 432x288 with 2 Axes>"
            ],
            "image/png": "[encoded data removed]"
          },
          "metadata": {
            "needs_background": "light"
          }
        }
      ],
      "execution_count": 29,
      "metadata": {
        "collapsed": false,
        "outputHidden": false,
        "inputHidden": false
      }
    },
    {
      "cell_type": "code",
      "source": [],
      "outputs": [],
      "execution_count": null,
      "metadata": {
        "collapsed": false,
        "outputHidden": false,
        "inputHidden": false
      }
    }
  ],
  "metadata": {
    "kernel_info": {
      "name": "python3"
    },
    "language_info": {
      "name": "python",
      "version": "3.7.0",
      "mimetype": "text/x-python",
      "codemirror_mode": {
        "name": "ipython",
        "version": 3
      },
      "pygments_lexer": "ipython3",
      "nbconvert_exporter": "python",
      "file_extension": ".py"
    },
    "kernelspec": {
      "name": "python3",
      "language": "python",
      "display_name": "Python 3"
    },
    "nteract": {
      "version": "0.11.9"
    }
  },
  "nbformat": 4,
  "nbformat_minor": 4
}