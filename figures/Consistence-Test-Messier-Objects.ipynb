{
 "cells": [
  {
   "cell_type": "markdown",
   "metadata": {},
   "source": [
    "# Consistence Test, Messier Objects\n",
    "\n",
    "We calculated the age of several messier objects"
   ]
  },
  {
   "cell_type": "code",
   "execution_count": 1,
   "metadata": {
    "collapsed": true
   },
   "outputs": [],
   "source": [
    "import numpy as np\n",
    "from astropy.table import Table, join"
   ]
  },
  {
   "cell_type": "code",
   "execution_count": 2,
   "metadata": {
    "collapsed": true
   },
   "outputs": [],
   "source": [
    "import matplotlib.pyplot as plt\n",
    "import seaborn as sns"
   ]
  },
  {
   "cell_type": "code",
   "execution_count": 10,
   "metadata": {
    "collapsed": true
   },
   "outputs": [],
   "source": [
    "filepath = '../resources/ages_messier.tsv'\n",
    "data = Table.read(filepath, format='ascii.commented_header', delimiter='\\t')\n",
    "data['SN ID'] = data['SN ID'].astype(int)    # Convert SN ID from float"
   ]
  },
  {
   "cell_type": "code",
   "execution_count": 11,
   "metadata": {
    "collapsed": false
   },
   "outputs": [
    {
     "data": {
      "text/html": [
       "&lt;Table length=8&gt;\n",
       "<table id=\"table4565318512\" class=\"table-striped table-bordered table-condensed\">\n",
       "<thead><tr><th>SN ID</th><th>Age</th><th>Upper CR</th><th>Lower CR</th></tr></thead>\n",
       "<thead><tr><th>int64</th><th>float64</th><th>float64</th><th>float64</th></tr></thead>\n",
       "<tr><td>63</td><td>2.76506019359</td><td>2.04333652751</td><td>1.98912879026</td></tr>\n",
       "<tr><td>82</td><td>12.2975893277</td><td>0.579735419315</td><td>10.2231959721</td></tr>\n",
       "<tr><td>87</td><td>11.8460912997</td><td>0.337198746194</td><td>0.196499602061</td></tr>\n",
       "<tr><td>89</td><td>10.6238741833</td><td>0.140662086031</td><td>0.191632253163</td></tr>\n",
       "<tr><td>91</td><td>11.6680278395</td><td>0.154765142743</td><td>0.0931349430291</td></tr>\n",
       "<tr><td>101</td><td>5.06991628791</td><td>2.13139236875</td><td>1.95161341036</td></tr>\n",
       "<tr><td>105</td><td>11.5995304921</td><td>0.712949881028</td><td>9.82412264518</td></tr>\n",
       "<tr><td>108</td><td>11.24345747</td><td>0.335920363797</td><td>1.07842832819</td></tr>\n",
       "</table>"
      ],
      "text/plain": [
       "<Table length=8>\n",
       "SN ID      Age         Upper CR        Lower CR   \n",
       "int64    float64       float64         float64    \n",
       "----- ------------- -------------- ---------------\n",
       "   63 2.76506019359  2.04333652751   1.98912879026\n",
       "   82 12.2975893277 0.579735419315   10.2231959721\n",
       "   87 11.8460912997 0.337198746194  0.196499602061\n",
       "   89 10.6238741833 0.140662086031  0.191632253163\n",
       "   91 11.6680278395 0.154765142743 0.0931349430291\n",
       "  101 5.06991628791  2.13139236875   1.95161341036\n",
       "  105 11.5995304921 0.712949881028   9.82412264518\n",
       "  108   11.24345747 0.335920363797   1.07842832819"
      ]
     },
     "execution_count": 11,
     "metadata": {},
     "output_type": "execute_result"
    }
   ],
   "source": [
    "data"
   ]
  },
  {
   "cell_type": "code",
   "execution_count": 61,
   "metadata": {
    "collapsed": true
   },
   "outputs": [],
   "source": [
    "spiral = [63, 91, 101]\n",
    "elliptical = [87, 89, 105]\n",
    "starburst = [82, 108]\n",
    "\n",
    "spi_ID = [0, 4, 5]\n",
    "ell_ID = [2, 3, 6]\n",
    "sta_ID = [1, 7]"
   ]
  },
  {
   "cell_type": "code",
   "execution_count": 63,
   "metadata": {
    "collapsed": false
   },
   "outputs": [
    {
     "data": {
      "text/html": [
       "&lt;Column name=&apos;Age&apos; dtype=&apos;float64&apos; length=3&gt;\n",
       "<table>\n",
       "<tr><td>2.76506019359</td></tr>\n",
       "<tr><td>11.6680278395</td></tr>\n",
       "<tr><td>5.06991628791</td></tr>\n",
       "</table>"
      ],
      "text/plain": [
       "<Column name='Age' dtype='float64' length=3>\n",
       "2.76506019359\n",
       "11.6680278395\n",
       "5.06991628791"
      ]
     },
     "execution_count": 63,
     "metadata": {},
     "output_type": "execute_result"
    }
   ],
   "source": [
    "data[spi_ID]\n",
    "data['Age'][spi_ID]"
   ]
  },
  {
   "cell_type": "code",
   "execution_count": 5,
   "metadata": {
    "collapsed": true
   },
   "outputs": [],
   "source": [
    "sns.set_style(\"whitegrid\")"
   ]
  },
  {
   "cell_type": "code",
   "execution_count": 77,
   "metadata": {
    "collapsed": false
   },
   "outputs": [
    {
     "data": {
      "image/png": "[encoded data removed]",
      "text/plain": [
       "<matplotlib.figure.Figure at 0x110279d30>"
      ]
     },
     "metadata": {},
     "output_type": "display_data"
    }
   ],
   "source": [
    "plt.figure('messier')\n",
    "plt.errorbar([0,1,2], data['Age'][spi_ID],\n",
    "             yerr=[data['Lower CR'][spi_ID], \n",
    "                   data['Upper CR'][spi_ID]],\n",
    "             fmt='p', label='sprial')\n",
    "plt.errorbar([3,4,5], data['Age'][ell_ID],\n",
    "             yerr=[data['Lower CR'][ell_ID], \n",
    "                   data['Upper CR'][ell_ID]],\n",
    "             fmt='o', label='elliptical')\n",
    "plt.errorbar([6,7], data['Age'][sta_ID],\n",
    "             yerr=[data['Lower CR'][sta_ID], \n",
    "                   data['Upper CR'][sta_ID]],\n",
    "             fmt='*', label='starburst')\n",
    "\n",
    "plt.xlabel('Messier ID')\n",
    "# no ide why I need the extra spacing\n",
    "plt.axes().set_xticklabels([0]+spiral+elliptical+starburst)\n",
    "plt.ylabel('Age [Gyr]')\n",
    "\n",
    "plt.legend(loc=2)\n",
    "plt.savefig('messierCalibration_temp.pdf')\n",
    "plt.show()"
   ]
  },
  {
   "cell_type": "code",
   "execution_count": null,
   "metadata": {
    "collapsed": true
   },
   "outputs": [],
   "source": []
  }
 ],
 "metadata": {
  "kernelspec": {
   "display_name": "Python 3",
   "language": "python",
   "name": "python3"
  },
  "language_info": {
   "codemirror_mode": {
    "name": "ipython",
    "version": 3
   },
   "file_extension": ".py",
   "mimetype": "text/x-python",
   "name": "python",
   "nbconvert_exporter": "python",
   "pygments_lexer": "ipython3",
   "version": "3.6.3"
  }
 },
 "nbformat": 4,
 "nbformat_minor": 2
}
