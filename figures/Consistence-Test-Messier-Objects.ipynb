{
 "cells": [
  {
   "cell_type": "markdown",
   "metadata": {
    "deletable": true,
    "editable": true
   },
   "source": [
    "# Consistence Test, Messier Objects\n",
    "\n",
    "We calculated the age of several messier objects"
   ]
  },
  {
   "cell_type": "code",
   "execution_count": 3,
   "metadata": {
    "collapsed": true,
    "deletable": true,
    "editable": true
   },
   "outputs": [],
   "source": [
    "import numpy as np\n",
    "from astropy.table import Table, join"
   ]
  },
  {
   "cell_type": "code",
   "execution_count": 4,
   "metadata": {
    "collapsed": true,
    "deletable": true,
    "editable": true
   },
   "outputs": [],
   "source": [
    "import matplotlib.pyplot as plt\n",
    "import seaborn as sns"
   ]
  },
  {
   "cell_type": "code",
   "execution_count": 41,
   "metadata": {
    "collapsed": false,
    "deletable": true,
    "editable": true
   },
   "outputs": [],
   "source": [
    "filepath = '../resources/ages_messier.tsv'\n",
    "data = Table.read(filepath, format='ascii.commented_header', delimiter='\\t')\n",
    "data['sn id'] = data['sn id'].astype(int)    # Convert SN ID from float\n",
    "data.sort('sn id')"
   ]
  },
  {
   "cell_type": "code",
   "execution_count": 42,
   "metadata": {
    "collapsed": false,
    "deletable": true,
    "editable": true
   },
   "outputs": [
    {
     "data": {
      "text/html": [
       "&lt;Table length=8&gt;\n",
       "<table id=\"table4646347888\" class=\"table-striped table-bordered table-condensed\">\n",
       "<thead><tr><th>sn id</th><th>age</th><th>lower limit</th><th>upper limit</th></tr></thead>\n",
       "<thead><tr><th>int64</th><th>float64</th><th>float64</th><th>float64</th></tr></thead>\n",
       "<tr><td>63</td><td>6.28074771445</td><td>6.02648761175</td><td>7.24205406908</td></tr>\n",
       "<tr><td>82</td><td>3.50278263495</td><td>3.20737262624</td><td>13.1420509823</td></tr>\n",
       "<tr><td>87</td><td>12.7857099925</td><td>1.63309803945</td><td>13.0409688513</td></tr>\n",
       "<tr><td>89</td><td>10.9795521131</td><td>6.88141804742</td><td>11.1618698551</td></tr>\n",
       "<tr><td>91</td><td>3.39303393465</td><td>1.75807984457</td><td>13.0852480651</td></tr>\n",
       "<tr><td>101</td><td>8.10320919234</td><td>5.7960144099</td><td>9.15916798279</td></tr>\n",
       "<tr><td>105</td><td>11.6143810043</td><td>11.1645777714</td><td>11.8945831169</td></tr>\n",
       "<tr><td>108</td><td>12.1088345808</td><td>4.38311001279</td><td>12.4704216601</td></tr>\n",
       "</table>"
      ],
      "text/plain": [
       "<Table length=8>\n",
       "sn id      age       lower limit   upper limit \n",
       "int64    float64       float64       float64   \n",
       "----- ------------- ------------- -------------\n",
       "   63 6.28074771445 6.02648761175 7.24205406908\n",
       "   82 3.50278263495 3.20737262624 13.1420509823\n",
       "   87 12.7857099925 1.63309803945 13.0409688513\n",
       "   89 10.9795521131 6.88141804742 11.1618698551\n",
       "   91 3.39303393465 1.75807984457 13.0852480651\n",
       "  101 8.10320919234  5.7960144099 9.15916798279\n",
       "  105 11.6143810043 11.1645777714 11.8945831169\n",
       "  108 12.1088345808 4.38311001279 12.4704216601"
      ]
     },
     "execution_count": 42,
     "metadata": {},
     "output_type": "execute_result"
    }
   ],
   "source": [
    "data"
   ]
  },
  {
   "cell_type": "code",
   "execution_count": 30,
   "metadata": {
    "collapsed": false
   },
   "outputs": [
    {
     "data": {
      "text/plain": [
       "3.3791952335237614"
      ]
     },
     "execution_count": 30,
     "metadata": {},
     "output_type": "execute_result"
    }
   ],
   "source": [
    "data[0]['upper limit'] - data[0]['age']\n",
    "data[0]['age'] - data[0]['lower limit']"
   ]
  },
  {
   "cell_type": "code",
   "execution_count": 38,
   "metadata": {
    "collapsed": true,
    "deletable": true,
    "editable": true
   },
   "outputs": [],
   "source": [
    "spiral = [63, 91, 101]\n",
    "elliptical = [87, 89, 105]\n",
    "starburst = [82, 108]\n",
    "\n",
    "spi_ID = [0, 4, 5]\n",
    "ell_ID = [2, 3, 6]\n",
    "sta_ID = [1, 7]"
   ]
  },
  {
   "cell_type": "code",
   "execution_count": 16,
   "metadata": {
    "collapsed": false,
    "deletable": true,
    "editable": true
   },
   "outputs": [
    {
     "data": {
      "text/html": [
       "&lt;Column name=&apos;age&apos; dtype=&apos;float64&apos; length=2&gt;\n",
       "<table>\n",
       "<tr><td>6.29792676867</td></tr>\n",
       "<tr><td>9.17520964342</td></tr>\n",
       "</table>"
      ],
      "text/plain": [
       "<Column name='age' dtype='float64' length=2>\n",
       "6.29792676867\n",
       "9.17520964342"
      ]
     },
     "execution_count": 16,
     "metadata": {},
     "output_type": "execute_result"
    }
   ],
   "source": [
    "data[spi_ID]\n",
    "data['age'][spi_ID]"
   ]
  },
  {
   "cell_type": "code",
   "execution_count": 10,
   "metadata": {
    "collapsed": true,
    "deletable": true,
    "editable": true
   },
   "outputs": [],
   "source": [
    "sns.set_style(\"whitegrid\")"
   ]
  },
  {
   "cell_type": "code",
   "execution_count": 47,
   "metadata": {
    "collapsed": false,
    "deletable": true,
    "editable": true
   },
   "outputs": [
    {
     "data": {
      "image/png": "[encoded data removed]",
      "text/plain": [
       "<matplotlib.figure.Figure at 0x1152395f8>"
      ]
     },
     "metadata": {},
     "output_type": "display_data"
    }
   ],
   "source": [
    "plt.figure('messier')\n",
    "plt.errorbar([0,1,2], data['age'][spi_ID],\n",
    "             yerr=[data['age'][spi_ID] - data['lower limit'][spi_ID] , \n",
    "                   data['upper limit'][spi_ID] - data['age'][spi_ID]],\n",
    "             fmt='p', label='sprial')\n",
    "plt.errorbar([3,4,5], data['age'][ell_ID],\n",
    "             yerr=[data['age'][ell_ID] - data['lower limit'][ell_ID] , \n",
    "                   data['upper limit'][ell_ID] - data['age'][ell_ID]],\n",
    "             fmt='o', label='elliptical')\n",
    "plt.errorbar([6,7], data['age'][sta_ID],\n",
    "             yerr=[data['age'][sta_ID] - data['lower limit'][sta_ID] , \n",
    "                   data['upper limit'][sta_ID] - data['age'][sta_ID]],\n",
    "             fmt='*', label='starburst')\n",
    "\n",
    "plt.xlabel('Messier ID')\n",
    "# no ide why I need the extra spacing\n",
    "plt.axes().set_xticklabels([0]+spiral+elliptical+starburst)\n",
    "plt.ylabel('Age [Gyr]')\n",
    "\n",
    "plt.legend(loc=2)\n",
    "plt.savefig('messierCalibration_temp.pdf')\n",
    "plt.show()"
   ]
  },
  {
   "cell_type": "code",
   "execution_count": null,
   "metadata": {
    "collapsed": true,
    "deletable": true,
    "editable": true
   },
   "outputs": [],
   "source": []
  },
  {
   "cell_type": "code",
   "execution_count": null,
   "metadata": {
    "collapsed": true
   },
   "outputs": [],
   "source": []
  }
 ],
 "metadata": {
  "kernelspec": {
   "display_name": "Python 3",
   "language": "python",
   "name": "python3"
  },
  "language_info": {
   "codemirror_mode": {
    "name": "ipython",
    "version": 3
   },
   "file_extension": ".py",
   "mimetype": "text/x-python",
   "name": "python",
   "nbconvert_exporter": "python",
   "pygments_lexer": "ipython3",
   "version": "3.6.3"
  }
 },
 "nbformat": 4,
 "nbformat_minor": 2
}
