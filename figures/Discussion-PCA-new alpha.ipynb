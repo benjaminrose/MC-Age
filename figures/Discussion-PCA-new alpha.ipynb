{
  "cells": [
    {
      "cell_type": "code",
      "source": [
        "from glob import glob\n",
        "import datetime\n",
        "\n",
        "import numpy as np\n",
        "from astropy.table import Table\n",
        "import pandas as pd\n",
        "\n",
        "from sklearn.preprocessing import StandardScaler\n",
        "from sklearn.decomposition import PCA\n",
        "\n",
        "from scipy.stats import spearmanr\n",
        "import matplotlib.pyplot as plt\n",
        "import seaborn as sns\n",
        "sns.set_style(\"whitegrid\")"
      ],
      "outputs": [],
      "execution_count": 1,
      "metadata": {}
    },
    {
      "cell_type": "code",
      "source": [
        "from matplotlib.ticker import MultipleLocator"
      ],
      "outputs": [],
      "execution_count": 2,
      "metadata": {}
    },
    {
      "cell_type": "markdown",
      "source": [
        "## Gather the data\n",
        "\n",
        "### HR\n",
        "\n",
        "+ redshift cut\n",
        "+ HR cut"
      ],
      "metadata": {}
    },
    {
      "cell_type": "code",
      "source": [
        "HR = pd.read_csv('../data/campbell_local.tsv', sep='\\t', usecols=['SNID', 'redshift', 'hr', 'err_mu'], index_col='SNID')\n",
        "HR.rename(columns={'err_mu': 'hr uncert'}, inplace=True)\n",
        "HR = HR[HR['redshift']<0.2]  \n",
        "HR = HR[HR['hr']<0.7]\n",
        "HR.describe()"
      ],
      "outputs": [
        {
          "output_type": "execute_result",
          "execution_count": 3,
          "data": {
            "text/plain": [
              "         redshift   hr uncert          hr\n",
              "count  103.000000  103.000000  103.000000\n",
              "mean     0.143292    0.078358   -0.023348\n",
              "std      0.042126    0.016502    0.185996\n",
              "min      0.045248    0.056201   -0.495474\n",
              "25%      0.114303    0.065649   -0.152180\n",
              "50%      0.154056    0.075748   -0.037427\n",
              "75%      0.180766    0.085845    0.090790\n",
              "max      0.198704    0.133972    0.497041"
            ],
            "text/html": [
              "<div>\n",
              "<style scoped>\n",
              "    .dataframe tbody tr th:only-of-type {\n",
              "        vertical-align: middle;\n",
              "    }\n",
              "\n",
              "    .dataframe tbody tr th {\n",
              "        vertical-align: top;\n",
              "    }\n",
              "\n",
              "    .dataframe thead th {\n",
              "        text-align: right;\n",
              "    }\n",
              "</style>\n",
              "<table border=\"1\" class=\"dataframe\">\n",
              "  <thead>\n",
              "    <tr style=\"text-align: right;\">\n",
              "      <th></th>\n",
              "      <th>redshift</th>\n",
              "      <th>hr uncert</th>\n",
              "      <th>hr</th>\n",
              "    </tr>\n",
              "  </thead>\n",
              "  <tbody>\n",
              "    <tr>\n",
              "      <th>count</th>\n",
              "      <td>103.000000</td>\n",
              "      <td>103.000000</td>\n",
              "      <td>103.000000</td>\n",
              "    </tr>\n",
              "    <tr>\n",
              "      <th>mean</th>\n",
              "      <td>0.143292</td>\n",
              "      <td>0.078358</td>\n",
              "      <td>-0.023348</td>\n",
              "    </tr>\n",
              "    <tr>\n",
              "      <th>std</th>\n",
              "      <td>0.042126</td>\n",
              "      <td>0.016502</td>\n",
              "      <td>0.185996</td>\n",
              "    </tr>\n",
              "    <tr>\n",
              "      <th>min</th>\n",
              "      <td>0.045248</td>\n",
              "      <td>0.056201</td>\n",
              "      <td>-0.495474</td>\n",
              "    </tr>\n",
              "    <tr>\n",
              "      <th>25%</th>\n",
              "      <td>0.114303</td>\n",
              "      <td>0.065649</td>\n",
              "      <td>-0.152180</td>\n",
              "    </tr>\n",
              "    <tr>\n",
              "      <th>50%</th>\n",
              "      <td>0.154056</td>\n",
              "      <td>0.075748</td>\n",
              "      <td>-0.037427</td>\n",
              "    </tr>\n",
              "    <tr>\n",
              "      <th>75%</th>\n",
              "      <td>0.180766</td>\n",
              "      <td>0.085845</td>\n",
              "      <td>0.090790</td>\n",
              "    </tr>\n",
              "    <tr>\n",
              "      <th>max</th>\n",
              "      <td>0.198704</td>\n",
              "      <td>0.133972</td>\n",
              "      <td>0.497041</td>\n",
              "    </tr>\n",
              "  </tbody>\n",
              "</table>\n",
              "</div>"
            ]
          },
          "metadata": {}
        }
      ],
      "execution_count": 3,
      "metadata": {}
    },
    {
      "cell_type": "markdown",
      "source": [
        "### SALT2 parameters (x_1 & c)"
      ],
      "metadata": {}
    },
    {
      "cell_type": "code",
      "source": [
        "t = Table.read('../data/SDSS_Photometric_SNe_Ia.fits')\n",
        "salt = t['CID','Z','X1','X1_ERR','COLOR','COLOR_ERR'].to_pandas()\n",
        "salt.columns = salt.columns.str.lower()\n",
        "salt.rename(columns={'cid': 'SNID', 'z': 'redshift'}, inplace=True)\n",
        "salt.set_index('SNID', inplace=True)\n",
        "salt.describe()"
      ],
      "outputs": [
        {
          "output_type": "execute_result",
          "execution_count": 4,
          "data": {
            "text/plain": [
              "         redshift          x1      x1_err       color   color_err\n",
              "count  752.000000  752.000000  752.000000  752.000000  752.000000\n",
              "mean     0.294032   -0.006514    0.765859   -0.013105    0.059070\n",
              "std      0.103553    1.082517    0.506811    0.100019    0.023878\n",
              "min      0.037069   -2.952440    0.061210   -0.245912    0.024959\n",
              "25%      0.220188   -0.776738    0.426394   -0.084207    0.041157\n",
              "50%      0.294489    0.022410    0.702974   -0.019256    0.055565\n",
              "75%      0.369411    0.793196    1.011968    0.051200    0.073263\n",
              "max      0.700345    2.887440    8.048070    0.246569    0.195758"
            ],
            "text/html": [
              "<div>\n",
              "<style scoped>\n",
              "    .dataframe tbody tr th:only-of-type {\n",
              "        vertical-align: middle;\n",
              "    }\n",
              "\n",
              "    .dataframe tbody tr th {\n",
              "        vertical-align: top;\n",
              "    }\n",
              "\n",
              "    .dataframe thead th {\n",
              "        text-align: right;\n",
              "    }\n",
              "</style>\n",
              "<table border=\"1\" class=\"dataframe\">\n",
              "  <thead>\n",
              "    <tr style=\"text-align: right;\">\n",
              "      <th></th>\n",
              "      <th>redshift</th>\n",
              "      <th>x1</th>\n",
              "      <th>x1_err</th>\n",
              "      <th>color</th>\n",
              "      <th>color_err</th>\n",
              "    </tr>\n",
              "  </thead>\n",
              "  <tbody>\n",
              "    <tr>\n",
              "      <th>count</th>\n",
              "      <td>752.000000</td>\n",
              "      <td>752.000000</td>\n",
              "      <td>752.000000</td>\n",
              "      <td>752.000000</td>\n",
              "      <td>752.000000</td>\n",
              "    </tr>\n",
              "    <tr>\n",
              "      <th>mean</th>\n",
              "      <td>0.294032</td>\n",
              "      <td>-0.006514</td>\n",
              "      <td>0.765859</td>\n",
              "      <td>-0.013105</td>\n",
              "      <td>0.059070</td>\n",
              "    </tr>\n",
              "    <tr>\n",
              "      <th>std</th>\n",
              "      <td>0.103553</td>\n",
              "      <td>1.082517</td>\n",
              "      <td>0.506811</td>\n",
              "      <td>0.100019</td>\n",
              "      <td>0.023878</td>\n",
              "    </tr>\n",
              "    <tr>\n",
              "      <th>min</th>\n",
              "      <td>0.037069</td>\n",
              "      <td>-2.952440</td>\n",
              "      <td>0.061210</td>\n",
              "      <td>-0.245912</td>\n",
              "      <td>0.024959</td>\n",
              "    </tr>\n",
              "    <tr>\n",
              "      <th>25%</th>\n",
              "      <td>0.220188</td>\n",
              "      <td>-0.776738</td>\n",
              "      <td>0.426394</td>\n",
              "      <td>-0.084207</td>\n",
              "      <td>0.041157</td>\n",
              "    </tr>\n",
              "    <tr>\n",
              "      <th>50%</th>\n",
              "      <td>0.294489</td>\n",
              "      <td>0.022410</td>\n",
              "      <td>0.702974</td>\n",
              "      <td>-0.019256</td>\n",
              "      <td>0.055565</td>\n",
              "    </tr>\n",
              "    <tr>\n",
              "      <th>75%</th>\n",
              "      <td>0.369411</td>\n",
              "      <td>0.793196</td>\n",
              "      <td>1.011968</td>\n",
              "      <td>0.051200</td>\n",
              "      <td>0.073263</td>\n",
              "    </tr>\n",
              "    <tr>\n",
              "      <th>max</th>\n",
              "      <td>0.700345</td>\n",
              "      <td>2.887440</td>\n",
              "      <td>8.048070</td>\n",
              "      <td>0.246569</td>\n",
              "      <td>0.195758</td>\n",
              "    </tr>\n",
              "  </tbody>\n",
              "</table>\n",
              "</div>"
            ]
          },
          "metadata": {}
        }
      ],
      "execution_count": 4,
      "metadata": {}
    },
    {
      "cell_type": "markdown",
      "source": [
        "### Stellar Mass"
      ],
      "metadata": {}
    },
    {
      "cell_type": "code",
      "source": [
        "galaxy = pd.read_csv('../resources/kcorrect_stellarmass.csv',  usecols=['GAL', 'redshift', 'stellarmass'], index_col='GAL')\n",
        "galaxy.rename(columns={'redshift': 'gal redshift', 'stellarmass': 'stellar mass'}, inplace=True)\n",
        "galaxy.describe()"
      ],
      "outputs": [
        {
          "output_type": "execute_result",
          "execution_count": 5,
          "data": {
            "text/plain": [
              "       gal redshift  stellar mass\n",
              "count    305.000000  3.050000e+02\n",
              "mean       0.223845  4.177042e+10\n",
              "std        0.071923  5.006189e+10\n",
              "min        0.045363  3.521470e+07\n",
              "25%        0.175242  8.513790e+09\n",
              "50%        0.236310  2.342800e+10\n",
              "75%        0.284038  5.800110e+10\n",
              "max        0.336325  3.486340e+11"
            ],
            "text/html": [
              "<div>\n",
              "<style scoped>\n",
              "    .dataframe tbody tr th:only-of-type {\n",
              "        vertical-align: middle;\n",
              "    }\n",
              "\n",
              "    .dataframe tbody tr th {\n",
              "        vertical-align: top;\n",
              "    }\n",
              "\n",
              "    .dataframe thead th {\n",
              "        text-align: right;\n",
              "    }\n",
              "</style>\n",
              "<table border=\"1\" class=\"dataframe\">\n",
              "  <thead>\n",
              "    <tr style=\"text-align: right;\">\n",
              "      <th></th>\n",
              "      <th>gal redshift</th>\n",
              "      <th>stellar mass</th>\n",
              "    </tr>\n",
              "  </thead>\n",
              "  <tbody>\n",
              "    <tr>\n",
              "      <th>count</th>\n",
              "      <td>305.000000</td>\n",
              "      <td>3.050000e+02</td>\n",
              "    </tr>\n",
              "    <tr>\n",
              "      <th>mean</th>\n",
              "      <td>0.223845</td>\n",
              "      <td>4.177042e+10</td>\n",
              "    </tr>\n",
              "    <tr>\n",
              "      <th>std</th>\n",
              "      <td>0.071923</td>\n",
              "      <td>5.006189e+10</td>\n",
              "    </tr>\n",
              "    <tr>\n",
              "      <th>min</th>\n",
              "      <td>0.045363</td>\n",
              "      <td>3.521470e+07</td>\n",
              "    </tr>\n",
              "    <tr>\n",
              "      <th>25%</th>\n",
              "      <td>0.175242</td>\n",
              "      <td>8.513790e+09</td>\n",
              "    </tr>\n",
              "    <tr>\n",
              "      <th>50%</th>\n",
              "      <td>0.236310</td>\n",
              "      <td>2.342800e+10</td>\n",
              "    </tr>\n",
              "    <tr>\n",
              "      <th>75%</th>\n",
              "      <td>0.284038</td>\n",
              "      <td>5.800110e+10</td>\n",
              "    </tr>\n",
              "    <tr>\n",
              "      <th>max</th>\n",
              "      <td>0.336325</td>\n",
              "      <td>3.486340e+11</td>\n",
              "    </tr>\n",
              "  </tbody>\n",
              "</table>\n",
              "</div>"
            ]
          },
          "metadata": {}
        }
      ],
      "execution_count": 5,
      "metadata": {}
    },
    {
      "cell_type": "markdown",
      "source": [
        "### Age"
      ],
      "metadata": {}
    },
    {
      "cell_type": "code",
      "source": [
        "age = pd.read_csv('../resources/ages_campbell.tsv', sep='\\t',  skiprows=[1],\n",
        "                   usecols=['# sn id', 'age'], dtype={'age': np.float64, '# sn id': np.int})\n",
        "age.rename(columns={'# sn id': 'SNID'}, inplace=True)\n",
        "age.set_index('SNID', inplace=True)\n",
        "age.describe()"
      ],
      "outputs": [
        {
          "output_type": "execute_result",
          "execution_count": 6,
          "data": {
            "text/plain": [
              "              age\n",
              "count  103.000000\n",
              "mean     5.221552\n",
              "std      2.121162\n",
              "min      1.628953\n",
              "25%      3.447774\n",
              "50%      5.071533\n",
              "75%      6.625620\n",
              "max      9.740748"
            ],
            "text/html": [
              "<div>\n",
              "<style scoped>\n",
              "    .dataframe tbody tr th:only-of-type {\n",
              "        vertical-align: middle;\n",
              "    }\n",
              "\n",
              "    .dataframe tbody tr th {\n",
              "        vertical-align: top;\n",
              "    }\n",
              "\n",
              "    .dataframe thead th {\n",
              "        text-align: right;\n",
              "    }\n",
              "</style>\n",
              "<table border=\"1\" class=\"dataframe\">\n",
              "  <thead>\n",
              "    <tr style=\"text-align: right;\">\n",
              "      <th></th>\n",
              "      <th>age</th>\n",
              "    </tr>\n",
              "  </thead>\n",
              "  <tbody>\n",
              "    <tr>\n",
              "      <th>count</th>\n",
              "      <td>103.000000</td>\n",
              "    </tr>\n",
              "    <tr>\n",
              "      <th>mean</th>\n",
              "      <td>5.221552</td>\n",
              "    </tr>\n",
              "    <tr>\n",
              "      <th>std</th>\n",
              "      <td>2.121162</td>\n",
              "    </tr>\n",
              "    <tr>\n",
              "      <th>min</th>\n",
              "      <td>1.628953</td>\n",
              "    </tr>\n",
              "    <tr>\n",
              "      <th>25%</th>\n",
              "      <td>3.447774</td>\n",
              "    </tr>\n",
              "    <tr>\n",
              "      <th>50%</th>\n",
              "      <td>5.071533</td>\n",
              "    </tr>\n",
              "    <tr>\n",
              "      <th>75%</th>\n",
              "      <td>6.625620</td>\n",
              "    </tr>\n",
              "    <tr>\n",
              "      <th>max</th>\n",
              "      <td>9.740748</td>\n",
              "    </tr>\n",
              "  </tbody>\n",
              "</table>\n",
              "</div>"
            ]
          },
          "metadata": {}
        }
      ],
      "execution_count": 6,
      "metadata": {}
    },
    {
      "cell_type": "code",
      "source": [
        "age_global = pd.read_csv('../resources/ages_campbellG.tsv', sep='\\t',  skiprows=[1],\n",
        "                         usecols=['# sn id', 'age'], dtype={'age': np.float64, '# sn id': np.int})\n",
        "age_global.rename(columns={'# sn id': 'SNID'}, inplace=True)\n",
        "age_global.set_index('SNID', inplace=True)\n",
        "age_global.describe()"
      ],
      "outputs": [
        {
          "output_type": "execute_result",
          "execution_count": 7,
          "data": {
            "text/plain": [
              "              age\n",
              "count  103.000000\n",
              "mean     5.489302\n",
              "std      2.256922\n",
              "min      1.206989\n",
              "25%      4.082504\n",
              "50%      5.312133\n",
              "75%      7.369338\n",
              "max     10.738602"
            ],
            "text/html": [
              "<div>\n",
              "<style scoped>\n",
              "    .dataframe tbody tr th:only-of-type {\n",
              "        vertical-align: middle;\n",
              "    }\n",
              "\n",
              "    .dataframe tbody tr th {\n",
              "        vertical-align: top;\n",
              "    }\n",
              "\n",
              "    .dataframe thead th {\n",
              "        text-align: right;\n",
              "    }\n",
              "</style>\n",
              "<table border=\"1\" class=\"dataframe\">\n",
              "  <thead>\n",
              "    <tr style=\"text-align: right;\">\n",
              "      <th></th>\n",
              "      <th>age</th>\n",
              "    </tr>\n",
              "  </thead>\n",
              "  <tbody>\n",
              "    <tr>\n",
              "      <th>count</th>\n",
              "      <td>103.000000</td>\n",
              "    </tr>\n",
              "    <tr>\n",
              "      <th>mean</th>\n",
              "      <td>5.489302</td>\n",
              "    </tr>\n",
              "    <tr>\n",
              "      <th>std</th>\n",
              "      <td>2.256922</td>\n",
              "    </tr>\n",
              "    <tr>\n",
              "      <th>min</th>\n",
              "      <td>1.206989</td>\n",
              "    </tr>\n",
              "    <tr>\n",
              "      <th>25%</th>\n",
              "      <td>4.082504</td>\n",
              "    </tr>\n",
              "    <tr>\n",
              "      <th>50%</th>\n",
              "      <td>5.312133</td>\n",
              "    </tr>\n",
              "    <tr>\n",
              "      <th>75%</th>\n",
              "      <td>7.369338</td>\n",
              "    </tr>\n",
              "    <tr>\n",
              "      <th>max</th>\n",
              "      <td>10.738602</td>\n",
              "    </tr>\n",
              "  </tbody>\n",
              "</table>\n",
              "</div>"
            ]
          },
          "metadata": {}
        }
      ],
      "execution_count": 7,
      "metadata": {}
    },
    {
      "cell_type": "markdown",
      "source": [
        "### Combine"
      ],
      "metadata": {}
    },
    {
      "cell_type": "code",
      "source": [
        "data = pd.concat([HR, salt, galaxy, age], axis=1)\n",
        "data.dropna(inplace=True)\n",
        "data.describe()"
      ],
      "outputs": [
        {
          "output_type": "execute_result",
          "execution_count": 8,
          "data": {
            "text/plain": [
              "         redshift   hr uncert          hr    redshift          x1      x1_err  \\\n",
              "count  103.000000  103.000000  103.000000  103.000000  103.000000  103.000000   \n",
              "mean     0.143292    0.078358   -0.023348    0.143292   -0.177168    0.268273   \n",
              "std      0.042126    0.016502    0.185996    0.042126    1.020424    0.127680   \n",
              "min      0.045248    0.056201   -0.495474    0.045248   -2.641650    0.061210   \n",
              "25%      0.114303    0.065649   -0.152180    0.114303   -0.769090    0.176328   \n",
              "50%      0.154056    0.075748   -0.037427    0.154056   -0.115550    0.236314   \n",
              "75%      0.180766    0.085845    0.090790    0.180766    0.693757    0.354695   \n",
              "max      0.198704    0.133972    0.497041    0.198704    1.812530    0.635581   \n",
              "\n",
              "            color   color_err  gal redshift  stellar mass         age  \n",
              "count  103.000000  103.000000    103.000000  1.030000e+02  103.000000  \n",
              "mean     0.010006    0.032914      0.143292  3.082438e+10    5.221552  \n",
              "std      0.083329    0.006243      0.042150  3.486086e+10    2.121162  \n",
              "min     -0.201667    0.024959      0.045363  3.521470e+07    1.628953  \n",
              "25%     -0.041371    0.028793      0.114276  5.819550e+09    3.447774  \n",
              "50%     -0.004241    0.030807      0.154034  2.032040e+10    5.071533  \n",
              "75%      0.081210    0.035345      0.180752  4.306880e+10    6.625620  \n",
              "max      0.246569    0.054852      0.198706  2.267200e+11    9.740748  "
            ],
            "text/html": [
              "<div>\n",
              "<style scoped>\n",
              "    .dataframe tbody tr th:only-of-type {\n",
              "        vertical-align: middle;\n",
              "    }\n",
              "\n",
              "    .dataframe tbody tr th {\n",
              "        vertical-align: top;\n",
              "    }\n",
              "\n",
              "    .dataframe thead th {\n",
              "        text-align: right;\n",
              "    }\n",
              "</style>\n",
              "<table border=\"1\" class=\"dataframe\">\n",
              "  <thead>\n",
              "    <tr style=\"text-align: right;\">\n",
              "      <th></th>\n",
              "      <th>redshift</th>\n",
              "      <th>hr uncert</th>\n",
              "      <th>hr</th>\n",
              "      <th>redshift</th>\n",
              "      <th>x1</th>\n",
              "      <th>x1_err</th>\n",
              "      <th>color</th>\n",
              "      <th>color_err</th>\n",
              "      <th>gal redshift</th>\n",
              "      <th>stellar mass</th>\n",
              "      <th>age</th>\n",
              "    </tr>\n",
              "  </thead>\n",
              "  <tbody>\n",
              "    <tr>\n",
              "      <th>count</th>\n",
              "      <td>103.000000</td>\n",
              "      <td>103.000000</td>\n",
              "      <td>103.000000</td>\n",
              "      <td>103.000000</td>\n",
              "      <td>103.000000</td>\n",
              "      <td>103.000000</td>\n",
              "      <td>103.000000</td>\n",
              "      <td>103.000000</td>\n",
              "      <td>103.000000</td>\n",
              "      <td>1.030000e+02</td>\n",
              "      <td>103.000000</td>\n",
              "    </tr>\n",
              "    <tr>\n",
              "      <th>mean</th>\n",
              "      <td>0.143292</td>\n",
              "      <td>0.078358</td>\n",
              "      <td>-0.023348</td>\n",
              "      <td>0.143292</td>\n",
              "      <td>-0.177168</td>\n",
              "      <td>0.268273</td>\n",
              "      <td>0.010006</td>\n",
              "      <td>0.032914</td>\n",
              "      <td>0.143292</td>\n",
              "      <td>3.082438e+10</td>\n",
              "      <td>5.221552</td>\n",
              "    </tr>\n",
              "    <tr>\n",
              "      <th>std</th>\n",
              "      <td>0.042126</td>\n",
              "      <td>0.016502</td>\n",
              "      <td>0.185996</td>\n",
              "      <td>0.042126</td>\n",
              "      <td>1.020424</td>\n",
              "      <td>0.127680</td>\n",
              "      <td>0.083329</td>\n",
              "      <td>0.006243</td>\n",
              "      <td>0.042150</td>\n",
              "      <td>3.486086e+10</td>\n",
              "      <td>2.121162</td>\n",
              "    </tr>\n",
              "    <tr>\n",
              "      <th>min</th>\n",
              "      <td>0.045248</td>\n",
              "      <td>0.056201</td>\n",
              "      <td>-0.495474</td>\n",
              "      <td>0.045248</td>\n",
              "      <td>-2.641650</td>\n",
              "      <td>0.061210</td>\n",
              "      <td>-0.201667</td>\n",
              "      <td>0.024959</td>\n",
              "      <td>0.045363</td>\n",
              "      <td>3.521470e+07</td>\n",
              "      <td>1.628953</td>\n",
              "    </tr>\n",
              "    <tr>\n",
              "      <th>25%</th>\n",
              "      <td>0.114303</td>\n",
              "      <td>0.065649</td>\n",
              "      <td>-0.152180</td>\n",
              "      <td>0.114303</td>\n",
              "      <td>-0.769090</td>\n",
              "      <td>0.176328</td>\n",
              "      <td>-0.041371</td>\n",
              "      <td>0.028793</td>\n",
              "      <td>0.114276</td>\n",
              "      <td>5.819550e+09</td>\n",
              "      <td>3.447774</td>\n",
              "    </tr>\n",
              "    <tr>\n",
              "      <th>50%</th>\n",
              "      <td>0.154056</td>\n",
              "      <td>0.075748</td>\n",
              "      <td>-0.037427</td>\n",
              "      <td>0.154056</td>\n",
              "      <td>-0.115550</td>\n",
              "      <td>0.236314</td>\n",
              "      <td>-0.004241</td>\n",
              "      <td>0.030807</td>\n",
              "      <td>0.154034</td>\n",
              "      <td>2.032040e+10</td>\n",
              "      <td>5.071533</td>\n",
              "    </tr>\n",
              "    <tr>\n",
              "      <th>75%</th>\n",
              "      <td>0.180766</td>\n",
              "      <td>0.085845</td>\n",
              "      <td>0.090790</td>\n",
              "      <td>0.180766</td>\n",
              "      <td>0.693757</td>\n",
              "      <td>0.354695</td>\n",
              "      <td>0.081210</td>\n",
              "      <td>0.035345</td>\n",
              "      <td>0.180752</td>\n",
              "      <td>4.306880e+10</td>\n",
              "      <td>6.625620</td>\n",
              "    </tr>\n",
              "    <tr>\n",
              "      <th>max</th>\n",
              "      <td>0.198704</td>\n",
              "      <td>0.133972</td>\n",
              "      <td>0.497041</td>\n",
              "      <td>0.198704</td>\n",
              "      <td>1.812530</td>\n",
              "      <td>0.635581</td>\n",
              "      <td>0.246569</td>\n",
              "      <td>0.054852</td>\n",
              "      <td>0.198706</td>\n",
              "      <td>2.267200e+11</td>\n",
              "      <td>9.740748</td>\n",
              "    </tr>\n",
              "  </tbody>\n",
              "</table>\n",
              "</div>"
            ]
          },
          "metadata": {}
        }
      ],
      "execution_count": 8,
      "metadata": {
        "scrolled": true
      }
    },
    {
      "cell_type": "markdown",
      "source": [
        "Convert stellar mass to be log(stellar mass)"
      ],
      "metadata": {}
    },
    {
      "cell_type": "code",
      "source": [
        "data['stellar mass'] = np.log10(data['stellar mass'])\n",
        "data.describe()"
      ],
      "outputs": [
        {
          "output_type": "execute_result",
          "execution_count": 9,
          "data": {
            "text/plain": [
              "         redshift   hr uncert          hr    redshift          x1      x1_err  \\\n",
              "count  103.000000  103.000000  103.000000  103.000000  103.000000  103.000000   \n",
              "mean     0.143292    0.078358   -0.023348    0.143292   -0.177168    0.268273   \n",
              "std      0.042126    0.016502    0.185996    0.042126    1.020424    0.127680   \n",
              "min      0.045248    0.056201   -0.495474    0.045248   -2.641650    0.061210   \n",
              "25%      0.114303    0.065649   -0.152180    0.114303   -0.769090    0.176328   \n",
              "50%      0.154056    0.075748   -0.037427    0.154056   -0.115550    0.236314   \n",
              "75%      0.180766    0.085845    0.090790    0.180766    0.693757    0.354695   \n",
              "max      0.198704    0.133972    0.497041    0.198704    1.812530    0.635581   \n",
              "\n",
              "            color   color_err  gal redshift  stellar mass         age  \n",
              "count  103.000000  103.000000    103.000000    103.000000  103.000000  \n",
              "mean     0.010006    0.032914      0.143292     10.152806    5.221552  \n",
              "std      0.083329    0.006243      0.042150      0.693578    2.121162  \n",
              "min     -0.201667    0.024959      0.045363      7.546724    1.628953  \n",
              "25%     -0.041371    0.028793      0.114276      9.764876    3.447774  \n",
              "50%     -0.004241    0.030807      0.154034     10.307932    5.071533  \n",
              "75%      0.081210    0.035345      0.180752     10.632817    6.625620  \n",
              "max      0.246569    0.054852      0.198706     11.355490    9.740748  "
            ],
            "text/html": [
              "<div>\n",
              "<style scoped>\n",
              "    .dataframe tbody tr th:only-of-type {\n",
              "        vertical-align: middle;\n",
              "    }\n",
              "\n",
              "    .dataframe tbody tr th {\n",
              "        vertical-align: top;\n",
              "    }\n",
              "\n",
              "    .dataframe thead th {\n",
              "        text-align: right;\n",
              "    }\n",
              "</style>\n",
              "<table border=\"1\" class=\"dataframe\">\n",
              "  <thead>\n",
              "    <tr style=\"text-align: right;\">\n",
              "      <th></th>\n",
              "      <th>redshift</th>\n",
              "      <th>hr uncert</th>\n",
              "      <th>hr</th>\n",
              "      <th>redshift</th>\n",
              "      <th>x1</th>\n",
              "      <th>x1_err</th>\n",
              "      <th>color</th>\n",
              "      <th>color_err</th>\n",
              "      <th>gal redshift</th>\n",
              "      <th>stellar mass</th>\n",
              "      <th>age</th>\n",
              "    </tr>\n",
              "  </thead>\n",
              "  <tbody>\n",
              "    <tr>\n",
              "      <th>count</th>\n",
              "      <td>103.000000</td>\n",
              "      <td>103.000000</td>\n",
              "      <td>103.000000</td>\n",
              "      <td>103.000000</td>\n",
              "      <td>103.000000</td>\n",
              "      <td>103.000000</td>\n",
              "      <td>103.000000</td>\n",
              "      <td>103.000000</td>\n",
              "      <td>103.000000</td>\n",
              "      <td>103.000000</td>\n",
              "      <td>103.000000</td>\n",
              "    </tr>\n",
              "    <tr>\n",
              "      <th>mean</th>\n",
              "      <td>0.143292</td>\n",
              "      <td>0.078358</td>\n",
              "      <td>-0.023348</td>\n",
              "      <td>0.143292</td>\n",
              "      <td>-0.177168</td>\n",
              "      <td>0.268273</td>\n",
              "      <td>0.010006</td>\n",
              "      <td>0.032914</td>\n",
              "      <td>0.143292</td>\n",
              "      <td>10.152806</td>\n",
              "      <td>5.221552</td>\n",
              "    </tr>\n",
              "    <tr>\n",
              "      <th>std</th>\n",
              "      <td>0.042126</td>\n",
              "      <td>0.016502</td>\n",
              "      <td>0.185996</td>\n",
              "      <td>0.042126</td>\n",
              "      <td>1.020424</td>\n",
              "      <td>0.127680</td>\n",
              "      <td>0.083329</td>\n",
              "      <td>0.006243</td>\n",
              "      <td>0.042150</td>\n",
              "      <td>0.693578</td>\n",
              "      <td>2.121162</td>\n",
              "    </tr>\n",
              "    <tr>\n",
              "      <th>min</th>\n",
              "      <td>0.045248</td>\n",
              "      <td>0.056201</td>\n",
              "      <td>-0.495474</td>\n",
              "      <td>0.045248</td>\n",
              "      <td>-2.641650</td>\n",
              "      <td>0.061210</td>\n",
              "      <td>-0.201667</td>\n",
              "      <td>0.024959</td>\n",
              "      <td>0.045363</td>\n",
              "      <td>7.546724</td>\n",
              "      <td>1.628953</td>\n",
              "    </tr>\n",
              "    <tr>\n",
              "      <th>25%</th>\n",
              "      <td>0.114303</td>\n",
              "      <td>0.065649</td>\n",
              "      <td>-0.152180</td>\n",
              "      <td>0.114303</td>\n",
              "      <td>-0.769090</td>\n",
              "      <td>0.176328</td>\n",
              "      <td>-0.041371</td>\n",
              "      <td>0.028793</td>\n",
              "      <td>0.114276</td>\n",
              "      <td>9.764876</td>\n",
              "      <td>3.447774</td>\n",
              "    </tr>\n",
              "    <tr>\n",
              "      <th>50%</th>\n",
              "      <td>0.154056</td>\n",
              "      <td>0.075748</td>\n",
              "      <td>-0.037427</td>\n",
              "      <td>0.154056</td>\n",
              "      <td>-0.115550</td>\n",
              "      <td>0.236314</td>\n",
              "      <td>-0.004241</td>\n",
              "      <td>0.030807</td>\n",
              "      <td>0.154034</td>\n",
              "      <td>10.307932</td>\n",
              "      <td>5.071533</td>\n",
              "    </tr>\n",
              "    <tr>\n",
              "      <th>75%</th>\n",
              "      <td>0.180766</td>\n",
              "      <td>0.085845</td>\n",
              "      <td>0.090790</td>\n",
              "      <td>0.180766</td>\n",
              "      <td>0.693757</td>\n",
              "      <td>0.354695</td>\n",
              "      <td>0.081210</td>\n",
              "      <td>0.035345</td>\n",
              "      <td>0.180752</td>\n",
              "      <td>10.632817</td>\n",
              "      <td>6.625620</td>\n",
              "    </tr>\n",
              "    <tr>\n",
              "      <th>max</th>\n",
              "      <td>0.198704</td>\n",
              "      <td>0.133972</td>\n",
              "      <td>0.497041</td>\n",
              "      <td>0.198704</td>\n",
              "      <td>1.812530</td>\n",
              "      <td>0.635581</td>\n",
              "      <td>0.246569</td>\n",
              "      <td>0.054852</td>\n",
              "      <td>0.198706</td>\n",
              "      <td>11.355490</td>\n",
              "      <td>9.740748</td>\n",
              "    </tr>\n",
              "  </tbody>\n",
              "</table>\n",
              "</div>"
            ]
          },
          "metadata": {}
        }
      ],
      "execution_count": 9,
      "metadata": {}
    },
    {
      "cell_type": "code",
      "source": [
        "data.head()"
      ],
      "outputs": [
        {
          "output_type": "execute_result",
          "execution_count": 10,
          "data": {
            "text/plain": [
              "      redshift  hr uncert        hr  redshift        x1    x1_err     color  \\\n",
              "762   0.191381   0.082145  0.153825  0.191381  1.151230  0.309302 -0.012429   \n",
              "1032  0.129755   0.124407 -0.154126  0.129755 -2.476700  0.236314  0.111854   \n",
              "1371  0.119343   0.061899 -0.137699  0.119343  0.818692  0.119646 -0.089316   \n",
              "1794  0.141910   0.083013  0.273617  0.141910  1.282110  0.421594 -0.004241   \n",
              "2372  0.180465   0.068995 -0.122781  0.180465  0.265179  0.208474  0.031691   \n",
              "\n",
              "      color_err  gal redshift  stellar mass       age  \n",
              "762    0.033976      0.191391     11.079398  5.125617  \n",
              "1032   0.042552      0.129755     10.455856  5.750615  \n",
              "1371   0.026896      0.119015     10.668264  8.904866  \n",
              "1794   0.032228      0.142767      8.840125  4.008011  \n",
              "2372   0.029674      0.180438     10.249450  5.943196  "
            ],
            "text/html": [
              "<div>\n",
              "<style scoped>\n",
              "    .dataframe tbody tr th:only-of-type {\n",
              "        vertical-align: middle;\n",
              "    }\n",
              "\n",
              "    .dataframe tbody tr th {\n",
              "        vertical-align: top;\n",
              "    }\n",
              "\n",
              "    .dataframe thead th {\n",
              "        text-align: right;\n",
              "    }\n",
              "</style>\n",
              "<table border=\"1\" class=\"dataframe\">\n",
              "  <thead>\n",
              "    <tr style=\"text-align: right;\">\n",
              "      <th></th>\n",
              "      <th>redshift</th>\n",
              "      <th>hr uncert</th>\n",
              "      <th>hr</th>\n",
              "      <th>redshift</th>\n",
              "      <th>x1</th>\n",
              "      <th>x1_err</th>\n",
              "      <th>color</th>\n",
              "      <th>color_err</th>\n",
              "      <th>gal redshift</th>\n",
              "      <th>stellar mass</th>\n",
              "      <th>age</th>\n",
              "    </tr>\n",
              "  </thead>\n",
              "  <tbody>\n",
              "    <tr>\n",
              "      <th>762</th>\n",
              "      <td>0.191381</td>\n",
              "      <td>0.082145</td>\n",
              "      <td>0.153825</td>\n",
              "      <td>0.191381</td>\n",
              "      <td>1.151230</td>\n",
              "      <td>0.309302</td>\n",
              "      <td>-0.012429</td>\n",
              "      <td>0.033976</td>\n",
              "      <td>0.191391</td>\n",
              "      <td>11.079398</td>\n",
              "      <td>5.125617</td>\n",
              "    </tr>\n",
              "    <tr>\n",
              "      <th>1032</th>\n",
              "      <td>0.129755</td>\n",
              "      <td>0.124407</td>\n",
              "      <td>-0.154126</td>\n",
              "      <td>0.129755</td>\n",
              "      <td>-2.476700</td>\n",
              "      <td>0.236314</td>\n",
              "      <td>0.111854</td>\n",
              "      <td>0.042552</td>\n",
              "      <td>0.129755</td>\n",
              "      <td>10.455856</td>\n",
              "      <td>5.750615</td>\n",
              "    </tr>\n",
              "    <tr>\n",
              "      <th>1371</th>\n",
              "      <td>0.119343</td>\n",
              "      <td>0.061899</td>\n",
              "      <td>-0.137699</td>\n",
              "      <td>0.119343</td>\n",
              "      <td>0.818692</td>\n",
              "      <td>0.119646</td>\n",
              "      <td>-0.089316</td>\n",
              "      <td>0.026896</td>\n",
              "      <td>0.119015</td>\n",
              "      <td>10.668264</td>\n",
              "      <td>8.904866</td>\n",
              "    </tr>\n",
              "    <tr>\n",
              "      <th>1794</th>\n",
              "      <td>0.141910</td>\n",
              "      <td>0.083013</td>\n",
              "      <td>0.273617</td>\n",
              "      <td>0.141910</td>\n",
              "      <td>1.282110</td>\n",
              "      <td>0.421594</td>\n",
              "      <td>-0.004241</td>\n",
              "      <td>0.032228</td>\n",
              "      <td>0.142767</td>\n",
              "      <td>8.840125</td>\n",
              "      <td>4.008011</td>\n",
              "    </tr>\n",
              "    <tr>\n",
              "      <th>2372</th>\n",
              "      <td>0.180465</td>\n",
              "      <td>0.068995</td>\n",
              "      <td>-0.122781</td>\n",
              "      <td>0.180465</td>\n",
              "      <td>0.265179</td>\n",
              "      <td>0.208474</td>\n",
              "      <td>0.031691</td>\n",
              "      <td>0.029674</td>\n",
              "      <td>0.180438</td>\n",
              "      <td>10.249450</td>\n",
              "      <td>5.943196</td>\n",
              "    </tr>\n",
              "  </tbody>\n",
              "</table>\n",
              "</div>"
            ]
          },
          "metadata": {}
        }
      ],
      "execution_count": 10,
      "metadata": {
        "collapsed": false,
        "outputHidden": false,
        "inputHidden": false
      }
    },
    {
      "cell_type": "code",
      "source": [
        "# now with global\n",
        "data_global = pd.concat([HR, salt, galaxy, age_global], axis=1)\n",
        "data_global.dropna(inplace=True)\n",
        "data_global.describe()\n",
        "\n",
        "data_global['stellar mass'] = np.log10(data_global['stellar mass'])\n",
        "data_global.describe()"
      ],
      "outputs": [
        {
          "output_type": "execute_result",
          "execution_count": 11,
          "data": {
            "text/plain": [
              "         redshift   hr uncert          hr    redshift          x1      x1_err  \\\n",
              "count  103.000000  103.000000  103.000000  103.000000  103.000000  103.000000   \n",
              "mean     0.143292    0.078358   -0.023348    0.143292   -0.177168    0.268273   \n",
              "std      0.042126    0.016502    0.185996    0.042126    1.020424    0.127680   \n",
              "min      0.045248    0.056201   -0.495474    0.045248   -2.641650    0.061210   \n",
              "25%      0.114303    0.065649   -0.152180    0.114303   -0.769090    0.176328   \n",
              "50%      0.154056    0.075748   -0.037427    0.154056   -0.115550    0.236314   \n",
              "75%      0.180766    0.085845    0.090790    0.180766    0.693757    0.354695   \n",
              "max      0.198704    0.133972    0.497041    0.198704    1.812530    0.635581   \n",
              "\n",
              "            color   color_err  gal redshift  stellar mass         age  \n",
              "count  103.000000  103.000000    103.000000    103.000000  103.000000  \n",
              "mean     0.010006    0.032914      0.143292     10.152806    5.489302  \n",
              "std      0.083329    0.006243      0.042150      0.693578    2.256922  \n",
              "min     -0.201667    0.024959      0.045363      7.546724    1.206989  \n",
              "25%     -0.041371    0.028793      0.114276      9.764876    4.082504  \n",
              "50%     -0.004241    0.030807      0.154034     10.307932    5.312133  \n",
              "75%      0.081210    0.035345      0.180752     10.632817    7.369338  \n",
              "max      0.246569    0.054852      0.198706     11.355490   10.738602  "
            ],
            "text/html": [
              "<div>\n",
              "<style scoped>\n",
              "    .dataframe tbody tr th:only-of-type {\n",
              "        vertical-align: middle;\n",
              "    }\n",
              "\n",
              "    .dataframe tbody tr th {\n",
              "        vertical-align: top;\n",
              "    }\n",
              "\n",
              "    .dataframe thead th {\n",
              "        text-align: right;\n",
              "    }\n",
              "</style>\n",
              "<table border=\"1\" class=\"dataframe\">\n",
              "  <thead>\n",
              "    <tr style=\"text-align: right;\">\n",
              "      <th></th>\n",
              "      <th>redshift</th>\n",
              "      <th>hr uncert</th>\n",
              "      <th>hr</th>\n",
              "      <th>redshift</th>\n",
              "      <th>x1</th>\n",
              "      <th>x1_err</th>\n",
              "      <th>color</th>\n",
              "      <th>color_err</th>\n",
              "      <th>gal redshift</th>\n",
              "      <th>stellar mass</th>\n",
              "      <th>age</th>\n",
              "    </tr>\n",
              "  </thead>\n",
              "  <tbody>\n",
              "    <tr>\n",
              "      <th>count</th>\n",
              "      <td>103.000000</td>\n",
              "      <td>103.000000</td>\n",
              "      <td>103.000000</td>\n",
              "      <td>103.000000</td>\n",
              "      <td>103.000000</td>\n",
              "      <td>103.000000</td>\n",
              "      <td>103.000000</td>\n",
              "      <td>103.000000</td>\n",
              "      <td>103.000000</td>\n",
              "      <td>103.000000</td>\n",
              "      <td>103.000000</td>\n",
              "    </tr>\n",
              "    <tr>\n",
              "      <th>mean</th>\n",
              "      <td>0.143292</td>\n",
              "      <td>0.078358</td>\n",
              "      <td>-0.023348</td>\n",
              "      <td>0.143292</td>\n",
              "      <td>-0.177168</td>\n",
              "      <td>0.268273</td>\n",
              "      <td>0.010006</td>\n",
              "      <td>0.032914</td>\n",
              "      <td>0.143292</td>\n",
              "      <td>10.152806</td>\n",
              "      <td>5.489302</td>\n",
              "    </tr>\n",
              "    <tr>\n",
              "      <th>std</th>\n",
              "      <td>0.042126</td>\n",
              "      <td>0.016502</td>\n",
              "      <td>0.185996</td>\n",
              "      <td>0.042126</td>\n",
              "      <td>1.020424</td>\n",
              "      <td>0.127680</td>\n",
              "      <td>0.083329</td>\n",
              "      <td>0.006243</td>\n",
              "      <td>0.042150</td>\n",
              "      <td>0.693578</td>\n",
              "      <td>2.256922</td>\n",
              "    </tr>\n",
              "    <tr>\n",
              "      <th>min</th>\n",
              "      <td>0.045248</td>\n",
              "      <td>0.056201</td>\n",
              "      <td>-0.495474</td>\n",
              "      <td>0.045248</td>\n",
              "      <td>-2.641650</td>\n",
              "      <td>0.061210</td>\n",
              "      <td>-0.201667</td>\n",
              "      <td>0.024959</td>\n",
              "      <td>0.045363</td>\n",
              "      <td>7.546724</td>\n",
              "      <td>1.206989</td>\n",
              "    </tr>\n",
              "    <tr>\n",
              "      <th>25%</th>\n",
              "      <td>0.114303</td>\n",
              "      <td>0.065649</td>\n",
              "      <td>-0.152180</td>\n",
              "      <td>0.114303</td>\n",
              "      <td>-0.769090</td>\n",
              "      <td>0.176328</td>\n",
              "      <td>-0.041371</td>\n",
              "      <td>0.028793</td>\n",
              "      <td>0.114276</td>\n",
              "      <td>9.764876</td>\n",
              "      <td>4.082504</td>\n",
              "    </tr>\n",
              "    <tr>\n",
              "      <th>50%</th>\n",
              "      <td>0.154056</td>\n",
              "      <td>0.075748</td>\n",
              "      <td>-0.037427</td>\n",
              "      <td>0.154056</td>\n",
              "      <td>-0.115550</td>\n",
              "      <td>0.236314</td>\n",
              "      <td>-0.004241</td>\n",
              "      <td>0.030807</td>\n",
              "      <td>0.154034</td>\n",
              "      <td>10.307932</td>\n",
              "      <td>5.312133</td>\n",
              "    </tr>\n",
              "    <tr>\n",
              "      <th>75%</th>\n",
              "      <td>0.180766</td>\n",
              "      <td>0.085845</td>\n",
              "      <td>0.090790</td>\n",
              "      <td>0.180766</td>\n",
              "      <td>0.693757</td>\n",
              "      <td>0.354695</td>\n",
              "      <td>0.081210</td>\n",
              "      <td>0.035345</td>\n",
              "      <td>0.180752</td>\n",
              "      <td>10.632817</td>\n",
              "      <td>7.369338</td>\n",
              "    </tr>\n",
              "    <tr>\n",
              "      <th>max</th>\n",
              "      <td>0.198704</td>\n",
              "      <td>0.133972</td>\n",
              "      <td>0.497041</td>\n",
              "      <td>0.198704</td>\n",
              "      <td>1.812530</td>\n",
              "      <td>0.635581</td>\n",
              "      <td>0.246569</td>\n",
              "      <td>0.054852</td>\n",
              "      <td>0.198706</td>\n",
              "      <td>11.355490</td>\n",
              "      <td>10.738602</td>\n",
              "    </tr>\n",
              "  </tbody>\n",
              "</table>\n",
              "</div>"
            ]
          },
          "metadata": {}
        }
      ],
      "execution_count": 11,
      "metadata": {}
    },
    {
      "cell_type": "markdown",
      "source": [
        "----\n",
        "# Update HR as if $\\alpha$ should be 0.16 not 0.22\n",
        "\nmaybe use 0.1 or something extream on the low end."
      ],
      "metadata": {}
    },
    {
      "cell_type": "code",
      "source": [
        "delta_alpha = 0.22-0.16   #0.6 if we are going from 0.22 to 0.16"
      ],
      "outputs": [],
      "execution_count": 12,
      "metadata": {
        "collapsed": false,
        "outputHidden": false,
        "inputHidden": false
      }
    },
    {
      "cell_type": "code",
      "source": [
        "data[\"hr\"] = data[\"hr\"]-delta_alpha*data[\"x1\"]\n",
        "data.describe()"
      ],
      "outputs": [
        {
          "output_type": "execute_result",
          "execution_count": 13,
          "data": {
            "text/plain": [
              "         redshift   hr uncert          hr    redshift          x1      x1_err  \\\n",
              "count  103.000000  103.000000  103.000000  103.000000  103.000000  103.000000   \n",
              "mean     0.143292    0.078358   -0.012718    0.143292   -0.177168    0.268273   \n",
              "std      0.042126    0.016502    0.168172    0.042126    1.020424    0.127680   \n",
              "min      0.045248    0.056201   -0.424369    0.045248   -2.641650    0.061210   \n",
              "25%      0.114303    0.065649   -0.118307    0.114303   -0.769090    0.176328   \n",
              "50%      0.154056    0.075748   -0.030987    0.154056   -0.115550    0.236314   \n",
              "75%      0.180766    0.085845    0.078726    0.180766    0.693757    0.354695   \n",
              "max      0.198704    0.133972    0.514934    0.198704    1.812530    0.635581   \n",
              "\n",
              "            color   color_err  gal redshift  stellar mass         age  \n",
              "count  103.000000  103.000000    103.000000    103.000000  103.000000  \n",
              "mean     0.010006    0.032914      0.143292     10.152806    5.221552  \n",
              "std      0.083329    0.006243      0.042150      0.693578    2.121162  \n",
              "min     -0.201667    0.024959      0.045363      7.546724    1.628953  \n",
              "25%     -0.041371    0.028793      0.114276      9.764876    3.447774  \n",
              "50%     -0.004241    0.030807      0.154034     10.307932    5.071533  \n",
              "75%      0.081210    0.035345      0.180752     10.632817    6.625620  \n",
              "max      0.246569    0.054852      0.198706     11.355490    9.740748  "
            ],
            "text/html": [
              "<div>\n",
              "<style scoped>\n",
              "    .dataframe tbody tr th:only-of-type {\n",
              "        vertical-align: middle;\n",
              "    }\n",
              "\n",
              "    .dataframe tbody tr th {\n",
              "        vertical-align: top;\n",
              "    }\n",
              "\n",
              "    .dataframe thead th {\n",
              "        text-align: right;\n",
              "    }\n",
              "</style>\n",
              "<table border=\"1\" class=\"dataframe\">\n",
              "  <thead>\n",
              "    <tr style=\"text-align: right;\">\n",
              "      <th></th>\n",
              "      <th>redshift</th>\n",
              "      <th>hr uncert</th>\n",
              "      <th>hr</th>\n",
              "      <th>redshift</th>\n",
              "      <th>x1</th>\n",
              "      <th>x1_err</th>\n",
              "      <th>color</th>\n",
              "      <th>color_err</th>\n",
              "      <th>gal redshift</th>\n",
              "      <th>stellar mass</th>\n",
              "      <th>age</th>\n",
              "    </tr>\n",
              "  </thead>\n",
              "  <tbody>\n",
              "    <tr>\n",
              "      <th>count</th>\n",
              "      <td>103.000000</td>\n",
              "      <td>103.000000</td>\n",
              "      <td>103.000000</td>\n",
              "      <td>103.000000</td>\n",
              "      <td>103.000000</td>\n",
              "      <td>103.000000</td>\n",
              "      <td>103.000000</td>\n",
              "      <td>103.000000</td>\n",
              "      <td>103.000000</td>\n",
              "      <td>103.000000</td>\n",
              "      <td>103.000000</td>\n",
              "    </tr>\n",
              "    <tr>\n",
              "      <th>mean</th>\n",
              "      <td>0.143292</td>\n",
              "      <td>0.078358</td>\n",
              "      <td>-0.012718</td>\n",
              "      <td>0.143292</td>\n",
              "      <td>-0.177168</td>\n",
              "      <td>0.268273</td>\n",
              "      <td>0.010006</td>\n",
              "      <td>0.032914</td>\n",
              "      <td>0.143292</td>\n",
              "      <td>10.152806</td>\n",
              "      <td>5.221552</td>\n",
              "    </tr>\n",
              "    <tr>\n",
              "      <th>std</th>\n",
              "      <td>0.042126</td>\n",
              "      <td>0.016502</td>\n",
              "      <td>0.168172</td>\n",
              "      <td>0.042126</td>\n",
              "      <td>1.020424</td>\n",
              "      <td>0.127680</td>\n",
              "      <td>0.083329</td>\n",
              "      <td>0.006243</td>\n",
              "      <td>0.042150</td>\n",
              "      <td>0.693578</td>\n",
              "      <td>2.121162</td>\n",
              "    </tr>\n",
              "    <tr>\n",
              "      <th>min</th>\n",
              "      <td>0.045248</td>\n",
              "      <td>0.056201</td>\n",
              "      <td>-0.424369</td>\n",
              "      <td>0.045248</td>\n",
              "      <td>-2.641650</td>\n",
              "      <td>0.061210</td>\n",
              "      <td>-0.201667</td>\n",
              "      <td>0.024959</td>\n",
              "      <td>0.045363</td>\n",
              "      <td>7.546724</td>\n",
              "      <td>1.628953</td>\n",
              "    </tr>\n",
              "    <tr>\n",
              "      <th>25%</th>\n",
              "      <td>0.114303</td>\n",
              "      <td>0.065649</td>\n",
              "      <td>-0.118307</td>\n",
              "      <td>0.114303</td>\n",
              "      <td>-0.769090</td>\n",
              "      <td>0.176328</td>\n",
              "      <td>-0.041371</td>\n",
              "      <td>0.028793</td>\n",
              "      <td>0.114276</td>\n",
              "      <td>9.764876</td>\n",
              "      <td>3.447774</td>\n",
              "    </tr>\n",
              "    <tr>\n",
              "      <th>50%</th>\n",
              "      <td>0.154056</td>\n",
              "      <td>0.075748</td>\n",
              "      <td>-0.030987</td>\n",
              "      <td>0.154056</td>\n",
              "      <td>-0.115550</td>\n",
              "      <td>0.236314</td>\n",
              "      <td>-0.004241</td>\n",
              "      <td>0.030807</td>\n",
              "      <td>0.154034</td>\n",
              "      <td>10.307932</td>\n",
              "      <td>5.071533</td>\n",
              "    </tr>\n",
              "    <tr>\n",
              "      <th>75%</th>\n",
              "      <td>0.180766</td>\n",
              "      <td>0.085845</td>\n",
              "      <td>0.078726</td>\n",
              "      <td>0.180766</td>\n",
              "      <td>0.693757</td>\n",
              "      <td>0.354695</td>\n",
              "      <td>0.081210</td>\n",
              "      <td>0.035345</td>\n",
              "      <td>0.180752</td>\n",
              "      <td>10.632817</td>\n",
              "      <td>6.625620</td>\n",
              "    </tr>\n",
              "    <tr>\n",
              "      <th>max</th>\n",
              "      <td>0.198704</td>\n",
              "      <td>0.133972</td>\n",
              "      <td>0.514934</td>\n",
              "      <td>0.198704</td>\n",
              "      <td>1.812530</td>\n",
              "      <td>0.635581</td>\n",
              "      <td>0.246569</td>\n",
              "      <td>0.054852</td>\n",
              "      <td>0.198706</td>\n",
              "      <td>11.355490</td>\n",
              "      <td>9.740748</td>\n",
              "    </tr>\n",
              "  </tbody>\n",
              "</table>\n",
              "</div>"
            ]
          },
          "metadata": {}
        }
      ],
      "execution_count": 13,
      "metadata": {
        "collapsed": false,
        "outputHidden": false,
        "inputHidden": false
      }
    },
    {
      "cell_type": "code",
      "source": [
        "data_global[\"hr\"] = data_global[\"hr\"]-delta_alpha*data_global[\"x1\"]\n",
        "data_global.describe()"
      ],
      "outputs": [
        {
          "output_type": "execute_result",
          "execution_count": 14,
          "data": {
            "text/plain": [
              "         redshift   hr uncert          hr    redshift          x1      x1_err  \\\n",
              "count  103.000000  103.000000  103.000000  103.000000  103.000000  103.000000   \n",
              "mean     0.143292    0.078358   -0.012718    0.143292   -0.177168    0.268273   \n",
              "std      0.042126    0.016502    0.168172    0.042126    1.020424    0.127680   \n",
              "min      0.045248    0.056201   -0.424369    0.045248   -2.641650    0.061210   \n",
              "25%      0.114303    0.065649   -0.118307    0.114303   -0.769090    0.176328   \n",
              "50%      0.154056    0.075748   -0.030987    0.154056   -0.115550    0.236314   \n",
              "75%      0.180766    0.085845    0.078726    0.180766    0.693757    0.354695   \n",
              "max      0.198704    0.133972    0.514934    0.198704    1.812530    0.635581   \n",
              "\n",
              "            color   color_err  gal redshift  stellar mass         age  \n",
              "count  103.000000  103.000000    103.000000    103.000000  103.000000  \n",
              "mean     0.010006    0.032914      0.143292     10.152806    5.489302  \n",
              "std      0.083329    0.006243      0.042150      0.693578    2.256922  \n",
              "min     -0.201667    0.024959      0.045363      7.546724    1.206989  \n",
              "25%     -0.041371    0.028793      0.114276      9.764876    4.082504  \n",
              "50%     -0.004241    0.030807      0.154034     10.307932    5.312133  \n",
              "75%      0.081210    0.035345      0.180752     10.632817    7.369338  \n",
              "max      0.246569    0.054852      0.198706     11.355490   10.738602  "
            ],
            "text/html": [
              "<div>\n",
              "<style scoped>\n",
              "    .dataframe tbody tr th:only-of-type {\n",
              "        vertical-align: middle;\n",
              "    }\n",
              "\n",
              "    .dataframe tbody tr th {\n",
              "        vertical-align: top;\n",
              "    }\n",
              "\n",
              "    .dataframe thead th {\n",
              "        text-align: right;\n",
              "    }\n",
              "</style>\n",
              "<table border=\"1\" class=\"dataframe\">\n",
              "  <thead>\n",
              "    <tr style=\"text-align: right;\">\n",
              "      <th></th>\n",
              "      <th>redshift</th>\n",
              "      <th>hr uncert</th>\n",
              "      <th>hr</th>\n",
              "      <th>redshift</th>\n",
              "      <th>x1</th>\n",
              "      <th>x1_err</th>\n",
              "      <th>color</th>\n",
              "      <th>color_err</th>\n",
              "      <th>gal redshift</th>\n",
              "      <th>stellar mass</th>\n",
              "      <th>age</th>\n",
              "    </tr>\n",
              "  </thead>\n",
              "  <tbody>\n",
              "    <tr>\n",
              "      <th>count</th>\n",
              "      <td>103.000000</td>\n",
              "      <td>103.000000</td>\n",
              "      <td>103.000000</td>\n",
              "      <td>103.000000</td>\n",
              "      <td>103.000000</td>\n",
              "      <td>103.000000</td>\n",
              "      <td>103.000000</td>\n",
              "      <td>103.000000</td>\n",
              "      <td>103.000000</td>\n",
              "      <td>103.000000</td>\n",
              "      <td>103.000000</td>\n",
              "    </tr>\n",
              "    <tr>\n",
              "      <th>mean</th>\n",
              "      <td>0.143292</td>\n",
              "      <td>0.078358</td>\n",
              "      <td>-0.012718</td>\n",
              "      <td>0.143292</td>\n",
              "      <td>-0.177168</td>\n",
              "      <td>0.268273</td>\n",
              "      <td>0.010006</td>\n",
              "      <td>0.032914</td>\n",
              "      <td>0.143292</td>\n",
              "      <td>10.152806</td>\n",
              "      <td>5.489302</td>\n",
              "    </tr>\n",
              "    <tr>\n",
              "      <th>std</th>\n",
              "      <td>0.042126</td>\n",
              "      <td>0.016502</td>\n",
              "      <td>0.168172</td>\n",
              "      <td>0.042126</td>\n",
              "      <td>1.020424</td>\n",
              "      <td>0.127680</td>\n",
              "      <td>0.083329</td>\n",
              "      <td>0.006243</td>\n",
              "      <td>0.042150</td>\n",
              "      <td>0.693578</td>\n",
              "      <td>2.256922</td>\n",
              "    </tr>\n",
              "    <tr>\n",
              "      <th>min</th>\n",
              "      <td>0.045248</td>\n",
              "      <td>0.056201</td>\n",
              "      <td>-0.424369</td>\n",
              "      <td>0.045248</td>\n",
              "      <td>-2.641650</td>\n",
              "      <td>0.061210</td>\n",
              "      <td>-0.201667</td>\n",
              "      <td>0.024959</td>\n",
              "      <td>0.045363</td>\n",
              "      <td>7.546724</td>\n",
              "      <td>1.206989</td>\n",
              "    </tr>\n",
              "    <tr>\n",
              "      <th>25%</th>\n",
              "      <td>0.114303</td>\n",
              "      <td>0.065649</td>\n",
              "      <td>-0.118307</td>\n",
              "      <td>0.114303</td>\n",
              "      <td>-0.769090</td>\n",
              "      <td>0.176328</td>\n",
              "      <td>-0.041371</td>\n",
              "      <td>0.028793</td>\n",
              "      <td>0.114276</td>\n",
              "      <td>9.764876</td>\n",
              "      <td>4.082504</td>\n",
              "    </tr>\n",
              "    <tr>\n",
              "      <th>50%</th>\n",
              "      <td>0.154056</td>\n",
              "      <td>0.075748</td>\n",
              "      <td>-0.030987</td>\n",
              "      <td>0.154056</td>\n",
              "      <td>-0.115550</td>\n",
              "      <td>0.236314</td>\n",
              "      <td>-0.004241</td>\n",
              "      <td>0.030807</td>\n",
              "      <td>0.154034</td>\n",
              "      <td>10.307932</td>\n",
              "      <td>5.312133</td>\n",
              "    </tr>\n",
              "    <tr>\n",
              "      <th>75%</th>\n",
              "      <td>0.180766</td>\n",
              "      <td>0.085845</td>\n",
              "      <td>0.078726</td>\n",
              "      <td>0.180766</td>\n",
              "      <td>0.693757</td>\n",
              "      <td>0.354695</td>\n",
              "      <td>0.081210</td>\n",
              "      <td>0.035345</td>\n",
              "      <td>0.180752</td>\n",
              "      <td>10.632817</td>\n",
              "      <td>7.369338</td>\n",
              "    </tr>\n",
              "    <tr>\n",
              "      <th>max</th>\n",
              "      <td>0.198704</td>\n",
              "      <td>0.133972</td>\n",
              "      <td>0.514934</td>\n",
              "      <td>0.198704</td>\n",
              "      <td>1.812530</td>\n",
              "      <td>0.635581</td>\n",
              "      <td>0.246569</td>\n",
              "      <td>0.054852</td>\n",
              "      <td>0.198706</td>\n",
              "      <td>11.355490</td>\n",
              "      <td>10.738602</td>\n",
              "    </tr>\n",
              "  </tbody>\n",
              "</table>\n",
              "</div>"
            ]
          },
          "metadata": {}
        }
      ],
      "execution_count": 14,
      "metadata": {
        "collapsed": false,
        "outputHidden": false,
        "inputHidden": false
      }
    },
    {
      "cell_type": "markdown",
      "source": [
        "---\n",
        "## PCA\n",
        "\nStandardize the variables. We will do everything in their \"linear\" (looking at you distance modulus/HR) space excepct for stellar mass."
      ],
      "metadata": {}
    },
    {
      "cell_type": "code",
      "source": [
        "# Lets remove uncertainties & redshift?\n",
        "features = ['x1', 'color', 'stellar mass', 'age']\n",
        "y = data.loc[:, features].values\n",
        "scaler = StandardScaler()\n",
        "scaler.fit(y)   # get the needed transformation off of y\n",
        "y = scaler.transform(y)     # transform y\n",
        "y.shape"
      ],
      "outputs": [
        {
          "output_type": "execute_result",
          "execution_count": 15,
          "data": {
            "text/plain": [
              "(103, 4)"
            ]
          },
          "metadata": {}
        }
      ],
      "execution_count": 15,
      "metadata": {}
    },
    {
      "cell_type": "code",
      "source": [
        "print(y.mean(axis=0))\n",
        "print(y.std(axis=0))"
      ],
      "outputs": [
        {
          "output_type": "stream",
          "name": "stdout",
          "text": [
            "[ 1.07788643e-17 -2.26356151e-17 -8.66620691e-16 -1.27190599e-16]\n",
            "[1. 1. 1. 1.]\n"
          ]
        }
      ],
      "execution_count": 16,
      "metadata": {
        "collapsed": false,
        "outputHidden": false,
        "inputHidden": false
      }
    },
    {
      "cell_type": "markdown",
      "source": [
        "Standard Scaler saves std as `self.scale_`. Why, idk. `self.var_` is just the square of std and not used anywhere."
      ],
      "metadata": {}
    },
    {
      "cell_type": "code",
      "source": [
        "scaler.mean_, scaler.scale_     #how is it scaled"
      ],
      "outputs": [
        {
          "output_type": "execute_result",
          "execution_count": 17,
          "data": {
            "text/plain": [
              "(array([-1.77167739e-01,  1.00061104e-02,  1.01528061e+01,  5.22155160e+00]),\n",
              " array([1.01545891, 0.08292334, 0.69020311, 2.11083993]))"
            ]
          },
          "metadata": {}
        }
      ],
      "execution_count": 17,
      "metadata": {}
    },
    {
      "cell_type": "code",
      "source": [
        "y[:5]   # post scaled values"
      ],
      "outputs": [
        {
          "output_type": "execute_result",
          "execution_count": 18,
          "data": {
            "text/plain": [
              "array([[ 1.30817476, -0.27054999,  1.34249219, -0.0454484 ],\n",
              "       [-2.26452524,  1.22821737,  0.43907287,  0.25064115],\n",
              "       [ 0.98069923, -1.19775449,  0.7468204 ,  1.7449518 ],\n",
              "       [ 1.4370623 , -0.17181411, -1.90187657, -0.57490892],\n",
              "       [ 0.43561265,  0.26151005,  0.14002291,  0.34187566]])"
            ]
          },
          "metadata": {}
        }
      ],
      "execution_count": 18,
      "metadata": {
        "collapsed": false,
        "outputHidden": false,
        "inputHidden": false
      }
    },
    {
      "cell_type": "code",
      "source": [
        "data.loc[:, features].values[:5]   #get the prescaled values"
      ],
      "outputs": [
        {
          "output_type": "execute_result",
          "execution_count": 19,
          "data": {
            "text/plain": [
              "array([[ 1.15122998e+00, -1.24287996e-02,  1.10793983e+01,\n",
              "         5.12561731e+00],\n",
              "       [-2.47670007e+00,  1.11854002e-01,  1.04558555e+01,\n",
              "         5.75061496e+00],\n",
              "       [ 8.18692029e-01, -8.93156976e-02,  1.06682638e+01,\n",
              "         8.90486553e+00],\n",
              "       [ 1.28210998e+00, -4.24129004e-03,  8.84012492e+00,\n",
              "         4.00801091e+00],\n",
              "       [ 2.65179008e-01,  3.16913985e-02,  1.02494503e+01,\n",
              "         5.94319639e+00]])"
            ]
          },
          "metadata": {}
        }
      ],
      "execution_count": 19,
      "metadata": {
        "collapsed": false,
        "outputHidden": false,
        "inputHidden": false
      }
    },
    {
      "cell_type": "code",
      "source": [
        "# Perform PCA\n",
        "pca2 = PCA(n_components=4)\n",
        "principalComponents2 = pca2.fit_transform(y)"
      ],
      "outputs": [],
      "execution_count": 20,
      "metadata": {}
    },
    {
      "cell_type": "code",
      "source": [
        "principalComponents2.shape"
      ],
      "outputs": [
        {
          "output_type": "execute_result",
          "execution_count": 21,
          "data": {
            "text/plain": [
              "(103, 4)"
            ]
          },
          "metadata": {}
        }
      ],
      "execution_count": 21,
      "metadata": {}
    },
    {
      "cell_type": "code",
      "source": [
        "principalComponents2[:5]"
      ],
      "outputs": [
        {
          "output_type": "execute_result",
          "execution_count": 22,
          "data": {
            "text/plain": [
              "array([[ 0.06609517, -0.74721375, -1.73910633,  0.04100677],\n",
              "       [-1.78000767,  1.41209069,  0.86434904, -0.99129801],\n",
              "       [-0.82339419, -1.66610155, -0.73701179,  1.41489417],\n",
              "       [ 2.19613575,  0.07979277,  0.4186157 ,  1.0186779 ],\n",
              "       [-0.07388171,  0.11100611, -0.42623043,  0.44178957]])"
            ]
          },
          "metadata": {}
        }
      ],
      "execution_count": 22,
      "metadata": {
        "collapsed": false,
        "outputHidden": false,
        "inputHidden": false
      }
    },
    {
      "cell_type": "code",
      "source": [
        "pca2.components_"
      ],
      "outputs": [
        {
          "output_type": "execute_result",
          "execution_count": 23,
          "data": {
            "text/plain": [
              "array([[ 0.55663237, -0.10370169, -0.53528848, -0.62679551],\n",
              "       [-0.15888591,  0.95686936, -0.21290729, -0.1175873 ],\n",
              "       [-0.65121865, -0.25747331, -0.71034663,  0.0709185 ],\n",
              "       [ 0.49074427,  0.08575822, -0.40440624,  0.76698839]])"
            ]
          },
          "metadata": {}
        }
      ],
      "execution_count": 23,
      "metadata": {}
    },
    {
      "cell_type": "code",
      "source": [
        "pca2.singular_values_\n",
        "## this is not what I wanted I guess. Use `explained_variance_ratio_`"
      ],
      "outputs": [
        {
          "output_type": "execute_result",
          "execution_count": 24,
          "data": {
            "text/plain": [
              "array([13.58831674, 10.22593097,  8.60825544,  6.97752982])"
            ]
          },
          "metadata": {}
        }
      ],
      "execution_count": 24,
      "metadata": {}
    },
    {
      "cell_type": "code",
      "source": [
        "pca2.explained_variance_ratio_"
      ],
      "outputs": [
        {
          "output_type": "execute_result",
          "execution_count": 25,
          "data": {
            "text/plain": [
              "array([0.44816105, 0.25380986, 0.17985937, 0.11816971])"
            ]
          },
          "metadata": {}
        }
      ],
      "execution_count": 25,
      "metadata": {}
    },
    {
      "cell_type": "code",
      "source": [
        "# need for data table in paper\n",
        "principalComponents2[:,0]"
      ],
      "outputs": [
        {
          "output_type": "execute_result",
          "execution_count": 26,
          "data": {
            "text/plain": [
              "array([ 0.06609517, -1.78000767, -0.82339419,  2.19613575, -0.07388171,\n",
              "        0.80087664,  1.75273803, -0.07078728,  1.90295273,  0.69223979,\n",
              "        1.72879251,  0.29604748,  1.79696848,  2.62520975, -0.33564599,\n",
              "        0.56410104, -1.5139483 , -0.04870281, -0.45281385, -0.29029113,\n",
              "        1.64126687, -1.48176079,  0.89797926,  0.81505354, -1.80307098,\n",
              "       -2.50880957, -2.68405937,  2.97860319, -1.22977701,  0.39586199,\n",
              "       -0.3142278 ,  1.66103969,  0.70583816, -1.11942193,  0.39527178,\n",
              "       -0.66421329, -0.41487351, -0.10111822,  1.19345237, -1.12485079,\n",
              "        0.17551206,  1.96339036,  1.28004265, -0.91146329, -0.20828542,\n",
              "       -0.24205058, -1.01559154,  0.47532177,  0.57599462, -1.48122104,\n",
              "       -0.41343514, -0.65785574,  0.2485658 ,  0.42275825, -0.25739758,\n",
              "        1.05966148, -0.72593293,  0.77097155,  2.21975567,  0.72863376,\n",
              "       -1.25894057, -1.59253222,  0.89477621,  0.46151018,  0.67799984,\n",
              "        1.69805022, -2.7196502 , -1.00867187, -2.01671206,  1.24585673,\n",
              "        2.4801931 , -0.83864546,  0.0095651 ,  0.70640419,  0.23283393,\n",
              "        1.39821791, -0.88734663, -0.89631749,  2.64355523,  0.62157095,\n",
              "       -1.58917431,  1.36753829, -0.33611915,  1.50542257,  0.6189314 ,\n",
              "       -2.18202327,  0.69736521,  2.11910703, -2.35077676,  0.21104933,\n",
              "       -1.55674827, -0.69438983,  1.71366429, -2.0848849 , -1.49463003,\n",
              "       -1.07044425, -1.75876866,  0.52481684, -2.46902077,  0.36062908,\n",
              "       -0.97608064, -0.94152368, -1.74389928])"
            ]
          },
          "metadata": {}
        }
      ],
      "execution_count": 26,
      "metadata": {}
    },
    {
      "cell_type": "markdown",
      "source": [
        "### PCA without HR -- Global"
      ],
      "metadata": {}
    },
    {
      "cell_type": "code",
      "source": [
        "# Lets remove uncertainties & redshift?\n",
        "features = ['x1', 'color', 'stellar mass', 'age']\n",
        "y = data_global.loc[:, features].values\n",
        "scaler = StandardScaler()\n",
        "scaler.fit(y)   # get the needed transformation off of y\n",
        "y = scaler.transform(y)     # transform y\n",
        "y.shape"
      ],
      "outputs": [
        {
          "output_type": "execute_result",
          "execution_count": 27,
          "data": {
            "text/plain": [
              "(103, 4)"
            ]
          },
          "metadata": {}
        }
      ],
      "execution_count": 27,
      "metadata": {}
    },
    {
      "cell_type": "code",
      "source": [
        "print(y.mean(axis=0))\n",
        "print(y.std(axis=0))"
      ],
      "outputs": [
        {
          "output_type": "stream",
          "name": "stdout",
          "text": [
            "[ 1.07788643e-17 -2.26356151e-17 -8.66620691e-16 -3.19054384e-16]\n",
            "[1. 1. 1. 1.]\n"
          ]
        }
      ],
      "execution_count": 28,
      "metadata": {
        "collapsed": false,
        "outputHidden": false,
        "inputHidden": false
      }
    },
    {
      "cell_type": "code",
      "source": [
        "scaler.mean_, scaler.scale_"
      ],
      "outputs": [
        {
          "output_type": "execute_result",
          "execution_count": 29,
          "data": {
            "text/plain": [
              "(array([-1.77167739e-01,  1.00061104e-02,  1.01528061e+01,  5.48930218e+00]),\n",
              " array([1.01545891, 0.08292334, 0.69020311, 2.24593943]))"
            ]
          },
          "metadata": {}
        }
      ],
      "execution_count": 29,
      "metadata": {}
    },
    {
      "cell_type": "code",
      "source": [
        "pca_global = PCA(n_components=4)\n",
        "principalComponents_global = pca_global.fit_transform(y)\n",
        "principalComponents_global.shape"
      ],
      "outputs": [
        {
          "output_type": "execute_result",
          "execution_count": 30,
          "data": {
            "text/plain": [
              "(103, 4)"
            ]
          },
          "metadata": {}
        }
      ],
      "execution_count": 30,
      "metadata": {}
    },
    {
      "cell_type": "code",
      "source": [
        "print(pca_global.components_)\n",
        "print(pca_global.singular_values_) # not what I want\n",
        "print(pca_global.singular_values_/pca_global.singular_values_.sum())  #not what I wanted.\n",
        "print(pca_global.explained_variance_ratio_)"
      ],
      "outputs": [
        {
          "output_type": "stream",
          "name": "stdout",
          "text": [
            "[[ 0.46517134 -0.13375574 -0.59600349 -0.64070654]\n",
            " [-0.20597828  0.93716849 -0.26303086 -0.10051333]\n",
            " [-0.84638099 -0.31457383 -0.3852304  -0.19047325]\n",
            " [-0.15756838  0.06977048  0.65359937 -0.73696143]]\n",
            "[13.97626833 10.21676926  8.79701465  5.90712136]\n",
            "[0.35931321 0.26266097 0.22616077 0.15186505]\n",
            "[0.47411669 0.25335528 0.18783366 0.08469438]\n"
          ]
        }
      ],
      "execution_count": 31,
      "metadata": {}
    },
    {
      "cell_type": "markdown",
      "source": [
        "### Plots"
      ],
      "metadata": {}
    },
    {
      "cell_type": "code",
      "source": [
        "spearmanr(principalComponents2[:,0], data['hr'])"
      ],
      "outputs": [
        {
          "output_type": "execute_result",
          "execution_count": 32,
          "data": {
            "text/plain": [
              "SpearmanrResult(correlation=0.43731054781882883, pvalue=3.859004059127185e-06)"
            ]
          },
          "metadata": {}
        }
      ],
      "execution_count": 32,
      "metadata": {}
    },
    {
      "cell_type": "code",
      "source": [
        "(m, b), cov = np.polyfit(principalComponents2[:,0], data['hr'], 1, full=False, cov=True)\n",
        "print(m, b)\n",
        "print(cov)\n",
        "print(np.sqrt(cov[0,0]), np.sqrt(cov[1,1]))"
      ],
      "outputs": [
        {
          "output_type": "stream",
          "name": "stdout",
          "text": [
            "0.050722123178889446 -0.012717764354789819\n",
            "[[1.31824775e-04 7.26876855e-21]\n",
            " [7.26876855e-21 2.36314918e-04]]\n",
            "0.011481497080574183 0.015372537771647168\n"
          ]
        }
      ],
      "execution_count": 33,
      "metadata": {}
    },
    {
      "cell_type": "code",
      "source": [
        "(m, b), cov = np.polyfit(principalComponents_global[:,0], data['hr'], 1, full=False, cov=True)\n",
        "print(m, b)\n",
        "print(cov)\n",
        "print(np.sqrt(cov[0,0]), np.sqrt(cov[1,1]))"
      ],
      "outputs": [
        {
          "output_type": "stream",
          "name": "stdout",
          "text": [
            "0.04537366059156331 -0.012717764354789827\n",
            "[[1.28376879e-04 4.06203199e-22]\n",
            " [4.06203199e-22 2.43462485e-04]]\n",
            "0.01133035212713206 0.015603284418600502\n"
          ]
        }
      ],
      "execution_count": 34,
      "metadata": {}
    },
    {
      "cell_type": "code",
      "source": [
        "rms = lambda x: np.sqrt(x.dot(x)/x.size)"
      ],
      "outputs": [],
      "execution_count": 35,
      "metadata": {
        "collapsed": true
      }
    },
    {
      "cell_type": "code",
      "source": [
        "# RMS around HR = 0 \n",
        "print(rms(data['hr']))\n",
        "print(data['hr'].std())"
      ],
      "outputs": [
        {
          "output_type": "stream",
          "name": "stdout",
          "text": [
            "0.16783597538243075\n",
            "0.16817179677592412\n"
          ]
        }
      ],
      "execution_count": 36,
      "metadata": {}
    },
    {
      "cell_type": "code",
      "source": [
        "# RMS around trendline\n",
        "print(\"local RMS: \", rms(data['hr'] - (-0.04617155*principalComponents2[:,0] - 0.0233478)))\n",
        "print(\"global RMS: \", rms(data['hr'] - (-0.0359748*principalComponents_global[:,0] - 0.0233478)))\n",
        "print(\"local STD: \", (data['hr'] - (-0.04617155*principalComponents2[:,0] - 0.0233478)).std())\n",
        "print(\"global STD: \", (data['hr'] - (-0.0359748*principalComponents_global[:,0] - 0.0233478)).std())"
      ],
      "outputs": [
        {
          "output_type": "stream",
          "name": "stdout",
          "text": [
            "local RMS:  0.2008437361765274\n",
            "global RMS:  0.19174407176771374\n",
            "local STD:  0.20154298175510638\n",
            "global STD:  0.1923853749441547\n"
          ]
        }
      ],
      "execution_count": 37,
      "metadata": {}
    },
    {
      "cell_type": "code",
      "source": [
        "sns.set(context='talk', style='ticks', font='serif', color_codes=True)\n",
        "\n",
        "for i in [0,1,2,3]:\n",
        "    fig = plt.figure()\n",
        "    \n",
        "    #fix axes major spacing & size\n",
        "    ax = plt.gca()\n",
        "    ax.get_yaxis().set_major_locator(MultipleLocator(0.2))\n",
        "    ax.set_ylim(-0.67, 0.67)\n",
        "    ax.get_xaxis().set_major_locator(MultipleLocator(1))\n",
        "    ax.set_xlim(-3.5, 3.5)\n",
        "\n",
        "    #set axes ticks and gridlines\n",
        "    ax.tick_params(axis='both', top='on', right='on', direction='in')\n",
        "    ax.grid(which='major', axis='both', color='0.90', linestyle='-')\n",
        "    ax.set_axisbelow(True)\n",
        "    \n",
        "    #show origin\n",
        "#     ax.axhline(y=0, color='0.8', linewidth=2)\n",
        "#     ax.axvline(x=0, color='0.8', linewidth=1)\n",
        "\n",
        "   ## add best fit on PC_1 -- under data points\n",
        "    if i==0:\n",
        "#         x = np.linspace(min(principalComponents2[:,i]), max(principalComponents2[:,i]), 100)\n",
        "#         print(m*x+b)\n",
        "#         plt.plot(x, m*x+b)\n",
        "        sns.regplot(principalComponents2[:,i], data['hr'], marker='', color='grey', ax=ax)\n",
        "    \n",
        "    #plot data on top -- not needed down here if we don't try to show the origin\n",
        "    plt.scatter(principalComponents2[:,i], data['hr'], marker='.', c=data['x1'],\n",
        "                cmap=\"RdBu\", vmin=-3.0, vmax=3.0, edgecolor='k', zorder=10)\n",
        "    \n",
        "    \n",
        "    # add axes labels, after sns.regplot\n",
        "    plt.xlabel(f'principal component {i+1}', fontsize=17)\n",
        "    plt.ylabel('Hubble residual [mag]', fontsize=17)\n",
        "    \n",
        "    #Add colorbar\n",
        "    ##[\"{:>4.1f}\".format(y) for y in yticks] as possible color bar formating.\n",
        "    cax = fig.add_axes([0.95, 0.237, 0.02, 0.649])   # fig.set_tight_layout({'pad': 1.5}), 0.95, 0.217, 0.02, 0.691\n",
        "#     cax = fig.add_axes([0.965, 0.2, 0.02, 0.691])   # plt.tight_layout()\n",
        "    cax.tick_params(axis='y', direction='in')\n",
        "    cax.set_axisbelow(False)   # bring tick marks above coloring\n",
        "    plt.colorbar(label=r\"$x_1$\", cax=cax)\n",
        "    \n",
        "    \n",
        "    #add Spearman's correlation\n",
        "    ##add a back color so the grid lines do not get in the way?\n",
        "    sp_r, sp_p = spearmanr(principalComponents2[:,i], data['hr'])\n",
        "    if i==0:\n",
        "        ax.text(-2.9, 0.42, f\"Spearman's correlation: {sp_r:.2f}\\np: {sp_p:.2e}\", \n",
        "                {'fontsize':12})\n",
        "    elif i==1:\n",
        "        ax.text(-2.9, 0.42, f\"Spearman's correlation: {sp_r:.2f}\\np: {sp_p:.2f}\", \n",
        "                {'fontsize':12})\n",
        "    else:\n",
        "#         ax.text(-3, 0.48, f\"Spearman's correlation: {sp_r:.2f}\\np-value: {sp_p:.2f}\", \n",
        "#                 {'fontsize':12})\n",
        "        ax.text(-2.9, 0.42, f\"Spearman's correlation: {sp_r:.2f}\\np: {sp_p:.2f}\", \n",
        "                {'fontsize':12})\n",
        "    \n",
        "    fig.set_tight_layout({'pad': 1.5})\n",
        "    plt.savefig(f'HRvPC{i+1}_alpha0.16.pdf', bbox_inches='tight')   # bbox to make space for the colorbar\n",
        "    plt.show()"
      ],
      "outputs": [
        {
          "output_type": "stream",
          "name": "stderr",
          "text": [
            "/usr/local/lib/python3.7/site-packages/matplotlib/cbook/deprecation.py:107: MatplotlibDeprecationWarning: Passing one of 'on', 'true', 'off', 'false' as a boolean is deprecated; use an actual boolean (True/False) instead.\n",
            "  warnings.warn(message, mplDeprecation, stacklevel=1)\n",
            "/usr/local/lib/python3.7/site-packages/scipy/stats/stats.py:1713: FutureWarning: Using a non-tuple sequence for multidimensional indexing is deprecated; use `arr[tuple(seq)]` instead of `arr[seq]`. In the future this will be interpreted as an array index, `arr[np.array(seq)]`, which will result either in an error or a different result.\n",
            "  return np.add.reduce(sorted[indexer] * weights, axis=axis) / sumval\n",
            "/usr/local/lib/python3.7/site-packages/matplotlib/figure.py:2299: UserWarning: This figure includes Axes that are not compatible with tight_layout, so results might be incorrect.\n",
            "  warnings.warn(\"This figure includes Axes that are not compatible \"\n"
          ]
        },
        {
          "output_type": "display_data",
          "data": {
            "text/plain": [
              "<Figure size 432x288 with 2 Axes>"
            ],
            "image/png": "[encoded data removed]"
          },
          "metadata": {}
        },
        {
          "output_type": "display_data",
          "data": {
            "text/plain": [
              "<Figure size 432x288 with 2 Axes>"
            ],
            "image/png": "[encoded data removed]"
          },
          "metadata": {}
        },
        {
          "output_type": "display_data",
          "data": {
            "text/plain": [
              "<Figure size 432x288 with 2 Axes>"
            ],
            "image/png": "[encoded data removed]"
          },
          "metadata": {}
        },
        {
          "output_type": "display_data",
          "data": {
            "text/plain": [
              "<Figure size 432x288 with 2 Axes>"
            ],
            "image/png": "[encoded data removed]"
          },
          "metadata": {}
        }
      ],
      "execution_count": 38,
      "metadata": {}
    },
    {
      "cell_type": "markdown",
      "source": [
        "### Plots - Global"
      ],
      "metadata": {}
    },
    {
      "cell_type": "code",
      "source": [
        "(m, b), cov = np.polyfit(principalComponents_global[:,0], data['hr'], 1, full=False, cov=True)\n",
        "print(m, b)\n",
        "print(np.sqrt(cov[0,0]), np.sqrt(cov[1,1]))"
      ],
      "outputs": [
        {
          "output_type": "stream",
          "name": "stdout",
          "text": [
            "0.04537366059156331 -0.012717764354789827\n",
            "0.01133035212713206 0.015603284418600502\n"
          ]
        }
      ],
      "execution_count": 39,
      "metadata": {}
    },
    {
      "cell_type": "code",
      "source": [
        "sns.set(context='talk', style='ticks', font='serif', color_codes=True)\n",
        "\n",
        "for i in [0,1,2,3]:\n",
        "    fig = plt.figure()\n",
        "    \n",
        "    #fix axes major spacing & size\n",
        "    ax = plt.gca()\n",
        "    ax.get_yaxis().set_major_locator(MultipleLocator(0.2))\n",
        "    ax.set_ylim(-0.67, 0.67)\n",
        "    ax.get_xaxis().set_major_locator(MultipleLocator(1))\n",
        "    ax.set_xlim(-4, 4)\n",
        "\n",
        "    #set axes ticks and gridlines\n",
        "    ax.tick_params(axis='both', top='on', right='on', direction='in')\n",
        "    ax.grid(which='major', axis='both', color='0.90', linestyle='-')\n",
        "    ax.set_axisbelow(True)\n",
        "    \n",
        "    #show origin\n",
        "#     ax.axhline(y=0, color='0.8', linewidth=2)\n",
        "#     ax.axvline(x=0, color='0.8', linewidth=1)\n",
        "\n",
        "   ## add best fit on PC_1 -- under data points\n",
        "    if i==0:\n",
        "#         x = np.linspace(min(principalComponents_global[:,i]), max(principalComponents_global[:,i]), 100)\n",
        "#         print(m*x+b)\n",
        "#         plt.plot(x, m*x+b)\n",
        "        sns.regplot(principalComponents_global[:,i], data['hr'], marker='', color='grey', ax=ax)\n",
        "    \n",
        "    #plot data on top -- not needed down here if we don't try to show the origin\n",
        "    plt.scatter(principalComponents_global[:,i], data['hr'], marker='.', c=data['x1'],\n",
        "               cmap=\"RdBu\", vmin=-3.0, vmax=3.0, edgecolor='k', zorder=10)\n",
        "    \n",
        "    \n",
        "    # add axes labels, after sns.regplot\n",
        "    plt.xlabel(f'principal component {i+1}', fontsize=17)\n",
        "    plt.ylabel('Hubble residual [mag]', fontsize=17)\n",
        "    \n",
        "    #Add colorbar\n",
        "    ##[\"{:>4.1f}\".format(y) for y in yticks] as possible color bar formating.\n",
        "    cax = fig.add_axes([0.95, 0.237, 0.02, 0.649])   # fig.set_tight_layout({'pad': 1.5})\n",
        "#     cax = fig.add_axes([0.965, 0.2, 0.02, 0.691])   # plt.tight_layout()\n",
        "    cax.tick_params(axis='y', direction='in')\n",
        "    cax.set_axisbelow(False)   # bring tick marks above coloring\n",
        "    plt.colorbar(label=r\"$x_1$\", cax=cax)\n",
        "    \n",
        "    \n",
        "    #add Spearman's correlation\n",
        "    ##add a back color so the grid lines do not get in the way?\n",
        "    sp_r, sp_p = spearmanr(principalComponents_global[:,i], data['hr'])\n",
        "    if i==0:\n",
        "        ax.text(-3.5, 0.42, f\"Spearman's correlation: {sp_r:.2f}\\np: {sp_p:.2e}\", \n",
        "                {'fontsize':12})\n",
        "    elif i==1:\n",
        "        ax.text(-3, 0.42, f\"Spearman's correlation: {sp_r:.2f}\\np: {sp_p:.2f}\", \n",
        "                {'fontsize':12})\n",
        "    else:\n",
        "        ax.text(-3, 0.42, f\"Spearman's correlation: {sp_r:.2f}\\np: {sp_p:.2f}\", \n",
        "                {'fontsize':12})\n",
        "    \n",
        "    fig.set_tight_layout({'pad': 1.5})\n",
        "    plt.savefig(f'HRvPC{i+1}_global_alpha0.16.pdf', bbox_inches='tight')   # bbox to make space for the colorbar\n",
        "    plt.show()"
      ],
      "outputs": [
        {
          "output_type": "stream",
          "name": "stderr",
          "text": [
            "/usr/local/lib/python3.7/site-packages/matplotlib/cbook/deprecation.py:107: MatplotlibDeprecationWarning: Passing one of 'on', 'true', 'off', 'false' as a boolean is deprecated; use an actual boolean (True/False) instead.\n",
            "  warnings.warn(message, mplDeprecation, stacklevel=1)\n",
            "/usr/local/lib/python3.7/site-packages/scipy/stats/stats.py:1713: FutureWarning: Using a non-tuple sequence for multidimensional indexing is deprecated; use `arr[tuple(seq)]` instead of `arr[seq]`. In the future this will be interpreted as an array index, `arr[np.array(seq)]`, which will result either in an error or a different result.\n",
            "  return np.add.reduce(sorted[indexer] * weights, axis=axis) / sumval\n",
            "/usr/local/lib/python3.7/site-packages/matplotlib/figure.py:2299: UserWarning: This figure includes Axes that are not compatible with tight_layout, so results might be incorrect.\n",
            "  warnings.warn(\"This figure includes Axes that are not compatible \"\n"
          ]
        },
        {
          "output_type": "display_data",
          "data": {
            "text/plain": [
              "<Figure size 432x288 with 2 Axes>"
            ],
            "image/png": "[encoded data removed]"
          },
          "metadata": {}
        },
        {
          "output_type": "display_data",
          "data": {
            "text/plain": [
              "<Figure size 432x288 with 2 Axes>"
            ],
            "image/png": "[encoded data removed]"
          },
          "metadata": {}
        },
        {
          "output_type": "display_data",
          "data": {
            "text/plain": [
              "<Figure size 432x288 with 2 Axes>"
            ],
            "image/png": "[encoded data removed]"
          },
          "metadata": {}
        },
        {
          "output_type": "display_data",
          "data": {
            "text/plain": [
              "<Figure size 432x288 with 2 Axes>"
            ],
            "image/png": "[encoded data removed]"
          },
          "metadata": {}
        }
      ],
      "execution_count": 40,
      "metadata": {}
    },
    {
      "cell_type": "markdown",
      "source": [
        "# Correation between $x_1$, Mass, and Age"
      ],
      "metadata": {}
    },
    {
      "cell_type": "code",
      "source": [
        "import corner\n",
        "import matplotlib"
      ],
      "outputs": [
        {
          "output_type": "error",
          "ename": "ModuleNotFoundError",
          "evalue": "No module named 'corner'",
          "traceback": [
            "\u001b[0;31m---------------------------------------------------------------------------\u001b[0m",
            "\u001b[0;31mModuleNotFoundError\u001b[0m                       Traceback (most recent call last)",
            "\u001b[0;32m<ipython-input-37-0068771f2e53>\u001b[0m in \u001b[0;36m<module>\u001b[0;34m()\u001b[0m\n\u001b[0;32m----> 1\u001b[0;31m \u001b[0;32mimport\u001b[0m \u001b[0mcorner\u001b[0m\u001b[0;34m\u001b[0m\u001b[0m\n\u001b[0m\u001b[1;32m      2\u001b[0m \u001b[0;32mimport\u001b[0m \u001b[0mmatplotlib\u001b[0m\u001b[0;34m\u001b[0m\u001b[0m\n",
            "\u001b[0;31mModuleNotFoundError\u001b[0m: No module named 'corner'"
          ]
        }
      ],
      "execution_count": 37,
      "metadata": {
        "collapsed": true
      }
    },
    {
      "cell_type": "code",
      "source": [
        "sns.set(context='talk', style='ticks', font='serif', color_codes=True)"
      ],
      "outputs": [],
      "execution_count": 38,
      "metadata": {
        "collapsed": true
      }
    },
    {
      "cell_type": "code",
      "source": [
        "# features = ['x1', 'color', 'stellar mass', 'age']\n",
        "features = ['x1', 'stellar mass', 'age']\n",
        "data_compare = data.loc[:, features].values\n",
        "\n",
        "plt.figure()\n",
        "\n",
        "fig = corner.corner(data_compare, show_titles=True, use_math_text=True,\n",
        "#                     quantiles=[0.16, .50, 0.84], \n",
        "                    smooth=1, bins=10,\n",
        "                    plot_datapoints=False,\n",
        "#                     labels=[r'$x_1$', r'log(M/M$_{\\odot}$)', 'age [Gyr]']#, range=[0.99]*8\n",
        "                    labels=[r'$x_1$', r'mass', 'age'],\n",
        "                    hist_kwargs={'lw': '2'},\n",
        "                    contour_kwargs={'levels': np.logspace(-0.5,1,6),\n",
        "                                    'norm': matplotlib.colors.LogNorm(),  # Scale the colors to be on a log scale\n",
        "                                    'colors': sns.color_palette(\"Blues_d\")\n",
        "#                                     'colors': sns.dark_palette(\"Blue\")\n",
        "                                   },\n",
        "                    color=sns.color_palette(\"Blues_d\")[0]  # Try to get this to pcolormesh, and one per dataset\n",
        "                    )\n",
        "\n",
        "#fix axes\n",
        "ax_list = fig.axes\n",
        "for i, ax in enumerate(ax_list):\n",
        "    if i in [0, 4, 8]:\n",
        "        # fix 1D-histogram plots\n",
        "        ax.tick_params(axis='x', direction='in')  # set bottom ticks in\n",
        "        ax.get_yaxis().set_ticks([])  # turn off top ticks\n",
        "        sns.despine(left=True, ax=ax)  # despine\n",
        "    else:\n",
        "        # fix 2D-histogram plots (and blacks)\n",
        "        ax.tick_params(axis='both', top='on', right='on', direction='in')\n",
        "\n",
        "# plt.savefig('x1-mass-Lage-compare2.pdf')\n",
        "plt.show()"
      ],
      "outputs": [
        {
          "output_type": "error",
          "ename": "NameError",
          "evalue": "name 'corner' is not defined",
          "traceback": [
            "\u001b[0;31m---------------------------------------------------------------------------\u001b[0m",
            "\u001b[0;31mNameError\u001b[0m                                 Traceback (most recent call last)",
            "\u001b[0;32m<ipython-input-39-42c29630d7e4>\u001b[0m in \u001b[0;36m<module>\u001b[0;34m()\u001b[0m\n\u001b[1;32m      5\u001b[0m \u001b[0mplt\u001b[0m\u001b[0;34m.\u001b[0m\u001b[0mfigure\u001b[0m\u001b[0;34m(\u001b[0m\u001b[0;34m)\u001b[0m\u001b[0;34m\u001b[0m\u001b[0m\n\u001b[1;32m      6\u001b[0m \u001b[0;34m\u001b[0m\u001b[0m\n\u001b[0;32m----> 7\u001b[0;31m fig = corner.corner(data_compare, show_titles=True, use_math_text=True,\n\u001b[0m\u001b[1;32m      8\u001b[0m \u001b[0;31m#                     quantiles=[0.16, .50, 0.84],\u001b[0m\u001b[0;34m\u001b[0m\u001b[0;34m\u001b[0m\u001b[0m\n\u001b[1;32m      9\u001b[0m                     \u001b[0msmooth\u001b[0m\u001b[0;34m=\u001b[0m\u001b[0;36m1\u001b[0m\u001b[0;34m,\u001b[0m \u001b[0mbins\u001b[0m\u001b[0;34m=\u001b[0m\u001b[0;36m10\u001b[0m\u001b[0;34m,\u001b[0m\u001b[0;34m\u001b[0m\u001b[0m\n",
            "\u001b[0;31mNameError\u001b[0m: name 'corner' is not defined"
          ]
        },
        {
          "output_type": "display_data",
          "data": {
            "text/plain": [
              "<Figure size 432x288 with 0 Axes>"
            ]
          },
          "metadata": {}
        }
      ],
      "execution_count": 39,
      "metadata": {}
    },
    {
      "cell_type": "code",
      "source": [
        "# Global\n",
        "\n",
        "#features = ['x1', 'color', 'stellar mass', 'age']\n",
        "features = ['x1', 'stellar mass', 'age']\n",
        "data_compare = data_global.loc[:, features].values\n",
        "\n",
        "plt.figure()\n",
        "fig = corner.corner(data_compare, show_titles=True, use_math_text=True,\n",
        "                    quantiles=[0.16, 0.84], smooth=1, bins=10,\n",
        "                    plot_datapoints=False,\n",
        "#                     labels=[r'$x_1$', r'log(M/M$_{\\odot}$)', 'age [Gyr]']#, range=[0.99]*8\n",
        "                    labels=[r'$x_1$', r'mass', 'age'],\n",
        "                    hist_kwargs={'lw': '2'}\n",
        "                    )\n",
        "\n",
        "# plt.savefig('x1-mass-Gage-compare.pdf')\n",
        "plt.show()"
      ],
      "outputs": [
        {
          "output_type": "error",
          "ename": "NameError",
          "evalue": "name 'corner' is not defined",
          "traceback": [
            "\u001b[0;31m---------------------------------------------------------------------------\u001b[0m",
            "\u001b[0;31mNameError\u001b[0m                                 Traceback (most recent call last)",
            "\u001b[0;32m<ipython-input-40-eea408a0cf46>\u001b[0m in \u001b[0;36m<module>\u001b[0;34m()\u001b[0m\n\u001b[1;32m      6\u001b[0m \u001b[0;34m\u001b[0m\u001b[0m\n\u001b[1;32m      7\u001b[0m \u001b[0mplt\u001b[0m\u001b[0;34m.\u001b[0m\u001b[0mfigure\u001b[0m\u001b[0;34m(\u001b[0m\u001b[0;34m)\u001b[0m\u001b[0;34m\u001b[0m\u001b[0m\n\u001b[0;32m----> 8\u001b[0;31m fig = corner.corner(data_compare, show_titles=True, use_math_text=True,\n\u001b[0m\u001b[1;32m      9\u001b[0m                     \u001b[0mquantiles\u001b[0m\u001b[0;34m=\u001b[0m\u001b[0;34m[\u001b[0m\u001b[0;36m0.16\u001b[0m\u001b[0;34m,\u001b[0m \u001b[0;36m0.84\u001b[0m\u001b[0;34m]\u001b[0m\u001b[0;34m,\u001b[0m \u001b[0msmooth\u001b[0m\u001b[0;34m=\u001b[0m\u001b[0;36m1\u001b[0m\u001b[0;34m,\u001b[0m \u001b[0mbins\u001b[0m\u001b[0;34m=\u001b[0m\u001b[0;36m10\u001b[0m\u001b[0;34m,\u001b[0m\u001b[0;34m\u001b[0m\u001b[0m\n\u001b[1;32m     10\u001b[0m                     \u001b[0mplot_datapoints\u001b[0m\u001b[0;34m=\u001b[0m\u001b[0;32mFalse\u001b[0m\u001b[0;34m,\u001b[0m\u001b[0;34m\u001b[0m\u001b[0m\n",
            "\u001b[0;31mNameError\u001b[0m: name 'corner' is not defined"
          ]
        },
        {
          "output_type": "display_data",
          "data": {
            "text/plain": [
              "<Figure size 432x288 with 0 Axes>"
            ]
          },
          "metadata": {}
        }
      ],
      "execution_count": 40,
      "metadata": {}
    },
    {
      "cell_type": "code",
      "source": [],
      "outputs": [],
      "execution_count": 58,
      "metadata": {
        "collapsed": true
      }
    }
  ],
  "metadata": {
    "kernelspec": {
      "name": "python3",
      "language": "python",
      "display_name": "Python 3"
    },
    "language_info": {
      "name": "python",
      "version": "3.7.0",
      "mimetype": "text/x-python",
      "codemirror_mode": {
        "name": "ipython",
        "version": 3
      },
      "pygments_lexer": "ipython3",
      "nbconvert_exporter": "python",
      "file_extension": ".py"
    },
    "kernel_info": {
      "name": "python3"
    },
    "nteract": {
      "version": "0.11.9"
    }
  },
  "nbformat": 4,
  "nbformat_minor": 2
}