{
 "cells": [
  {
   "cell_type": "markdown",
   "metadata": {
    "deletable": true,
    "editable": true
   },
   "source": [
    "# Is the SED Correct?\n",
    "\n",
    "In the circle test, the SFH is totatlly bonkers. We just can not get the correct SFH back out with MCMC. Is the MCMC getting a good fit?"
   ]
  },
  {
   "cell_type": "code",
   "execution_count": 1,
   "metadata": {
    "collapsed": true,
    "deletable": true,
    "editable": true
   },
   "outputs": [],
   "source": [
    "import numpy as np\n",
    "import matplotlib.pyplot as plt"
   ]
  },
  {
   "cell_type": "code",
   "execution_count": 5,
   "metadata": {
    "collapsed": true,
    "deletable": true,
    "editable": true
   },
   "outputs": [],
   "source": [
    "wavelengths = [3551, 4686, 6166, 7480, 8932]    # for u, g, r, i, z filters\n",
    "filters = ['u', 'g', 'r', 'i', 'z']"
   ]
  },
  {
   "cell_type": "markdown",
   "metadata": {
    "deletable": true,
    "editable": true
   },
   "source": [
    "## Input \n",
    "\n",
    "Text\n",
    "\n",
    "So from:\n",
    "\n",
    "logzsol | dust2| $\\tau$| tStart| sfTrans| sfSlope\n",
    "--------|------|----|-------|--------|---------\n",
    "-0.5| 0.1| 0.5| 1.5| 9.0| -1.0\n",
    "\n",
    "we get\n",
    "\n",
    "u| g| r| i| z\n",
    "-|--|--|--|--\n",
    "45.36|43.76|42.99|42.67|42.39\n",
    "\n",
    "This SED gets 25 magnitues subtracted from (`c` paramter in fit) it get it to a resonable magnitude. FSPS only calcualtes for 1 solar mass, so this factor is a scaling factor that is related to the total solar mass observed.\n",
    "\n",
    "## Fit 1 \n",
    "\n",
    "First we did our normal fit. The oddest part was that `logzsol` wanted the smallest value possible. This was most odd because the prior is a Gaussian centered at -0.5 (this happens to be the input value) with a width of 0.5 dex. I also have a low cut off, just cause, of -2.5. \n",
    "\n",
    "This fit gives us \n",
    "\n",
    "logzsol | dust2| $\\tau$| tStart| sfTrans| sfSlope | c\n",
    "--------|------|----|-------|--------|----|-----\n",
    "-2.5| 0.01| 7.17| 7.94| 10.40| -5.24| -23.48\n",
    "\n",
    "and and SED of \n",
    "\n",
    "u| g| r| i| z\n",
    "-|--|--|--|--\n",
    "43.31|42.06|41.76|41.67|41.62\n",
    "\n",
    "\n",
    "## Fit 2\n",
    "\n",
    "I changed the low cut off, in part becasue nothing else seemed to effect the metalicity paramter fit. With it now set at no lower then -1.0 the fit gives us:\n",
    "\n",
    "logzsol | dust2| $\\tau$| tStart| sfTrans| sfSlope | c\n",
    "--------|------|----|-------|--------|----|-----\n",
    "-1.0| 0.25| 5.67| 1.94| 4.93| 1.64| -22.85\n",
    "\n",
    "and and SED of \n",
    "\n",
    "u| g| r| i| z\n",
    "-|--|--|--|--\n",
    "42.28|41.43|41.23|41.01|40.99\n",
    "\n",
    "## Fit 3\n",
    "\n",
    "Finally I \"fixed\" the metalicity to the known value of -0.5, because these previouse fits just still did not want to get things correct. This fit gives us:\n",
    "\n",
    "logzsol | dust2| $\\tau$| tStart| sfTrans| sfSlope | c\n",
    "--------|------|----|-------|--------|----|-----\n",
    "-0.51| 0.32| 8.17| 8.42| 10.76| 4.72| -22.17\n",
    "\n",
    "and and SED of \n",
    "\n",
    "u| g| r| i| z\n",
    "-|--|--|--|--\n",
    "41.53|40.70|40.55|40.33|40.30\n",
    "\n",
    "\n",
    "**None** of these are correct. "
   ]
  },
  {
   "cell_type": "code",
   "execution_count": 1,
   "metadata": {
    "collapsed": true,
    "deletable": true,
    "editable": true
   },
   "outputs": [],
   "source": [
    "input_sed = np.array([45.36, 43.76, 42.99, 42.67, 42.39])\n",
    "input_c = -25\n",
    "fit1_sed = np.array([43.31, 42.06, 41.76, 41.67, 41.62])\n",
    "fit1_c = -23.48\n",
    "fit2_sed = np.array([42.28, 41.43, 41.23, 41.01, 40.99])\n",
    "fit2_c = -22.85\n",
    "fit3_sed = np.array([41.53, 40.70, 40.55, 40.33, 40.30])\n",
    "fit3_c = -22.1"
   ]
  },
  {
   "cell_type": "code",
   "execution_count": 17,
   "metadata": {
    "collapsed": false,
    "deletable": true,
    "editable": true
   },
   "outputs": [
    {
     "data": {
      "text/plain": [
       "<matplotlib.figure.Figure at 0x1073f46d8>"
      ]
     },
     "execution_count": 17,
     "metadata": {},
     "output_type": "execute_result"
    }
   ],
   "source": [
    "plt.figure('fit test')"
   ]
  },
  {
   "cell_type": "code",
   "execution_count": 25,
   "metadata": {
    "collapsed": false,
    "deletable": true,
    "editable": true
   },
   "outputs": [
    {
     "data": {
      "image/png": "[encoded data removed]",
      "text/plain": [
       "<matplotlib.figure.Figure at 0x10736dfd0>"
      ]
     },
     "metadata": {},
     "output_type": "display_data"
    }
   ],
   "source": [
    "fig, ax = plt.subplots(1,1) \n",
    "\n",
    "ax.plot(wavelengths, input_sed+input_c, label='Input Values')\n",
    "# ax.plot(wavelengths, [20.36, 18.76, 17.99, 17.67, 17.39])  # the in text file numbers.\n",
    "ax.plot(wavelengths, fit1_sed+fit1_c, label='Full Fit')\n",
    "ax.plot(wavelengths, fit2_sed+fit2_c, label='Smaller $\\log(Z_{sol})$ range')\n",
    "ax.plot(wavelengths, fit3_sed+fit3_c, label='Fixed $\\log(Z_{sol})$')\n",
    "\n",
    "plt.gca().invert_yaxis()\n",
    "ax.set_xticks(wavelengths)\n",
    "ax.set_xticklabels(filters)\n",
    "ax.set_xlabel('SDSS Filters')\n",
    "ax.set_ylabel('Magnitude [mag]')\n",
    "\n",
    "plt.legend()\n",
    "# plt.savefig('2017-08-09- not getting correct sed.pdf')\n",
    "plt.show()"
   ]
  },
  {
   "cell_type": "markdown",
   "metadata": {
    "collapsed": true,
    "deletable": true,
    "editable": true
   },
   "source": [
    "# Check Newer Resutls\n",
    "\n",
    "On 2017-08-24 I re-ran the whole analaysis method and it got a closer answer on the circle test (particually with the log(Z_sol)) but it was not perfect. Here I want to compare the SED outputed results."
   ]
  },
  {
   "cell_type": "code",
   "execution_count": 17,
   "metadata": {
    "collapsed": true
   },
   "outputs": [],
   "source": [
    "fit0824_sed = np.array([42.29, 41.43, 41.21, 40.98, 40.93])\n",
    "fit0824_c = -25.70"
   ]
  },
  {
   "cell_type": "code",
   "execution_count": 15,
   "metadata": {
    "collapsed": false
   },
   "outputs": [
    {
     "data": {
      "text/plain": [
       "<matplotlib.figure.Figure at 0x112ce5d68>"
      ]
     },
     "execution_count": 15,
     "metadata": {},
     "output_type": "execute_result"
    }
   ],
   "source": [
    "plt.figure('newer fit test')"
   ]
  },
  {
   "cell_type": "code",
   "execution_count": 19,
   "metadata": {
    "collapsed": false
   },
   "outputs": [
    {
     "data": {
      "image/png": "[encoded data removed]",
      "text/plain": [
       "<matplotlib.figure.Figure at 0x11309a3c8>"
      ]
     },
     "metadata": {},
     "output_type": "display_data"
    }
   ],
   "source": [
    "fig, ax = plt.subplots(1,1) \n",
    "\n",
    "ax.plot(wavelengths, input_sed+input_c, label='Input Values')\n",
    "# ax.plot(wavelengths, [20.36, 18.76, 17.99, 17.67, 17.39])  # the in text file numbers.\n",
    "ax.plot(wavelengths, fit1_sed+fit1_c, label='Old Full Fit')\n",
    "ax.plot(wavelengths, fit0824_sed+fit0824_c, label='08-24 Fit')\n",
    "\n",
    "plt.gca().invert_yaxis()\n",
    "ax.set_xticks(wavelengths)\n",
    "ax.set_xticklabels(filters)\n",
    "ax.set_xlabel('SDSS Filters')\n",
    "ax.set_ylabel('Magnitude [mag]')\n",
    "\n",
    "plt.legend()\n",
    "plt.savefig('2017-09-05 not getting correct sed.pdf')\n",
    "plt.show()"
   ]
  },
  {
   "cell_type": "code",
   "execution_count": null,
   "metadata": {
    "collapsed": true
   },
   "outputs": [],
   "source": []
  }
 ],
 "metadata": {
  "kernelspec": {
   "display_name": "Python 3",
   "language": "python",
   "name": "python3"
  },
  "language_info": {
   "codemirror_mode": {
    "name": "ipython",
    "version": 3
   },
   "file_extension": ".py",
   "mimetype": "text/x-python",
   "name": "python",
   "nbconvert_exporter": "python",
   "pygments_lexer": "ipython3",
   "version": "3.6.1"
  }
 },
 "nbformat": 4,
 "nbformat_minor": 2
}
