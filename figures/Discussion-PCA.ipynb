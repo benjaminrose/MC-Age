{
 "cells": [
  {
   "cell_type": "code",
   "execution_count": 1,
   "metadata": {
    "collapsed": true,
    "deletable": true,
    "editable": true
   },
   "outputs": [],
   "source": [
    "from glob import glob\n",
    "import datetime\n",
    "\n",
    "from astropy.table import Table\n",
    "import pandas as pd\n",
    "\n",
    "from sklearn.preprocessing import StandardScaler\n",
    "from sklearn.decomposition import PCA\n",
    "\n",
    "from scipy.stats import spearmanr\n",
    "import seaborn as sns\n",
    "sns.set_style(\"whitegrid\")"
   ]
  },
  {
   "cell_type": "code",
   "execution_count": 27,
   "metadata": {
    "collapsed": true
   },
   "outputs": [],
   "source": [
    "from matplotlib.ticker import MultipleLocator"
   ]
  },
  {
   "cell_type": "code",
   "execution_count": null,
   "metadata": {
    "collapsed": true
   },
   "outputs": [],
   "source": [
    "from scipy.stats import spearmanr"
   ]
  },
  {
   "cell_type": "markdown",
   "metadata": {
    "deletable": true,
    "editable": true
   },
   "source": [
    "Why do this?"
   ]
  },
  {
   "cell_type": "markdown",
   "metadata": {
    "deletable": true,
    "editable": true
   },
   "source": [
    "## Gather the data\n",
    "\n",
    "### HR\n",
    "\n",
    "+ redshift cut\n",
    "+ HR cut"
   ]
  },
  {
   "cell_type": "code",
   "execution_count": 36,
   "metadata": {
    "collapsed": false,
    "deletable": true,
    "editable": true
   },
   "outputs": [
    {
     "data": {
      "text/html": [
       "<div>\n",
       "<style scoped>\n",
       "    .dataframe tbody tr th:only-of-type {\n",
       "        vertical-align: middle;\n",
       "    }\n",
       "\n",
       "    .dataframe tbody tr th {\n",
       "        vertical-align: top;\n",
       "    }\n",
       "\n",
       "    .dataframe thead th {\n",
       "        text-align: right;\n",
       "    }\n",
       "</style>\n",
       "<table border=\"1\" class=\"dataframe\">\n",
       "  <thead>\n",
       "    <tr style=\"text-align: right;\">\n",
       "      <th></th>\n",
       "      <th>redshift</th>\n",
       "      <th>hr uncert</th>\n",
       "      <th>hr</th>\n",
       "    </tr>\n",
       "  </thead>\n",
       "  <tbody>\n",
       "    <tr>\n",
       "      <th>count</th>\n",
       "      <td>104.000000</td>\n",
       "      <td>104.000000</td>\n",
       "      <td>104.000000</td>\n",
       "    </tr>\n",
       "    <tr>\n",
       "      <th>mean</th>\n",
       "      <td>0.142955</td>\n",
       "      <td>0.078242</td>\n",
       "      <td>-0.022419</td>\n",
       "    </tr>\n",
       "    <tr>\n",
       "      <th>std</th>\n",
       "      <td>0.042061</td>\n",
       "      <td>0.016465</td>\n",
       "      <td>0.185333</td>\n",
       "    </tr>\n",
       "    <tr>\n",
       "      <th>min</th>\n",
       "      <td>0.045248</td>\n",
       "      <td>0.056201</td>\n",
       "      <td>-0.495474</td>\n",
       "    </tr>\n",
       "    <tr>\n",
       "      <th>25%</th>\n",
       "      <td>0.112912</td>\n",
       "      <td>0.065671</td>\n",
       "      <td>-0.151208</td>\n",
       "    </tr>\n",
       "    <tr>\n",
       "      <th>50%</th>\n",
       "      <td>0.152131</td>\n",
       "      <td>0.075159</td>\n",
       "      <td>-0.032278</td>\n",
       "    </tr>\n",
       "    <tr>\n",
       "      <th>75%</th>\n",
       "      <td>0.180615</td>\n",
       "      <td>0.085572</td>\n",
       "      <td>0.090769</td>\n",
       "    </tr>\n",
       "    <tr>\n",
       "      <th>max</th>\n",
       "      <td>0.198704</td>\n",
       "      <td>0.133972</td>\n",
       "      <td>0.497041</td>\n",
       "    </tr>\n",
       "  </tbody>\n",
       "</table>\n",
       "</div>"
      ],
      "text/plain": [
       "         redshift   hr uncert          hr\n",
       "count  104.000000  104.000000  104.000000\n",
       "mean     0.142955    0.078242   -0.022419\n",
       "std      0.042061    0.016465    0.185333\n",
       "min      0.045248    0.056201   -0.495474\n",
       "25%      0.112912    0.065671   -0.151208\n",
       "50%      0.152131    0.075159   -0.032278\n",
       "75%      0.180615    0.085572    0.090769\n",
       "max      0.198704    0.133972    0.497041"
      ]
     },
     "execution_count": 36,
     "metadata": {},
     "output_type": "execute_result"
    }
   ],
   "source": [
    "HR = pd.read_csv('../data/CampbellHoltzman_mb.tsv', sep='\\t', usecols=['SNID', 'redshift', 'hr', 'err_mu'], index_col='SNID')\n",
    "HR.rename(columns={'err_mu': 'hr uncert'}, inplace=True)\n",
    "HR = HR[HR['redshift']<0.2]  \n",
    "HR = HR[HR['hr']<0.7]\n",
    "HR.describe()"
   ]
  },
  {
   "cell_type": "markdown",
   "metadata": {
    "deletable": true,
    "editable": true
   },
   "source": [
    "### SALT2 parameters (x_1 & c)"
   ]
  },
  {
   "cell_type": "code",
   "execution_count": 3,
   "metadata": {
    "collapsed": false,
    "deletable": true,
    "editable": true
   },
   "outputs": [
    {
     "data": {
      "text/html": [
       "<div>\n",
       "<style scoped>\n",
       "    .dataframe tbody tr th:only-of-type {\n",
       "        vertical-align: middle;\n",
       "    }\n",
       "\n",
       "    .dataframe tbody tr th {\n",
       "        vertical-align: top;\n",
       "    }\n",
       "\n",
       "    .dataframe thead th {\n",
       "        text-align: right;\n",
       "    }\n",
       "</style>\n",
       "<table border=\"1\" class=\"dataframe\">\n",
       "  <thead>\n",
       "    <tr style=\"text-align: right;\">\n",
       "      <th></th>\n",
       "      <th>redshift</th>\n",
       "      <th>x1</th>\n",
       "      <th>x1_err</th>\n",
       "      <th>color</th>\n",
       "      <th>color_err</th>\n",
       "    </tr>\n",
       "  </thead>\n",
       "  <tbody>\n",
       "    <tr>\n",
       "      <th>count</th>\n",
       "      <td>752.000000</td>\n",
       "      <td>752.000000</td>\n",
       "      <td>752.000000</td>\n",
       "      <td>752.000000</td>\n",
       "      <td>752.000000</td>\n",
       "    </tr>\n",
       "    <tr>\n",
       "      <th>mean</th>\n",
       "      <td>0.294032</td>\n",
       "      <td>-0.006514</td>\n",
       "      <td>0.765859</td>\n",
       "      <td>-0.013105</td>\n",
       "      <td>0.059070</td>\n",
       "    </tr>\n",
       "    <tr>\n",
       "      <th>std</th>\n",
       "      <td>0.103553</td>\n",
       "      <td>1.082517</td>\n",
       "      <td>0.506811</td>\n",
       "      <td>0.100019</td>\n",
       "      <td>0.023878</td>\n",
       "    </tr>\n",
       "    <tr>\n",
       "      <th>min</th>\n",
       "      <td>0.037069</td>\n",
       "      <td>-2.952440</td>\n",
       "      <td>0.061210</td>\n",
       "      <td>-0.245912</td>\n",
       "      <td>0.024959</td>\n",
       "    </tr>\n",
       "    <tr>\n",
       "      <th>25%</th>\n",
       "      <td>0.220188</td>\n",
       "      <td>-0.776738</td>\n",
       "      <td>0.426394</td>\n",
       "      <td>-0.084207</td>\n",
       "      <td>0.041157</td>\n",
       "    </tr>\n",
       "    <tr>\n",
       "      <th>50%</th>\n",
       "      <td>0.294489</td>\n",
       "      <td>0.022410</td>\n",
       "      <td>0.702974</td>\n",
       "      <td>-0.019256</td>\n",
       "      <td>0.055565</td>\n",
       "    </tr>\n",
       "    <tr>\n",
       "      <th>75%</th>\n",
       "      <td>0.369411</td>\n",
       "      <td>0.793196</td>\n",
       "      <td>1.011968</td>\n",
       "      <td>0.051200</td>\n",
       "      <td>0.073263</td>\n",
       "    </tr>\n",
       "    <tr>\n",
       "      <th>max</th>\n",
       "      <td>0.700345</td>\n",
       "      <td>2.887440</td>\n",
       "      <td>8.048070</td>\n",
       "      <td>0.246569</td>\n",
       "      <td>0.195758</td>\n",
       "    </tr>\n",
       "  </tbody>\n",
       "</table>\n",
       "</div>"
      ],
      "text/plain": [
       "         redshift          x1      x1_err       color   color_err\n",
       "count  752.000000  752.000000  752.000000  752.000000  752.000000\n",
       "mean     0.294032   -0.006514    0.765859   -0.013105    0.059070\n",
       "std      0.103553    1.082517    0.506811    0.100019    0.023878\n",
       "min      0.037069   -2.952440    0.061210   -0.245912    0.024959\n",
       "25%      0.220188   -0.776738    0.426394   -0.084207    0.041157\n",
       "50%      0.294489    0.022410    0.702974   -0.019256    0.055565\n",
       "75%      0.369411    0.793196    1.011968    0.051200    0.073263\n",
       "max      0.700345    2.887440    8.048070    0.246569    0.195758"
      ]
     },
     "execution_count": 3,
     "metadata": {},
     "output_type": "execute_result"
    }
   ],
   "source": [
    "t = Table.read('../data/SDSS_Photometric_SNe_Ia.fits')\n",
    "salt = t['CID','Z','X1','X1_ERR','COLOR','COLOR_ERR'].to_pandas()\n",
    "salt.columns = salt.columns.str.lower()\n",
    "salt.rename(columns={'cid': 'SNID', 'z': 'redshift'}, inplace=True)\n",
    "salt.set_index('SNID', inplace=True)\n",
    "salt.describe()"
   ]
  },
  {
   "cell_type": "markdown",
   "metadata": {
    "deletable": true,
    "editable": true
   },
   "source": [
    "### Stellar Mass"
   ]
  },
  {
   "cell_type": "code",
   "execution_count": 4,
   "metadata": {
    "collapsed": false,
    "deletable": true,
    "editable": true
   },
   "outputs": [
    {
     "data": {
      "text/html": [
       "<div>\n",
       "<style scoped>\n",
       "    .dataframe tbody tr th:only-of-type {\n",
       "        vertical-align: middle;\n",
       "    }\n",
       "\n",
       "    .dataframe tbody tr th {\n",
       "        vertical-align: top;\n",
       "    }\n",
       "\n",
       "    .dataframe thead th {\n",
       "        text-align: right;\n",
       "    }\n",
       "</style>\n",
       "<table border=\"1\" class=\"dataframe\">\n",
       "  <thead>\n",
       "    <tr style=\"text-align: right;\">\n",
       "      <th></th>\n",
       "      <th>gal redshift</th>\n",
       "      <th>stellar mass</th>\n",
       "    </tr>\n",
       "  </thead>\n",
       "  <tbody>\n",
       "    <tr>\n",
       "      <th>count</th>\n",
       "      <td>305.000000</td>\n",
       "      <td>3.050000e+02</td>\n",
       "    </tr>\n",
       "    <tr>\n",
       "      <th>mean</th>\n",
       "      <td>0.223845</td>\n",
       "      <td>4.177042e+10</td>\n",
       "    </tr>\n",
       "    <tr>\n",
       "      <th>std</th>\n",
       "      <td>0.071923</td>\n",
       "      <td>5.006189e+10</td>\n",
       "    </tr>\n",
       "    <tr>\n",
       "      <th>min</th>\n",
       "      <td>0.045363</td>\n",
       "      <td>3.521470e+07</td>\n",
       "    </tr>\n",
       "    <tr>\n",
       "      <th>25%</th>\n",
       "      <td>0.175242</td>\n",
       "      <td>8.513790e+09</td>\n",
       "    </tr>\n",
       "    <tr>\n",
       "      <th>50%</th>\n",
       "      <td>0.236310</td>\n",
       "      <td>2.342800e+10</td>\n",
       "    </tr>\n",
       "    <tr>\n",
       "      <th>75%</th>\n",
       "      <td>0.284038</td>\n",
       "      <td>5.800110e+10</td>\n",
       "    </tr>\n",
       "    <tr>\n",
       "      <th>max</th>\n",
       "      <td>0.336325</td>\n",
       "      <td>3.486340e+11</td>\n",
       "    </tr>\n",
       "  </tbody>\n",
       "</table>\n",
       "</div>"
      ],
      "text/plain": [
       "       gal redshift  stellar mass\n",
       "count    305.000000  3.050000e+02\n",
       "mean       0.223845  4.177042e+10\n",
       "std        0.071923  5.006189e+10\n",
       "min        0.045363  3.521470e+07\n",
       "25%        0.175242  8.513790e+09\n",
       "50%        0.236310  2.342800e+10\n",
       "75%        0.284038  5.800110e+10\n",
       "max        0.336325  3.486340e+11"
      ]
     },
     "execution_count": 4,
     "metadata": {},
     "output_type": "execute_result"
    }
   ],
   "source": [
    "galaxy = pd.read_csv('../resources/kcorrect_stellarmass.csv',  usecols=['GAL', 'redshift', 'stellarmass'], index_col='GAL')\n",
    "galaxy.rename(columns={'redshift': 'gal redshift', 'stellarmass': 'stellar mass'}, inplace=True)\n",
    "galaxy.describe()"
   ]
  },
  {
   "cell_type": "markdown",
   "metadata": {
    "deletable": true,
    "editable": true
   },
   "source": [
    "### Age"
   ]
  },
  {
   "cell_type": "code",
   "execution_count": 5,
   "metadata": {
    "collapsed": false,
    "deletable": true,
    "editable": true
   },
   "outputs": [
    {
     "data": {
      "text/html": [
       "<div>\n",
       "<style scoped>\n",
       "    .dataframe tbody tr th:only-of-type {\n",
       "        vertical-align: middle;\n",
       "    }\n",
       "\n",
       "    .dataframe tbody tr th {\n",
       "        vertical-align: top;\n",
       "    }\n",
       "\n",
       "    .dataframe thead th {\n",
       "        text-align: right;\n",
       "    }\n",
       "</style>\n",
       "<table border=\"1\" class=\"dataframe\">\n",
       "  <thead>\n",
       "    <tr style=\"text-align: right;\">\n",
       "      <th></th>\n",
       "      <th>age</th>\n",
       "    </tr>\n",
       "  </thead>\n",
       "  <tbody>\n",
       "    <tr>\n",
       "      <th>count</th>\n",
       "      <td>300.000000</td>\n",
       "    </tr>\n",
       "    <tr>\n",
       "      <th>mean</th>\n",
       "      <td>4.918252</td>\n",
       "    </tr>\n",
       "    <tr>\n",
       "      <th>std</th>\n",
       "      <td>1.953591</td>\n",
       "    </tr>\n",
       "    <tr>\n",
       "      <th>min</th>\n",
       "      <td>1.442631</td>\n",
       "    </tr>\n",
       "    <tr>\n",
       "      <th>25%</th>\n",
       "      <td>3.385100</td>\n",
       "    </tr>\n",
       "    <tr>\n",
       "      <th>50%</th>\n",
       "      <td>4.609988</td>\n",
       "    </tr>\n",
       "    <tr>\n",
       "      <th>75%</th>\n",
       "      <td>6.495736</td>\n",
       "    </tr>\n",
       "    <tr>\n",
       "      <th>max</th>\n",
       "      <td>9.597481</td>\n",
       "    </tr>\n",
       "  </tbody>\n",
       "</table>\n",
       "</div>"
      ],
      "text/plain": [
       "              age\n",
       "count  300.000000\n",
       "mean     4.918252\n",
       "std      1.953591\n",
       "min      1.442631\n",
       "25%      3.385100\n",
       "50%      4.609988\n",
       "75%      6.495736\n",
       "max      9.597481"
      ]
     },
     "execution_count": 5,
     "metadata": {},
     "output_type": "execute_result"
    }
   ],
   "source": [
    "age = pd.read_csv('../resources/ages_campbell.tsv', sep='\\t',  skiprows=[1],\n",
    "                   usecols=['# sn id', 'age'], dtype={'age': np.float64, '# sn id': np.int})\n",
    "age.rename(columns={'# sn id': 'SNID'}, inplace=True)\n",
    "age.set_index('SNID', inplace=True)\n",
    "age.describe()"
   ]
  },
  {
   "cell_type": "code",
   "execution_count": 6,
   "metadata": {
    "collapsed": false,
    "deletable": true,
    "editable": true
   },
   "outputs": [
    {
     "data": {
      "text/html": [
       "<div>\n",
       "<style scoped>\n",
       "    .dataframe tbody tr th:only-of-type {\n",
       "        vertical-align: middle;\n",
       "    }\n",
       "\n",
       "    .dataframe tbody tr th {\n",
       "        vertical-align: top;\n",
       "    }\n",
       "\n",
       "    .dataframe thead th {\n",
       "        text-align: right;\n",
       "    }\n",
       "</style>\n",
       "<table border=\"1\" class=\"dataframe\">\n",
       "  <thead>\n",
       "    <tr style=\"text-align: right;\">\n",
       "      <th></th>\n",
       "      <th>age</th>\n",
       "    </tr>\n",
       "  </thead>\n",
       "  <tbody>\n",
       "    <tr>\n",
       "      <th>count</th>\n",
       "      <td>299.000000</td>\n",
       "    </tr>\n",
       "    <tr>\n",
       "      <th>mean</th>\n",
       "      <td>5.060899</td>\n",
       "    </tr>\n",
       "    <tr>\n",
       "      <th>std</th>\n",
       "      <td>2.017723</td>\n",
       "    </tr>\n",
       "    <tr>\n",
       "      <th>min</th>\n",
       "      <td>0.948003</td>\n",
       "    </tr>\n",
       "    <tr>\n",
       "      <th>25%</th>\n",
       "      <td>3.403084</td>\n",
       "    </tr>\n",
       "    <tr>\n",
       "      <th>50%</th>\n",
       "      <td>4.836372</td>\n",
       "    </tr>\n",
       "    <tr>\n",
       "      <th>75%</th>\n",
       "      <td>6.555893</td>\n",
       "    </tr>\n",
       "    <tr>\n",
       "      <th>max</th>\n",
       "      <td>10.454058</td>\n",
       "    </tr>\n",
       "  </tbody>\n",
       "</table>\n",
       "</div>"
      ],
      "text/plain": [
       "              age\n",
       "count  299.000000\n",
       "mean     5.060899\n",
       "std      2.017723\n",
       "min      0.948003\n",
       "25%      3.403084\n",
       "50%      4.836372\n",
       "75%      6.555893\n",
       "max     10.454058"
      ]
     },
     "execution_count": 6,
     "metadata": {},
     "output_type": "execute_result"
    }
   ],
   "source": [
    "age_global = pd.read_csv('../resources/ages_campbellG.tsv', sep='\\t',  skiprows=[1],\n",
    "                         usecols=['# sn id', 'age'], dtype={'age': np.float64, '# sn id': np.int})\n",
    "age_global.rename(columns={'# sn id': 'SNID'}, inplace=True)\n",
    "age_global.set_index('SNID', inplace=True)\n",
    "age_global.describe()"
   ]
  },
  {
   "cell_type": "markdown",
   "metadata": {
    "deletable": true,
    "editable": true
   },
   "source": [
    "### Combine"
   ]
  },
  {
   "cell_type": "code",
   "execution_count": 37,
   "metadata": {
    "collapsed": false,
    "deletable": true,
    "editable": true,
    "scrolled": true
   },
   "outputs": [
    {
     "data": {
      "text/html": [
       "<div>\n",
       "<style scoped>\n",
       "    .dataframe tbody tr th:only-of-type {\n",
       "        vertical-align: middle;\n",
       "    }\n",
       "\n",
       "    .dataframe tbody tr th {\n",
       "        vertical-align: top;\n",
       "    }\n",
       "\n",
       "    .dataframe thead th {\n",
       "        text-align: right;\n",
       "    }\n",
       "</style>\n",
       "<table border=\"1\" class=\"dataframe\">\n",
       "  <thead>\n",
       "    <tr style=\"text-align: right;\">\n",
       "      <th></th>\n",
       "      <th>redshift</th>\n",
       "      <th>hr uncert</th>\n",
       "      <th>hr</th>\n",
       "      <th>redshift</th>\n",
       "      <th>x1</th>\n",
       "      <th>x1_err</th>\n",
       "      <th>color</th>\n",
       "      <th>color_err</th>\n",
       "      <th>gal redshift</th>\n",
       "      <th>stellar mass</th>\n",
       "      <th>age</th>\n",
       "    </tr>\n",
       "  </thead>\n",
       "  <tbody>\n",
       "    <tr>\n",
       "      <th>count</th>\n",
       "      <td>103.000000</td>\n",
       "      <td>103.000000</td>\n",
       "      <td>103.000000</td>\n",
       "      <td>103.000000</td>\n",
       "      <td>103.000000</td>\n",
       "      <td>103.000000</td>\n",
       "      <td>103.000000</td>\n",
       "      <td>103.000000</td>\n",
       "      <td>103.000000</td>\n",
       "      <td>1.030000e+02</td>\n",
       "      <td>103.000000</td>\n",
       "    </tr>\n",
       "    <tr>\n",
       "      <th>mean</th>\n",
       "      <td>0.142485</td>\n",
       "      <td>0.078204</td>\n",
       "      <td>-0.024130</td>\n",
       "      <td>0.142485</td>\n",
       "      <td>-0.191528</td>\n",
       "      <td>0.266952</td>\n",
       "      <td>0.009970</td>\n",
       "      <td>0.032925</td>\n",
       "      <td>0.142484</td>\n",
       "      <td>2.971500e+10</td>\n",
       "      <td>5.610550</td>\n",
       "    </tr>\n",
       "    <tr>\n",
       "      <th>std</th>\n",
       "      <td>0.041992</td>\n",
       "      <td>0.016541</td>\n",
       "      <td>0.185412</td>\n",
       "      <td>0.041992</td>\n",
       "      <td>1.011919</td>\n",
       "      <td>0.127955</td>\n",
       "      <td>0.083339</td>\n",
       "      <td>0.006246</td>\n",
       "      <td>0.042016</td>\n",
       "      <td>3.379512e+10</td>\n",
       "      <td>2.030456</td>\n",
       "    </tr>\n",
       "    <tr>\n",
       "      <th>min</th>\n",
       "      <td>0.045248</td>\n",
       "      <td>0.056201</td>\n",
       "      <td>-0.495474</td>\n",
       "      <td>0.045248</td>\n",
       "      <td>-2.641650</td>\n",
       "      <td>0.061210</td>\n",
       "      <td>-0.201667</td>\n",
       "      <td>0.024959</td>\n",
       "      <td>0.045363</td>\n",
       "      <td>3.521470e+07</td>\n",
       "      <td>1.619112</td>\n",
       "    </tr>\n",
       "    <tr>\n",
       "      <th>25%</th>\n",
       "      <td>0.112111</td>\n",
       "      <td>0.065649</td>\n",
       "      <td>-0.152180</td>\n",
       "      <td>0.112111</td>\n",
       "      <td>-0.769090</td>\n",
       "      <td>0.172788</td>\n",
       "      <td>-0.041371</td>\n",
       "      <td>0.028793</td>\n",
       "      <td>0.112127</td>\n",
       "      <td>5.783685e+09</td>\n",
       "      <td>4.114577</td>\n",
       "    </tr>\n",
       "    <tr>\n",
       "      <th>50%</th>\n",
       "      <td>0.150207</td>\n",
       "      <td>0.074570</td>\n",
       "      <td>-0.037427</td>\n",
       "      <td>0.150207</td>\n",
       "      <td>-0.122423</td>\n",
       "      <td>0.235598</td>\n",
       "      <td>-0.004241</td>\n",
       "      <td>0.030807</td>\n",
       "      <td>0.150225</td>\n",
       "      <td>2.028050e+10</td>\n",
       "      <td>5.432446</td>\n",
       "    </tr>\n",
       "    <tr>\n",
       "      <th>75%</th>\n",
       "      <td>0.180339</td>\n",
       "      <td>0.085845</td>\n",
       "      <td>0.088292</td>\n",
       "      <td>0.180339</td>\n",
       "      <td>0.683331</td>\n",
       "      <td>0.354695</td>\n",
       "      <td>0.081210</td>\n",
       "      <td>0.035382</td>\n",
       "      <td>0.180318</td>\n",
       "      <td>3.793740e+10</td>\n",
       "      <td>7.107084</td>\n",
       "    </tr>\n",
       "    <tr>\n",
       "      <th>max</th>\n",
       "      <td>0.198704</td>\n",
       "      <td>0.133972</td>\n",
       "      <td>0.497041</td>\n",
       "      <td>0.198704</td>\n",
       "      <td>1.812530</td>\n",
       "      <td>0.635581</td>\n",
       "      <td>0.246569</td>\n",
       "      <td>0.054852</td>\n",
       "      <td>0.198706</td>\n",
       "      <td>2.267200e+11</td>\n",
       "      <td>9.597481</td>\n",
       "    </tr>\n",
       "  </tbody>\n",
       "</table>\n",
       "</div>"
      ],
      "text/plain": [
       "         redshift   hr uncert          hr    redshift          x1      x1_err  \\\n",
       "count  103.000000  103.000000  103.000000  103.000000  103.000000  103.000000   \n",
       "mean     0.142485    0.078204   -0.024130    0.142485   -0.191528    0.266952   \n",
       "std      0.041992    0.016541    0.185412    0.041992    1.011919    0.127955   \n",
       "min      0.045248    0.056201   -0.495474    0.045248   -2.641650    0.061210   \n",
       "25%      0.112111    0.065649   -0.152180    0.112111   -0.769090    0.172788   \n",
       "50%      0.150207    0.074570   -0.037427    0.150207   -0.122423    0.235598   \n",
       "75%      0.180339    0.085845    0.088292    0.180339    0.683331    0.354695   \n",
       "max      0.198704    0.133972    0.497041    0.198704    1.812530    0.635581   \n",
       "\n",
       "            color   color_err  gal redshift  stellar mass         age  \n",
       "count  103.000000  103.000000    103.000000  1.030000e+02  103.000000  \n",
       "mean     0.009970    0.032925      0.142484  2.971500e+10    5.610550  \n",
       "std      0.083339    0.006246      0.042016  3.379512e+10    2.030456  \n",
       "min     -0.201667    0.024959      0.045363  3.521470e+07    1.619112  \n",
       "25%     -0.041371    0.028793      0.112127  5.783685e+09    4.114577  \n",
       "50%     -0.004241    0.030807      0.150225  2.028050e+10    5.432446  \n",
       "75%      0.081210    0.035382      0.180318  3.793740e+10    7.107084  \n",
       "max      0.246569    0.054852      0.198706  2.267200e+11    9.597481  "
      ]
     },
     "execution_count": 37,
     "metadata": {},
     "output_type": "execute_result"
    }
   ],
   "source": [
    "data = pd.concat([HR, salt, galaxy, age], axis=1)\n",
    "data.dropna(inplace=True)\n",
    "data.describe()"
   ]
  },
  {
   "cell_type": "markdown",
   "metadata": {
    "deletable": true,
    "editable": true
   },
   "source": [
    "Convert stellar mass to be log(stellar mass)"
   ]
  },
  {
   "cell_type": "code",
   "execution_count": 38,
   "metadata": {
    "collapsed": false,
    "deletable": true,
    "editable": true
   },
   "outputs": [
    {
     "data": {
      "text/html": [
       "<div>\n",
       "<style scoped>\n",
       "    .dataframe tbody tr th:only-of-type {\n",
       "        vertical-align: middle;\n",
       "    }\n",
       "\n",
       "    .dataframe tbody tr th {\n",
       "        vertical-align: top;\n",
       "    }\n",
       "\n",
       "    .dataframe thead th {\n",
       "        text-align: right;\n",
       "    }\n",
       "</style>\n",
       "<table border=\"1\" class=\"dataframe\">\n",
       "  <thead>\n",
       "    <tr style=\"text-align: right;\">\n",
       "      <th></th>\n",
       "      <th>redshift</th>\n",
       "      <th>hr uncert</th>\n",
       "      <th>hr</th>\n",
       "      <th>redshift</th>\n",
       "      <th>x1</th>\n",
       "      <th>x1_err</th>\n",
       "      <th>color</th>\n",
       "      <th>color_err</th>\n",
       "      <th>gal redshift</th>\n",
       "      <th>stellar mass</th>\n",
       "      <th>age</th>\n",
       "    </tr>\n",
       "  </thead>\n",
       "  <tbody>\n",
       "    <tr>\n",
       "      <th>count</th>\n",
       "      <td>103.000000</td>\n",
       "      <td>103.000000</td>\n",
       "      <td>103.000000</td>\n",
       "      <td>103.000000</td>\n",
       "      <td>103.000000</td>\n",
       "      <td>103.000000</td>\n",
       "      <td>103.000000</td>\n",
       "      <td>103.000000</td>\n",
       "      <td>103.000000</td>\n",
       "      <td>103.000000</td>\n",
       "      <td>103.000000</td>\n",
       "    </tr>\n",
       "    <tr>\n",
       "      <th>mean</th>\n",
       "      <td>0.142485</td>\n",
       "      <td>0.078204</td>\n",
       "      <td>-0.024130</td>\n",
       "      <td>0.142485</td>\n",
       "      <td>-0.191528</td>\n",
       "      <td>0.266952</td>\n",
       "      <td>0.009970</td>\n",
       "      <td>0.032925</td>\n",
       "      <td>0.142484</td>\n",
       "      <td>10.140025</td>\n",
       "      <td>5.610550</td>\n",
       "    </tr>\n",
       "    <tr>\n",
       "      <th>std</th>\n",
       "      <td>0.041992</td>\n",
       "      <td>0.016541</td>\n",
       "      <td>0.185412</td>\n",
       "      <td>0.041992</td>\n",
       "      <td>1.011919</td>\n",
       "      <td>0.127955</td>\n",
       "      <td>0.083339</td>\n",
       "      <td>0.006246</td>\n",
       "      <td>0.042016</td>\n",
       "      <td>0.688446</td>\n",
       "      <td>2.030456</td>\n",
       "    </tr>\n",
       "    <tr>\n",
       "      <th>min</th>\n",
       "      <td>0.045248</td>\n",
       "      <td>0.056201</td>\n",
       "      <td>-0.495474</td>\n",
       "      <td>0.045248</td>\n",
       "      <td>-2.641650</td>\n",
       "      <td>0.061210</td>\n",
       "      <td>-0.201667</td>\n",
       "      <td>0.024959</td>\n",
       "      <td>0.045363</td>\n",
       "      <td>7.546724</td>\n",
       "      <td>1.619112</td>\n",
       "    </tr>\n",
       "    <tr>\n",
       "      <th>25%</th>\n",
       "      <td>0.112111</td>\n",
       "      <td>0.065649</td>\n",
       "      <td>-0.152180</td>\n",
       "      <td>0.112111</td>\n",
       "      <td>-0.769090</td>\n",
       "      <td>0.172788</td>\n",
       "      <td>-0.041371</td>\n",
       "      <td>0.028793</td>\n",
       "      <td>0.112127</td>\n",
       "      <td>9.762204</td>\n",
       "      <td>4.114577</td>\n",
       "    </tr>\n",
       "    <tr>\n",
       "      <th>50%</th>\n",
       "      <td>0.150207</td>\n",
       "      <td>0.074570</td>\n",
       "      <td>-0.037427</td>\n",
       "      <td>0.150207</td>\n",
       "      <td>-0.122423</td>\n",
       "      <td>0.235598</td>\n",
       "      <td>-0.004241</td>\n",
       "      <td>0.030807</td>\n",
       "      <td>0.150225</td>\n",
       "      <td>10.307079</td>\n",
       "      <td>5.432446</td>\n",
       "    </tr>\n",
       "    <tr>\n",
       "      <th>75%</th>\n",
       "      <td>0.180339</td>\n",
       "      <td>0.085845</td>\n",
       "      <td>0.088292</td>\n",
       "      <td>0.180339</td>\n",
       "      <td>0.683331</td>\n",
       "      <td>0.354695</td>\n",
       "      <td>0.081210</td>\n",
       "      <td>0.035382</td>\n",
       "      <td>0.180318</td>\n",
       "      <td>10.578607</td>\n",
       "      <td>7.107084</td>\n",
       "    </tr>\n",
       "    <tr>\n",
       "      <th>max</th>\n",
       "      <td>0.198704</td>\n",
       "      <td>0.133972</td>\n",
       "      <td>0.497041</td>\n",
       "      <td>0.198704</td>\n",
       "      <td>1.812530</td>\n",
       "      <td>0.635581</td>\n",
       "      <td>0.246569</td>\n",
       "      <td>0.054852</td>\n",
       "      <td>0.198706</td>\n",
       "      <td>11.355490</td>\n",
       "      <td>9.597481</td>\n",
       "    </tr>\n",
       "  </tbody>\n",
       "</table>\n",
       "</div>"
      ],
      "text/plain": [
       "         redshift   hr uncert          hr    redshift          x1      x1_err  \\\n",
       "count  103.000000  103.000000  103.000000  103.000000  103.000000  103.000000   \n",
       "mean     0.142485    0.078204   -0.024130    0.142485   -0.191528    0.266952   \n",
       "std      0.041992    0.016541    0.185412    0.041992    1.011919    0.127955   \n",
       "min      0.045248    0.056201   -0.495474    0.045248   -2.641650    0.061210   \n",
       "25%      0.112111    0.065649   -0.152180    0.112111   -0.769090    0.172788   \n",
       "50%      0.150207    0.074570   -0.037427    0.150207   -0.122423    0.235598   \n",
       "75%      0.180339    0.085845    0.088292    0.180339    0.683331    0.354695   \n",
       "max      0.198704    0.133972    0.497041    0.198704    1.812530    0.635581   \n",
       "\n",
       "            color   color_err  gal redshift  stellar mass         age  \n",
       "count  103.000000  103.000000    103.000000    103.000000  103.000000  \n",
       "mean     0.009970    0.032925      0.142484     10.140025    5.610550  \n",
       "std      0.083339    0.006246      0.042016      0.688446    2.030456  \n",
       "min     -0.201667    0.024959      0.045363      7.546724    1.619112  \n",
       "25%     -0.041371    0.028793      0.112127      9.762204    4.114577  \n",
       "50%     -0.004241    0.030807      0.150225     10.307079    5.432446  \n",
       "75%      0.081210    0.035382      0.180318     10.578607    7.107084  \n",
       "max      0.246569    0.054852      0.198706     11.355490    9.597481  "
      ]
     },
     "execution_count": 38,
     "metadata": {},
     "output_type": "execute_result"
    }
   ],
   "source": [
    "data['stellar mass'] = np.log10(data['stellar mass'])\n",
    "data.describe()"
   ]
  },
  {
   "cell_type": "code",
   "execution_count": 39,
   "metadata": {
    "collapsed": false
   },
   "outputs": [
    {
     "data": {
      "text/html": [
       "<div>\n",
       "<style scoped>\n",
       "    .dataframe tbody tr th:only-of-type {\n",
       "        vertical-align: middle;\n",
       "    }\n",
       "\n",
       "    .dataframe tbody tr th {\n",
       "        vertical-align: top;\n",
       "    }\n",
       "\n",
       "    .dataframe thead th {\n",
       "        text-align: right;\n",
       "    }\n",
       "</style>\n",
       "<table border=\"1\" class=\"dataframe\">\n",
       "  <thead>\n",
       "    <tr style=\"text-align: right;\">\n",
       "      <th></th>\n",
       "      <th>redshift</th>\n",
       "      <th>hr uncert</th>\n",
       "      <th>hr</th>\n",
       "      <th>redshift</th>\n",
       "      <th>x1</th>\n",
       "      <th>x1_err</th>\n",
       "      <th>color</th>\n",
       "      <th>color_err</th>\n",
       "      <th>gal redshift</th>\n",
       "      <th>stellar mass</th>\n",
       "      <th>age</th>\n",
       "    </tr>\n",
       "  </thead>\n",
       "  <tbody>\n",
       "    <tr>\n",
       "      <th>count</th>\n",
       "      <td>103.000000</td>\n",
       "      <td>103.000000</td>\n",
       "      <td>103.000000</td>\n",
       "      <td>103.000000</td>\n",
       "      <td>103.000000</td>\n",
       "      <td>103.000000</td>\n",
       "      <td>103.000000</td>\n",
       "      <td>103.000000</td>\n",
       "      <td>103.000000</td>\n",
       "      <td>103.000000</td>\n",
       "      <td>103.000000</td>\n",
       "    </tr>\n",
       "    <tr>\n",
       "      <th>mean</th>\n",
       "      <td>0.142485</td>\n",
       "      <td>0.078204</td>\n",
       "      <td>-0.024130</td>\n",
       "      <td>0.142485</td>\n",
       "      <td>-0.191528</td>\n",
       "      <td>0.266952</td>\n",
       "      <td>0.009970</td>\n",
       "      <td>0.032925</td>\n",
       "      <td>0.142484</td>\n",
       "      <td>10.140025</td>\n",
       "      <td>5.824010</td>\n",
       "    </tr>\n",
       "    <tr>\n",
       "      <th>std</th>\n",
       "      <td>0.041992</td>\n",
       "      <td>0.016541</td>\n",
       "      <td>0.185412</td>\n",
       "      <td>0.041992</td>\n",
       "      <td>1.011919</td>\n",
       "      <td>0.127955</td>\n",
       "      <td>0.083339</td>\n",
       "      <td>0.006246</td>\n",
       "      <td>0.042016</td>\n",
       "      <td>0.688446</td>\n",
       "      <td>2.248907</td>\n",
       "    </tr>\n",
       "    <tr>\n",
       "      <th>min</th>\n",
       "      <td>0.045248</td>\n",
       "      <td>0.056201</td>\n",
       "      <td>-0.495474</td>\n",
       "      <td>0.045248</td>\n",
       "      <td>-2.641650</td>\n",
       "      <td>0.061210</td>\n",
       "      <td>-0.201667</td>\n",
       "      <td>0.024959</td>\n",
       "      <td>0.045363</td>\n",
       "      <td>7.546724</td>\n",
       "      <td>0.948003</td>\n",
       "    </tr>\n",
       "    <tr>\n",
       "      <th>25%</th>\n",
       "      <td>0.112111</td>\n",
       "      <td>0.065649</td>\n",
       "      <td>-0.152180</td>\n",
       "      <td>0.112111</td>\n",
       "      <td>-0.769090</td>\n",
       "      <td>0.172788</td>\n",
       "      <td>-0.041371</td>\n",
       "      <td>0.028793</td>\n",
       "      <td>0.112127</td>\n",
       "      <td>9.762204</td>\n",
       "      <td>4.182252</td>\n",
       "    </tr>\n",
       "    <tr>\n",
       "      <th>50%</th>\n",
       "      <td>0.150207</td>\n",
       "      <td>0.074570</td>\n",
       "      <td>-0.037427</td>\n",
       "      <td>0.150207</td>\n",
       "      <td>-0.122423</td>\n",
       "      <td>0.235598</td>\n",
       "      <td>-0.004241</td>\n",
       "      <td>0.030807</td>\n",
       "      <td>0.150225</td>\n",
       "      <td>10.307079</td>\n",
       "      <td>5.926951</td>\n",
       "    </tr>\n",
       "    <tr>\n",
       "      <th>75%</th>\n",
       "      <td>0.180339</td>\n",
       "      <td>0.085845</td>\n",
       "      <td>0.088292</td>\n",
       "      <td>0.180339</td>\n",
       "      <td>0.683331</td>\n",
       "      <td>0.354695</td>\n",
       "      <td>0.081210</td>\n",
       "      <td>0.035382</td>\n",
       "      <td>0.180318</td>\n",
       "      <td>10.578607</td>\n",
       "      <td>7.748451</td>\n",
       "    </tr>\n",
       "    <tr>\n",
       "      <th>max</th>\n",
       "      <td>0.198704</td>\n",
       "      <td>0.133972</td>\n",
       "      <td>0.497041</td>\n",
       "      <td>0.198704</td>\n",
       "      <td>1.812530</td>\n",
       "      <td>0.635581</td>\n",
       "      <td>0.246569</td>\n",
       "      <td>0.054852</td>\n",
       "      <td>0.198706</td>\n",
       "      <td>11.355490</td>\n",
       "      <td>10.454058</td>\n",
       "    </tr>\n",
       "  </tbody>\n",
       "</table>\n",
       "</div>"
      ],
      "text/plain": [
       "         redshift   hr uncert          hr    redshift          x1      x1_err  \\\n",
       "count  103.000000  103.000000  103.000000  103.000000  103.000000  103.000000   \n",
       "mean     0.142485    0.078204   -0.024130    0.142485   -0.191528    0.266952   \n",
       "std      0.041992    0.016541    0.185412    0.041992    1.011919    0.127955   \n",
       "min      0.045248    0.056201   -0.495474    0.045248   -2.641650    0.061210   \n",
       "25%      0.112111    0.065649   -0.152180    0.112111   -0.769090    0.172788   \n",
       "50%      0.150207    0.074570   -0.037427    0.150207   -0.122423    0.235598   \n",
       "75%      0.180339    0.085845    0.088292    0.180339    0.683331    0.354695   \n",
       "max      0.198704    0.133972    0.497041    0.198704    1.812530    0.635581   \n",
       "\n",
       "            color   color_err  gal redshift  stellar mass         age  \n",
       "count  103.000000  103.000000    103.000000    103.000000  103.000000  \n",
       "mean     0.009970    0.032925      0.142484     10.140025    5.824010  \n",
       "std      0.083339    0.006246      0.042016      0.688446    2.248907  \n",
       "min     -0.201667    0.024959      0.045363      7.546724    0.948003  \n",
       "25%     -0.041371    0.028793      0.112127      9.762204    4.182252  \n",
       "50%     -0.004241    0.030807      0.150225     10.307079    5.926951  \n",
       "75%      0.081210    0.035382      0.180318     10.578607    7.748451  \n",
       "max      0.246569    0.054852      0.198706     11.355490   10.454058  "
      ]
     },
     "execution_count": 39,
     "metadata": {},
     "output_type": "execute_result"
    }
   ],
   "source": [
    "# now with global\n",
    "data_global = pd.concat([HR, salt, galaxy, age_global], axis=1)\n",
    "data_global.dropna(inplace=True)\n",
    "data_global.describe()\n",
    "\n",
    "data_global['stellar mass'] = np.log10(data_global['stellar mass'])\n",
    "data_global.describe()"
   ]
  },
  {
   "cell_type": "markdown",
   "metadata": {
    "deletable": true,
    "editable": true
   },
   "source": [
    "## PCA\n",
    "\n",
    "Standardize the variables. We will do everything in their \"linear\" (looking at you distance modulus/HR) space excepct for stellar mass."
   ]
  },
  {
   "cell_type": "code",
   "execution_count": 23,
   "metadata": {
    "collapsed": false,
    "deletable": true,
    "editable": true
   },
   "outputs": [
    {
     "data": {
      "text/plain": [
       "(108, 5)"
      ]
     },
     "execution_count": 23,
     "metadata": {},
     "output_type": "execute_result"
    }
   ],
   "source": [
    "# Lets remove uncertainties & redshift?\n",
    "features = ['hr', 'x1', 'color', 'stellar mass', 'age']\n",
    "x = data.loc[:, features].values\n",
    "x = StandardScaler().fit_transform(x)\n",
    "x.shape"
   ]
  },
  {
   "cell_type": "code",
   "execution_count": 32,
   "metadata": {
    "collapsed": true,
    "deletable": true,
    "editable": true
   },
   "outputs": [],
   "source": [
    "pca = PCA(n_components=5)\n",
    "principalComponents = pca.fit_transform(x)"
   ]
  },
  {
   "cell_type": "code",
   "execution_count": 27,
   "metadata": {
    "collapsed": false,
    "deletable": true,
    "editable": true
   },
   "outputs": [
    {
     "data": {
      "text/plain": [
       "array([[ 0.49911149,  0.43757679,  0.04679175, -0.5079471 , -0.54700507],\n",
       "       [ 0.2901393 , -0.29165158,  0.90745742,  0.03247527,  0.07889816],\n",
       "       [ 0.14515127, -0.76702441, -0.27428528, -0.56133325,  0.01665047],\n",
       "       [ 0.79168903,  0.03513631, -0.29090412,  0.31178586,  0.43607143],\n",
       "       [-0.1373554 ,  0.36593019,  0.12030766, -0.57326229,  0.71001761]])"
      ]
     },
     "execution_count": 27,
     "metadata": {},
     "output_type": "execute_result"
    }
   ],
   "source": [
    "pca.components_"
   ]
  },
  {
   "cell_type": "code",
   "execution_count": 28,
   "metadata": {
    "collapsed": false,
    "deletable": true,
    "editable": true
   },
   "outputs": [
    {
     "data": {
      "text/plain": [
       "array([ 15.11714534,  10.76819372,   8.94639933,   7.84833455,   7.34053843])"
      ]
     },
     "execution_count": 28,
     "metadata": {},
     "output_type": "execute_result"
    }
   ],
   "source": [
    "pca.singular_values_"
   ]
  },
  {
   "cell_type": "code",
   "execution_count": 77,
   "metadata": {
    "collapsed": false,
    "deletable": true,
    "editable": true
   },
   "outputs": [
    {
     "data": {
      "text/plain": [
       "array([ 0.42320015,  0.21472962,  0.14821863,  0.11406732,  0.09978427])"
      ]
     },
     "execution_count": 77,
     "metadata": {},
     "output_type": "execute_result"
    }
   ],
   "source": [
    "pca.explained_variance_ratio_"
   ]
  },
  {
   "cell_type": "markdown",
   "metadata": {
    "deletable": true,
    "editable": true
   },
   "source": [
    "### PCA without HR -- local"
   ]
  },
  {
   "cell_type": "code",
   "execution_count": 40,
   "metadata": {
    "collapsed": false,
    "deletable": true,
    "editable": true
   },
   "outputs": [
    {
     "data": {
      "text/plain": [
       "(103, 4)"
      ]
     },
     "execution_count": 40,
     "metadata": {},
     "output_type": "execute_result"
    }
   ],
   "source": [
    "# Lets remove uncertainties & redshift?\n",
    "features = ['x1', 'color', 'stellar mass', 'age']\n",
    "y = data.loc[:, features].values\n",
    "y = StandardScaler().fit_transform(y)\n",
    "y.shape"
   ]
  },
  {
   "cell_type": "code",
   "execution_count": 41,
   "metadata": {
    "collapsed": true,
    "deletable": true,
    "editable": true
   },
   "outputs": [],
   "source": [
    "pca2 = PCA(n_components=4)\n",
    "principalComponents2 = pca2.fit_transform(y)"
   ]
  },
  {
   "cell_type": "code",
   "execution_count": 42,
   "metadata": {
    "collapsed": false,
    "deletable": true,
    "editable": true
   },
   "outputs": [
    {
     "data": {
      "text/plain": [
       "(103, 4)"
      ]
     },
     "execution_count": 42,
     "metadata": {},
     "output_type": "execute_result"
    }
   ],
   "source": [
    "principalComponents2.shape"
   ]
  },
  {
   "cell_type": "code",
   "execution_count": 43,
   "metadata": {
    "collapsed": false,
    "deletable": true,
    "editable": true
   },
   "outputs": [
    {
     "data": {
      "text/plain": [
       "array([[ 0.54259113, -0.10542863, -0.56066036, -0.61655465],\n",
       "       [-0.16048507,  0.95949048, -0.1897051 , -0.13279506],\n",
       "       [-0.73930618, -0.25248866, -0.622891  , -0.04102012],\n",
       "       [ 0.36505586,  0.06717357, -0.51154544,  0.77494722]])"
      ]
     },
     "execution_count": 43,
     "metadata": {},
     "output_type": "execute_result"
    }
   ],
   "source": [
    "pca2.components_"
   ]
  },
  {
   "cell_type": "code",
   "execution_count": 44,
   "metadata": {
    "collapsed": false,
    "deletable": true,
    "editable": true
   },
   "outputs": [
    {
     "data": {
      "text/plain": [
       "array([ 13.5253809 ,  10.21837964,   8.49723135,   7.2419506 ])"
      ]
     },
     "execution_count": 44,
     "metadata": {},
     "output_type": "execute_result"
    }
   ],
   "source": [
    "pca2.singular_values_\n",
    "## this is not what I wanted I guess. Use `explained_variance_ratio_`"
   ]
  },
  {
   "cell_type": "code",
   "execution_count": 121,
   "metadata": {
    "collapsed": false
   },
   "outputs": [
    {
     "data": {
      "text/plain": [
       "array([ 0.44401924,  0.25343515,  0.17524986,  0.12729575])"
      ]
     },
     "execution_count": 121,
     "metadata": {},
     "output_type": "execute_result"
    }
   ],
   "source": [
    "pca2.explained_variance_ratio_"
   ]
  },
  {
   "cell_type": "markdown",
   "metadata": {
    "deletable": true,
    "editable": true
   },
   "source": [
    "### PCA without HR -- Global"
   ]
  },
  {
   "cell_type": "code",
   "execution_count": 45,
   "metadata": {
    "collapsed": false
   },
   "outputs": [
    {
     "data": {
      "text/plain": [
       "(103, 4)"
      ]
     },
     "execution_count": 45,
     "metadata": {},
     "output_type": "execute_result"
    }
   ],
   "source": [
    "# Lets remove uncertainties & redshift?\n",
    "features = ['x1', 'color', 'stellar mass', 'age']\n",
    "y = data_global.loc[:, features].values\n",
    "y = StandardScaler().fit_transform(y)\n",
    "y.shape"
   ]
  },
  {
   "cell_type": "code",
   "execution_count": 46,
   "metadata": {
    "collapsed": false
   },
   "outputs": [
    {
     "data": {
      "text/plain": [
       "(103, 4)"
      ]
     },
     "execution_count": 46,
     "metadata": {},
     "output_type": "execute_result"
    }
   ],
   "source": [
    "pca_global = PCA(n_components=4)\n",
    "principalComponents_global = pca_global.fit_transform(y)\n",
    "principalComponents_global.shape"
   ]
  },
  {
   "cell_type": "code",
   "execution_count": 125,
   "metadata": {
    "collapsed": false
   },
   "outputs": [
    {
     "name": "stdout",
     "output_type": "stream",
     "text": [
      "[[ 0.48087705 -0.1009531  -0.59042183 -0.64028728]\n",
      " [-0.19810044  0.95180696 -0.20843869 -0.10664443]\n",
      " [-0.82603157 -0.28945969 -0.45940057 -0.151116  ]\n",
      " [-0.21722181  0.00922299  0.63000516 -0.74553546]]\n",
      "[ 14.20404885  10.2245183    8.62561007   5.59491491]\n",
      "[ 0.36751313  0.26454744  0.22317756  0.14476187]\n",
      "[ 0.48969661  0.25373974  0.18058531  0.07597833]\n"
     ]
    }
   ],
   "source": [
    "print(pca_global.components_)\n",
    "print(pca_global.singular_values_) # not what I want\n",
    "print(pca_global.singular_values_/pca_global.singular_values_.sum())  #not what I wanted.\n",
    "print(pca_global.explained_variance_ratio_)"
   ]
  },
  {
   "cell_type": "markdown",
   "metadata": {},
   "source": [
    "### Plots"
   ]
  },
  {
   "cell_type": "code",
   "execution_count": 77,
   "metadata": {
    "collapsed": false
   },
   "outputs": [
    {
     "data": {
      "text/plain": [
       "0.62642226420067648"
      ]
     },
     "execution_count": 77,
     "metadata": {},
     "output_type": "execute_result"
    }
   ],
   "source": [
    "spearmanr(principalComponents2[:,0], data['hr']).correlation"
   ]
  },
  {
   "cell_type": "code",
   "execution_count": 127,
   "metadata": {
    "collapsed": false
   },
   "outputs": [
    {
     "name": "stderr",
     "output_type": "stream",
     "text": [
      "/usr/local/lib/python3.6/site-packages/matplotlib/figure.py:1742: UserWarning: This figure includes Axes that are not compatible with tight_layout, so its results might be incorrect.\n",
      "  warnings.warn(\"This figure includes Axes that are not \"\n"
     ]
    },
    {
     "data": {
      "image/png": "[encoded data removed]",
      "text/plain": [
       "<matplotlib.figure.Figure at 0x10cd20438>"
      ]
     },
     "metadata": {},
     "output_type": "display_data"
    },
    {
     "data": {
      "image/png": "[encoded data removed]",
      "text/plain": [
       "<matplotlib.figure.Figure at 0x10be729b0>"
      ]
     },
     "metadata": {},
     "output_type": "display_data"
    },
    {
     "data": {
      "image/png": "[encoded data removed]",
      "text/plain": [
       "<matplotlib.figure.Figure at 0x10ca3c390>"
      ]
     },
     "metadata": {},
     "output_type": "display_data"
    },
    {
     "data": {
      "image/png": "[encoded data removed]",
      "text/plain": [
       "<matplotlib.figure.Figure at 0x10cb73c88>"
      ]
     },
     "metadata": {},
     "output_type": "display_data"
    }
   ],
   "source": [
    "sns.set(context='talk', style='ticks', font='serif', color_codes=True)\n",
    "\n",
    "for i in [0,1,2,3]:\n",
    "    fig =plt.figure()\n",
    "    \n",
    "    plt.xlabel(f'Principal Component {i+1}')\n",
    "    plt.ylabel('Hubble residual [mag]')\n",
    "    \n",
    "    #fix axes major spacing & size\n",
    "    ax = plt.gca()\n",
    "    ax.get_yaxis().set_major_locator(MultipleLocator(0.2))\n",
    "    ax.set_ylim(-0.7, 0.7)\n",
    "    ax.get_xaxis().set_major_locator(MultipleLocator(1))\n",
    "    ax.set_xlim(-3.3, 3.3)\n",
    "\n",
    "    #set axes ticks and gridlines\n",
    "    ax.tick_params(axis='both', top='on', right='on', direction='in')\n",
    "    ax.grid(which='major', axis='both', color='0.90', linestyle='-')\n",
    "    ax.set_axisbelow(True)\n",
    "    \n",
    "    #show origin\n",
    "#     ax.axhline(y=0, color='0.8', linewidth=2)\n",
    "#     ax.axvline(x=0, color='0.8', linewidth=1)\n",
    "    \n",
    "    #plot data on top -- not needed down here if we don't try to show the origin\n",
    "    plt.scatter(principalComponents2[:,i], data['hr'], marker='.', c=data['x1'])\n",
    "#     plt.colorbar()\n",
    "    \n",
    "    #add Spearman's correlation\n",
    "    sp_r = spearmanr(principalComponents2[:,i], data['hr']).correlation\n",
    "    ax.text(-3, 0.48, f\"Spearman's correlation: {sp_r:.2f}\", \n",
    "                {'fontsize':12})\n",
    "    \n",
    "    fig.set_tight_layout({'pad': 1.5})\n",
    "    plt.savefig(f'HRvPC{i+1}.pdf')\n",
    "    plt.show()"
   ]
  },
  {
   "cell_type": "code",
   "execution_count": 65,
   "metadata": {
    "collapsed": false
   },
   "outputs": [
    {
     "data": {
      "image/png": "[encoded data removed]",
      "text/plain": [
       "<matplotlib.figure.Figure at 0x10c1f9860>"
      ]
     },
     "metadata": {},
     "output_type": "display_data"
    }
   ],
   "source": [
    "sns.set(context='talk', style='ticks', font='serif', color_codes=True)\n",
    "\n",
    "fig, ((ax1, ax2), (ax3, ax4)) = plt.subplots(2, 2, sharex='col', sharey='row', figsize=(7.5, 6))\n",
    "\n",
    "ax1.plot(principalComponents2[:,0], data['hr'], '.')\n",
    "ax1.set_xlabel('Principal Component 1')\n",
    "ax1.set_ylabel('Hubble residual [mag]')\n",
    "\n",
    "ax2.plot(principalComponents2[:,1], data['hr'], '.')\n",
    "ax2.set_xlabel('Principal Component 2')\n",
    "# ax2.set_ylabel('Hubble residual [mag]')\n",
    "\n",
    "ax3.plot(principalComponents2[:,2], data['hr'], '.')\n",
    "ax3.set_xlabel('Principal Component 3')\n",
    "ax3.set_ylabel('Hubble residual [mag]')\n",
    "\n",
    "ax4.plot(principalComponents2[:,3], data['hr'], '.')\n",
    "ax4.set_xlabel('Principal Component 4')\n",
    "# ax4.set_ylabel('Hubble residual [mag]')\n",
    "\n",
    "#fix axes major spacing & size\n",
    "ax1.get_yaxis().set_major_locator(MultipleLocator(0.2))\n",
    "ax3.get_yaxis().set_major_locator(MultipleLocator(0.2))\n",
    "ax1.set_ylim(-0.7, 0.7)\n",
    "ax3.set_ylim(-0.7, 0.7)\n",
    "ax1.get_xaxis().set_major_locator(MultipleLocator(1))\n",
    "ax2.get_xaxis().set_major_locator(MultipleLocator(1))\n",
    "ax1.set_xlim(-3, 3)\n",
    "ax2.set_xlim(-3, 3)\n",
    "\n",
    "#set axes ticks and gridlines\n",
    "ax1.tick_params(axis='both', top='on', right='on', direction='in')\n",
    "ax1.grid(which='major', axis='both', color='0.90', linestyle='-')\n",
    "ax1.set_axisbelow(True)\n",
    "ax2.tick_params(axis='both', top='on', right='on', direction='in')\n",
    "ax2.grid(which='major', axis='both', color='0.90', linestyle='-')\n",
    "ax2.set_axisbelow(True)\n",
    "ax3.tick_params(axis='both', top='on', right='on', direction='in')\n",
    "ax3.grid(which='major', axis='both', color='0.90', linestyle='-')\n",
    "ax3.set_axisbelow(True)\n",
    "ax4.tick_params(axis='both', top='on', right='on', direction='in')\n",
    "ax4.grid(which='major', axis='both', color='0.90', linestyle='-')\n",
    "ax4.set_axisbelow(True)\n",
    "\n",
    "plt.show()"
   ]
  },
  {
   "cell_type": "code",
   "execution_count": 66,
   "metadata": {
    "collapsed": false
   },
   "outputs": [
    {
     "data": {
      "image/png": "[encoded data removed]",
      "text/plain": [
       "<matplotlib.figure.Figure at 0x10ccffe80>"
      ]
     },
     "metadata": {},
     "output_type": "display_data"
    }
   ],
   "source": [
    "sns.set(context='talk', style='ticks', font='serif', color_codes=True)\n",
    "\n",
    "fig, ((ax1, ax2), (ax3, ax4)) = plt.subplots(2, 2, sharex='col', sharey='row', figsize=(7.5, 6))\n",
    "\n",
    "ax1.plot(principalComponents_global[:,0], data['hr'], '.')\n",
    "ax1.set_xlabel('Principal Component 1')\n",
    "ax1.set_ylabel('Hubble residual [mag]')\n",
    "\n",
    "ax2.plot(principalComponents_global[:,1], data['hr'], '.')\n",
    "ax2.set_xlabel('Principal Component 2')\n",
    "# ax2.set_ylabel('Hubble residual [mag]')\n",
    "\n",
    "ax3.plot(principalComponents_global[:,2], data['hr'], '.')\n",
    "ax3.set_xlabel('Principal Component 3')\n",
    "ax3.set_ylabel('Hubble residual [mag]')\n",
    "\n",
    "ax4.plot(principalComponents_global[:,3], data['hr'], '.')\n",
    "ax4.set_xlabel('Principal Component 4')\n",
    "# ax4.set_ylabel('Hubble residual [mag]')\n",
    "\n",
    "#fix axes major spacing & size\n",
    "ax1.get_yaxis().set_major_locator(MultipleLocator(0.2))\n",
    "ax3.get_yaxis().set_major_locator(MultipleLocator(0.2))\n",
    "ax1.set_ylim(-0.7, 0.7)\n",
    "ax3.set_ylim(-0.7, 0.7)\n",
    "ax1.get_xaxis().set_major_locator(MultipleLocator(1))\n",
    "ax2.get_xaxis().set_major_locator(MultipleLocator(1))\n",
    "ax1.set_xlim(-3, 3)\n",
    "ax2.set_xlim(-3, 3)\n",
    "\n",
    "#set axes ticks and gridlines\n",
    "ax1.tick_params(axis='both', top='on', right='on', direction='in')\n",
    "ax1.grid(which='major', axis='both', color='0.90', linestyle='-')\n",
    "ax1.set_axisbelow(True)\n",
    "ax2.tick_params(axis='both', top='on', right='on', direction='in')\n",
    "ax2.grid(which='major', axis='both', color='0.90', linestyle='-')\n",
    "ax2.set_axisbelow(True)\n",
    "ax3.tick_params(axis='both', top='on', right='on', direction='in')\n",
    "ax3.grid(which='major', axis='both', color='0.90', linestyle='-')\n",
    "ax3.set_axisbelow(True)\n",
    "ax4.tick_params(axis='both', top='on', right='on', direction='in')\n",
    "ax4.grid(which='major', axis='both', color='0.90', linestyle='-')\n",
    "ax4.set_axisbelow(True)\n",
    "\n",
    "plt.show()"
   ]
  },
  {
   "cell_type": "markdown",
   "metadata": {},
   "source": [
    "Other stuff"
   ]
  },
  {
   "cell_type": "code",
   "execution_count": 64,
   "metadata": {
    "collapsed": false,
    "deletable": true,
    "editable": true
   },
   "outputs": [
    {
     "data": {
      "image/png": "[encoded data removed]",
      "text/plain": [
       "<matplotlib.figure.Figure at 0x1171efeb8>"
      ]
     },
     "metadata": {},
     "output_type": "display_data"
    }
   ],
   "source": [
    "plt.plot(principalComponents2[:,0], data['hr'], '.')\n",
    "plt.xlabel('Principal Component 1')\n",
    "plt.ylabel('HR')\n",
    "# plt.savefig('HRvPCA1.pdf')\n",
    "plt.show()"
   ]
  },
  {
   "cell_type": "code",
   "execution_count": 65,
   "metadata": {
    "collapsed": false,
    "deletable": true,
    "editable": true
   },
   "outputs": [
    {
     "data": {
      "image/png": "[encoded data removed]",
      "text/plain": [
       "<matplotlib.figure.Figure at 0x11700fda0>"
      ]
     },
     "metadata": {},
     "output_type": "display_data"
    }
   ],
   "source": [
    "plt.plot(principalComponents2[:,1], data['hr'], '.')\n",
    "plt.xlabel('Principal Component 2')\n",
    "plt.ylabel('HR')\n",
    "# plt.savefig('HRvPCA2.pdf')\n",
    "plt.show()"
   ]
  },
  {
   "cell_type": "code",
   "execution_count": 66,
   "metadata": {
    "collapsed": false,
    "deletable": true,
    "editable": true
   },
   "outputs": [
    {
     "data": {
      "image/png": "[encoded data removed]",
      "text/plain": [
       "<matplotlib.figure.Figure at 0x1173aca90>"
      ]
     },
     "metadata": {},
     "output_type": "display_data"
    }
   ],
   "source": [
    "plt.plot(principalComponents2[:,2], data['hr'], '.')\n",
    "plt.xlabel('Principal Component 3')\n",
    "plt.ylabel('HR')\n",
    "# plt.savefig('HRvPCA3.pdf')\n",
    "plt.show()"
   ]
  },
  {
   "cell_type": "code",
   "execution_count": 67,
   "metadata": {
    "collapsed": false,
    "deletable": true,
    "editable": true
   },
   "outputs": [
    {
     "data": {
      "image/png": "[encoded data removed]",
      "text/plain": [
       "<matplotlib.figure.Figure at 0x1170f9358>"
      ]
     },
     "metadata": {},
     "output_type": "display_data"
    }
   ],
   "source": [
    "plt.plot(principalComponents2[:,3], data['hr'], '.')\n",
    "plt.xlabel('Principal Component 4')\n",
    "plt.ylabel('HR')\n",
    "# plt.savefig('HRvPCA4.pdf')\n",
    "plt.show()"
   ]
  },
  {
   "cell_type": "markdown",
   "metadata": {
    "deletable": true,
    "editable": true
   },
   "source": [
    "[ 0.53352587, -0.04696966, -0.56537291, -0.62729377] of x1, color, stellar mass, and age.\n",
    "\n",
    "* color has no effect.\n",
    "* x1 shows that it is different SNIa, of our standard definitions.\n",
    "* stellar mass and age have a negative correlation of almost equal weight, but age is slightly stronger.\n"
   ]
  },
  {
   "cell_type": "markdown",
   "metadata": {
    "deletable": true,
    "editable": true
   },
   "source": [
    "### PCA without HR and without objects with HR < 0.5\n",
    "\n",
    "Removes 5 objects"
   ]
  },
  {
   "cell_type": "code",
   "execution_count": null,
   "metadata": {
    "collapsed": true,
    "deletable": true,
    "editable": true
   },
   "outputs": [],
   "source": [
    "data[data['hr']>=0.5]['hr']"
   ]
  },
  {
   "cell_type": "code",
   "execution_count": 57,
   "metadata": {
    "collapsed": false,
    "deletable": true,
    "editable": true
   },
   "outputs": [
    {
     "data": {
      "text/plain": [
       "(103, 4)"
      ]
     },
     "execution_count": 57,
     "metadata": {},
     "output_type": "execute_result"
    }
   ],
   "source": [
    "features = ['x1', 'color', 'stellar mass', 'age']\n",
    "z = data[data['hr']<0.5].loc[:, features].values\n",
    "z = StandardScaler().fit_transform(z)\n",
    "z.shape"
   ]
  },
  {
   "cell_type": "code",
   "execution_count": 58,
   "metadata": {
    "collapsed": true,
    "deletable": true,
    "editable": true
   },
   "outputs": [],
   "source": [
    "pca3 = PCA(n_components=4)\n",
    "principalComponents3 = pca3.fit_transform(z)"
   ]
  },
  {
   "cell_type": "code",
   "execution_count": 60,
   "metadata": {
    "collapsed": false,
    "deletable": true,
    "editable": true
   },
   "outputs": [
    {
     "data": {
      "text/plain": [
       "array([[ 0.54259113, -0.10542863, -0.56066036, -0.61655465],\n",
       "       [-0.16048507,  0.95949048, -0.1897051 , -0.13279506],\n",
       "       [-0.73930618, -0.25248866, -0.622891  , -0.04102012],\n",
       "       [ 0.36505586,  0.06717357, -0.51154544,  0.77494722]])"
      ]
     },
     "execution_count": 60,
     "metadata": {},
     "output_type": "execute_result"
    }
   ],
   "source": [
    "pca3.components_"
   ]
  },
  {
   "cell_type": "code",
   "execution_count": 61,
   "metadata": {
    "collapsed": false,
    "deletable": true,
    "editable": true
   },
   "outputs": [
    {
     "data": {
      "text/plain": [
       "array([ 13.5253809 ,  10.21837964,   8.49723135,   7.2419506 ])"
      ]
     },
     "execution_count": 61,
     "metadata": {},
     "output_type": "execute_result"
    }
   ],
   "source": [
    "pca3.singular_values_"
   ]
  },
  {
   "cell_type": "code",
   "execution_count": 72,
   "metadata": {
    "collapsed": false,
    "deletable": true,
    "editable": true
   },
   "outputs": [
    {
     "data": {
      "text/plain": [
       "array([ 0.44401924,  0.25343515,  0.17524986,  0.12729575])"
      ]
     },
     "execution_count": 72,
     "metadata": {},
     "output_type": "execute_result"
    }
   ],
   "source": [
    "pca3.explained_variance_ratio_"
   ]
  },
  {
   "cell_type": "code",
   "execution_count": 73,
   "metadata": {
    "collapsed": false,
    "deletable": true,
    "editable": true
   },
   "outputs": [
    {
     "data": {
      "image/png": "[encoded data removed]",
      "text/plain": [
       "<matplotlib.figure.Figure at 0x1170f7668>"
      ]
     },
     "metadata": {},
     "output_type": "display_data"
    }
   ],
   "source": [
    "plt.plot(principalComponents3[:,0], data[data['hr']<0.5]['hr'], '.')\n",
    "plt.xlabel('Principal Component 1')\n",
    "plt.ylabel('HR')\n",
    "plt.savefig('HRvPCA1.pdf')\n",
    "plt.show()"
   ]
  },
  {
   "cell_type": "code",
   "execution_count": 74,
   "metadata": {
    "collapsed": false,
    "deletable": true,
    "editable": true
   },
   "outputs": [
    {
     "data": {
      "image/png": "[encoded data removed]",
      "text/plain": [
       "<matplotlib.figure.Figure at 0x1176066a0>"
      ]
     },
     "metadata": {},
     "output_type": "display_data"
    }
   ],
   "source": [
    "plt.plot(principalComponents3[:,1], data[data['hr']<0.5]['hr'], '.')\n",
    "plt.xlabel('Principal Component 2')\n",
    "plt.ylabel('HR')\n",
    "plt.savefig('HRvPCA2.pdf')\n",
    "plt.show()"
   ]
  },
  {
   "cell_type": "code",
   "execution_count": 75,
   "metadata": {
    "collapsed": false,
    "deletable": true,
    "editable": true
   },
   "outputs": [
    {
     "data": {
      "image/png": "[encoded data removed]",
      "text/plain": [
       "<matplotlib.figure.Figure at 0x11746c898>"
      ]
     },
     "metadata": {},
     "output_type": "display_data"
    }
   ],
   "source": [
    "plt.plot(principalComponents3[:,2], data[data['hr']<0.5]['hr'], '.')\n",
    "plt.xlabel('Principal Component 3')\n",
    "plt.ylabel('HR')\n",
    "plt.savefig('HRvPCA3.pdf')\n",
    "plt.show()"
   ]
  },
  {
   "cell_type": "code",
   "execution_count": 76,
   "metadata": {
    "collapsed": false,
    "deletable": true,
    "editable": true
   },
   "outputs": [
    {
     "data": {
      "image/png": "[encoded data removed]",
      "text/plain": [
       "<matplotlib.figure.Figure at 0x1173e24a8>"
      ]
     },
     "metadata": {},
     "output_type": "display_data"
    }
   ],
   "source": [
    "plt.plot(principalComponents3[:,3], data[data['hr']<0.5]['hr'], '.')\n",
    "plt.xlabel('Principal Component 4')\n",
    "plt.ylabel('HR')\n",
    "plt.savefig('HRvPCA4.pdf')\n",
    "plt.show()"
   ]
  },
  {
   "cell_type": "code",
   "execution_count": 81,
   "metadata": {
    "collapsed": false,
    "deletable": true,
    "editable": true
   },
   "outputs": [
    {
     "data": {
      "image/png": "[encoded data removed]",
      "text/plain": [
       "<matplotlib.figure.Figure at 0x117009eb8>"
      ]
     },
     "metadata": {},
     "output_type": "display_data"
    }
   ],
   "source": [
    "sns.residplot(principalComponents3[:,0], data[data['hr']<0.5]['hr'])\n",
    "plt.show()"
   ]
  },
  {
   "cell_type": "code",
   "execution_count": null,
   "metadata": {
    "collapsed": true,
    "deletable": true,
    "editable": true
   },
   "outputs": [],
   "source": []
  }
 ],
 "metadata": {
  "kernelspec": {
   "display_name": "Python 3",
   "language": "python",
   "name": "python3"
  },
  "language_info": {
   "codemirror_mode": {
    "name": "ipython",
    "version": 3
   },
   "file_extension": ".py",
   "mimetype": "text/x-python",
   "name": "python",
   "nbconvert_exporter": "python",
   "pygments_lexer": "ipython3",
   "version": "3.6.5"
  }
 },
 "nbformat": 4,
 "nbformat_minor": 2
}
