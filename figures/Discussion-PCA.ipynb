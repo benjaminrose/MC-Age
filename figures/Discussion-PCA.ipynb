{
 "cells": [
  {
   "cell_type": "code",
   "execution_count": 3,
   "metadata": {
    "collapsed": true
   },
   "outputs": [],
   "source": [
    "from glob import glob\n",
    "import datetime\n",
    "\n",
    "from astropy.table import Table\n",
    "import pandas as pd\n",
    "\n",
    "from sklearn.preprocessing import StandardScaler\n",
    "from sklearn.decomposition import PCA\n",
    "\n",
    "from scipy.stats import spearmanr\n",
    "import seaborn as sns\n",
    "sns.set_style(\"whitegrid\")"
   ]
  },
  {
   "cell_type": "markdown",
   "metadata": {},
   "source": [
    "Why do this?"
   ]
  },
  {
   "cell_type": "markdown",
   "metadata": {},
   "source": [
    "## Gather the data\n",
    "\n",
    "### HR\n",
    "\n",
    "+ redshift cut"
   ]
  },
  {
   "cell_type": "code",
   "execution_count": 8,
   "metadata": {
    "collapsed": false
   },
   "outputs": [
    {
     "data": {
      "text/html": [
       "<div>\n",
       "<style scoped>\n",
       "    .dataframe tbody tr th:only-of-type {\n",
       "        vertical-align: middle;\n",
       "    }\n",
       "\n",
       "    .dataframe tbody tr th {\n",
       "        vertical-align: top;\n",
       "    }\n",
       "\n",
       "    .dataframe thead th {\n",
       "        text-align: right;\n",
       "    }\n",
       "</style>\n",
       "<table border=\"1\" class=\"dataframe\">\n",
       "  <thead>\n",
       "    <tr style=\"text-align: right;\">\n",
       "      <th></th>\n",
       "      <th>redshift</th>\n",
       "      <th>hr uncert</th>\n",
       "      <th>hr</th>\n",
       "    </tr>\n",
       "  </thead>\n",
       "  <tbody>\n",
       "    <tr>\n",
       "      <th>count</th>\n",
       "      <td>110.000000</td>\n",
       "      <td>110.000000</td>\n",
       "      <td>110.000000</td>\n",
       "    </tr>\n",
       "    <tr>\n",
       "      <th>mean</th>\n",
       "      <td>0.143270</td>\n",
       "      <td>0.081345</td>\n",
       "      <td>0.033863</td>\n",
       "    </tr>\n",
       "    <tr>\n",
       "      <th>std</th>\n",
       "      <td>0.041233</td>\n",
       "      <td>0.021431</td>\n",
       "      <td>0.300665</td>\n",
       "    </tr>\n",
       "    <tr>\n",
       "      <th>min</th>\n",
       "      <td>0.045248</td>\n",
       "      <td>0.056201</td>\n",
       "      <td>-0.495474</td>\n",
       "    </tr>\n",
       "    <tr>\n",
       "      <th>25%</th>\n",
       "      <td>0.114008</td>\n",
       "      <td>0.065902</td>\n",
       "      <td>-0.148960</td>\n",
       "    </tr>\n",
       "    <tr>\n",
       "      <th>50%</th>\n",
       "      <td>0.151705</td>\n",
       "      <td>0.076867</td>\n",
       "      <td>-0.012910</td>\n",
       "    </tr>\n",
       "    <tr>\n",
       "      <th>75%</th>\n",
       "      <td>0.180152</td>\n",
       "      <td>0.088614</td>\n",
       "      <td>0.115199</td>\n",
       "    </tr>\n",
       "    <tr>\n",
       "      <th>max</th>\n",
       "      <td>0.198704</td>\n",
       "      <td>0.169502</td>\n",
       "      <td>1.377882</td>\n",
       "    </tr>\n",
       "  </tbody>\n",
       "</table>\n",
       "</div>"
      ],
      "text/plain": [
       "         redshift   hr uncert          hr\n",
       "count  110.000000  110.000000  110.000000\n",
       "mean     0.143270    0.081345    0.033863\n",
       "std      0.041233    0.021431    0.300665\n",
       "min      0.045248    0.056201   -0.495474\n",
       "25%      0.114008    0.065902   -0.148960\n",
       "50%      0.151705    0.076867   -0.012910\n",
       "75%      0.180152    0.088614    0.115199\n",
       "max      0.198704    0.169502    1.377882"
      ]
     },
     "execution_count": 8,
     "metadata": {},
     "output_type": "execute_result"
    }
   ],
   "source": [
    "HR = pd.read_csv('../data/CampbellHoltzman_mb.tsv', sep='\\t', usecols=['SNID', 'redshift', 'hr', 'err_mu'], index_col='SNID')\n",
    "HR.rename(columns={'err_mu': 'hr uncert'}, inplace=True)\n",
    "HR = HR[HR['redshift']<0.2]\n",
    "HR.describe()"
   ]
  },
  {
   "cell_type": "markdown",
   "metadata": {},
   "source": [
    "### SALT2 parameters (x_1 & c)"
   ]
  },
  {
   "cell_type": "code",
   "execution_count": 10,
   "metadata": {
    "collapsed": false
   },
   "outputs": [
    {
     "data": {
      "text/html": [
       "<div>\n",
       "<style scoped>\n",
       "    .dataframe tbody tr th:only-of-type {\n",
       "        vertical-align: middle;\n",
       "    }\n",
       "\n",
       "    .dataframe tbody tr th {\n",
       "        vertical-align: top;\n",
       "    }\n",
       "\n",
       "    .dataframe thead th {\n",
       "        text-align: right;\n",
       "    }\n",
       "</style>\n",
       "<table border=\"1\" class=\"dataframe\">\n",
       "  <thead>\n",
       "    <tr style=\"text-align: right;\">\n",
       "      <th></th>\n",
       "      <th>redshift</th>\n",
       "      <th>x1</th>\n",
       "      <th>x1_err</th>\n",
       "      <th>color</th>\n",
       "      <th>color_err</th>\n",
       "    </tr>\n",
       "  </thead>\n",
       "  <tbody>\n",
       "    <tr>\n",
       "      <th>count</th>\n",
       "      <td>752.000000</td>\n",
       "      <td>752.000000</td>\n",
       "      <td>752.000000</td>\n",
       "      <td>752.000000</td>\n",
       "      <td>752.000000</td>\n",
       "    </tr>\n",
       "    <tr>\n",
       "      <th>mean</th>\n",
       "      <td>0.294032</td>\n",
       "      <td>-0.006514</td>\n",
       "      <td>0.765859</td>\n",
       "      <td>-0.013105</td>\n",
       "      <td>0.059070</td>\n",
       "    </tr>\n",
       "    <tr>\n",
       "      <th>std</th>\n",
       "      <td>0.103553</td>\n",
       "      <td>1.082517</td>\n",
       "      <td>0.506811</td>\n",
       "      <td>0.100019</td>\n",
       "      <td>0.023878</td>\n",
       "    </tr>\n",
       "    <tr>\n",
       "      <th>min</th>\n",
       "      <td>0.037069</td>\n",
       "      <td>-2.952440</td>\n",
       "      <td>0.061210</td>\n",
       "      <td>-0.245912</td>\n",
       "      <td>0.024959</td>\n",
       "    </tr>\n",
       "    <tr>\n",
       "      <th>25%</th>\n",
       "      <td>0.220188</td>\n",
       "      <td>-0.776738</td>\n",
       "      <td>0.426394</td>\n",
       "      <td>-0.084207</td>\n",
       "      <td>0.041157</td>\n",
       "    </tr>\n",
       "    <tr>\n",
       "      <th>50%</th>\n",
       "      <td>0.294489</td>\n",
       "      <td>0.022410</td>\n",
       "      <td>0.702974</td>\n",
       "      <td>-0.019256</td>\n",
       "      <td>0.055565</td>\n",
       "    </tr>\n",
       "    <tr>\n",
       "      <th>75%</th>\n",
       "      <td>0.369411</td>\n",
       "      <td>0.793196</td>\n",
       "      <td>1.011968</td>\n",
       "      <td>0.051200</td>\n",
       "      <td>0.073263</td>\n",
       "    </tr>\n",
       "    <tr>\n",
       "      <th>max</th>\n",
       "      <td>0.700345</td>\n",
       "      <td>2.887440</td>\n",
       "      <td>8.048070</td>\n",
       "      <td>0.246569</td>\n",
       "      <td>0.195758</td>\n",
       "    </tr>\n",
       "  </tbody>\n",
       "</table>\n",
       "</div>"
      ],
      "text/plain": [
       "         redshift          x1      x1_err       color   color_err\n",
       "count  752.000000  752.000000  752.000000  752.000000  752.000000\n",
       "mean     0.294032   -0.006514    0.765859   -0.013105    0.059070\n",
       "std      0.103553    1.082517    0.506811    0.100019    0.023878\n",
       "min      0.037069   -2.952440    0.061210   -0.245912    0.024959\n",
       "25%      0.220188   -0.776738    0.426394   -0.084207    0.041157\n",
       "50%      0.294489    0.022410    0.702974   -0.019256    0.055565\n",
       "75%      0.369411    0.793196    1.011968    0.051200    0.073263\n",
       "max      0.700345    2.887440    8.048070    0.246569    0.195758"
      ]
     },
     "execution_count": 10,
     "metadata": {},
     "output_type": "execute_result"
    }
   ],
   "source": [
    "t = Table.read('../data/SDSS_Photometric_SNe_Ia.fits')\n",
    "salt = t['CID','Z','X1','X1_ERR','COLOR','COLOR_ERR'].to_pandas()\n",
    "salt.columns = salt.columns.str.lower()\n",
    "salt.rename(columns={'cid': 'SNID', 'z': 'redshift'}, inplace=True)\n",
    "salt.set_index('SNID', inplace=True)\n",
    "salt.describe()"
   ]
  },
  {
   "cell_type": "markdown",
   "metadata": {},
   "source": [
    "### Stellar Mass"
   ]
  },
  {
   "cell_type": "code",
   "execution_count": 16,
   "metadata": {
    "collapsed": false
   },
   "outputs": [
    {
     "data": {
      "text/html": [
       "<div>\n",
       "<style scoped>\n",
       "    .dataframe tbody tr th:only-of-type {\n",
       "        vertical-align: middle;\n",
       "    }\n",
       "\n",
       "    .dataframe tbody tr th {\n",
       "        vertical-align: top;\n",
       "    }\n",
       "\n",
       "    .dataframe thead th {\n",
       "        text-align: right;\n",
       "    }\n",
       "</style>\n",
       "<table border=\"1\" class=\"dataframe\">\n",
       "  <thead>\n",
       "    <tr style=\"text-align: right;\">\n",
       "      <th></th>\n",
       "      <th>gal redshift</th>\n",
       "      <th>stellar mass</th>\n",
       "    </tr>\n",
       "  </thead>\n",
       "  <tbody>\n",
       "    <tr>\n",
       "      <th>count</th>\n",
       "      <td>306.000000</td>\n",
       "      <td>3.060000e+02</td>\n",
       "    </tr>\n",
       "    <tr>\n",
       "      <th>mean</th>\n",
       "      <td>0.223114</td>\n",
       "      <td>4.163392e+10</td>\n",
       "    </tr>\n",
       "    <tr>\n",
       "      <th>std</th>\n",
       "      <td>0.072936</td>\n",
       "      <td>5.003677e+10</td>\n",
       "    </tr>\n",
       "    <tr>\n",
       "      <th>min</th>\n",
       "      <td>0.000000</td>\n",
       "      <td>5.926090e+02</td>\n",
       "    </tr>\n",
       "    <tr>\n",
       "      <th>25%</th>\n",
       "      <td>0.175192</td>\n",
       "      <td>8.166742e+09</td>\n",
       "    </tr>\n",
       "    <tr>\n",
       "      <th>50%</th>\n",
       "      <td>0.236245</td>\n",
       "      <td>2.331775e+10</td>\n",
       "    </tr>\n",
       "    <tr>\n",
       "      <th>75%</th>\n",
       "      <td>0.283725</td>\n",
       "      <td>5.782568e+10</td>\n",
       "    </tr>\n",
       "    <tr>\n",
       "      <th>max</th>\n",
       "      <td>0.336325</td>\n",
       "      <td>3.486340e+11</td>\n",
       "    </tr>\n",
       "  </tbody>\n",
       "</table>\n",
       "</div>"
      ],
      "text/plain": [
       "       gal redshift  stellar mass\n",
       "count    306.000000  3.060000e+02\n",
       "mean       0.223114  4.163392e+10\n",
       "std        0.072936  5.003677e+10\n",
       "min        0.000000  5.926090e+02\n",
       "25%        0.175192  8.166742e+09\n",
       "50%        0.236245  2.331775e+10\n",
       "75%        0.283725  5.782568e+10\n",
       "max        0.336325  3.486340e+11"
      ]
     },
     "execution_count": 16,
     "metadata": {},
     "output_type": "execute_result"
    }
   ],
   "source": [
    "galaxy = pd.read_csv('../resources/kcorrect_stellarmass.csv',  usecols=['GAL', 'redshift', 'stellarmass'], index_col='GAL')\n",
    "galaxy.rename(columns={'redshift': 'gal redshift', 'stellarmass': 'stellar mass'}, inplace=True)\n",
    "galaxy.describe()"
   ]
  },
  {
   "cell_type": "markdown",
   "metadata": {},
   "source": [
    "### Age"
   ]
  },
  {
   "cell_type": "code",
   "execution_count": 13,
   "metadata": {
    "collapsed": false
   },
   "outputs": [
    {
     "data": {
      "text/html": [
       "<div>\n",
       "<style scoped>\n",
       "    .dataframe tbody tr th:only-of-type {\n",
       "        vertical-align: middle;\n",
       "    }\n",
       "\n",
       "    .dataframe tbody tr th {\n",
       "        vertical-align: top;\n",
       "    }\n",
       "\n",
       "    .dataframe thead th {\n",
       "        text-align: right;\n",
       "    }\n",
       "</style>\n",
       "<table border=\"1\" class=\"dataframe\">\n",
       "  <thead>\n",
       "    <tr style=\"text-align: right;\">\n",
       "      <th></th>\n",
       "      <th>age</th>\n",
       "    </tr>\n",
       "  </thead>\n",
       "  <tbody>\n",
       "    <tr>\n",
       "      <th>count</th>\n",
       "      <td>300.000000</td>\n",
       "    </tr>\n",
       "    <tr>\n",
       "      <th>mean</th>\n",
       "      <td>4.918252</td>\n",
       "    </tr>\n",
       "    <tr>\n",
       "      <th>std</th>\n",
       "      <td>1.953591</td>\n",
       "    </tr>\n",
       "    <tr>\n",
       "      <th>min</th>\n",
       "      <td>1.442631</td>\n",
       "    </tr>\n",
       "    <tr>\n",
       "      <th>25%</th>\n",
       "      <td>3.385100</td>\n",
       "    </tr>\n",
       "    <tr>\n",
       "      <th>50%</th>\n",
       "      <td>4.609988</td>\n",
       "    </tr>\n",
       "    <tr>\n",
       "      <th>75%</th>\n",
       "      <td>6.495736</td>\n",
       "    </tr>\n",
       "    <tr>\n",
       "      <th>max</th>\n",
       "      <td>9.597481</td>\n",
       "    </tr>\n",
       "  </tbody>\n",
       "</table>\n",
       "</div>"
      ],
      "text/plain": [
       "              age\n",
       "count  300.000000\n",
       "mean     4.918252\n",
       "std      1.953591\n",
       "min      1.442631\n",
       "25%      3.385100\n",
       "50%      4.609988\n",
       "75%      6.495736\n",
       "max      9.597481"
      ]
     },
     "execution_count": 13,
     "metadata": {},
     "output_type": "execute_result"
    }
   ],
   "source": [
    "age = pd.read_csv('../resources/ages_campbell.tsv', sep='\\t',  skiprows=[1],\n",
    "                   usecols=['# sn id', 'age'], dtype={'age': np.float64, '# sn id': np.int})\n",
    "age.rename(columns={'# sn id': 'SNID'}, inplace=True)\n",
    "age.set_index('SNID', inplace=True)\n",
    "age.describe()"
   ]
  },
  {
   "cell_type": "markdown",
   "metadata": {},
   "source": [
    "### Combine"
   ]
  },
  {
   "cell_type": "code",
   "execution_count": 17,
   "metadata": {
    "collapsed": false,
    "scrolled": true
   },
   "outputs": [
    {
     "data": {
      "text/html": [
       "<div>\n",
       "<style scoped>\n",
       "    .dataframe tbody tr th:only-of-type {\n",
       "        vertical-align: middle;\n",
       "    }\n",
       "\n",
       "    .dataframe tbody tr th {\n",
       "        vertical-align: top;\n",
       "    }\n",
       "\n",
       "    .dataframe thead th {\n",
       "        text-align: right;\n",
       "    }\n",
       "</style>\n",
       "<table border=\"1\" class=\"dataframe\">\n",
       "  <thead>\n",
       "    <tr style=\"text-align: right;\">\n",
       "      <th></th>\n",
       "      <th>redshift</th>\n",
       "      <th>hr uncert</th>\n",
       "      <th>hr</th>\n",
       "      <th>redshift</th>\n",
       "      <th>x1</th>\n",
       "      <th>x1_err</th>\n",
       "      <th>color</th>\n",
       "      <th>color_err</th>\n",
       "      <th>gal redshift</th>\n",
       "      <th>stellar mass</th>\n",
       "      <th>age</th>\n",
       "    </tr>\n",
       "  </thead>\n",
       "  <tbody>\n",
       "    <tr>\n",
       "      <th>count</th>\n",
       "      <td>108.000000</td>\n",
       "      <td>108.000000</td>\n",
       "      <td>108.000000</td>\n",
       "      <td>108.000000</td>\n",
       "      <td>108.000000</td>\n",
       "      <td>108.000000</td>\n",
       "      <td>108.000000</td>\n",
       "      <td>108.000000</td>\n",
       "      <td>108.000000</td>\n",
       "      <td>1.080000e+02</td>\n",
       "      <td>108.000000</td>\n",
       "    </tr>\n",
       "    <tr>\n",
       "      <th>mean</th>\n",
       "      <td>0.143131</td>\n",
       "      <td>0.081107</td>\n",
       "      <td>0.022314</td>\n",
       "      <td>0.143131</td>\n",
       "      <td>-0.184416</td>\n",
       "      <td>0.290465</td>\n",
       "      <td>0.017259</td>\n",
       "      <td>0.034174</td>\n",
       "      <td>0.143131</td>\n",
       "      <td>2.888078e+10</td>\n",
       "      <td>5.561903</td>\n",
       "    </tr>\n",
       "    <tr>\n",
       "      <th>std</th>\n",
       "      <td>0.041231</td>\n",
       "      <td>0.021494</td>\n",
       "      <td>0.282738</td>\n",
       "      <td>0.041231</td>\n",
       "      <td>1.004099</td>\n",
       "      <td>0.174572</td>\n",
       "      <td>0.089879</td>\n",
       "      <td>0.008488</td>\n",
       "      <td>0.041255</td>\n",
       "      <td>3.327005e+10</td>\n",
       "      <td>2.022606</td>\n",
       "    </tr>\n",
       "    <tr>\n",
       "      <th>min</th>\n",
       "      <td>0.045248</td>\n",
       "      <td>0.056201</td>\n",
       "      <td>-0.495474</td>\n",
       "      <td>0.045248</td>\n",
       "      <td>-2.641650</td>\n",
       "      <td>0.061210</td>\n",
       "      <td>-0.201667</td>\n",
       "      <td>0.024959</td>\n",
       "      <td>0.045363</td>\n",
       "      <td>3.521470e+07</td>\n",
       "      <td>1.619112</td>\n",
       "    </tr>\n",
       "    <tr>\n",
       "      <th>25%</th>\n",
       "      <td>0.114597</td>\n",
       "      <td>0.065757</td>\n",
       "      <td>-0.149894</td>\n",
       "      <td>0.114597</td>\n",
       "      <td>-0.758521</td>\n",
       "      <td>0.178529</td>\n",
       "      <td>-0.038826</td>\n",
       "      <td>0.028964</td>\n",
       "      <td>0.114553</td>\n",
       "      <td>5.678045e+09</td>\n",
       "      <td>3.974911</td>\n",
       "    </tr>\n",
       "    <tr>\n",
       "      <th>50%</th>\n",
       "      <td>0.151705</td>\n",
       "      <td>0.076661</td>\n",
       "      <td>-0.019370</td>\n",
       "      <td>0.151705</td>\n",
       "      <td>-0.118986</td>\n",
       "      <td>0.242189</td>\n",
       "      <td>0.002490</td>\n",
       "      <td>0.031283</td>\n",
       "      <td>0.151724</td>\n",
       "      <td>2.007325e+10</td>\n",
       "      <td>5.412169</td>\n",
       "    </tr>\n",
       "    <tr>\n",
       "      <th>75%</th>\n",
       "      <td>0.180032</td>\n",
       "      <td>0.088309</td>\n",
       "      <td>0.099492</td>\n",
       "      <td>0.180032</td>\n",
       "      <td>0.678535</td>\n",
       "      <td>0.372481</td>\n",
       "      <td>0.082806</td>\n",
       "      <td>0.037011</td>\n",
       "      <td>0.180045</td>\n",
       "      <td>3.575465e+10</td>\n",
       "      <td>7.097864</td>\n",
       "    </tr>\n",
       "    <tr>\n",
       "      <th>max</th>\n",
       "      <td>0.198704</td>\n",
       "      <td>0.169502</td>\n",
       "      <td>1.377882</td>\n",
       "      <td>0.198704</td>\n",
       "      <td>1.812530</td>\n",
       "      <td>1.135630</td>\n",
       "      <td>0.246569</td>\n",
       "      <td>0.066864</td>\n",
       "      <td>0.198706</td>\n",
       "      <td>2.267200e+11</td>\n",
       "      <td>9.597481</td>\n",
       "    </tr>\n",
       "  </tbody>\n",
       "</table>\n",
       "</div>"
      ],
      "text/plain": [
       "         redshift   hr uncert          hr    redshift          x1      x1_err  \\\n",
       "count  108.000000  108.000000  108.000000  108.000000  108.000000  108.000000   \n",
       "mean     0.143131    0.081107    0.022314    0.143131   -0.184416    0.290465   \n",
       "std      0.041231    0.021494    0.282738    0.041231    1.004099    0.174572   \n",
       "min      0.045248    0.056201   -0.495474    0.045248   -2.641650    0.061210   \n",
       "25%      0.114597    0.065757   -0.149894    0.114597   -0.758521    0.178529   \n",
       "50%      0.151705    0.076661   -0.019370    0.151705   -0.118986    0.242189   \n",
       "75%      0.180032    0.088309    0.099492    0.180032    0.678535    0.372481   \n",
       "max      0.198704    0.169502    1.377882    0.198704    1.812530    1.135630   \n",
       "\n",
       "            color   color_err  gal redshift  stellar mass         age  \n",
       "count  108.000000  108.000000    108.000000  1.080000e+02  108.000000  \n",
       "mean     0.017259    0.034174      0.143131  2.888078e+10    5.561903  \n",
       "std      0.089879    0.008488      0.041255  3.327005e+10    2.022606  \n",
       "min     -0.201667    0.024959      0.045363  3.521470e+07    1.619112  \n",
       "25%     -0.038826    0.028964      0.114553  5.678045e+09    3.974911  \n",
       "50%      0.002490    0.031283      0.151724  2.007325e+10    5.412169  \n",
       "75%      0.082806    0.037011      0.180045  3.575465e+10    7.097864  \n",
       "max      0.246569    0.066864      0.198706  2.267200e+11    9.597481  "
      ]
     },
     "execution_count": 17,
     "metadata": {},
     "output_type": "execute_result"
    }
   ],
   "source": [
    "data = pd.concat([HR, salt, galaxy, age], axis=1)\n",
    "data.dropna(inplace=True)\n",
    "data.describe()"
   ]
  },
  {
   "cell_type": "markdown",
   "metadata": {},
   "source": [
    "Convert stellar mass to be log(stellar mass)"
   ]
  },
  {
   "cell_type": "code",
   "execution_count": 18,
   "metadata": {
    "collapsed": false
   },
   "outputs": [
    {
     "data": {
      "text/html": [
       "<div>\n",
       "<style scoped>\n",
       "    .dataframe tbody tr th:only-of-type {\n",
       "        vertical-align: middle;\n",
       "    }\n",
       "\n",
       "    .dataframe tbody tr th {\n",
       "        vertical-align: top;\n",
       "    }\n",
       "\n",
       "    .dataframe thead th {\n",
       "        text-align: right;\n",
       "    }\n",
       "</style>\n",
       "<table border=\"1\" class=\"dataframe\">\n",
       "  <thead>\n",
       "    <tr style=\"text-align: right;\">\n",
       "      <th></th>\n",
       "      <th>redshift</th>\n",
       "      <th>hr uncert</th>\n",
       "      <th>hr</th>\n",
       "      <th>redshift</th>\n",
       "      <th>x1</th>\n",
       "      <th>x1_err</th>\n",
       "      <th>color</th>\n",
       "      <th>color_err</th>\n",
       "      <th>gal redshift</th>\n",
       "      <th>stellar mass</th>\n",
       "      <th>age</th>\n",
       "    </tr>\n",
       "  </thead>\n",
       "  <tbody>\n",
       "    <tr>\n",
       "      <th>count</th>\n",
       "      <td>108.000000</td>\n",
       "      <td>108.000000</td>\n",
       "      <td>108.000000</td>\n",
       "      <td>108.000000</td>\n",
       "      <td>108.000000</td>\n",
       "      <td>108.000000</td>\n",
       "      <td>108.000000</td>\n",
       "      <td>108.000000</td>\n",
       "      <td>108.000000</td>\n",
       "      <td>108.000000</td>\n",
       "      <td>108.000000</td>\n",
       "    </tr>\n",
       "    <tr>\n",
       "      <th>mean</th>\n",
       "      <td>0.143131</td>\n",
       "      <td>0.081107</td>\n",
       "      <td>0.022314</td>\n",
       "      <td>0.143131</td>\n",
       "      <td>-0.184416</td>\n",
       "      <td>0.290465</td>\n",
       "      <td>0.017259</td>\n",
       "      <td>0.034174</td>\n",
       "      <td>0.143131</td>\n",
       "      <td>10.122112</td>\n",
       "      <td>5.561903</td>\n",
       "    </tr>\n",
       "    <tr>\n",
       "      <th>std</th>\n",
       "      <td>0.041231</td>\n",
       "      <td>0.021494</td>\n",
       "      <td>0.282738</td>\n",
       "      <td>0.041231</td>\n",
       "      <td>1.004099</td>\n",
       "      <td>0.174572</td>\n",
       "      <td>0.089879</td>\n",
       "      <td>0.008488</td>\n",
       "      <td>0.041255</td>\n",
       "      <td>0.691949</td>\n",
       "      <td>2.022606</td>\n",
       "    </tr>\n",
       "    <tr>\n",
       "      <th>min</th>\n",
       "      <td>0.045248</td>\n",
       "      <td>0.056201</td>\n",
       "      <td>-0.495474</td>\n",
       "      <td>0.045248</td>\n",
       "      <td>-2.641650</td>\n",
       "      <td>0.061210</td>\n",
       "      <td>-0.201667</td>\n",
       "      <td>0.024959</td>\n",
       "      <td>0.045363</td>\n",
       "      <td>7.546724</td>\n",
       "      <td>1.619112</td>\n",
       "    </tr>\n",
       "    <tr>\n",
       "      <th>25%</th>\n",
       "      <td>0.114597</td>\n",
       "      <td>0.065757</td>\n",
       "      <td>-0.149894</td>\n",
       "      <td>0.114597</td>\n",
       "      <td>-0.758521</td>\n",
       "      <td>0.178529</td>\n",
       "      <td>-0.038826</td>\n",
       "      <td>0.028964</td>\n",
       "      <td>0.114553</td>\n",
       "      <td>9.754011</td>\n",
       "      <td>3.974911</td>\n",
       "    </tr>\n",
       "    <tr>\n",
       "      <th>50%</th>\n",
       "      <td>0.151705</td>\n",
       "      <td>0.076661</td>\n",
       "      <td>-0.019370</td>\n",
       "      <td>0.151705</td>\n",
       "      <td>-0.118986</td>\n",
       "      <td>0.242189</td>\n",
       "      <td>0.002490</td>\n",
       "      <td>0.031283</td>\n",
       "      <td>0.151724</td>\n",
       "      <td>10.302618</td>\n",
       "      <td>5.412169</td>\n",
       "    </tr>\n",
       "    <tr>\n",
       "      <th>75%</th>\n",
       "      <td>0.180032</td>\n",
       "      <td>0.088309</td>\n",
       "      <td>0.099492</td>\n",
       "      <td>0.180032</td>\n",
       "      <td>0.678535</td>\n",
       "      <td>0.372481</td>\n",
       "      <td>0.082806</td>\n",
       "      <td>0.037011</td>\n",
       "      <td>0.180045</td>\n",
       "      <td>10.553322</td>\n",
       "      <td>7.097864</td>\n",
       "    </tr>\n",
       "    <tr>\n",
       "      <th>max</th>\n",
       "      <td>0.198704</td>\n",
       "      <td>0.169502</td>\n",
       "      <td>1.377882</td>\n",
       "      <td>0.198704</td>\n",
       "      <td>1.812530</td>\n",
       "      <td>1.135630</td>\n",
       "      <td>0.246569</td>\n",
       "      <td>0.066864</td>\n",
       "      <td>0.198706</td>\n",
       "      <td>11.355490</td>\n",
       "      <td>9.597481</td>\n",
       "    </tr>\n",
       "  </tbody>\n",
       "</table>\n",
       "</div>"
      ],
      "text/plain": [
       "         redshift   hr uncert          hr    redshift          x1      x1_err  \\\n",
       "count  108.000000  108.000000  108.000000  108.000000  108.000000  108.000000   \n",
       "mean     0.143131    0.081107    0.022314    0.143131   -0.184416    0.290465   \n",
       "std      0.041231    0.021494    0.282738    0.041231    1.004099    0.174572   \n",
       "min      0.045248    0.056201   -0.495474    0.045248   -2.641650    0.061210   \n",
       "25%      0.114597    0.065757   -0.149894    0.114597   -0.758521    0.178529   \n",
       "50%      0.151705    0.076661   -0.019370    0.151705   -0.118986    0.242189   \n",
       "75%      0.180032    0.088309    0.099492    0.180032    0.678535    0.372481   \n",
       "max      0.198704    0.169502    1.377882    0.198704    1.812530    1.135630   \n",
       "\n",
       "            color   color_err  gal redshift  stellar mass         age  \n",
       "count  108.000000  108.000000    108.000000    108.000000  108.000000  \n",
       "mean     0.017259    0.034174      0.143131     10.122112    5.561903  \n",
       "std      0.089879    0.008488      0.041255      0.691949    2.022606  \n",
       "min     -0.201667    0.024959      0.045363      7.546724    1.619112  \n",
       "25%     -0.038826    0.028964      0.114553      9.754011    3.974911  \n",
       "50%      0.002490    0.031283      0.151724     10.302618    5.412169  \n",
       "75%      0.082806    0.037011      0.180045     10.553322    7.097864  \n",
       "max      0.246569    0.066864      0.198706     11.355490    9.597481  "
      ]
     },
     "execution_count": 18,
     "metadata": {},
     "output_type": "execute_result"
    }
   ],
   "source": [
    "data['stellar mass'] = np.log10(data['stellar mass'])\n",
    "data.describe()"
   ]
  },
  {
   "cell_type": "markdown",
   "metadata": {},
   "source": [
    "## PCA\n",
    "\n",
    "Standardize the variables. We will do everything in their \"linear\" (looking at you distance modulus/HR) space excepct for stellar mass."
   ]
  },
  {
   "cell_type": "code",
   "execution_count": 23,
   "metadata": {
    "collapsed": false
   },
   "outputs": [
    {
     "data": {
      "text/plain": [
       "(108, 5)"
      ]
     },
     "execution_count": 23,
     "metadata": {},
     "output_type": "execute_result"
    }
   ],
   "source": [
    "# Lets remove uncertainties & redshift?\n",
    "features = ['hr', 'x1', 'color', 'stellar mass', 'age']\n",
    "x = data.loc[:, features].values\n",
    "x = StandardScaler().fit_transform(x)\n",
    "x.shape"
   ]
  },
  {
   "cell_type": "code",
   "execution_count": 32,
   "metadata": {
    "collapsed": true
   },
   "outputs": [],
   "source": [
    "pca = PCA(n_components=5)\n",
    "principalComponents = pca.fit_transform(x)"
   ]
  },
  {
   "cell_type": "code",
   "execution_count": 27,
   "metadata": {
    "collapsed": false
   },
   "outputs": [
    {
     "data": {
      "text/plain": [
       "array([[ 0.49911149,  0.43757679,  0.04679175, -0.5079471 , -0.54700507],\n",
       "       [ 0.2901393 , -0.29165158,  0.90745742,  0.03247527,  0.07889816],\n",
       "       [ 0.14515127, -0.76702441, -0.27428528, -0.56133325,  0.01665047],\n",
       "       [ 0.79168903,  0.03513631, -0.29090412,  0.31178586,  0.43607143],\n",
       "       [-0.1373554 ,  0.36593019,  0.12030766, -0.57326229,  0.71001761]])"
      ]
     },
     "execution_count": 27,
     "metadata": {},
     "output_type": "execute_result"
    }
   ],
   "source": [
    "pca.components_"
   ]
  },
  {
   "cell_type": "code",
   "execution_count": 28,
   "metadata": {
    "collapsed": false
   },
   "outputs": [
    {
     "data": {
      "text/plain": [
       "array([ 15.11714534,  10.76819372,   8.94639933,   7.84833455,   7.34053843])"
      ]
     },
     "execution_count": 28,
     "metadata": {},
     "output_type": "execute_result"
    }
   ],
   "source": [
    "pca.singular_values_"
   ]
  },
  {
   "cell_type": "code",
   "execution_count": 77,
   "metadata": {
    "collapsed": false
   },
   "outputs": [
    {
     "data": {
      "text/plain": [
       "array([ 0.42320015,  0.21472962,  0.14821863,  0.11406732,  0.09978427])"
      ]
     },
     "execution_count": 77,
     "metadata": {},
     "output_type": "execute_result"
    }
   ],
   "source": [
    "pca.explained_variance_ratio_"
   ]
  },
  {
   "cell_type": "markdown",
   "metadata": {},
   "source": [
    "### PCA without HR"
   ]
  },
  {
   "cell_type": "code",
   "execution_count": 39,
   "metadata": {
    "collapsed": false
   },
   "outputs": [
    {
     "data": {
      "text/plain": [
       "(108, 4)"
      ]
     },
     "execution_count": 39,
     "metadata": {},
     "output_type": "execute_result"
    }
   ],
   "source": [
    "# Lets remove uncertainties & redshift?\n",
    "features = ['x1', 'color', 'stellar mass', 'age']\n",
    "y = data.loc[:, features].values\n",
    "y = StandardScaler().fit_transform(y)\n",
    "y.shape"
   ]
  },
  {
   "cell_type": "code",
   "execution_count": 40,
   "metadata": {
    "collapsed": true
   },
   "outputs": [],
   "source": [
    "pca2 = PCA(n_components=4)\n",
    "principalComponents2 = pca2.fit_transform(y)"
   ]
  },
  {
   "cell_type": "code",
   "execution_count": 79,
   "metadata": {
    "collapsed": false
   },
   "outputs": [
    {
     "data": {
      "text/plain": [
       "(108, 4)"
      ]
     },
     "execution_count": 79,
     "metadata": {},
     "output_type": "execute_result"
    }
   ],
   "source": [
    "principalComponents2.shape"
   ]
  },
  {
   "cell_type": "code",
   "execution_count": 41,
   "metadata": {
    "collapsed": false
   },
   "outputs": [
    {
     "data": {
      "text/plain": [
       "array([[ 0.53352587, -0.04696966, -0.56537291, -0.62729377],\n",
       "       [-0.13694359,  0.98045572, -0.10007193, -0.09969279],\n",
       "       [-0.75305852, -0.17555257, -0.63141943, -0.05825519],\n",
       "       [ 0.35986035,  0.07537729, -0.52119918,  0.77017544]])"
      ]
     },
     "execution_count": 41,
     "metadata": {},
     "output_type": "execute_result"
    }
   ],
   "source": [
    "pca2.components_"
   ]
  },
  {
   "cell_type": "code",
   "execution_count": 42,
   "metadata": {
    "collapsed": false
   },
   "outputs": [
    {
     "data": {
      "text/plain": [
       "array([ 13.76484991,  10.4426602 ,   8.90954071,   7.35525929])"
      ]
     },
     "execution_count": 42,
     "metadata": {},
     "output_type": "execute_result"
    }
   ],
   "source": [
    "pca2.singular_values_"
   ]
  },
  {
   "cell_type": "code",
   "execution_count": 64,
   "metadata": {
    "collapsed": false
   },
   "outputs": [
    {
     "data": {
      "image/png": "[encoded data removed]",
      "text/plain": [
       "<matplotlib.figure.Figure at 0x1171efeb8>"
      ]
     },
     "metadata": {},
     "output_type": "display_data"
    }
   ],
   "source": [
    "plt.plot(principalComponents2[:,0], data['hr'], '.')\n",
    "plt.xlabel('Principal Component 1')\n",
    "plt.ylabel('HR')\n",
    "# plt.savefig('HRvPCA1.pdf')\n",
    "plt.show()"
   ]
  },
  {
   "cell_type": "code",
   "execution_count": 65,
   "metadata": {
    "collapsed": false
   },
   "outputs": [
    {
     "data": {
      "image/png": "[encoded data removed]",
      "text/plain": [
       "<matplotlib.figure.Figure at 0x11700fda0>"
      ]
     },
     "metadata": {},
     "output_type": "display_data"
    }
   ],
   "source": [
    "plt.plot(principalComponents2[:,1], data['hr'], '.')\n",
    "plt.xlabel('Principal Component 2')\n",
    "plt.ylabel('HR')\n",
    "# plt.savefig('HRvPCA2.pdf')\n",
    "plt.show()"
   ]
  },
  {
   "cell_type": "code",
   "execution_count": 66,
   "metadata": {
    "collapsed": false
   },
   "outputs": [
    {
     "data": {
      "image/png": "[encoded data removed]",
      "text/plain": [
       "<matplotlib.figure.Figure at 0x1173aca90>"
      ]
     },
     "metadata": {},
     "output_type": "display_data"
    }
   ],
   "source": [
    "plt.plot(principalComponents2[:,2], data['hr'], '.')\n",
    "plt.xlabel('Principal Component 3')\n",
    "plt.ylabel('HR')\n",
    "# plt.savefig('HRvPCA3.pdf')\n",
    "plt.show()"
   ]
  },
  {
   "cell_type": "code",
   "execution_count": 67,
   "metadata": {
    "collapsed": false
   },
   "outputs": [
    {
     "data": {
      "image/png": "[encoded data removed]",
      "text/plain": [
       "<matplotlib.figure.Figure at 0x1170f9358>"
      ]
     },
     "metadata": {},
     "output_type": "display_data"
    }
   ],
   "source": [
    "plt.plot(principalComponents2[:,3], data['hr'], '.')\n",
    "plt.xlabel('Principal Component 4')\n",
    "plt.ylabel('HR')\n",
    "# plt.savefig('HRvPCA4.pdf')\n",
    "plt.show()"
   ]
  },
  {
   "cell_type": "markdown",
   "metadata": {},
   "source": [
    "[ 0.53352587, -0.04696966, -0.56537291, -0.62729377] of x1, color, stellar mass, and age.\n",
    "\n",
    "* color has no effect.\n",
    "* x1 shows that it is different SNIa, of our standard definitions.\n",
    "* stellar mass and age have a negative correlation of almost equal weight, but age is slightly stronger.\n"
   ]
  },
  {
   "cell_type": "markdown",
   "metadata": {},
   "source": [
    "### PCA without HR and without objects with HR < 0.5\n",
    "\n",
    "Removes 5 objects"
   ]
  },
  {
   "cell_type": "code",
   "execution_count": 57,
   "metadata": {
    "collapsed": false
   },
   "outputs": [
    {
     "data": {
      "text/plain": [
       "(103, 4)"
      ]
     },
     "execution_count": 57,
     "metadata": {},
     "output_type": "execute_result"
    }
   ],
   "source": [
    "features = ['x1', 'color', 'stellar mass', 'age']\n",
    "z = data[data['hr']<0.5].loc[:, features].values\n",
    "z = StandardScaler().fit_transform(z)\n",
    "z.shape"
   ]
  },
  {
   "cell_type": "code",
   "execution_count": 58,
   "metadata": {
    "collapsed": true
   },
   "outputs": [],
   "source": [
    "pca3 = PCA(n_components=4)\n",
    "principalComponents3 = pca3.fit_transform(z)"
   ]
  },
  {
   "cell_type": "code",
   "execution_count": 60,
   "metadata": {
    "collapsed": false
   },
   "outputs": [
    {
     "data": {
      "text/plain": [
       "array([[ 0.54259113, -0.10542863, -0.56066036, -0.61655465],\n",
       "       [-0.16048507,  0.95949048, -0.1897051 , -0.13279506],\n",
       "       [-0.73930618, -0.25248866, -0.622891  , -0.04102012],\n",
       "       [ 0.36505586,  0.06717357, -0.51154544,  0.77494722]])"
      ]
     },
     "execution_count": 60,
     "metadata": {},
     "output_type": "execute_result"
    }
   ],
   "source": [
    "pca3.components_"
   ]
  },
  {
   "cell_type": "code",
   "execution_count": 61,
   "metadata": {
    "collapsed": false
   },
   "outputs": [
    {
     "data": {
      "text/plain": [
       "array([ 13.5253809 ,  10.21837964,   8.49723135,   7.2419506 ])"
      ]
     },
     "execution_count": 61,
     "metadata": {},
     "output_type": "execute_result"
    }
   ],
   "source": [
    "pca3.singular_values_"
   ]
  },
  {
   "cell_type": "code",
   "execution_count": 72,
   "metadata": {
    "collapsed": false
   },
   "outputs": [
    {
     "data": {
      "text/plain": [
       "array([ 0.44401924,  0.25343515,  0.17524986,  0.12729575])"
      ]
     },
     "execution_count": 72,
     "metadata": {},
     "output_type": "execute_result"
    }
   ],
   "source": [
    "pca3.explained_variance_ratio_"
   ]
  },
  {
   "cell_type": "code",
   "execution_count": 73,
   "metadata": {
    "collapsed": false
   },
   "outputs": [
    {
     "data": {
      "image/png": "[encoded data removed]",
      "text/plain": [
       "<matplotlib.figure.Figure at 0x1170f7668>"
      ]
     },
     "metadata": {},
     "output_type": "display_data"
    }
   ],
   "source": [
    "plt.plot(principalComponents3[:,0], data[data['hr']<0.5]['hr'], '.')\n",
    "plt.xlabel('Principal Component 1')\n",
    "plt.ylabel('HR')\n",
    "plt.savefig('HRvPCA1.pdf')\n",
    "plt.show()"
   ]
  },
  {
   "cell_type": "code",
   "execution_count": 74,
   "metadata": {
    "collapsed": false
   },
   "outputs": [
    {
     "data": {
      "image/png": "[encoded data removed]",
      "text/plain": [
       "<matplotlib.figure.Figure at 0x1176066a0>"
      ]
     },
     "metadata": {},
     "output_type": "display_data"
    }
   ],
   "source": [
    "plt.plot(principalComponents3[:,1], data[data['hr']<0.5]['hr'], '.')\n",
    "plt.xlabel('Principal Component 2')\n",
    "plt.ylabel('HR')\n",
    "plt.savefig('HRvPCA2.pdf')\n",
    "plt.show()"
   ]
  },
  {
   "cell_type": "code",
   "execution_count": 75,
   "metadata": {
    "collapsed": false
   },
   "outputs": [
    {
     "data": {
      "image/png": "[encoded data removed]",
      "text/plain": [
       "<matplotlib.figure.Figure at 0x11746c898>"
      ]
     },
     "metadata": {},
     "output_type": "display_data"
    }
   ],
   "source": [
    "plt.plot(principalComponents3[:,2], data[data['hr']<0.5]['hr'], '.')\n",
    "plt.xlabel('Principal Component 3')\n",
    "plt.ylabel('HR')\n",
    "plt.savefig('HRvPCA3.pdf')\n",
    "plt.show()"
   ]
  },
  {
   "cell_type": "code",
   "execution_count": 76,
   "metadata": {
    "collapsed": false
   },
   "outputs": [
    {
     "data": {
      "image/png": "[encoded data removed]",
      "text/plain": [
       "<matplotlib.figure.Figure at 0x1173e24a8>"
      ]
     },
     "metadata": {},
     "output_type": "display_data"
    }
   ],
   "source": [
    "plt.plot(principalComponents3[:,3], data[data['hr']<0.5]['hr'], '.')\n",
    "plt.xlabel('Principal Component 4')\n",
    "plt.ylabel('HR')\n",
    "plt.savefig('HRvPCA4.pdf')\n",
    "plt.show()"
   ]
  },
  {
   "cell_type": "code",
   "execution_count": 81,
   "metadata": {
    "collapsed": false
   },
   "outputs": [
    {
     "data": {
      "image/png": "[encoded data removed]",
      "text/plain": [
       "<matplotlib.figure.Figure at 0x117009eb8>"
      ]
     },
     "metadata": {},
     "output_type": "display_data"
    }
   ],
   "source": [
    "sns.residplot(principalComponents3[:,0], data[data['hr']<0.5]['hr'])\n",
    "plt.show()"
   ]
  },
  {
   "cell_type": "code",
   "execution_count": null,
   "metadata": {
    "collapsed": true
   },
   "outputs": [],
   "source": []
  }
 ],
 "metadata": {
  "kernelspec": {
   "display_name": "Python 3",
   "language": "python",
   "name": "python3"
  }
 },
 "nbformat": 4,
 "nbformat_minor": 2
}
