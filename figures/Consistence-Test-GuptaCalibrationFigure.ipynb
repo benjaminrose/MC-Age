{
 "cells": [
  {
   "cell_type": "markdown",
   "metadata": {
    "deletable": true,
    "editable": true
   },
   "source": [
    "# Consistencey Test, Compare to Gupta 2011\n",
    "\n",
    "We rerun the age estimates on the objects analayed by Gupta et al. 2001 and see what if any significant changes their are. We uesed the 76 objects from Gupta that fit our quality cuts.\n",
    "\n",
    "## Getting started"
   ]
  },
  {
   "cell_type": "code",
   "execution_count": 1,
   "metadata": {
    "collapsed": false,
    "deletable": true,
    "editable": true
   },
   "outputs": [],
   "source": [
    "import numpy as np\n",
    "from astropy.table import Table"
   ]
  },
  {
   "cell_type": "code",
   "execution_count": 2,
   "metadata": {
    "collapsed": true,
    "deletable": true,
    "editable": true
   },
   "outputs": [],
   "source": [
    "from astropy.table import join"
   ]
  },
  {
   "cell_type": "code",
   "execution_count": 3,
   "metadata": {
    "collapsed": true,
    "deletable": true,
    "editable": true
   },
   "outputs": [],
   "source": [
    "import matplotlib.pyplot as plt\n",
    "import seaborn as sns"
   ]
  },
  {
   "cell_type": "code",
   "execution_count": 4,
   "metadata": {
    "collapsed": false,
    "deletable": true,
    "editable": true
   },
   "outputs": [],
   "source": [
    "filepath = '../resources/ages_gupta.tsv'\n",
    "RoseData = Table.read(filepath, format='ascii.commented_header', delimiter='\\t')\n",
    "RoseData['sn id'] = RoseData['sn id'].astype(int)    # Convert SN ID from float"
   ]
  },
  {
   "cell_type": "code",
   "execution_count": 5,
   "metadata": {
    "collapsed": false,
    "deletable": true,
    "editable": true
   },
   "outputs": [],
   "source": [
    "filepath = '../data/Gupta11_table2.txt'\n",
    "GuptaData = Table.read(filepath, format='ascii.csv', delimiter='\\t', \n",
    "                       header_start=2, data_start=3, fill_values = ('...', 'np.nan'))\n",
    "#Note ascii.commented_header NEEDS commented lines?\n",
    "#This maskes the cells that were '...'"
   ]
  },
  {
   "cell_type": "markdown",
   "metadata": {
    "deletable": true,
    "editable": true
   },
   "source": [
    "# Verrify the correct data points\n",
    "\n",
    "Not needed, the `join` takes care of this section"
   ]
  },
  {
   "cell_type": "code",
   "execution_count": 6,
   "metadata": {
    "collapsed": false,
    "deletable": true,
    "editable": true
   },
   "outputs": [
    {
     "name": "stdout",
     "output_type": "stream",
     "text": [
      "206\n",
      "76\n"
     ]
    }
   ],
   "source": [
    "print(len(GuptaData))\n",
    "print(len(RoseData))"
   ]
  },
  {
   "cell_type": "code",
   "execution_count": 7,
   "metadata": {
    "collapsed": false,
    "deletable": true,
    "editable": true
   },
   "outputs": [
    {
     "data": {
      "text/html": [
       "&lt;Table masked=True length=5&gt;\n",
       "<table id=\"table4547792512\" class=\"table-striped table-bordered table-condensed\">\n",
       "<thead><tr><th>SN ID</th><th>IAU</th><th>RA</th><th>Dec</th><th>redshift</th><th>redshift uncert</th><th>M -</th><th>M</th><th>M +</th><th>Age -</th><th>Age</th><th>Age +</th><th>c</th><th>c uncert</th><th>x_1</th><th>x_1 uncert</th><th>HR</th><th>HR uncert</th></tr></thead>\n",
       "<thead><tr><th>int64</th><th>str6</th><th>float64</th><th>float64</th><th>float64</th><th>float64</th><th>float64</th><th>float64</th><th>float64</th><th>float64</th><th>float64</th><th>float64</th><th>float64</th><th>float64</th><th>float64</th><th>float64</th><th>float64</th><th>float64</th></tr></thead>\n",
       "<tr><td>1166</td><td>--</td><td>9.3552761078</td><td>0.9739487767</td><td>0.3824</td><td>0.0005</td><td>11.08</td><td>11.15</td><td>11.22</td><td>4.13</td><td>6.47</td><td>7.53</td><td>0.023</td><td>0.068</td><td>1.274</td><td>1.103</td><td>-0.3288</td><td>0.2179</td></tr>\n",
       "<tr><td>1253</td><td>2005fd</td><td>323.798583984</td><td>0.1628694236</td><td>0.262</td><td>0.005</td><td>11.27</td><td>11.34</td><td>11.39</td><td>5.89</td><td>7.8</td><td>8.03</td><td>-0.119</td><td>0.058</td><td>-1.28</td><td>0.464</td><td>-0.1097</td><td>0.1611</td></tr>\n",
       "<tr><td>1371</td><td>2005fh</td><td>349.373748779</td><td>0.4296737611</td><td>0.11915</td><td>0.00012</td><td>10.95</td><td>11.0</td><td>11.02</td><td>5.27</td><td>6.76</td><td>7.26</td><td>-0.084</td><td>0.02</td><td>0.703</td><td>0.167</td><td>-0.1775</td><td>0.0566</td></tr>\n",
       "<tr><td>1580</td><td>2005fb</td><td>45.3238296509</td><td>-0.6422790885</td><td>0.183</td><td>8e-05</td><td>10.61</td><td>10.73</td><td>10.83</td><td>3.58</td><td>5.2</td><td>6.95</td><td>-0.058</td><td>0.026</td><td>0.675</td><td>0.271</td><td>-0.1156</td><td>0.0775</td></tr>\n",
       "<tr><td>1688</td><td>--</td><td>321.357818603</td><td>0.3248503506</td><td>0.3587</td><td>0.0005</td><td>10.09</td><td>10.2</td><td>10.32</td><td>1.5</td><td>2.04</td><td>2.74</td><td>0.007</td><td>0.07</td><td>1.019</td><td>1.306</td><td>0.024</td><td>0.2309</td></tr>\n",
       "</table>"
      ],
      "text/plain": [
       "<Table masked=True length=5>\n",
       "SN ID  IAU         RA           Dec      ... x_1 uncert    HR   HR uncert\n",
       "int64  str6     float64       float64    ...  float64   float64  float64 \n",
       "----- ------ ------------- ------------- ... ---------- ------- ---------\n",
       " 1166     --  9.3552761078  0.9739487767 ...      1.103 -0.3288    0.2179\n",
       " 1253 2005fd 323.798583984  0.1628694236 ...      0.464 -0.1097    0.1611\n",
       " 1371 2005fh 349.373748779  0.4296737611 ...      0.167 -0.1775    0.0566\n",
       " 1580 2005fb 45.3238296509 -0.6422790885 ...      0.271 -0.1156    0.0775\n",
       " 1688     -- 321.357818603  0.3248503506 ...      1.306   0.024    0.2309"
      ]
     },
     "execution_count": 7,
     "metadata": {},
     "output_type": "execute_result"
    }
   ],
   "source": [
    "GuptaData[:5]"
   ]
  },
  {
   "cell_type": "code",
   "execution_count": 8,
   "metadata": {
    "collapsed": false,
    "deletable": true,
    "editable": true
   },
   "outputs": [
    {
     "data": {
      "text/html": [
       "&lt;Table length=5&gt;\n",
       "<table id=\"table4548465608\" class=\"table-striped table-bordered table-condensed\">\n",
       "<thead><tr><th>sn id</th><th>age</th><th>lower limit</th><th>upper limit</th></tr></thead>\n",
       "<thead><tr><th>int64</th><th>float64</th><th>float64</th><th>float64</th></tr></thead>\n",
       "<tr><td>16100</td><td>4.9903750786</td><td>3.43530574986</td><td>6.95231747053</td></tr>\n",
       "<tr><td>18241</td><td>8.20487376491</td><td>2.18804679709</td><td>10.121954036</td></tr>\n",
       "<tr><td>12950</td><td>1.87043908319</td><td>1.46766769314</td><td>2.34727144527</td></tr>\n",
       "<tr><td>3256</td><td>4.88380305539</td><td>2.31839784584</td><td>7.0813903827</td></tr>\n",
       "<tr><td>18650</td><td>2.10091204475</td><td>1.32246764757</td><td>3.39300962638</td></tr>\n",
       "</table>"
      ],
      "text/plain": [
       "<Table length=5>\n",
       "sn id      age       lower limit   upper limit \n",
       "int64    float64       float64       float64   \n",
       "----- ------------- ------------- -------------\n",
       "16100  4.9903750786 3.43530574986 6.95231747053\n",
       "18241 8.20487376491 2.18804679709  10.121954036\n",
       "12950 1.87043908319 1.46766769314 2.34727144527\n",
       " 3256 4.88380305539 2.31839784584  7.0813903827\n",
       "18650 2.10091204475 1.32246764757 3.39300962638"
      ]
     },
     "execution_count": 8,
     "metadata": {},
     "output_type": "execute_result"
    }
   ],
   "source": [
    "RoseData[:5]"
   ]
  },
  {
   "cell_type": "markdown",
   "metadata": {
    "deletable": true,
    "editable": true
   },
   "source": [
    "## Combine into one table\n",
    "\n",
    "Combining into one table forces them to allow for "
   ]
  },
  {
   "cell_type": "code",
   "execution_count": 9,
   "metadata": {
    "collapsed": false,
    "deletable": true,
    "editable": true
   },
   "outputs": [
    {
     "data": {
      "text/html": [
       "&lt;Table masked=True length=5&gt;\n",
       "<table id=\"table4548466280\" class=\"table-striped table-bordered table-condensed\">\n",
       "<thead><tr><th>SN ID</th><th>age</th><th>lower limit</th><th>upper limit</th><th>Age</th><th>Age +</th><th>Age -</th></tr></thead>\n",
       "<thead><tr><th>int64</th><th>float64</th><th>float64</th><th>float64</th><th>float64</th><th>float64</th><th>float64</th></tr></thead>\n",
       "<tr><td>1371</td><td>8.19892209654</td><td>6.20933453675</td><td>9.60747258693</td><td>6.76</td><td>7.26</td><td>5.27</td></tr>\n",
       "<tr><td>1580</td><td>5.07953907697</td><td>4.35865392406</td><td>6.28956597428</td><td>5.2</td><td>6.95</td><td>3.58</td></tr>\n",
       "<tr><td>2372</td><td>6.49784686829</td><td>4.79727692375</td><td>7.30872912604</td><td>7.64</td><td>8.81</td><td>6.08</td></tr>\n",
       "<tr><td>2635</td><td>2.46063507621</td><td>1.74941560364</td><td>3.58135931887</td><td>4.73</td><td>6.0</td><td>3.35</td></tr>\n",
       "<tr><td>3080</td><td>5.05365373544</td><td>4.1371937691</td><td>6.06472514562</td><td>4.87</td><td>4.87</td><td>3.67</td></tr>\n",
       "</table>"
      ],
      "text/plain": [
       "<Table masked=True length=5>\n",
       "SN ID      age       lower limit   upper limit    Age    Age +   Age - \n",
       "int64    float64       float64       float64    float64 float64 float64\n",
       "----- ------------- ------------- ------------- ------- ------- -------\n",
       " 1371 8.19892209654 6.20933453675 9.60747258693    6.76    7.26    5.27\n",
       " 1580 5.07953907697 4.35865392406 6.28956597428     5.2    6.95    3.58\n",
       " 2372 6.49784686829 4.79727692375 7.30872912604    7.64    8.81    6.08\n",
       " 2635 2.46063507621 1.74941560364 3.58135931887    4.73     6.0    3.35\n",
       " 3080 5.05365373544  4.1371937691 6.06472514562    4.87    4.87    3.67"
      ]
     },
     "execution_count": 9,
     "metadata": {},
     "output_type": "execute_result"
    }
   ],
   "source": [
    "RoseData.rename_column('sn id', 'SN ID')\n",
    "data = join(RoseData, GuptaData[['SN ID', 'Age', 'Age +', 'Age -']] , keys='SN ID')\n",
    "data[:5]"
   ]
  },
  {
   "cell_type": "markdown",
   "metadata": {
    "deletable": true,
    "editable": true
   },
   "source": [
    "# Make plots"
   ]
  },
  {
   "cell_type": "code",
   "execution_count": 10,
   "metadata": {
    "collapsed": true,
    "deletable": true,
    "editable": true
   },
   "outputs": [],
   "source": [
    "# sns.set_style(\"whitegrid\")\n",
    "from scipy.stats import spearmanr, pearsonr"
   ]
  },
  {
   "cell_type": "code",
   "execution_count": 11,
   "metadata": {
    "collapsed": false,
    "deletable": true,
    "editable": true
   },
   "outputs": [
    {
     "data": {
      "image/png": "[encoded data removed]",
      "text/plain": [
       "<matplotlib.figure.Figure at 0x10f2082e8>"
      ]
     },
     "metadata": {},
     "output_type": "display_data"
    }
   ],
   "source": [
    "sns.set(context='talk', style='ticks', font='serif', color_codes=True)\n",
    "\n",
    "#'rug':True in marginal_kws, makes it very slow and looks like a solid line\n",
    "g = sns.jointplot(x=data['Age'], y=data['age'], stat_func=spearmanr, kind=\"scatter\",\n",
    "                  xlim=(0,12), ylim=(0,12), space=0,\n",
    "                  marginal_kws={'bins':6, 'kde':True, 'hist':True,\n",
    "                                'kde_kws':{\"shade\":True}}\n",
    "                 )\n",
    "g.ax_joint.plot(np.linspace(0,12), np.linspace(0,12), alpha=0.5, c='grey')\n",
    "\n",
    "g = g.annotate(spearmanr, stat=\"Spearman's correlation\",\n",
    "               loc=\"best\", fontsize=13, \n",
    "               template=\"{stat}: {val:.2f}\")\n",
    "# it looks like <abs(0.3) for spearman r is not very correlated.\n",
    "\n",
    "g = g.set_axis_labels('global age [Gyr], Gupta 2011', 'global age [Gyr]')\n",
    "\n",
    "\n",
    "g.ax_joint.tick_params(axis='both', direction='in')\n",
    "g.ax_joint.grid(which='major', axis='both', color='0.90', linestyle='-')\n",
    "\n",
    "plt.savefig('ageCalibration_roseVgupta.pdf')\n",
    "plt.show()"
   ]
  },
  {
   "cell_type": "markdown",
   "metadata": {
    "deletable": true,
    "editable": true
   },
   "source": [
    "## Discussion"
   ]
  },
  {
   "cell_type": "code",
   "execution_count": 15,
   "metadata": {
    "collapsed": false,
    "deletable": true,
    "editable": true
   },
   "outputs": [
    {
     "data": {
      "text/plain": [
       "(0.79900015727631479, 5.1823408482885955e-18)"
      ]
     },
     "execution_count": 15,
     "metadata": {},
     "output_type": "execute_result"
    }
   ],
   "source": [
    "pearsonr(data['Age'], data['age'])  # not that different than Spearman R, so it is very linear relationship."
   ]
  },
  {
   "cell_type": "markdown",
   "metadata": {
    "deletable": true,
    "editable": true
   },
   "source": [
    "### Looking at Uncertanties"
   ]
  },
  {
   "cell_type": "code",
   "execution_count": 24,
   "metadata": {
    "collapsed": false,
    "deletable": true,
    "editable": true
   },
   "outputs": [],
   "source": [
    "yerr = ((data['age'] - data['lower limit']) + (data['upper limit']- data['age']))/2  # Rose Data\n",
    "xerr = ((data['Age'] - data['Age -']) + (data['Age +']-data['Age']))/2     # Gupta Data"
   ]
  },
  {
   "cell_type": "code",
   "execution_count": 25,
   "metadata": {
    "collapsed": false,
    "deletable": true,
    "editable": true
   },
   "outputs": [
    {
     "name": "stdout",
     "output_type": "stream",
     "text": [
      "Rose 2018\n",
      "1.28955972595\n",
      "0.495512608619\n",
      "\n",
      "Gupta 2011\n",
      "1.37\n",
      "0.3125\n"
     ]
    },
    {
     "name": "stderr",
     "output_type": "stream",
     "text": [
      "/usr/local/lib/python3.6/site-packages/numpy/core/fromnumeric.py:639: UserWarning: Warning: 'partition' will ignore the 'mask' of the MaskedColumn.\n",
      "  a.partition(kth, axis=axis, kind=kind, order=order)\n"
     ]
    }
   ],
   "source": [
    "print('Rose 2018')\n",
    "print(np.median(yerr))\n",
    "print(np.median(np.abs(yerr - np.median(yerr))))\n",
    "\n",
    "print('\\nGupta 2011')\n",
    "print(np.median(xerr))\n",
    "print(np.median(np.abs(xerr - np.median(xerr))))"
   ]
  },
  {
   "cell_type": "code",
   "execution_count": 26,
   "metadata": {
    "collapsed": false,
    "deletable": true,
    "editable": true
   },
   "outputs": [
    {
     "name": "stdout",
     "output_type": "stream",
     "text": [
      "Rose 2018\n",
      "1.87433117398\n",
      "1.25971342738\n",
      "\n",
      "Gupta 2011\n",
      "1.26210526316\n",
      "0.607253991319\n"
     ]
    }
   ],
   "source": [
    "print('Rose 2018')\n",
    "print(np.mean(yerr))\n",
    "print(np.std(yerr))\n",
    "\n",
    "print('\\nGupta 2011')\n",
    "print(np.mean(xerr))\n",
    "print(np.std(xerr))"
   ]
  },
  {
   "cell_type": "markdown",
   "metadata": {
    "deletable": true,
    "editable": true
   },
   "source": [
    "Since Rose 2018 has \"worse\" mean and standard diviation values but very simmiar (or better) median baised values, it appears that Rose 2018 has some \"outliers\". This can be explained by the two population populations. This produces a very asysmetric error bar, and hence more \"outliers\" from Gaussian untertainities."
   ]
  },
  {
   "cell_type": "markdown",
   "metadata": {
    "deletable": true,
    "editable": true
   },
   "source": [
    "### Does Rose estimate a younger population?"
   ]
  },
  {
   "cell_type": "code",
   "execution_count": 28,
   "metadata": {
    "collapsed": false,
    "deletable": true,
    "editable": true
   },
   "outputs": [
    {
     "name": "stdout",
     "output_type": "stream",
     "text": [
      "Number of objects less then 2 Gyr old\n",
      "Rose 2018:  6\n",
      "Gupta 2011:  0\n"
     ]
    }
   ],
   "source": [
    "print(\"Number of objects less then 2 Gyr old\")\n",
    "print(\"Rose 2018: \",len(data[data['age']<2]))\n",
    "print(\"Gupta 2011: \",len(data[data['Age']<2]))"
   ]
  },
  {
   "cell_type": "code",
   "execution_count": 34,
   "metadata": {
    "collapsed": false,
    "deletable": true,
    "editable": true
   },
   "outputs": [
    {
     "name": "stdout",
     "output_type": "stream",
     "text": [
      "Number of objects **minimum age** less then 2 Gyr old\n",
      "Rose 2018:  29\n",
      "Gupta 2011:  0\n"
     ]
    }
   ],
   "source": [
    "print(\"Number of objects **minimum age** less then 2 Gyr old\")\n",
    "print(\"Rose 2018: \", len(data[data['lower limit']<2]))\n",
    "print(\"Gupta 2011: \",len(data[data['Age -']<2]))"
   ]
  },
  {
   "cell_type": "code",
   "execution_count": 36,
   "metadata": {
    "collapsed": false,
    "deletable": true,
    "editable": true
   },
   "outputs": [
    {
     "name": "stdout",
     "output_type": "stream",
     "text": [
      "Number of objects **minimum age** less then 1.5 Gyr old\n",
      "Rose 2018:  10\n",
      "Gupta 2011:  0\n"
     ]
    }
   ],
   "source": [
    "print(\"Number of objects **minimum age** less then 1.5 Gyr old\")\n",
    "print(\"Rose 2018: \",len(data[(data['lower limit'])<1.5]))\n",
    "print(\"Gupta 2011: \",len(data[data['Age -']<1.5]))"
   ]
  },
  {
   "cell_type": "code",
   "execution_count": 37,
   "metadata": {
    "collapsed": false,
    "deletable": true,
    "editable": true
   },
   "outputs": [
    {
     "data": {
      "text/plain": [
       "0.95261550081960933"
      ]
     },
     "execution_count": 37,
     "metadata": {},
     "output_type": "execute_result"
    }
   ],
   "source": [
    "min(data['lower limit'])"
   ]
  },
  {
   "cell_type": "markdown",
   "metadata": {
    "deletable": true,
    "editable": true
   },
   "source": [
    "Rose definately has these young (less than 3 Gyr) population as younger than Gupta. This is evident by the six environments that are less than 2 Gyrs old and the lowest lower limit being less than 1 Gyr."
   ]
  },
  {
   "cell_type": "markdown",
   "metadata": {
    "deletable": true,
    "editable": true
   },
   "source": [
    "extra stuff that does not matter."
   ]
  },
  {
   "cell_type": "code",
   "execution_count": 60,
   "metadata": {
    "collapsed": false,
    "deletable": true,
    "editable": true
   },
   "outputs": [
    {
     "data": {
      "image/png": "[encoded data removed]",
      "text/plain": [
       "<matplotlib.figure.Figure at 0x1155485c0>"
      ]
     },
     "metadata": {},
     "output_type": "display_data"
    }
   ],
   "source": [
    "# fig = plt.figure()\n",
    "\n",
    "g = (sns.jointplot(x=data['Age'], y=data['age']-data['Age'], stat_func=spearmanr, kind=\"scatter\", marginal_kws={'bins':6}, xlim=(0,12), ylim=(-7,6))\n",
    "    ).set_axis_labels('global age [Gyr], Gupta 2011', 'Differance in global age [Gyr]')\n",
    "\n",
    "g.ax_joint.plot(np.linspace(0,12), [0]*50, alpha=0.5, c='grey')\n",
    "\n",
    "g = g.annotate(spearmanr, stat=\"Spearman's correlation\",\n",
    "               loc=\"best\", fontsize=13, \n",
    "               template=\"{stat}: {val:.2f}\")\n",
    "\n",
    "\n",
    "# plt.savefig('ageCalibration_residual.pdf')\n",
    "plt.show()"
   ]
  },
  {
   "cell_type": "code",
   "execution_count": 135,
   "metadata": {
    "collapsed": false,
    "deletable": true,
    "editable": true
   },
   "outputs": [
    {
     "data": {
      "image/png": "[encoded data removed]",
      "text/plain": [
       "<matplotlib.figure.Figure at 0x10fe2c9e8>"
      ]
     },
     "metadata": {},
     "output_type": "display_data"
    }
   ],
   "source": [
    "plt.figure('test')\n",
    "plt.errorbar(range(5), [2,5,3,4,7], yerr=[[1,4,2,3,6],[4,10,6,8,14]])\n",
    "plt.show()"
   ]
  },
  {
   "cell_type": "code",
   "execution_count": 68,
   "metadata": {
    "collapsed": false,
    "deletable": true,
    "editable": true
   },
   "outputs": [
    {
     "ename": "KeyError",
     "evalue": "'age'",
     "output_type": "error",
     "traceback": [
      "\u001b[0;31m---------------------------------------------------------------------------\u001b[0m",
      "\u001b[0;31mKeyError\u001b[0m                                  Traceback (most recent call last)",
      "\u001b[0;32m<ipython-input-68-efbe36d5601b>\u001b[0m in \u001b[0;36m<module>\u001b[0;34m()\u001b[0m\n\u001b[1;32m      2\u001b[0m \u001b[0;31m# plt.xscale('log', nonposy='clip')\u001b[0m\u001b[0;34m\u001b[0m\u001b[0;34m\u001b[0m\u001b[0m\n\u001b[1;32m      3\u001b[0m \u001b[0;31m# plt.yscale('log', nonposy='clip')\u001b[0m\u001b[0;34m\u001b[0m\u001b[0;34m\u001b[0m\u001b[0m\n\u001b[0;32m----> 4\u001b[0;31m \u001b[0mplt\u001b[0m\u001b[0;34m.\u001b[0m\u001b[0merrorbar\u001b[0m\u001b[0;34m(\u001b[0m\u001b[0mGuptaData\u001b[0m\u001b[0;34m[\u001b[0m\u001b[0;34m'Age'\u001b[0m\u001b[0;34m]\u001b[0m\u001b[0;34m,\u001b[0m \u001b[0mRoseData\u001b[0m\u001b[0;34m[\u001b[0m\u001b[0;34m'age'\u001b[0m\u001b[0;34m]\u001b[0m\u001b[0;34m,\u001b[0m \u001b[0mxerr\u001b[0m\u001b[0;34m=\u001b[0m\u001b[0mxerr\u001b[0m\u001b[0;34m,\u001b[0m \u001b[0myerr\u001b[0m\u001b[0;34m=\u001b[0m\u001b[0myerr\u001b[0m\u001b[0;34m,\u001b[0m \u001b[0mfmt\u001b[0m\u001b[0;34m=\u001b[0m\u001b[0;34m'.'\u001b[0m\u001b[0;34m,\u001b[0m \u001b[0malpha\u001b[0m\u001b[0;34m=\u001b[0m\u001b[0;36m0.25\u001b[0m\u001b[0;34m)\u001b[0m\u001b[0;34m\u001b[0m\u001b[0m\n\u001b[0m\u001b[1;32m      5\u001b[0m \u001b[0mplt\u001b[0m\u001b[0;34m.\u001b[0m\u001b[0merrorbar\u001b[0m\u001b[0;34m(\u001b[0m\u001b[0mGuptaData\u001b[0m\u001b[0;34m[\u001b[0m\u001b[0;34m'Age'\u001b[0m\u001b[0;34m]\u001b[0m\u001b[0;34m[\u001b[0m\u001b[0myerr\u001b[0m\u001b[0;34m<\u001b[0m\u001b[0;36m1\u001b[0m\u001b[0;34m]\u001b[0m\u001b[0;34m,\u001b[0m \u001b[0mRoseData\u001b[0m\u001b[0;34m[\u001b[0m\u001b[0;34m'age'\u001b[0m\u001b[0;34m]\u001b[0m\u001b[0;34m[\u001b[0m\u001b[0myerr\u001b[0m\u001b[0;34m<\u001b[0m\u001b[0;36m1\u001b[0m\u001b[0;34m]\u001b[0m\u001b[0;34m,\u001b[0m \u001b[0mxerr\u001b[0m\u001b[0;34m=\u001b[0m\u001b[0mxerr\u001b[0m\u001b[0;34m[\u001b[0m\u001b[0myerr\u001b[0m\u001b[0;34m<\u001b[0m\u001b[0;36m1\u001b[0m\u001b[0;34m]\u001b[0m\u001b[0;34m,\u001b[0m \u001b[0myerr\u001b[0m\u001b[0;34m=\u001b[0m\u001b[0myerr\u001b[0m\u001b[0;34m[\u001b[0m\u001b[0myerr\u001b[0m\u001b[0;34m<\u001b[0m\u001b[0;36m1\u001b[0m\u001b[0;34m]\u001b[0m\u001b[0;34m,\u001b[0m \u001b[0mfmt\u001b[0m\u001b[0;34m=\u001b[0m\u001b[0;34m'.'\u001b[0m\u001b[0;34m,\u001b[0m \u001b[0malpha\u001b[0m\u001b[0;34m=\u001b[0m\u001b[0;36m0.75\u001b[0m\u001b[0;34m)\u001b[0m\u001b[0;34m\u001b[0m\u001b[0m\n\u001b[1;32m      6\u001b[0m \u001b[0;31m# sns.regplot(x=GuptaData['Age'], y=RoseData['age'])\u001b[0m\u001b[0;34m\u001b[0m\u001b[0;34m\u001b[0m\u001b[0m\n",
      "\u001b[0;32m/usr/local/lib/python3.6/site-packages/astropy/table/table.py\u001b[0m in \u001b[0;36m__getitem__\u001b[0;34m(self, item)\u001b[0m\n\u001b[1;32m   1200\u001b[0m     \u001b[0;32mdef\u001b[0m \u001b[0m__getitem__\u001b[0m\u001b[0;34m(\u001b[0m\u001b[0mself\u001b[0m\u001b[0;34m,\u001b[0m \u001b[0mitem\u001b[0m\u001b[0;34m)\u001b[0m\u001b[0;34m:\u001b[0m\u001b[0;34m\u001b[0m\u001b[0m\n\u001b[1;32m   1201\u001b[0m         \u001b[0;32mif\u001b[0m \u001b[0misinstance\u001b[0m\u001b[0;34m(\u001b[0m\u001b[0mitem\u001b[0m\u001b[0;34m,\u001b[0m \u001b[0msix\u001b[0m\u001b[0;34m.\u001b[0m\u001b[0mstring_types\u001b[0m\u001b[0;34m)\u001b[0m\u001b[0;34m:\u001b[0m\u001b[0;34m\u001b[0m\u001b[0m\n\u001b[0;32m-> 1202\u001b[0;31m             \u001b[0;32mreturn\u001b[0m \u001b[0mself\u001b[0m\u001b[0;34m.\u001b[0m\u001b[0mcolumns\u001b[0m\u001b[0;34m[\u001b[0m\u001b[0mitem\u001b[0m\u001b[0;34m]\u001b[0m\u001b[0;34m\u001b[0m\u001b[0m\n\u001b[0m\u001b[1;32m   1203\u001b[0m         \u001b[0;32melif\u001b[0m \u001b[0misinstance\u001b[0m\u001b[0;34m(\u001b[0m\u001b[0mitem\u001b[0m\u001b[0;34m,\u001b[0m \u001b[0;34m(\u001b[0m\u001b[0mint\u001b[0m\u001b[0;34m,\u001b[0m \u001b[0mnp\u001b[0m\u001b[0;34m.\u001b[0m\u001b[0minteger\u001b[0m\u001b[0;34m)\u001b[0m\u001b[0;34m)\u001b[0m\u001b[0;34m:\u001b[0m\u001b[0;34m\u001b[0m\u001b[0m\n\u001b[1;32m   1204\u001b[0m             \u001b[0;32mreturn\u001b[0m \u001b[0mself\u001b[0m\u001b[0;34m.\u001b[0m\u001b[0mRow\u001b[0m\u001b[0;34m(\u001b[0m\u001b[0mself\u001b[0m\u001b[0;34m,\u001b[0m \u001b[0mitem\u001b[0m\u001b[0;34m)\u001b[0m\u001b[0;34m\u001b[0m\u001b[0m\n",
      "\u001b[0;32m/usr/local/lib/python3.6/site-packages/astropy/table/table.py\u001b[0m in \u001b[0;36m__getitem__\u001b[0;34m(self, item)\u001b[0m\n\u001b[1;32m    108\u001b[0m         \"\"\"\n\u001b[1;32m    109\u001b[0m         \u001b[0;32mif\u001b[0m \u001b[0misinstance\u001b[0m\u001b[0;34m(\u001b[0m\u001b[0mitem\u001b[0m\u001b[0;34m,\u001b[0m \u001b[0msix\u001b[0m\u001b[0;34m.\u001b[0m\u001b[0mstring_types\u001b[0m\u001b[0;34m)\u001b[0m\u001b[0;34m:\u001b[0m\u001b[0;34m\u001b[0m\u001b[0m\n\u001b[0;32m--> 110\u001b[0;31m             \u001b[0;32mreturn\u001b[0m \u001b[0mOrderedDict\u001b[0m\u001b[0;34m.\u001b[0m\u001b[0m__getitem__\u001b[0m\u001b[0;34m(\u001b[0m\u001b[0mself\u001b[0m\u001b[0;34m,\u001b[0m \u001b[0mitem\u001b[0m\u001b[0;34m)\u001b[0m\u001b[0;34m\u001b[0m\u001b[0m\n\u001b[0m\u001b[1;32m    111\u001b[0m         \u001b[0;32melif\u001b[0m \u001b[0misinstance\u001b[0m\u001b[0;34m(\u001b[0m\u001b[0mitem\u001b[0m\u001b[0;34m,\u001b[0m \u001b[0;34m(\u001b[0m\u001b[0mint\u001b[0m\u001b[0;34m,\u001b[0m \u001b[0mnp\u001b[0m\u001b[0;34m.\u001b[0m\u001b[0minteger\u001b[0m\u001b[0;34m)\u001b[0m\u001b[0;34m)\u001b[0m\u001b[0;34m:\u001b[0m\u001b[0;34m\u001b[0m\u001b[0m\n\u001b[1;32m    112\u001b[0m             \u001b[0;32mreturn\u001b[0m \u001b[0mself\u001b[0m\u001b[0;34m.\u001b[0m\u001b[0mvalues\u001b[0m\u001b[0;34m(\u001b[0m\u001b[0;34m)\u001b[0m\u001b[0;34m[\u001b[0m\u001b[0mitem\u001b[0m\u001b[0;34m]\u001b[0m\u001b[0;34m\u001b[0m\u001b[0m\n",
      "\u001b[0;31mKeyError\u001b[0m: 'age'"
     ]
    }
   ],
   "source": [
    "plt.figure('calibration1')\n",
    "# plt.xscale('log', nonposy='clip')\n",
    "# plt.yscale('log', nonposy='clip')\n",
    "plt.errorbar(GuptaData['Age'], RoseData['age'], xerr=xerr, yerr=yerr, fmt='.', alpha=0.25)\n",
    "plt.errorbar(GuptaData['Age'][xerr<1], RoseData['age'][xerr<1], xerr=xerr[xerr<1], yerr=yerr[xerr<1], fmt='.', alpha=0.75)\n",
    "# sns.regplot(x=GuptaData['Age'], y=RoseData['age'])\n",
    "# sns.jointplot(x=GuptaData['Age'], y=RoseData['age'], kind=\"reg\")\n",
    "plt.xlabel('Age [Gyr] - Gupta 2011')\n",
    "plt.ylabel('Age [Gyr] - Rose 2017')\n",
    "plt.plot(np.linspace(0,12), np.linspace(0,12))\n",
    "plt.plot(np.linspace(0,12), np.linspace(0,12)-2.0)\n",
    "plt.savefig('figures/ageCalibration_temp.pdf')\n",
    "plt.show()"
   ]
  },
  {
   "cell_type": "code",
   "execution_count": 64,
   "metadata": {
    "collapsed": false,
    "deletable": true,
    "editable": true
   },
   "outputs": [
    {
     "data": {
      "text/html": [
       "&lt;Table masked=True length=194&gt;\n",
       "<table id=\"table4436572648\" class=\"table-striped table-bordered table-condensed\">\n",
       "<thead><tr><th>SN ID</th><th>IAU</th><th>RA</th><th>Dec</th><th>redshift</th><th>redshift uncert</th><th>M -</th><th>M</th><th>M +</th><th>Age -</th><th>Age</th><th>Age +</th><th>c</th><th>c uncert</th><th>x_1</th><th>x_1 uncert</th><th>HR</th><th>HR uncert</th></tr></thead>\n",
       "<thead><tr><th>int64</th><th>str6</th><th>float64</th><th>float64</th><th>float64</th><th>float64</th><th>float64</th><th>float64</th><th>float64</th><th>float64</th><th>float64</th><th>float64</th><th>float64</th><th>float64</th><th>float64</th><th>float64</th><th>float64</th><th>float64</th></tr></thead>\n",
       "<tr><td>1166</td><td>--</td><td>9.3552761078</td><td>0.9739487767</td><td>0.3824</td><td>0.0005</td><td>11.08</td><td>11.15</td><td>11.22</td><td>4.13</td><td>6.47</td><td>7.53</td><td>0.023</td><td>0.068</td><td>1.274</td><td>1.103</td><td>-0.3288</td><td>0.2179</td></tr>\n",
       "<tr><td>1253</td><td>2005fd</td><td>323.798583984</td><td>0.1628694236</td><td>0.262</td><td>0.005</td><td>11.27</td><td>11.34</td><td>11.39</td><td>5.89</td><td>7.8</td><td>8.03</td><td>-0.119</td><td>0.058</td><td>-1.28</td><td>0.464</td><td>-0.1097</td><td>0.1611</td></tr>\n",
       "<tr><td>1371</td><td>2005fh</td><td>349.373748779</td><td>0.4296737611</td><td>0.11915</td><td>0.00012</td><td>10.95</td><td>11.0</td><td>11.02</td><td>5.27</td><td>6.76</td><td>7.26</td><td>-0.084</td><td>0.02</td><td>0.703</td><td>0.167</td><td>-0.1775</td><td>0.0566</td></tr>\n",
       "<tr><td>1580</td><td>2005fb</td><td>45.3238296509</td><td>-0.6422790885</td><td>0.183</td><td>8e-05</td><td>10.61</td><td>10.73</td><td>10.83</td><td>3.58</td><td>5.2</td><td>6.95</td><td>-0.058</td><td>0.026</td><td>0.675</td><td>0.271</td><td>-0.1156</td><td>0.0775</td></tr>\n",
       "<tr><td>1688</td><td>--</td><td>321.357818603</td><td>0.3248503506</td><td>0.3587</td><td>0.0005</td><td>10.09</td><td>10.2</td><td>10.32</td><td>1.5</td><td>2.04</td><td>2.74</td><td>0.007</td><td>0.07</td><td>1.019</td><td>1.306</td><td>0.024</td><td>0.2309</td></tr>\n",
       "<tr><td>2017</td><td>2005fo</td><td>328.943878174</td><td>0.5934827328</td><td>0.2616</td><td>0.0005</td><td>10.48</td><td>10.54</td><td>10.57</td><td>4.26</td><td>5.84</td><td>6.66</td><td>-0.117</td><td>0.052</td><td>1.272</td><td>0.527</td><td>0.2671</td><td>0.1512</td></tr>\n",
       "<tr><td>2165</td><td>2005fr</td><td>17.0916309357</td><td>-0.0962756798</td><td>0.288</td><td>0.005</td><td>9.33</td><td>9.39</td><td>9.46</td><td>1.86</td><td>2.21</td><td>3.52</td><td>-0.13</td><td>0.038</td><td>0.62</td><td>0.526</td><td>0.3219</td><td>0.1315</td></tr>\n",
       "<tr><td>2330</td><td>2005fp</td><td>6.8073453903</td><td>1.1208769083</td><td>0.2132</td><td>0.0005</td><td>9.83</td><td>9.88</td><td>9.94</td><td>2.8</td><td>4.11</td><td>6.16</td><td>0.083</td><td>0.063</td><td>-2.238</td><td>0.569</td><td>0.2954</td><td>0.162</td></tr>\n",
       "<tr><td>2372</td><td>2005ft</td><td>40.520816803</td><td>-0.5410116911</td><td>0.1805</td><td>0.0005</td><td>10.37</td><td>10.45</td><td>10.49</td><td>6.08</td><td>7.64</td><td>8.81</td><td>0.045</td><td>0.024</td><td>-0.015</td><td>0.225</td><td>-0.1379</td><td>0.0714</td></tr>\n",
       "<tr><td>2422</td><td>2005fi</td><td>1.9945372343</td><td>0.6381285191</td><td>0.265</td><td>0.005</td><td>9.09</td><td>9.15</td><td>9.25</td><td>2.03</td><td>2.57</td><td>3.29</td><td>-0.184</td><td>0.035</td><td>0.751</td><td>0.326</td><td>0.2078</td><td>0.1181</td></tr>\n",
       "<tr><td>...</td><td>...</td><td>...</td><td>...</td><td>...</td><td>...</td><td>...</td><td>...</td><td>...</td><td>...</td><td>...</td><td>...</td><td>...</td><td>...</td><td>...</td><td>...</td><td>...</td><td>...</td></tr>\n",
       "<tr><td>19990</td><td>2007ps</td><td>34.8060150146</td><td>-0.3845337927</td><td>0.246</td><td>0.005</td><td>10.52</td><td>10.59</td><td>10.64</td><td>6.38</td><td>8.78</td><td>10.38</td><td>-0.038</td><td>0.044</td><td>-1.164</td><td>0.491</td><td>0.0404</td><td>0.1339</td></tr>\n",
       "<tr><td>20040</td><td>2007rf</td><td>328.879455566</td><td>0.8150795698</td><td>0.288</td><td>0.0005</td><td>10.27</td><td>10.38</td><td>10.47</td><td>3.97</td><td>6.37</td><td>8.53</td><td>-0.097</td><td>0.046</td><td>0.829</td><td>0.731</td><td>-0.1062</td><td>0.124</td></tr>\n",
       "<tr><td>20048</td><td>2007pq</td><td>339.308105469</td><td>0.7363132834</td><td>0.1855</td><td>0.0005</td><td>10.71</td><td>10.8</td><td>10.87</td><td>7.01</td><td>8.01</td><td>11.01</td><td>0.05</td><td>0.04</td><td>-0.939</td><td>0.567</td><td>0.023</td><td>0.1211</td></tr>\n",
       "<tr><td>20064</td><td>2007om</td><td>358.586273193</td><td>-0.9172353745</td><td>0.10503</td><td>0.00018</td><td>11.16</td><td>11.16</td><td>11.27</td><td>4.69</td><td>4.69</td><td>6.85</td><td>0.107</td><td>0.023</td><td>0.408</td><td>0.322</td><td>-0.249</td><td>0.0619</td></tr>\n",
       "<tr><td>20106</td><td>2007pr</td><td>346.554077148</td><td>0.328928858</td><td>0.333</td><td>0.005</td><td>10.12</td><td>10.2</td><td>10.26</td><td>3.05</td><td>5.27</td><td>6.52</td><td>-0.042</td><td>0.084</td><td>-0.503</td><td>0.905</td><td>0.0408</td><td>0.234</td></tr>\n",
       "<tr><td>20111</td><td>2007pw</td><td>354.394073486</td><td>0.2474300116</td><td>0.245</td><td>0.005</td><td>10.78</td><td>10.87</td><td>10.93</td><td>5.9</td><td>8.39</td><td>8.94</td><td>0.015</td><td>0.048</td><td>-0.362</td><td>0.81</td><td>-0.0164</td><td>0.1594</td></tr>\n",
       "<tr><td>20184</td><td>2007qn</td><td>359.788513184</td><td>1.1585552692</td><td>0.324</td><td>0.0005</td><td>9.53</td><td>9.65</td><td>9.75</td><td>2.21</td><td>3.38</td><td>4.62</td><td>0.029</td><td>0.082</td><td>-1.095</td><td>1.398</td><td>-0.2104</td><td>0.2047</td></tr>\n",
       "<tr><td>20227</td><td>2007qi</td><td>349.120056152</td><td>-0.0988994613</td><td>0.2764</td><td>0.0005</td><td>10.64</td><td>10.71</td><td>10.76</td><td>5.08</td><td>7.48</td><td>8.64</td><td>-0.134</td><td>0.057</td><td>-1.647</td><td>0.713</td><td>0.0382</td><td>0.1498</td></tr>\n",
       "<tr><td>20350</td><td>2007ph</td><td>312.806793213</td><td>-0.9577776194</td><td>0.12946</td><td>0.00018</td><td>11.19</td><td>11.29</td><td>11.34</td><td>5.03</td><td>8.14</td><td>9.63</td><td>0.213</td><td>0.054</td><td>-3.029</td><td>0.845</td><td>-0.072</td><td>0.1358</td></tr>\n",
       "<tr><td>20364</td><td>2007qo</td><td>25.7565631866</td><td>-0.945181191</td><td>0.2181</td><td>0.0009</td><td>10.31</td><td>10.37</td><td>10.41</td><td>2.76</td><td>3.6</td><td>5.7</td><td>0.062</td><td>0.039</td><td>0.83</td><td>0.964</td><td>0.0192</td><td>0.1404</td></tr>\n",
       "</table>"
      ],
      "text/plain": [
       "<Table masked=True length=194>\n",
       "SN ID  IAU         RA           Dec      ... x_1 uncert    HR   HR uncert\n",
       "int64  str6     float64       float64    ...  float64   float64  float64 \n",
       "----- ------ ------------- ------------- ... ---------- ------- ---------\n",
       " 1166     --  9.3552761078  0.9739487767 ...      1.103 -0.3288    0.2179\n",
       " 1253 2005fd 323.798583984  0.1628694236 ...      0.464 -0.1097    0.1611\n",
       " 1371 2005fh 349.373748779  0.4296737611 ...      0.167 -0.1775    0.0566\n",
       " 1580 2005fb 45.3238296509 -0.6422790885 ...      0.271 -0.1156    0.0775\n",
       " 1688     -- 321.357818603  0.3248503506 ...      1.306   0.024    0.2309\n",
       " 2017 2005fo 328.943878174  0.5934827328 ...      0.527  0.2671    0.1512\n",
       " 2165 2005fr 17.0916309357 -0.0962756798 ...      0.526  0.3219    0.1315\n",
       " 2330 2005fp  6.8073453903  1.1208769083 ...      0.569  0.2954     0.162\n",
       " 2372 2005ft  40.520816803 -0.5410116911 ...      0.225 -0.1379    0.0714\n",
       " 2422 2005fi  1.9945372343  0.6381285191 ...      0.326  0.2078    0.1181\n",
       "  ...    ...           ...           ... ...        ...     ...       ...\n",
       "19990 2007ps 34.8060150146 -0.3845337927 ...      0.491  0.0404    0.1339\n",
       "20040 2007rf 328.879455566  0.8150795698 ...      0.731 -0.1062     0.124\n",
       "20048 2007pq 339.308105469  0.7363132834 ...      0.567   0.023    0.1211\n",
       "20064 2007om 358.586273193 -0.9172353745 ...      0.322  -0.249    0.0619\n",
       "20106 2007pr 346.554077148   0.328928858 ...      0.905  0.0408     0.234\n",
       "20111 2007pw 354.394073486  0.2474300116 ...       0.81 -0.0164    0.1594\n",
       "20184 2007qn 359.788513184  1.1585552692 ...      1.398 -0.2104    0.2047\n",
       "20227 2007qi 349.120056152 -0.0988994613 ...      0.713  0.0382    0.1498\n",
       "20350 2007ph 312.806793213 -0.9577776194 ...      0.845  -0.072    0.1358\n",
       "20364 2007qo 25.7565631866  -0.945181191 ...      0.964  0.0192    0.1404"
      ]
     },
     "execution_count": 64,
     "metadata": {},
     "output_type": "execute_result"
    }
   ],
   "source": [
    "GuptaData"
   ]
  },
  {
   "cell_type": "code",
   "execution_count": 65,
   "metadata": {
    "collapsed": false,
    "deletable": true,
    "editable": true
   },
   "outputs": [
    {
     "data": {
      "text/html": [
       "&lt;Table length=193&gt;\n",
       "<table id=\"table4433939312\" class=\"table-striped table-bordered table-condensed\">\n",
       "<thead><tr><th>SN</th><th>age</th><th>age-uncert</th><th>age+uncert</th></tr></thead>\n",
       "<thead><tr><th>int64</th><th>float64</th><th>float64</th><th>float64</th></tr></thead>\n",
       "<tr><td>1166</td><td>2.24726963043</td><td>1.04496121407</td><td>0.502037227154</td></tr>\n",
       "<tr><td>1253</td><td>3.18795919418</td><td>1.79519927502</td><td>1.32779455185</td></tr>\n",
       "<tr><td>1371</td><td>0.0182669144124</td><td>0.00122318579815</td><td>0.000929805915803</td></tr>\n",
       "<tr><td>1580</td><td>0.0065697375685</td><td>0.000385548250051</td><td>0.000431691121776</td></tr>\n",
       "<tr><td>1688</td><td>0.58418571949</td><td>0.0444331504405</td><td>0.0397054851055</td></tr>\n",
       "<tr><td>2017</td><td>1.64341855049</td><td>0.0973108559847</td><td>0.0833257585764</td></tr>\n",
       "<tr><td>2165</td><td>1.40117573738</td><td>0.773038029671</td><td>0.679863572121</td></tr>\n",
       "<tr><td>2330</td><td>0.00938008446246</td><td>0.0612789280713</td><td>0.00525784539059</td></tr>\n",
       "<tr><td>2372</td><td>1.84734380245</td><td>0.241433665156</td><td>0.230671390891</td></tr>\n",
       "<tr><td>2422</td><td>1.28315484524</td><td>1.26261568069</td><td>0.659277975559</td></tr>\n",
       "<tr><td>...</td><td>...</td><td>...</td><td>...</td></tr>\n",
       "<tr><td>19990</td><td>4.51236486435</td><td>1.166659832</td><td>1.06201672554</td></tr>\n",
       "<tr><td>20040</td><td>1.94764351845</td><td>0.799467802048</td><td>0.445415556431</td></tr>\n",
       "<tr><td>20048</td><td>7.15979671478</td><td>0.236936345696</td><td>0.216321721673</td></tr>\n",
       "<tr><td>20064</td><td>0.0945652723312</td><td>0.00965575035661</td><td>0.00804150383919</td></tr>\n",
       "<tr><td>20106</td><td>1.76480829716</td><td>1.08073723316</td><td>0.803449749947</td></tr>\n",
       "<tr><td>20111</td><td>5.93152236938</td><td>1.04906845093</td><td>1.32192659378</td></tr>\n",
       "<tr><td>20184</td><td>0.590155184269</td><td>0.273010611534</td><td>0.16977353394</td></tr>\n",
       "<tr><td>20227</td><td>1.76580691338</td><td>0.221301361918</td><td>0.152968153358</td></tr>\n",
       "<tr><td>20350</td><td>7.05770635605</td><td>0.0436556600034</td><td>0.066873498261</td></tr>\n",
       "<tr><td>20364</td><td>1.98673522472</td><td>0.24883556366</td><td>0.172881260514</td></tr>\n",
       "</table>"
      ],
      "text/plain": [
       "<Table length=193>\n",
       "  SN        age            age-uncert        age+uncert   \n",
       "int64     float64           float64           float64     \n",
       "----- ---------------- ----------------- -----------------\n",
       " 1166    2.24726963043     1.04496121407    0.502037227154\n",
       " 1253    3.18795919418     1.79519927502     1.32779455185\n",
       " 1371  0.0182669144124  0.00122318579815 0.000929805915803\n",
       " 1580  0.0065697375685 0.000385548250051 0.000431691121776\n",
       " 1688    0.58418571949   0.0444331504405   0.0397054851055\n",
       " 2017    1.64341855049   0.0973108559847   0.0833257585764\n",
       " 2165    1.40117573738    0.773038029671    0.679863572121\n",
       " 2330 0.00938008446246   0.0612789280713  0.00525784539059\n",
       " 2372    1.84734380245    0.241433665156    0.230671390891\n",
       " 2422    1.28315484524     1.26261568069    0.659277975559\n",
       "  ...              ...               ...               ...\n",
       "19990    4.51236486435       1.166659832     1.06201672554\n",
       "20040    1.94764351845    0.799467802048    0.445415556431\n",
       "20048    7.15979671478    0.236936345696    0.216321721673\n",
       "20064  0.0945652723312  0.00965575035661  0.00804150383919\n",
       "20106    1.76480829716     1.08073723316    0.803449749947\n",
       "20111    5.93152236938     1.04906845093     1.32192659378\n",
       "20184   0.590155184269    0.273010611534     0.16977353394\n",
       "20227    1.76580691338    0.221301361918    0.152968153358\n",
       "20350    7.05770635605   0.0436556600034    0.066873498261\n",
       "20364    1.98673522472     0.24883556366    0.172881260514"
      ]
     },
     "execution_count": 65,
     "metadata": {},
     "output_type": "execute_result"
    }
   ],
   "source": [
    "RoseData"
   ]
  },
  {
   "cell_type": "code",
   "execution_count": 70,
   "metadata": {
    "collapsed": false,
    "deletable": true,
    "editable": true
   },
   "outputs": [
    {
     "name": "stdout",
     "output_type": "stream",
     "text": [
      "13956\n"
     ]
    }
   ],
   "source": [
    "for i in GuptaData['SN ID']:\n",
    "    if len(np.where(RoseData['SN'] == i)[0]) == 0:\n",
    "        print(i)"
   ]
  },
  {
   "cell_type": "markdown",
   "metadata": {
    "deletable": true,
    "editable": true
   },
   "source": [
    "There are those two data points that are \"high quality\" by Gupta's defintion, but I disagree with the resulting age by 8 to 10 Gyr! What host are they?"
   ]
  },
  {
   "cell_type": "code",
   "execution_count": 131,
   "metadata": {
    "collapsed": false,
    "deletable": true,
    "editable": true,
    "scrolled": true
   },
   "outputs": [
    {
     "data": {
      "text/html": [
       "&lt;Table masked=True length=2&gt;\n",
       "<table id=\"table4453349808\" class=\"table-striped table-bordered table-condensed\">\n",
       "<thead><tr><th>SN ID</th><th>IAU</th><th>RA</th><th>Dec</th><th>redshift</th><th>redshift uncert</th><th>M -</th><th>M</th><th>M +</th><th>Age -</th><th>Age</th><th>Age +</th><th>c</th><th>c uncert</th><th>x_1</th><th>x_1 uncert</th><th>HR</th><th>HR uncert</th></tr></thead>\n",
       "<thead><tr><th>int64</th><th>str6</th><th>float64</th><th>float64</th><th>float64</th><th>float64</th><th>float64</th><th>float64</th><th>float64</th><th>float64</th><th>float64</th><th>float64</th><th>float64</th><th>float64</th><th>float64</th><th>float64</th><th>float64</th><th>float64</th></tr></thead>\n",
       "<tr><td>12781</td><td>2006er</td><td>5.4078617096</td><td>-1.0106090307</td><td>0.08431</td><td>0.00016</td><td>10.96</td><td>10.97</td><td>11.02</td><td>10.58</td><td>11.18</td><td>11.58</td><td>0.072</td><td>0.061</td><td>-2.128</td><td>0.337</td><td>0.1604</td><td>0.1149</td></tr>\n",
       "<tr><td>15776</td><td>2006na</td><td>32.8302955627</td><td>-0.9981175065</td><td>0.305</td><td>0.005</td><td>11.18</td><td>11.19</td><td>11.21</td><td>9.81</td><td>10.21</td><td>10.21</td><td>-0.116</td><td>0.081</td><td>-1.662</td><td>0.743</td><td>0.1115</td><td>0.2089</td></tr>\n",
       "</table>"
      ],
      "text/plain": [
       "<Table masked=True length=2>\n",
       "SN ID  IAU         RA           Dec      ... x_1 uncert    HR   HR uncert\n",
       "int64  str6     float64       float64    ...  float64   float64  float64 \n",
       "----- ------ ------------- ------------- ... ---------- ------- ---------\n",
       "12781 2006er  5.4078617096 -1.0106090307 ...      0.337  0.1604    0.1149\n",
       "15776 2006na 32.8302955627 -0.9981175065 ...      0.743  0.1115    0.2089"
      ]
     },
     "execution_count": 131,
     "metadata": {},
     "output_type": "execute_result"
    }
   ],
   "source": [
    "GuptaData[np.logical_and(GuptaData['Age'] > 10, GuptaData['Age'] - GuptaData['Age -'] < 1)]"
   ]
  },
  {
   "cell_type": "code",
   "execution_count": null,
   "metadata": {
    "collapsed": true,
    "deletable": true,
    "editable": true
   },
   "outputs": [],
   "source": []
  }
 ],
 "metadata": {
  "kernelspec": {
   "display_name": "Python 3",
   "language": "python",
   "name": "python3"
  },
  "language_info": {
   "codemirror_mode": {
    "name": "ipython",
    "version": 3
   },
   "file_extension": ".py",
   "mimetype": "text/x-python",
   "name": "python",
   "nbconvert_exporter": "python",
   "pygments_lexer": "ipython3",
   "version": "3.6.5"
  }
 },
 "nbformat": 4,
 "nbformat_minor": 2
}
