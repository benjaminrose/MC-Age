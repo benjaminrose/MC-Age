{
 "cells": [
  {
   "cell_type": "markdown",
   "metadata": {
    "deletable": true,
    "editable": true
   },
   "source": [
    "# Consistencey Test, Compare to Gupta 2011\n",
    "\n",
    "We rerun the age estimates on the objects analayed by Gupta et al. 2001 and see what if any significant changes their are.\n",
    "\n",
    "## Getting started"
   ]
  },
  {
   "cell_type": "code",
   "execution_count": 1,
   "metadata": {
    "collapsed": false,
    "deletable": true,
    "editable": true
   },
   "outputs": [],
   "source": [
    "import numpy as np\n",
    "from astropy.table import Table"
   ]
  },
  {
   "cell_type": "code",
   "execution_count": 2,
   "metadata": {
    "collapsed": true,
    "deletable": true,
    "editable": true
   },
   "outputs": [],
   "source": [
    "from astropy.table import join"
   ]
  },
  {
   "cell_type": "code",
   "execution_count": 3,
   "metadata": {
    "collapsed": true,
    "deletable": true,
    "editable": true
   },
   "outputs": [],
   "source": [
    "import matplotlib.pyplot as plt\n",
    "import seaborn as sns"
   ]
  },
  {
   "cell_type": "code",
   "execution_count": 50,
   "metadata": {
    "collapsed": false,
    "deletable": true,
    "editable": true
   },
   "outputs": [],
   "source": [
    "filepath = '../resources/ages_gupta.tsv'\n",
    "RoseData = Table.read(filepath, format='ascii.commented_header', delimiter='\\t')\n",
    "RoseData['sn id'] = RoseData['sn id'].astype(int)    # Convert SN ID from float"
   ]
  },
  {
   "cell_type": "code",
   "execution_count": 45,
   "metadata": {
    "collapsed": false,
    "deletable": true,
    "editable": true
   },
   "outputs": [],
   "source": [
    "filepath = '../data/Gupta11_table2.txt'\n",
    "GuptaData = Table.read(filepath, format='ascii.csv', delimiter='\\t', \n",
    "                       header_start=2, data_start=3, fill_values = ('...', 'np.nan'))\n",
    "#Note ascii.commented_header NEEDS commented lines?\n",
    "#This maskes the cells that were '...'"
   ]
  },
  {
   "cell_type": "code",
   "execution_count": 7,
   "metadata": {
    "collapsed": false,
    "deletable": true,
    "editable": true
   },
   "outputs": [],
   "source": [
    "NotTested = [2943, 3199, 5844, 6649, 7512, 8030, 13956, 13757, 14298, 19067]   #could not get photomety\n",
    "# NotTested.extend((19794, 20376, 20821)) #need to finish CRC Run, 05-11 was killed before completion"
   ]
  },
  {
   "cell_type": "code",
   "execution_count": 46,
   "metadata": {
    "collapsed": false,
    "deletable": true,
    "editable": true
   },
   "outputs": [
    {
     "name": "stdout",
     "output_type": "stream",
     "text": [
      "206\n",
      "196\n"
     ]
    }
   ],
   "source": [
    "print(len(GuptaData))\n",
    "for i in NotTested:\n",
    "    #find index of 'SN ID' match. Convert to int. Remove row.\n",
    "    GuptaData.remove_row(np.where(GuptaData['SN ID'] == i)[0][0])\n",
    "print(len(GuptaData))"
   ]
  },
  {
   "cell_type": "code",
   "execution_count": 40,
   "metadata": {
    "collapsed": false
   },
   "outputs": [],
   "source": [
    "# use for partial runs - not needed, the join takes care of this.\n",
    "# dfg = GuptaData.to_pandas().set_index('SN ID')\n",
    "# dfr = RoseData.to_pandas().set_index('sn id')\n",
    "# GuptaData = Table.from_pandas(dfg.loc[dfr.index])  # slecet only same index and set back to a Table for convinece"
   ]
  },
  {
   "cell_type": "markdown",
   "metadata": {
    "deletable": true,
    "editable": true
   },
   "source": [
    "# Verrify the correct data points\n",
    "\n",
    "Not needed, the `join` takes care of this section"
   ]
  },
  {
   "cell_type": "code",
   "execution_count": 41,
   "metadata": {
    "collapsed": false,
    "deletable": true,
    "editable": true
   },
   "outputs": [
    {
     "name": "stdout",
     "output_type": "stream",
     "text": [
      "60\n",
      "60\n"
     ]
    }
   ],
   "source": [
    "print(len(GuptaData))\n",
    "print(len(RoseData))"
   ]
  },
  {
   "cell_type": "code",
   "execution_count": 42,
   "metadata": {
    "collapsed": false,
    "deletable": true,
    "editable": true
   },
   "outputs": [
    {
     "data": {
      "text/html": [
       "&lt;Table masked=True length=5&gt;\n",
       "<table id=\"table4589026888\" class=\"table-striped table-bordered table-condensed\">\n",
       "<thead><tr><th>IAU</th><th>RA</th><th>Dec</th><th>redshift</th><th>redshift uncert</th><th>M -</th><th>M</th><th>M +</th><th>Age -</th><th>Age</th><th>Age +</th><th>c</th><th>c uncert</th><th>x_1</th><th>x_1 uncert</th><th>HR</th><th>HR uncert</th></tr></thead>\n",
       "<thead><tr><th>str6</th><th>float64</th><th>float64</th><th>float64</th><th>float64</th><th>float64</th><th>float64</th><th>float64</th><th>float64</th><th>float64</th><th>float64</th><th>float64</th><th>float64</th><th>float64</th><th>float64</th><th>float64</th><th>float64</th></tr></thead>\n",
       "<tr><td>--</td><td>9.3552761078</td><td>0.9739487767</td><td>0.3824</td><td>0.0005</td><td>11.08</td><td>11.15</td><td>11.22</td><td>4.13</td><td>6.47</td><td>7.53</td><td>0.023</td><td>0.068</td><td>1.274</td><td>1.103</td><td>-0.3288</td><td>0.2179</td></tr>\n",
       "<tr><td>2006fa</td><td>323.878479004</td><td>-0.9796369672</td><td>0.16704</td><td>0.00013</td><td>11.18</td><td>11.22</td><td>11.28</td><td>7.61</td><td>8.71</td><td>10.61</td><td>0.082</td><td>0.043</td><td>-1.11</td><td>0.405</td><td>-0.3135</td><td>0.1016</td></tr>\n",
       "<tr><td>2006fw</td><td>26.793050766</td><td>-0.146868214</td><td>0.0835</td><td>0.0005</td><td>9.96</td><td>9.97</td><td>10.01</td><td>6.93</td><td>7.65</td><td>8.43</td><td>0.074</td><td>0.019</td><td>-0.332</td><td>0.139</td><td>0.0141</td><td>0.0583</td></tr>\n",
       "<tr><td>2006ft</td><td>7.9585695267</td><td>-0.3830518126</td><td>0.2608</td><td>0.0005</td><td>9.12</td><td>9.18</td><td>9.27</td><td>2.06</td><td>2.67</td><td>3.83</td><td>-0.059</td><td>0.044</td><td>0.723</td><td>0.696</td><td>0.1218</td><td>0.1387</td></tr>\n",
       "<tr><td>2006he</td><td>331.100158691</td><td>0.6907849908</td><td>0.2139</td><td>0.0005</td><td>10.01</td><td>10.06</td><td>10.11</td><td>2.58</td><td>3.5</td><td>4.63</td><td>-0.022</td><td>0.03</td><td>1.02</td><td>0.352</td><td>0.0304</td><td>0.0817</td></tr>\n",
       "</table>"
      ],
      "text/plain": [
       "<Table masked=True length=5>\n",
       " IAU         RA           Dec      redshift ... x_1 uncert    HR   HR uncert\n",
       " str6     float64       float64    float64  ...  float64   float64  float64 \n",
       "------ ------------- ------------- -------- ... ---------- ------- ---------\n",
       "    --  9.3552761078  0.9739487767   0.3824 ...      1.103 -0.3288    0.2179\n",
       "2006fa 323.878479004 -0.9796369672  0.16704 ...      0.405 -0.3135    0.1016\n",
       "2006fw  26.793050766  -0.146868214   0.0835 ...      0.139  0.0141    0.0583\n",
       "2006ft  7.9585695267 -0.3830518126   0.2608 ...      0.696  0.1218    0.1387\n",
       "2006he 331.100158691  0.6907849908   0.2139 ...      0.352  0.0304    0.0817"
      ]
     },
     "execution_count": 42,
     "metadata": {},
     "output_type": "execute_result"
    }
   ],
   "source": [
    "GuptaData[:5]"
   ]
  },
  {
   "cell_type": "code",
   "execution_count": 43,
   "metadata": {
    "collapsed": false,
    "deletable": true,
    "editable": true
   },
   "outputs": [
    {
     "data": {
      "text/html": [
       "&lt;Table length=5&gt;\n",
       "<table id=\"table4590774312\" class=\"table-striped table-bordered table-condensed\">\n",
       "<thead><tr><th>sn id</th><th>age</th><th>lower limit</th><th>upper limit</th></tr></thead>\n",
       "<thead><tr><th>int64</th><th>float64</th><th>float64</th><th>float64</th></tr></thead>\n",
       "<tr><td>1166</td><td>1.48733221688</td><td>1.44582633317</td><td>7.04968049713</td></tr>\n",
       "<tr><td>12843</td><td>8.15095427637</td><td>6.46576963749</td><td>9.30717643103</td></tr>\n",
       "<tr><td>12898</td><td>6.89209171029</td><td>5.72404055304</td><td>7.17320326161</td></tr>\n",
       "<tr><td>12972</td><td>3.92847436348</td><td>1.73033959453</td><td>3.83631902552</td></tr>\n",
       "<tr><td>13305</td><td>4.69023338707</td><td>2.6112215788</td><td>5.03904719069</td></tr>\n",
       "</table>"
      ],
      "text/plain": [
       "<Table length=5>\n",
       "sn id      age       lower limit   upper limit \n",
       "int64    float64       float64       float64   \n",
       "----- ------------- ------------- -------------\n",
       " 1166 1.48733221688 1.44582633317 7.04968049713\n",
       "12843 8.15095427637 6.46576963749 9.30717643103\n",
       "12898 6.89209171029 5.72404055304 7.17320326161\n",
       "12972 3.92847436348 1.73033959453 3.83631902552\n",
       "13305 4.69023338707  2.6112215788 5.03904719069"
      ]
     },
     "execution_count": 43,
     "metadata": {},
     "output_type": "execute_result"
    }
   ],
   "source": [
    "RoseData[:5]"
   ]
  },
  {
   "cell_type": "markdown",
   "metadata": {
    "deletable": true,
    "editable": true
   },
   "source": [
    "## Combine into one table\n",
    "\n",
    "Combining into one table forces them to allow for "
   ]
  },
  {
   "cell_type": "code",
   "execution_count": 51,
   "metadata": {
    "collapsed": false,
    "deletable": true,
    "editable": true
   },
   "outputs": [
    {
     "data": {
      "text/html": [
       "&lt;Table masked=True length=5&gt;\n",
       "<table id=\"table4587316784\" class=\"table-striped table-bordered table-condensed\">\n",
       "<thead><tr><th>SN ID</th><th>age</th><th>lower limit</th><th>upper limit</th><th>Age</th><th>Age +</th><th>Age -</th></tr></thead>\n",
       "<thead><tr><th>int64</th><th>float64</th><th>float64</th><th>float64</th><th>float64</th><th>float64</th><th>float64</th></tr></thead>\n",
       "<tr><td>1166</td><td>1.48733221688</td><td>1.44582633317</td><td>7.04968049713</td><td>6.47</td><td>7.53</td><td>4.13</td></tr>\n",
       "<tr><td>1580</td><td>7.63087816603</td><td>2.32966258217</td><td>8.74407564164</td><td>5.2</td><td>6.95</td><td>3.58</td></tr>\n",
       "<tr><td>2165</td><td>2.79376611677</td><td>1.69632470295</td><td>3.78148578604</td><td>2.21</td><td>3.52</td><td>1.86</td></tr>\n",
       "<tr><td>2422</td><td>1.95255151622</td><td>1.55938007558</td><td>3.69466461168</td><td>2.57</td><td>3.29</td><td>2.03</td></tr>\n",
       "<tr><td>2789</td><td>1.81418119317</td><td>1.72406093998</td><td>8.02634596058</td><td>7.35</td><td>9.35</td><td>5.35</td></tr>\n",
       "</table>"
      ],
      "text/plain": [
       "<Table masked=True length=5>\n",
       "SN ID      age       lower limit   upper limit    Age    Age +   Age - \n",
       "int64    float64       float64       float64    float64 float64 float64\n",
       "----- ------------- ------------- ------------- ------- ------- -------\n",
       " 1166 1.48733221688 1.44582633317 7.04968049713    6.47    7.53    4.13\n",
       " 1580 7.63087816603 2.32966258217 8.74407564164     5.2    6.95    3.58\n",
       " 2165 2.79376611677 1.69632470295 3.78148578604    2.21    3.52    1.86\n",
       " 2422 1.95255151622 1.55938007558 3.69466461168    2.57    3.29    2.03\n",
       " 2789 1.81418119317 1.72406093998 8.02634596058    7.35    9.35    5.35"
      ]
     },
     "execution_count": 51,
     "metadata": {},
     "output_type": "execute_result"
    }
   ],
   "source": [
    "RoseData.rename_column('sn id', 'SN ID')\n",
    "data = join(RoseData, GuptaData[['SN ID', 'Age', 'Age +', 'Age -']] , keys='SN ID')\n",
    "data[:5]"
   ]
  },
  {
   "cell_type": "markdown",
   "metadata": {
    "deletable": true,
    "editable": true
   },
   "source": [
    "## Look at Uncertainties"
   ]
  },
  {
   "cell_type": "code",
   "execution_count": 64,
   "metadata": {
    "collapsed": false,
    "deletable": true,
    "editable": true
   },
   "outputs": [],
   "source": [
    "yerr = (data['Upper CR'] + data['Lower CR'])/2\n",
    "xerr = ( (data['Age_2']-data['Age -']) + (data['Age +']-data['Age_2']) )/2"
   ]
  },
  {
   "cell_type": "code",
   "execution_count": 90,
   "metadata": {
    "collapsed": false,
    "deletable": true,
    "editable": true
   },
   "outputs": [
    {
     "name": "stdout",
     "output_type": "stream",
     "text": [
      "Rose 2018\n",
      "1.39313653864\n",
      "0.466632364443\n",
      "\n",
      "Gupta 2011\n",
      "1.3825\n",
      "0.3625\n"
     ]
    }
   ],
   "source": [
    "print('Rose 2018')\n",
    "print(np.median(yerr))\n",
    "print(np.median(np.abs(yerr - np.median(yerr))))\n",
    "\n",
    "print('\\nGupta 2011')\n",
    "print(np.median(xerr))\n",
    "print(np.median(np.abs(xerr - np.median(xerr))))"
   ]
  },
  {
   "cell_type": "code",
   "execution_count": 93,
   "metadata": {
    "collapsed": false,
    "deletable": true,
    "editable": true
   },
   "outputs": [
    {
     "name": "stdout",
     "output_type": "stream",
     "text": [
      "Rose 2018\n",
      "1.77716547758\n",
      "0.945038547215\n",
      "\n",
      "Gupta 2011\n",
      "1.30239795918\n",
      "0.598739632688\n"
     ]
    }
   ],
   "source": [
    "print('Rose 2018')\n",
    "print(np.mean(yerr))\n",
    "print(np.std(yerr))\n",
    "\n",
    "print('\\nGupta 2011')\n",
    "print(np.mean(xerr))\n",
    "print(np.std(xerr))"
   ]
  },
  {
   "cell_type": "markdown",
   "metadata": {
    "deletable": true,
    "editable": true
   },
   "source": [
    "Since Rose 2018 has \"worse\" mean and standard diviation values but very simmiar median baised values, it appears that Rose 2018 has some \"outliers\". This can be explained by the two population populations. This produces a very asysmetric error bar, and hence more \"outliers\" from Gaussian untertainities."
   ]
  },
  {
   "cell_type": "markdown",
   "metadata": {
    "deletable": true,
    "editable": true
   },
   "source": [
    "## Does Rose estimate a younger population?"
   ]
  },
  {
   "cell_type": "code",
   "execution_count": 120,
   "metadata": {
    "collapsed": false,
    "deletable": true,
    "editable": true
   },
   "outputs": [
    {
     "name": "stdout",
     "output_type": "stream",
     "text": [
      "Number of objects less then 2 Gyr old\n",
      "Rose 2018:  4\n",
      "Gupta 2011:  7\n"
     ]
    }
   ],
   "source": [
    "print(\"Number of objects less then 2 Gyr old\")\n",
    "print(\"Rose 2018: \",len(data[data['Age_1']<2]))\n",
    "print(\"Gupta 2011: \",len(data[data['Age_2']<2]))"
   ]
  },
  {
   "cell_type": "code",
   "execution_count": 122,
   "metadata": {
    "collapsed": false,
    "deletable": true,
    "editable": true
   },
   "outputs": [
    {
     "name": "stdout",
     "output_type": "stream",
     "text": [
      "Number of objects **minembum age** less then 2 Gyr old\n",
      "Rose 2018:  55\n",
      "Gupta 2011:  19\n"
     ]
    }
   ],
   "source": [
    "print(\"Number of objects **minembum age** less then 2 Gyr old\")\n",
    "print(\"Rose 2018: \",len(data[(data['Age_1']-data['Lower CR'])<2]))\n",
    "print(\"Gupta 2011: \",len(data[data['Age -']<2]))"
   ]
  },
  {
   "cell_type": "code",
   "execution_count": 140,
   "metadata": {
    "collapsed": false,
    "deletable": true,
    "editable": true
   },
   "outputs": [
    {
     "name": "stdout",
     "output_type": "stream",
     "text": [
      "Number of objects **minembum age** less then 1.5 Gyr old\n",
      "Rose 2018:  5\n",
      "Gupta 2011:  3\n"
     ]
    }
   ],
   "source": [
    "print(\"Number of objects **minembum age** less then 1.5 Gyr old\")\n",
    "print(\"Rose 2018: \",len(data[(data['Age_1']-data['Lower CR'])<1.5]))\n",
    "print(\"Gupta 2011: \",len(data[data['Age -']<1.5]))"
   ]
  },
  {
   "cell_type": "code",
   "execution_count": 128,
   "metadata": {
    "collapsed": false,
    "deletable": true,
    "editable": true
   },
   "outputs": [
    {
     "data": {
      "text/plain": [
       "-0.038602926611924104"
      ]
     },
     "execution_count": 128,
     "metadata": {},
     "output_type": "execute_result"
    }
   ],
   "source": [
    "min(data['Age_1']-data['Upper CR'])"
   ]
  },
  {
   "cell_type": "markdown",
   "metadata": {
    "deletable": true,
    "editable": true
   },
   "source": [
    "# Make plots"
   ]
  },
  {
   "cell_type": "code",
   "execution_count": 52,
   "metadata": {
    "collapsed": true,
    "deletable": true,
    "editable": true
   },
   "outputs": [],
   "source": [
    "sns.set_style(\"whitegrid\")"
   ]
  },
  {
   "cell_type": "code",
   "execution_count": 73,
   "metadata": {
    "collapsed": false,
    "deletable": true,
    "editable": true
   },
   "outputs": [
    {
     "data": {
      "image/png": "[encoded data removed]",
      "text/plain": [
       "<matplotlib.figure.Figure at 0x111b36860>"
      ]
     },
     "metadata": {},
     "output_type": "display_data"
    }
   ],
   "source": [
    "plt.figure('calibration1')\n",
    "# plt.xscale('log', nonposy='clip')\n",
    "# plt.yscale('log', nonposy='clip')\n",
    "plt.plot(np.linspace(0,12), np.linspace(0,12), alpha=0.5, c='grey')\n",
    "plt.errorbar(data['Age'], data['age'],\n",
    "             xerr=[data['Age']-data['Age -'], data['Age +']-data['Age']],\n",
    "             yerr=[data['age']-data['lower limit'], data['upper limit']-data['age']],\n",
    "             fmt='.', alpha=0.35, label='data')\n",
    "# plt.errorbar(data['Age_2'][xerr<1], data['Age_1'][xerr<1], xerr=xerr[xerr<1], yerr=yerr[xerr<1], fmt='.', alpha=0.75)\n",
    "\n",
    "# plt.errorbar(data['Age'][data['age']<2], data['age'][data['age']<2],\n",
    "#            fmt='o', alpha=0.75, label='Rose < 2 Gyr')\n",
    "# plt.errorbar(data['Age'][data['Age']<2], data['age'][data['Age']<2],\n",
    "#              fmt='*', alpha=0.75, label='Gupta < 2 Gyr')\n",
    "\n",
    "# sns.regplot(x=data['Age_2'], y=data['Age_1'])\n",
    "# sns.jointplot(x=data['Age'], y=data['age'], kind=\"reg\")\n",
    "\n",
    "plt.xlabel('Age [Gyr], Gupta 2011')\n",
    "plt.ylabel('Age [Gyr], Rose 2018')\n",
    "plt.axes().set_aspect(1)\n",
    "plt.xlim((0, 12))\n",
    "plt.ylim((0, 12))\n",
    "# plt.plot(np.linspace(0,12), np.linspace(0,12)-2.0)\n",
    "# plt.legend(loc=2)\n",
    "# plt.savefig('ageCalibration_te/mp.pdf')\n",
    "plt.show()"
   ]
  },
  {
   "cell_type": "code",
   "execution_count": 81,
   "metadata": {
    "collapsed": false
   },
   "outputs": [
    {
     "data": {
      "image/png": "[encoded data removed]",
      "text/plain": [
       "<matplotlib.figure.Figure at 0x112f51278>"
      ]
     },
     "metadata": {},
     "output_type": "display_data"
    }
   ],
   "source": [
    "(sns.jointplot(x=data['Age'], y=data['age'], kind=\"reg\", marginal_kws={'bins':6}, xlim=(0,12), ylim=(0,12))\n",
    "    ).set_axis_labels('Age [Gyr], Gupta 2011', 'Age [Gyr], Rose 2018')\n",
    "plt.plot(np.linspace(0,12), np.linspace(0,12), alpha=0.5, c='grey')\n",
    "# plt.savefig('ageCalibration_rossVgupta.pdf')\n",
    "plt.show()"
   ]
  },
  {
   "cell_type": "code",
   "execution_count": 135,
   "metadata": {
    "collapsed": false,
    "deletable": true,
    "editable": true
   },
   "outputs": [
    {
     "data": {
      "image/png": "[encoded data removed]",
      "text/plain": [
       "<matplotlib.figure.Figure at 0x10fe2c9e8>"
      ]
     },
     "metadata": {},
     "output_type": "display_data"
    }
   ],
   "source": [
    "plt.figure('test')\n",
    "plt.errorbar(range(5), [2,5,3,4,7], yerr=[[1,4,2,3,6],[4,10,6,8,14]])\n",
    "plt.show()"
   ]
  },
  {
   "cell_type": "code",
   "execution_count": 68,
   "metadata": {
    "collapsed": false,
    "deletable": true,
    "editable": true
   },
   "outputs": [
    {
     "ename": "KeyError",
     "evalue": "'age'",
     "output_type": "error",
     "traceback": [
      "\u001b[0;31m---------------------------------------------------------------------------\u001b[0m",
      "\u001b[0;31mKeyError\u001b[0m                                  Traceback (most recent call last)",
      "\u001b[0;32m<ipython-input-68-efbe36d5601b>\u001b[0m in \u001b[0;36m<module>\u001b[0;34m()\u001b[0m\n\u001b[1;32m      2\u001b[0m \u001b[0;31m# plt.xscale('log', nonposy='clip')\u001b[0m\u001b[0;34m\u001b[0m\u001b[0;34m\u001b[0m\u001b[0m\n\u001b[1;32m      3\u001b[0m \u001b[0;31m# plt.yscale('log', nonposy='clip')\u001b[0m\u001b[0;34m\u001b[0m\u001b[0;34m\u001b[0m\u001b[0m\n\u001b[0;32m----> 4\u001b[0;31m \u001b[0mplt\u001b[0m\u001b[0;34m.\u001b[0m\u001b[0merrorbar\u001b[0m\u001b[0;34m(\u001b[0m\u001b[0mGuptaData\u001b[0m\u001b[0;34m[\u001b[0m\u001b[0;34m'Age'\u001b[0m\u001b[0;34m]\u001b[0m\u001b[0;34m,\u001b[0m \u001b[0mRoseData\u001b[0m\u001b[0;34m[\u001b[0m\u001b[0;34m'age'\u001b[0m\u001b[0;34m]\u001b[0m\u001b[0;34m,\u001b[0m \u001b[0mxerr\u001b[0m\u001b[0;34m=\u001b[0m\u001b[0mxerr\u001b[0m\u001b[0;34m,\u001b[0m \u001b[0myerr\u001b[0m\u001b[0;34m=\u001b[0m\u001b[0myerr\u001b[0m\u001b[0;34m,\u001b[0m \u001b[0mfmt\u001b[0m\u001b[0;34m=\u001b[0m\u001b[0;34m'.'\u001b[0m\u001b[0;34m,\u001b[0m \u001b[0malpha\u001b[0m\u001b[0;34m=\u001b[0m\u001b[0;36m0.25\u001b[0m\u001b[0;34m)\u001b[0m\u001b[0;34m\u001b[0m\u001b[0m\n\u001b[0m\u001b[1;32m      5\u001b[0m \u001b[0mplt\u001b[0m\u001b[0;34m.\u001b[0m\u001b[0merrorbar\u001b[0m\u001b[0;34m(\u001b[0m\u001b[0mGuptaData\u001b[0m\u001b[0;34m[\u001b[0m\u001b[0;34m'Age'\u001b[0m\u001b[0;34m]\u001b[0m\u001b[0;34m[\u001b[0m\u001b[0myerr\u001b[0m\u001b[0;34m<\u001b[0m\u001b[0;36m1\u001b[0m\u001b[0;34m]\u001b[0m\u001b[0;34m,\u001b[0m \u001b[0mRoseData\u001b[0m\u001b[0;34m[\u001b[0m\u001b[0;34m'age'\u001b[0m\u001b[0;34m]\u001b[0m\u001b[0;34m[\u001b[0m\u001b[0myerr\u001b[0m\u001b[0;34m<\u001b[0m\u001b[0;36m1\u001b[0m\u001b[0;34m]\u001b[0m\u001b[0;34m,\u001b[0m \u001b[0mxerr\u001b[0m\u001b[0;34m=\u001b[0m\u001b[0mxerr\u001b[0m\u001b[0;34m[\u001b[0m\u001b[0myerr\u001b[0m\u001b[0;34m<\u001b[0m\u001b[0;36m1\u001b[0m\u001b[0;34m]\u001b[0m\u001b[0;34m,\u001b[0m \u001b[0myerr\u001b[0m\u001b[0;34m=\u001b[0m\u001b[0myerr\u001b[0m\u001b[0;34m[\u001b[0m\u001b[0myerr\u001b[0m\u001b[0;34m<\u001b[0m\u001b[0;36m1\u001b[0m\u001b[0;34m]\u001b[0m\u001b[0;34m,\u001b[0m \u001b[0mfmt\u001b[0m\u001b[0;34m=\u001b[0m\u001b[0;34m'.'\u001b[0m\u001b[0;34m,\u001b[0m \u001b[0malpha\u001b[0m\u001b[0;34m=\u001b[0m\u001b[0;36m0.75\u001b[0m\u001b[0;34m)\u001b[0m\u001b[0;34m\u001b[0m\u001b[0m\n\u001b[1;32m      6\u001b[0m \u001b[0;31m# sns.regplot(x=GuptaData['Age'], y=RoseData['age'])\u001b[0m\u001b[0;34m\u001b[0m\u001b[0;34m\u001b[0m\u001b[0m\n",
      "\u001b[0;32m/usr/local/lib/python3.6/site-packages/astropy/table/table.py\u001b[0m in \u001b[0;36m__getitem__\u001b[0;34m(self, item)\u001b[0m\n\u001b[1;32m   1200\u001b[0m     \u001b[0;32mdef\u001b[0m \u001b[0m__getitem__\u001b[0m\u001b[0;34m(\u001b[0m\u001b[0mself\u001b[0m\u001b[0;34m,\u001b[0m \u001b[0mitem\u001b[0m\u001b[0;34m)\u001b[0m\u001b[0;34m:\u001b[0m\u001b[0;34m\u001b[0m\u001b[0m\n\u001b[1;32m   1201\u001b[0m         \u001b[0;32mif\u001b[0m \u001b[0misinstance\u001b[0m\u001b[0;34m(\u001b[0m\u001b[0mitem\u001b[0m\u001b[0;34m,\u001b[0m \u001b[0msix\u001b[0m\u001b[0;34m.\u001b[0m\u001b[0mstring_types\u001b[0m\u001b[0;34m)\u001b[0m\u001b[0;34m:\u001b[0m\u001b[0;34m\u001b[0m\u001b[0m\n\u001b[0;32m-> 1202\u001b[0;31m             \u001b[0;32mreturn\u001b[0m \u001b[0mself\u001b[0m\u001b[0;34m.\u001b[0m\u001b[0mcolumns\u001b[0m\u001b[0;34m[\u001b[0m\u001b[0mitem\u001b[0m\u001b[0;34m]\u001b[0m\u001b[0;34m\u001b[0m\u001b[0m\n\u001b[0m\u001b[1;32m   1203\u001b[0m         \u001b[0;32melif\u001b[0m \u001b[0misinstance\u001b[0m\u001b[0;34m(\u001b[0m\u001b[0mitem\u001b[0m\u001b[0;34m,\u001b[0m \u001b[0;34m(\u001b[0m\u001b[0mint\u001b[0m\u001b[0;34m,\u001b[0m \u001b[0mnp\u001b[0m\u001b[0;34m.\u001b[0m\u001b[0minteger\u001b[0m\u001b[0;34m)\u001b[0m\u001b[0;34m)\u001b[0m\u001b[0;34m:\u001b[0m\u001b[0;34m\u001b[0m\u001b[0m\n\u001b[1;32m   1204\u001b[0m             \u001b[0;32mreturn\u001b[0m \u001b[0mself\u001b[0m\u001b[0;34m.\u001b[0m\u001b[0mRow\u001b[0m\u001b[0;34m(\u001b[0m\u001b[0mself\u001b[0m\u001b[0;34m,\u001b[0m \u001b[0mitem\u001b[0m\u001b[0;34m)\u001b[0m\u001b[0;34m\u001b[0m\u001b[0m\n",
      "\u001b[0;32m/usr/local/lib/python3.6/site-packages/astropy/table/table.py\u001b[0m in \u001b[0;36m__getitem__\u001b[0;34m(self, item)\u001b[0m\n\u001b[1;32m    108\u001b[0m         \"\"\"\n\u001b[1;32m    109\u001b[0m         \u001b[0;32mif\u001b[0m \u001b[0misinstance\u001b[0m\u001b[0;34m(\u001b[0m\u001b[0mitem\u001b[0m\u001b[0;34m,\u001b[0m \u001b[0msix\u001b[0m\u001b[0;34m.\u001b[0m\u001b[0mstring_types\u001b[0m\u001b[0;34m)\u001b[0m\u001b[0;34m:\u001b[0m\u001b[0;34m\u001b[0m\u001b[0m\n\u001b[0;32m--> 110\u001b[0;31m             \u001b[0;32mreturn\u001b[0m \u001b[0mOrderedDict\u001b[0m\u001b[0;34m.\u001b[0m\u001b[0m__getitem__\u001b[0m\u001b[0;34m(\u001b[0m\u001b[0mself\u001b[0m\u001b[0;34m,\u001b[0m \u001b[0mitem\u001b[0m\u001b[0;34m)\u001b[0m\u001b[0;34m\u001b[0m\u001b[0m\n\u001b[0m\u001b[1;32m    111\u001b[0m         \u001b[0;32melif\u001b[0m \u001b[0misinstance\u001b[0m\u001b[0;34m(\u001b[0m\u001b[0mitem\u001b[0m\u001b[0;34m,\u001b[0m \u001b[0;34m(\u001b[0m\u001b[0mint\u001b[0m\u001b[0;34m,\u001b[0m \u001b[0mnp\u001b[0m\u001b[0;34m.\u001b[0m\u001b[0minteger\u001b[0m\u001b[0;34m)\u001b[0m\u001b[0;34m)\u001b[0m\u001b[0;34m:\u001b[0m\u001b[0;34m\u001b[0m\u001b[0m\n\u001b[1;32m    112\u001b[0m             \u001b[0;32mreturn\u001b[0m \u001b[0mself\u001b[0m\u001b[0;34m.\u001b[0m\u001b[0mvalues\u001b[0m\u001b[0;34m(\u001b[0m\u001b[0;34m)\u001b[0m\u001b[0;34m[\u001b[0m\u001b[0mitem\u001b[0m\u001b[0;34m]\u001b[0m\u001b[0;34m\u001b[0m\u001b[0m\n",
      "\u001b[0;31mKeyError\u001b[0m: 'age'"
     ]
    }
   ],
   "source": [
    "plt.figure('calibration1')\n",
    "# plt.xscale('log', nonposy='clip')\n",
    "# plt.yscale('log', nonposy='clip')\n",
    "plt.errorbar(GuptaData['Age'], RoseData['age'], xerr=xerr, yerr=yerr, fmt='.', alpha=0.25)\n",
    "plt.errorbar(GuptaData['Age'][xerr<1], RoseData['age'][xerr<1], xerr=xerr[xerr<1], yerr=yerr[xerr<1], fmt='.', alpha=0.75)\n",
    "# sns.regplot(x=GuptaData['Age'], y=RoseData['age'])\n",
    "# sns.jointplot(x=GuptaData['Age'], y=RoseData['age'], kind=\"reg\")\n",
    "plt.xlabel('Age [Gyr] - Gupta 2011')\n",
    "plt.ylabel('Age [Gyr] - Rose 2017')\n",
    "plt.plot(np.linspace(0,12), np.linspace(0,12))\n",
    "plt.plot(np.linspace(0,12), np.linspace(0,12)-2.0)\n",
    "plt.savefig('figures/ageCalibration_temp.pdf')\n",
    "plt.show()"
   ]
  },
  {
   "cell_type": "code",
   "execution_count": 64,
   "metadata": {
    "collapsed": false,
    "deletable": true,
    "editable": true
   },
   "outputs": [
    {
     "data": {
      "text/html": [
       "&lt;Table masked=True length=194&gt;\n",
       "<table id=\"table4436572648\" class=\"table-striped table-bordered table-condensed\">\n",
       "<thead><tr><th>SN ID</th><th>IAU</th><th>RA</th><th>Dec</th><th>redshift</th><th>redshift uncert</th><th>M -</th><th>M</th><th>M +</th><th>Age -</th><th>Age</th><th>Age +</th><th>c</th><th>c uncert</th><th>x_1</th><th>x_1 uncert</th><th>HR</th><th>HR uncert</th></tr></thead>\n",
       "<thead><tr><th>int64</th><th>str6</th><th>float64</th><th>float64</th><th>float64</th><th>float64</th><th>float64</th><th>float64</th><th>float64</th><th>float64</th><th>float64</th><th>float64</th><th>float64</th><th>float64</th><th>float64</th><th>float64</th><th>float64</th><th>float64</th></tr></thead>\n",
       "<tr><td>1166</td><td>--</td><td>9.3552761078</td><td>0.9739487767</td><td>0.3824</td><td>0.0005</td><td>11.08</td><td>11.15</td><td>11.22</td><td>4.13</td><td>6.47</td><td>7.53</td><td>0.023</td><td>0.068</td><td>1.274</td><td>1.103</td><td>-0.3288</td><td>0.2179</td></tr>\n",
       "<tr><td>1253</td><td>2005fd</td><td>323.798583984</td><td>0.1628694236</td><td>0.262</td><td>0.005</td><td>11.27</td><td>11.34</td><td>11.39</td><td>5.89</td><td>7.8</td><td>8.03</td><td>-0.119</td><td>0.058</td><td>-1.28</td><td>0.464</td><td>-0.1097</td><td>0.1611</td></tr>\n",
       "<tr><td>1371</td><td>2005fh</td><td>349.373748779</td><td>0.4296737611</td><td>0.11915</td><td>0.00012</td><td>10.95</td><td>11.0</td><td>11.02</td><td>5.27</td><td>6.76</td><td>7.26</td><td>-0.084</td><td>0.02</td><td>0.703</td><td>0.167</td><td>-0.1775</td><td>0.0566</td></tr>\n",
       "<tr><td>1580</td><td>2005fb</td><td>45.3238296509</td><td>-0.6422790885</td><td>0.183</td><td>8e-05</td><td>10.61</td><td>10.73</td><td>10.83</td><td>3.58</td><td>5.2</td><td>6.95</td><td>-0.058</td><td>0.026</td><td>0.675</td><td>0.271</td><td>-0.1156</td><td>0.0775</td></tr>\n",
       "<tr><td>1688</td><td>--</td><td>321.357818603</td><td>0.3248503506</td><td>0.3587</td><td>0.0005</td><td>10.09</td><td>10.2</td><td>10.32</td><td>1.5</td><td>2.04</td><td>2.74</td><td>0.007</td><td>0.07</td><td>1.019</td><td>1.306</td><td>0.024</td><td>0.2309</td></tr>\n",
       "<tr><td>2017</td><td>2005fo</td><td>328.943878174</td><td>0.5934827328</td><td>0.2616</td><td>0.0005</td><td>10.48</td><td>10.54</td><td>10.57</td><td>4.26</td><td>5.84</td><td>6.66</td><td>-0.117</td><td>0.052</td><td>1.272</td><td>0.527</td><td>0.2671</td><td>0.1512</td></tr>\n",
       "<tr><td>2165</td><td>2005fr</td><td>17.0916309357</td><td>-0.0962756798</td><td>0.288</td><td>0.005</td><td>9.33</td><td>9.39</td><td>9.46</td><td>1.86</td><td>2.21</td><td>3.52</td><td>-0.13</td><td>0.038</td><td>0.62</td><td>0.526</td><td>0.3219</td><td>0.1315</td></tr>\n",
       "<tr><td>2330</td><td>2005fp</td><td>6.8073453903</td><td>1.1208769083</td><td>0.2132</td><td>0.0005</td><td>9.83</td><td>9.88</td><td>9.94</td><td>2.8</td><td>4.11</td><td>6.16</td><td>0.083</td><td>0.063</td><td>-2.238</td><td>0.569</td><td>0.2954</td><td>0.162</td></tr>\n",
       "<tr><td>2372</td><td>2005ft</td><td>40.520816803</td><td>-0.5410116911</td><td>0.1805</td><td>0.0005</td><td>10.37</td><td>10.45</td><td>10.49</td><td>6.08</td><td>7.64</td><td>8.81</td><td>0.045</td><td>0.024</td><td>-0.015</td><td>0.225</td><td>-0.1379</td><td>0.0714</td></tr>\n",
       "<tr><td>2422</td><td>2005fi</td><td>1.9945372343</td><td>0.6381285191</td><td>0.265</td><td>0.005</td><td>9.09</td><td>9.15</td><td>9.25</td><td>2.03</td><td>2.57</td><td>3.29</td><td>-0.184</td><td>0.035</td><td>0.751</td><td>0.326</td><td>0.2078</td><td>0.1181</td></tr>\n",
       "<tr><td>...</td><td>...</td><td>...</td><td>...</td><td>...</td><td>...</td><td>...</td><td>...</td><td>...</td><td>...</td><td>...</td><td>...</td><td>...</td><td>...</td><td>...</td><td>...</td><td>...</td><td>...</td></tr>\n",
       "<tr><td>19990</td><td>2007ps</td><td>34.8060150146</td><td>-0.3845337927</td><td>0.246</td><td>0.005</td><td>10.52</td><td>10.59</td><td>10.64</td><td>6.38</td><td>8.78</td><td>10.38</td><td>-0.038</td><td>0.044</td><td>-1.164</td><td>0.491</td><td>0.0404</td><td>0.1339</td></tr>\n",
       "<tr><td>20040</td><td>2007rf</td><td>328.879455566</td><td>0.8150795698</td><td>0.288</td><td>0.0005</td><td>10.27</td><td>10.38</td><td>10.47</td><td>3.97</td><td>6.37</td><td>8.53</td><td>-0.097</td><td>0.046</td><td>0.829</td><td>0.731</td><td>-0.1062</td><td>0.124</td></tr>\n",
       "<tr><td>20048</td><td>2007pq</td><td>339.308105469</td><td>0.7363132834</td><td>0.1855</td><td>0.0005</td><td>10.71</td><td>10.8</td><td>10.87</td><td>7.01</td><td>8.01</td><td>11.01</td><td>0.05</td><td>0.04</td><td>-0.939</td><td>0.567</td><td>0.023</td><td>0.1211</td></tr>\n",
       "<tr><td>20064</td><td>2007om</td><td>358.586273193</td><td>-0.9172353745</td><td>0.10503</td><td>0.00018</td><td>11.16</td><td>11.16</td><td>11.27</td><td>4.69</td><td>4.69</td><td>6.85</td><td>0.107</td><td>0.023</td><td>0.408</td><td>0.322</td><td>-0.249</td><td>0.0619</td></tr>\n",
       "<tr><td>20106</td><td>2007pr</td><td>346.554077148</td><td>0.328928858</td><td>0.333</td><td>0.005</td><td>10.12</td><td>10.2</td><td>10.26</td><td>3.05</td><td>5.27</td><td>6.52</td><td>-0.042</td><td>0.084</td><td>-0.503</td><td>0.905</td><td>0.0408</td><td>0.234</td></tr>\n",
       "<tr><td>20111</td><td>2007pw</td><td>354.394073486</td><td>0.2474300116</td><td>0.245</td><td>0.005</td><td>10.78</td><td>10.87</td><td>10.93</td><td>5.9</td><td>8.39</td><td>8.94</td><td>0.015</td><td>0.048</td><td>-0.362</td><td>0.81</td><td>-0.0164</td><td>0.1594</td></tr>\n",
       "<tr><td>20184</td><td>2007qn</td><td>359.788513184</td><td>1.1585552692</td><td>0.324</td><td>0.0005</td><td>9.53</td><td>9.65</td><td>9.75</td><td>2.21</td><td>3.38</td><td>4.62</td><td>0.029</td><td>0.082</td><td>-1.095</td><td>1.398</td><td>-0.2104</td><td>0.2047</td></tr>\n",
       "<tr><td>20227</td><td>2007qi</td><td>349.120056152</td><td>-0.0988994613</td><td>0.2764</td><td>0.0005</td><td>10.64</td><td>10.71</td><td>10.76</td><td>5.08</td><td>7.48</td><td>8.64</td><td>-0.134</td><td>0.057</td><td>-1.647</td><td>0.713</td><td>0.0382</td><td>0.1498</td></tr>\n",
       "<tr><td>20350</td><td>2007ph</td><td>312.806793213</td><td>-0.9577776194</td><td>0.12946</td><td>0.00018</td><td>11.19</td><td>11.29</td><td>11.34</td><td>5.03</td><td>8.14</td><td>9.63</td><td>0.213</td><td>0.054</td><td>-3.029</td><td>0.845</td><td>-0.072</td><td>0.1358</td></tr>\n",
       "<tr><td>20364</td><td>2007qo</td><td>25.7565631866</td><td>-0.945181191</td><td>0.2181</td><td>0.0009</td><td>10.31</td><td>10.37</td><td>10.41</td><td>2.76</td><td>3.6</td><td>5.7</td><td>0.062</td><td>0.039</td><td>0.83</td><td>0.964</td><td>0.0192</td><td>0.1404</td></tr>\n",
       "</table>"
      ],
      "text/plain": [
       "<Table masked=True length=194>\n",
       "SN ID  IAU         RA           Dec      ... x_1 uncert    HR   HR uncert\n",
       "int64  str6     float64       float64    ...  float64   float64  float64 \n",
       "----- ------ ------------- ------------- ... ---------- ------- ---------\n",
       " 1166     --  9.3552761078  0.9739487767 ...      1.103 -0.3288    0.2179\n",
       " 1253 2005fd 323.798583984  0.1628694236 ...      0.464 -0.1097    0.1611\n",
       " 1371 2005fh 349.373748779  0.4296737611 ...      0.167 -0.1775    0.0566\n",
       " 1580 2005fb 45.3238296509 -0.6422790885 ...      0.271 -0.1156    0.0775\n",
       " 1688     -- 321.357818603  0.3248503506 ...      1.306   0.024    0.2309\n",
       " 2017 2005fo 328.943878174  0.5934827328 ...      0.527  0.2671    0.1512\n",
       " 2165 2005fr 17.0916309357 -0.0962756798 ...      0.526  0.3219    0.1315\n",
       " 2330 2005fp  6.8073453903  1.1208769083 ...      0.569  0.2954     0.162\n",
       " 2372 2005ft  40.520816803 -0.5410116911 ...      0.225 -0.1379    0.0714\n",
       " 2422 2005fi  1.9945372343  0.6381285191 ...      0.326  0.2078    0.1181\n",
       "  ...    ...           ...           ... ...        ...     ...       ...\n",
       "19990 2007ps 34.8060150146 -0.3845337927 ...      0.491  0.0404    0.1339\n",
       "20040 2007rf 328.879455566  0.8150795698 ...      0.731 -0.1062     0.124\n",
       "20048 2007pq 339.308105469  0.7363132834 ...      0.567   0.023    0.1211\n",
       "20064 2007om 358.586273193 -0.9172353745 ...      0.322  -0.249    0.0619\n",
       "20106 2007pr 346.554077148   0.328928858 ...      0.905  0.0408     0.234\n",
       "20111 2007pw 354.394073486  0.2474300116 ...       0.81 -0.0164    0.1594\n",
       "20184 2007qn 359.788513184  1.1585552692 ...      1.398 -0.2104    0.2047\n",
       "20227 2007qi 349.120056152 -0.0988994613 ...      0.713  0.0382    0.1498\n",
       "20350 2007ph 312.806793213 -0.9577776194 ...      0.845  -0.072    0.1358\n",
       "20364 2007qo 25.7565631866  -0.945181191 ...      0.964  0.0192    0.1404"
      ]
     },
     "execution_count": 64,
     "metadata": {},
     "output_type": "execute_result"
    }
   ],
   "source": [
    "GuptaData"
   ]
  },
  {
   "cell_type": "code",
   "execution_count": 65,
   "metadata": {
    "collapsed": false,
    "deletable": true,
    "editable": true
   },
   "outputs": [
    {
     "data": {
      "text/html": [
       "&lt;Table length=193&gt;\n",
       "<table id=\"table4433939312\" class=\"table-striped table-bordered table-condensed\">\n",
       "<thead><tr><th>SN</th><th>age</th><th>age-uncert</th><th>age+uncert</th></tr></thead>\n",
       "<thead><tr><th>int64</th><th>float64</th><th>float64</th><th>float64</th></tr></thead>\n",
       "<tr><td>1166</td><td>2.24726963043</td><td>1.04496121407</td><td>0.502037227154</td></tr>\n",
       "<tr><td>1253</td><td>3.18795919418</td><td>1.79519927502</td><td>1.32779455185</td></tr>\n",
       "<tr><td>1371</td><td>0.0182669144124</td><td>0.00122318579815</td><td>0.000929805915803</td></tr>\n",
       "<tr><td>1580</td><td>0.0065697375685</td><td>0.000385548250051</td><td>0.000431691121776</td></tr>\n",
       "<tr><td>1688</td><td>0.58418571949</td><td>0.0444331504405</td><td>0.0397054851055</td></tr>\n",
       "<tr><td>2017</td><td>1.64341855049</td><td>0.0973108559847</td><td>0.0833257585764</td></tr>\n",
       "<tr><td>2165</td><td>1.40117573738</td><td>0.773038029671</td><td>0.679863572121</td></tr>\n",
       "<tr><td>2330</td><td>0.00938008446246</td><td>0.0612789280713</td><td>0.00525784539059</td></tr>\n",
       "<tr><td>2372</td><td>1.84734380245</td><td>0.241433665156</td><td>0.230671390891</td></tr>\n",
       "<tr><td>2422</td><td>1.28315484524</td><td>1.26261568069</td><td>0.659277975559</td></tr>\n",
       "<tr><td>...</td><td>...</td><td>...</td><td>...</td></tr>\n",
       "<tr><td>19990</td><td>4.51236486435</td><td>1.166659832</td><td>1.06201672554</td></tr>\n",
       "<tr><td>20040</td><td>1.94764351845</td><td>0.799467802048</td><td>0.445415556431</td></tr>\n",
       "<tr><td>20048</td><td>7.15979671478</td><td>0.236936345696</td><td>0.216321721673</td></tr>\n",
       "<tr><td>20064</td><td>0.0945652723312</td><td>0.00965575035661</td><td>0.00804150383919</td></tr>\n",
       "<tr><td>20106</td><td>1.76480829716</td><td>1.08073723316</td><td>0.803449749947</td></tr>\n",
       "<tr><td>20111</td><td>5.93152236938</td><td>1.04906845093</td><td>1.32192659378</td></tr>\n",
       "<tr><td>20184</td><td>0.590155184269</td><td>0.273010611534</td><td>0.16977353394</td></tr>\n",
       "<tr><td>20227</td><td>1.76580691338</td><td>0.221301361918</td><td>0.152968153358</td></tr>\n",
       "<tr><td>20350</td><td>7.05770635605</td><td>0.0436556600034</td><td>0.066873498261</td></tr>\n",
       "<tr><td>20364</td><td>1.98673522472</td><td>0.24883556366</td><td>0.172881260514</td></tr>\n",
       "</table>"
      ],
      "text/plain": [
       "<Table length=193>\n",
       "  SN        age            age-uncert        age+uncert   \n",
       "int64     float64           float64           float64     \n",
       "----- ---------------- ----------------- -----------------\n",
       " 1166    2.24726963043     1.04496121407    0.502037227154\n",
       " 1253    3.18795919418     1.79519927502     1.32779455185\n",
       " 1371  0.0182669144124  0.00122318579815 0.000929805915803\n",
       " 1580  0.0065697375685 0.000385548250051 0.000431691121776\n",
       " 1688    0.58418571949   0.0444331504405   0.0397054851055\n",
       " 2017    1.64341855049   0.0973108559847   0.0833257585764\n",
       " 2165    1.40117573738    0.773038029671    0.679863572121\n",
       " 2330 0.00938008446246   0.0612789280713  0.00525784539059\n",
       " 2372    1.84734380245    0.241433665156    0.230671390891\n",
       " 2422    1.28315484524     1.26261568069    0.659277975559\n",
       "  ...              ...               ...               ...\n",
       "19990    4.51236486435       1.166659832     1.06201672554\n",
       "20040    1.94764351845    0.799467802048    0.445415556431\n",
       "20048    7.15979671478    0.236936345696    0.216321721673\n",
       "20064  0.0945652723312  0.00965575035661  0.00804150383919\n",
       "20106    1.76480829716     1.08073723316    0.803449749947\n",
       "20111    5.93152236938     1.04906845093     1.32192659378\n",
       "20184   0.590155184269    0.273010611534     0.16977353394\n",
       "20227    1.76580691338    0.221301361918    0.152968153358\n",
       "20350    7.05770635605   0.0436556600034    0.066873498261\n",
       "20364    1.98673522472     0.24883556366    0.172881260514"
      ]
     },
     "execution_count": 65,
     "metadata": {},
     "output_type": "execute_result"
    }
   ],
   "source": [
    "RoseData"
   ]
  },
  {
   "cell_type": "code",
   "execution_count": 70,
   "metadata": {
    "collapsed": false,
    "deletable": true,
    "editable": true
   },
   "outputs": [
    {
     "name": "stdout",
     "output_type": "stream",
     "text": [
      "13956\n"
     ]
    }
   ],
   "source": [
    "for i in GuptaData['SN ID']:\n",
    "    if len(np.where(RoseData['SN'] == i)[0]) == 0:\n",
    "        print(i)"
   ]
  },
  {
   "cell_type": "markdown",
   "metadata": {
    "deletable": true,
    "editable": true
   },
   "source": [
    "There are those two data points that are \"high quality\" by Gupta's defintion, but I disagree with the resulting age by 8 to 10 Gyr! What host are they?"
   ]
  },
  {
   "cell_type": "code",
   "execution_count": 131,
   "metadata": {
    "collapsed": false,
    "deletable": true,
    "editable": true,
    "scrolled": true
   },
   "outputs": [
    {
     "data": {
      "text/html": [
       "&lt;Table masked=True length=2&gt;\n",
       "<table id=\"table4453349808\" class=\"table-striped table-bordered table-condensed\">\n",
       "<thead><tr><th>SN ID</th><th>IAU</th><th>RA</th><th>Dec</th><th>redshift</th><th>redshift uncert</th><th>M -</th><th>M</th><th>M +</th><th>Age -</th><th>Age</th><th>Age +</th><th>c</th><th>c uncert</th><th>x_1</th><th>x_1 uncert</th><th>HR</th><th>HR uncert</th></tr></thead>\n",
       "<thead><tr><th>int64</th><th>str6</th><th>float64</th><th>float64</th><th>float64</th><th>float64</th><th>float64</th><th>float64</th><th>float64</th><th>float64</th><th>float64</th><th>float64</th><th>float64</th><th>float64</th><th>float64</th><th>float64</th><th>float64</th><th>float64</th></tr></thead>\n",
       "<tr><td>12781</td><td>2006er</td><td>5.4078617096</td><td>-1.0106090307</td><td>0.08431</td><td>0.00016</td><td>10.96</td><td>10.97</td><td>11.02</td><td>10.58</td><td>11.18</td><td>11.58</td><td>0.072</td><td>0.061</td><td>-2.128</td><td>0.337</td><td>0.1604</td><td>0.1149</td></tr>\n",
       "<tr><td>15776</td><td>2006na</td><td>32.8302955627</td><td>-0.9981175065</td><td>0.305</td><td>0.005</td><td>11.18</td><td>11.19</td><td>11.21</td><td>9.81</td><td>10.21</td><td>10.21</td><td>-0.116</td><td>0.081</td><td>-1.662</td><td>0.743</td><td>0.1115</td><td>0.2089</td></tr>\n",
       "</table>"
      ],
      "text/plain": [
       "<Table masked=True length=2>\n",
       "SN ID  IAU         RA           Dec      ... x_1 uncert    HR   HR uncert\n",
       "int64  str6     float64       float64    ...  float64   float64  float64 \n",
       "----- ------ ------------- ------------- ... ---------- ------- ---------\n",
       "12781 2006er  5.4078617096 -1.0106090307 ...      0.337  0.1604    0.1149\n",
       "15776 2006na 32.8302955627 -0.9981175065 ...      0.743  0.1115    0.2089"
      ]
     },
     "execution_count": 131,
     "metadata": {},
     "output_type": "execute_result"
    }
   ],
   "source": [
    "GuptaData[np.logical_and(GuptaData['Age'] > 10, GuptaData['Age'] - GuptaData['Age -'] < 1)]"
   ]
  },
  {
   "cell_type": "code",
   "execution_count": null,
   "metadata": {
    "collapsed": true,
    "deletable": true,
    "editable": true
   },
   "outputs": [],
   "source": []
  }
 ],
 "metadata": {
  "kernelspec": {
   "display_name": "Python 3",
   "language": "python",
   "name": "python3"
  },
  "language_info": {
   "codemirror_mode": {
    "name": "ipython",
    "version": 3
   },
   "file_extension": ".py",
   "mimetype": "text/x-python",
   "name": "python",
   "nbconvert_exporter": "python",
   "pygments_lexer": "ipython3",
   "version": "3.6.3"
  }
 },
 "nbformat": 4,
 "nbformat_minor": 2
}
