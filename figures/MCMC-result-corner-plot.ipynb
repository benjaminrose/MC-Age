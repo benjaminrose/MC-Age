{
 "cells": [
  {
   "cell_type": "markdown",
   "metadata": {
    "deletable": true,
    "editable": true
   },
   "source": [
    "# Make Corner Plots of Posterior Distributions\n",
    "\n",
    "This file allows me to quickly and repeatedly make the cornor plot to examin the results of the MCMC analsys"
   ]
  },
  {
   "cell_type": "code",
   "execution_count": 1,
   "metadata": {
    "collapsed": true,
    "deletable": true,
    "editable": true
   },
   "outputs": [],
   "source": [
    "import numpy as np\n",
    "import matplotlib.pyplot as plt\n",
    "import pandas as pd\n",
    "from astropy.table import Table\n",
    "import corner\n",
    "# import seaborn"
   ]
  },
  {
   "cell_type": "markdown",
   "metadata": {
    "deletable": true,
    "editable": true
   },
   "source": [
    "This function is the general function that is repeated called throught the file. One benifite to this system, is that I only need to update to higher quality labels in one place. "
   ]
  },
  {
   "cell_type": "code",
   "execution_count": 2,
   "metadata": {
    "collapsed": false,
    "deletable": true,
    "editable": true
   },
   "outputs": [],
   "source": [
    "def corner_plot(file_, saved_file, truths=None):\n",
    "    data = Table.read(file_, format='ascii.commented_header', delimiter='\\t')\n",
    "    data = data.to_pandas()\n",
    "    data.dropna(inplace=True)\n",
    "    \n",
    "    \n",
    "    # look at corner.hist2d(levels) to not have too many conturs on a plot\n",
    "    # http://corner.readthedocs.io/en/latest/api.html\n",
    "    fig = corner.corner(data, show_titles=True, use_math_text=True,\n",
    "                    quantiles=[0.16, 0.5, 0.84], smooth=0.5, \n",
    "                    plot_datapoints=False,\n",
    "                    labels=[\"$logZ_{sol}$\", \"$dust_2$\", r\"$\\tau$\", \n",
    "                            \"$t_{start}$\", \"$t_{trans}$\", 'sf slope', \n",
    "                             'c', 'Age'],\n",
    "                    truths=truths\n",
    "                    )\n",
    "    \n",
    "    fig.savefig(saved_file)"
   ]
  },
  {
   "cell_type": "markdown",
   "metadata": {
    "deletable": true,
    "editable": true
   },
   "source": [
    "## Messier Objects"
   ]
  },
  {
   "cell_type": "code",
   "execution_count": 4,
   "metadata": {
    "collapsed": false,
    "deletable": true,
    "editable": true
   },
   "outputs": [
    {
     "name": "stderr",
     "output_type": "stream",
     "text": [
      "WARNING:root:Too few points to create valid contours\n",
      "WARNING:root:Too few points to create valid contours\n",
      "WARNING:root:Too few points to create valid contours\n"
     ]
    }
   ],
   "source": [
    "#run one object\n",
    "SN = 101\n",
    "file_ = f'../resources/SN{SN}_chain.tsv'\n",
    "saved_file = f'global_07-21-run_SN{SN}.pdf'\n",
    "corner_plot(file_, saved_file)"
   ]
  },
  {
   "cell_type": "code",
   "execution_count": 3,
   "metadata": {
    "collapsed": false,
    "deletable": true,
    "editable": true
   },
   "outputs": [
    {
     "name": "stdout",
     "output_type": "stream",
     "text": [
      "\n",
      "Making messierTests/07-27-M63.pdf\n",
      "\n",
      "Making messierTests/07-27-M82.pdf\n"
     ]
    },
    {
     "name": "stderr",
     "output_type": "stream",
     "text": [
      "WARNING:root:Too few points to create valid contours\n",
      "WARNING:root:Too few points to create valid contours\n",
      "WARNING:root:Too few points to create valid contours\n",
      "WARNING:root:Too few points to create valid contours\n",
      "WARNING:root:Too few points to create valid contours\n"
     ]
    },
    {
     "name": "stdout",
     "output_type": "stream",
     "text": [
      "\n",
      "Making messierTests/07-27-M87.pdf\n",
      "\n",
      "Making messierTests/07-27-M89.pdf\n"
     ]
    },
    {
     "name": "stderr",
     "output_type": "stream",
     "text": [
      "WARNING:root:Too few points to create valid contours\n",
      "WARNING:root:Too few points to create valid contours\n",
      "WARNING:root:Too few points to create valid contours\n",
      "WARNING:root:Too few points to create valid contours\n",
      "WARNING:root:Too few points to create valid contours\n",
      "WARNING:root:Too few points to create valid contours\n",
      "WARNING:root:Too few points to create valid contours\n",
      "WARNING:root:Too few points to create valid contours\n",
      "WARNING:root:Too few points to create valid contours\n",
      "WARNING:root:Too few points to create valid contours\n",
      "WARNING:root:Too few points to create valid contours\n",
      "WARNING:root:Too few points to create valid contours\n",
      "WARNING:root:Too few points to create valid contours\n",
      "WARNING:root:Too few points to create valid contours\n",
      "WARNING:root:Too few points to create valid contours\n",
      "WARNING:root:Too few points to create valid contours\n",
      "WARNING:root:Too few points to create valid contours\n",
      "WARNING:root:Too few points to create valid contours\n"
     ]
    },
    {
     "name": "stdout",
     "output_type": "stream",
     "text": [
      "\n",
      "Making messierTests/07-27-M91.pdf\n",
      "\n",
      "Making messierTests/07-27-M101.pdf\n"
     ]
    },
    {
     "name": "stderr",
     "output_type": "stream",
     "text": [
      "WARNING:root:Too few points to create valid contours\n",
      "WARNING:root:Too few points to create valid contours\n",
      "WARNING:root:Too few points to create valid contours\n"
     ]
    },
    {
     "name": "stdout",
     "output_type": "stream",
     "text": [
      "\n",
      "Making messierTests/07-27-M105.pdf\n"
     ]
    },
    {
     "name": "stderr",
     "output_type": "stream",
     "text": [
      "WARNING:root:Too few points to create valid contours\n",
      "WARNING:root:Too few points to create valid contours\n",
      "WARNING:root:Too few points to create valid contours\n"
     ]
    },
    {
     "name": "stdout",
     "output_type": "stream",
     "text": [
      "\n",
      "Making messierTests/07-27-M108.pdf\n"
     ]
    }
   ],
   "source": [
    "# run all Messier objects \n",
    "for id in [63, 82, 87, 89, 91, 101, 105, 108]:\n",
    "    file_ = f'../resources/SN{id}_chain.tsv'\n",
    "    saved_file = f'messierTests/07-27-M{id}.pdf'\n",
    "    print(f'\\nMaking {saved_file}')\n",
    "    corner_plot(file_, saved_file)"
   ]
  },
  {
   "cell_type": "markdown",
   "metadata": {
    "deletable": true,
    "editable": true
   },
   "source": [
    "## Circle Test"
   ]
  },
  {
   "cell_type": "code",
   "execution_count": 3,
   "metadata": {
    "collapsed": false,
    "deletable": true,
    "editable": true
   },
   "outputs": [
    {
     "name": "stdout",
     "output_type": "stream",
     "text": [
      "\n",
      "Making circleTests/07-31-C1.pdf\n"
     ]
    },
    {
     "name": "stderr",
     "output_type": "stream",
     "text": [
      "WARNING:root:Too few points to create valid contours\n"
     ]
    },
    {
     "name": "stdout",
     "output_type": "stream",
     "text": [
      "\n",
      "Making circleTests/07-31-C2.pdf\n"
     ]
    },
    {
     "name": "stderr",
     "output_type": "stream",
     "text": [
      "WARNING:root:Too few points to create valid contours\n",
      "WARNING:root:Too few points to create valid contours\n",
      "WARNING:root:Too few points to create valid contours\n"
     ]
    },
    {
     "name": "stdout",
     "output_type": "stream",
     "text": [
      "\n",
      "Making circleTests/07-31-C3.pdf\n",
      "\n",
      "Making circleTests/07-31-C4.pdf\n"
     ]
    },
    {
     "name": "stderr",
     "output_type": "stream",
     "text": [
      "WARNING:root:Too few points to create valid contours\n",
      "WARNING:root:Too few points to create valid contours\n",
      "WARNING:root:Too few points to create valid contours\n",
      "WARNING:root:Too few points to create valid contours\n"
     ]
    },
    {
     "name": "stdout",
     "output_type": "stream",
     "text": [
      "\n",
      "Making circleTests/07-31-C5.pdf\n"
     ]
    },
    {
     "name": "stderr",
     "output_type": "stream",
     "text": [
      "WARNING:root:Too few points to create valid contours\n",
      "WARNING:root:Too few points to create valid contours\n",
      "WARNING:root:Too few points to create valid contours\n",
      "WARNING:root:Too few points to create valid contours\n",
      "WARNING:root:Too few points to create valid contours\n",
      "WARNING:root:Too few points to create valid contours\n",
      "WARNING:root:Too few points to create valid contours\n",
      "WARNING:root:Too few points to create valid contours\n"
     ]
    },
    {
     "name": "stdout",
     "output_type": "stream",
     "text": [
      "\n",
      "Making circleTests/07-31-C6.pdf\n"
     ]
    },
    {
     "name": "stderr",
     "output_type": "stream",
     "text": [
      "WARNING:root:Too few points to create valid contours\n",
      "WARNING:root:Too few points to create valid contours\n",
      "WARNING:root:Too few points to create valid contours\n",
      "WARNING:root:Too few points to create valid contours\n"
     ]
    }
   ],
   "source": [
    "# run on circle test \n",
    "for id in [1, 2, 3, 4, 5, 6]:\n",
    "    file_ = f'../resources/SN{id}_chain.tsv'\n",
    "    saved_file = f'circleTests/07-31-C{id}.pdf'\n",
    "    print(f'\\nMaking {saved_file}')\n",
    "    corner_plot(file_, saved_file)"
   ]
  },
  {
   "cell_type": "code",
   "execution_count": 7,
   "metadata": {
    "collapsed": false,
    "deletable": true,
    "editable": true
   },
   "outputs": [],
   "source": [
    "# run on circle test 3 with truths\n",
    "file_ = f'../resources/SN3_chain.tsv'\n",
    "saved_file = f'circleTests/07-31-C3-truths.pdf'\n",
    "\n",
    "data = Table.read(file_, format='ascii.commented_header', delimiter='\\t')\n",
    "data = data.to_pandas()\n",
    "data.dropna(inplace=True)\n",
    "\n",
    "fig = corner.corner(data, show_titles=True, use_math_text=True,\n",
    "                quantiles=[0.16, 0.5, 0.84], smooth=0.5, \n",
    "                plot_datapoints=False,\n",
    "                labels=[\"$logZ_{sol}$\", \"$dust_2$\", r\"$\\tau$\", \n",
    "                        \"$t_{start}$\", \"$t_{trans}$\", 'sf slope', \n",
    "                         'c', 'Age'],\n",
    "                truths=[-0.5, 0.1, 7.0, 3.0, 10, 15.0, -25, None]\n",
    "                )\n",
    "\n",
    "fig.savefig(saved_file)"
   ]
  },
  {
   "cell_type": "code",
   "execution_count": 8,
   "metadata": {
    "collapsed": false,
    "deletable": true,
    "editable": true
   },
   "outputs": [
    {
     "name": "stderr",
     "output_type": "stream",
     "text": [
      "WARNING:root:Too few points to create valid contours\n"
     ]
    }
   ],
   "source": [
    "# run on circle test 1 with truths\n",
    "file_ = f'../resources/SN1_chain_2017-09-11.tsv'\n",
    "saved_file = f'circleTests/09-11-C1-truths.pdf'\n",
    "truths=[-0.5, 0.1, 0.5, 1.5, 9.0, -1.0, -25, None]\n",
    "\n",
    "corner_plot(file_, saved_file, truths)\n",
    "\n",
    "# data = Table.read(file_, format='ascii.commented_header', delimiter='\\t')\n",
    "# data = data.to_pandas()\n",
    "# data.dropna(inplace=True)\n",
    "#\n",
    "# fig = corner.corner(data, show_titles=True, use_math_text=True,\n",
    "#                 quantiles=[0.16, 0.5, 0.84], smooth=0.5, \n",
    "#                 plot_datapoints=False,\n",
    "#                 labels=[\"$logZ_{sol}$\", \"$dust_2$\", r\"$\\tau$\", \n",
    "#                         \"$t_{start}$\", \"$t_{trans}$\", 'sf slope', \n",
    "#                          'c', 'Age'],\n",
    "#                 truths=[-0.5, 0.1, 0.5, 1.5, 9.0, -1.0, -25, None]\n",
    "#                 )\n",
    "\n",
    "# fig.savefig(saved_file)"
   ]
  },
  {
   "cell_type": "markdown",
   "metadata": {
    "collapsed": true,
    "deletable": true,
    "editable": true
   },
   "source": [
    "## Test all Circle Tests"
   ]
  },
  {
   "cell_type": "code",
   "execution_count": 4,
   "metadata": {
    "collapsed": false,
    "deletable": true,
    "editable": true
   },
   "outputs": [],
   "source": [
    "truths = {\n",
    "1 : [-0.5, 0.1, 0.5, 1.5, 9.0, -1.0, -25, 10.68],\n",
    "2 : [-0.5, 0.1, 0.5, 1.5, 9.0, 15.0, -25, 1.41],  ## should not be older then 1!\n",
    "3 : [-0.5, 0.1, 7.0, 3.0, 10, 15.0, -25, 1.75],\n",
    "4 : [-0.5, 0.1, 7.0, 3.0, 13.0, 0.0, -25, 4.28],\n",
    "5 : [-1.5, 0.1, 0.5, 1.5, 9.0, -1.0, -25, 10.68],\n",
    "6 : [-0.5, 0.8, 7.0, 3.0, 10.0, 15.0, -25, 1.75]\n",
    "}"
   ]
  },
  {
   "cell_type": "code",
   "execution_count": 5,
   "metadata": {
    "collapsed": false,
    "deletable": true,
    "editable": true
   },
   "outputs": [
    {
     "name": "stdout",
     "output_type": "stream",
     "text": [
      "\n",
      "Making circleTests/C1-truths.pdf\n",
      "\n",
      "Making circleTests/C2-truths.pdf\n",
      "\n",
      "Making circleTests/C3-truths.pdf\n",
      "\n",
      "Making circleTests/C4-truths.pdf\n",
      "\n",
      "Making circleTests/C5-truths.pdf\n"
     ]
    },
    {
     "name": "stderr",
     "output_type": "stream",
     "text": [
      "WARNING:root:Too few points to create valid contours\n"
     ]
    },
    {
     "name": "stdout",
     "output_type": "stream",
     "text": [
      "\n",
      "Making circleTests/C6-truths.pdf\n"
     ]
    }
   ],
   "source": [
    "for id in np.arange(6) + 1:\n",
    "    file_ = f'../resources/SN{id}_chain.tsv'\n",
    "    saved_file = f'circleTests/C{id}-truths.pdf'\n",
    "    print(f'\\nMaking {saved_file}')\n",
    "    corner_plot(file_, saved_file, truths[id])"
   ]
  },
  {
   "cell_type": "code",
   "execution_count": null,
   "metadata": {
    "collapsed": true,
    "deletable": true,
    "editable": true
   },
   "outputs": [],
   "source": []
  }
 ],
 "metadata": {
  "kernelspec": {
   "display_name": "Python 3",
   "language": "python",
   "name": "python3"
  },
  "language_info": {
   "codemirror_mode": {
    "name": "ipython",
    "version": 3
   },
   "file_extension": ".py",
   "mimetype": "text/x-python",
   "name": "python",
   "nbconvert_exporter": "python",
   "pygments_lexer": "ipython3",
   "version": "3.6.1"
  }
 },
 "nbformat": 4,
 "nbformat_minor": 2
}
