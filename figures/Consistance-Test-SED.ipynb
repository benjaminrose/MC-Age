{
 "cells": [
  {
   "cell_type": "markdown",
   "metadata": {
    "deletable": true,
    "editable": true
   },
   "source": [
    "# Consistance Tests: SED\n",
    "\n",
    "This is going to be the figure that shows that this is self consistent with regard to the selected model having an SED that matches the data. It will be 6 sub-plots each showing the selected model's SED and the data."
   ]
  },
  {
   "cell_type": "code",
   "execution_count": 1,
   "metadata": {
    "collapsed": true,
    "deletable": true,
    "editable": true
   },
   "outputs": [],
   "source": [
    "import numpy as np\n",
    "import matplotlib.pyplot as plt\n",
    "import fsps\n",
    "from astropy.cosmology import FlatLambdaCDM"
   ]
  },
  {
   "cell_type": "code",
   "execution_count": 9,
   "metadata": {
    "collapsed": true
   },
   "outputs": [],
   "source": [
    "import seaborn as sns\n",
    "sns.set_style(\"whitegrid\")"
   ]
  },
  {
   "cell_type": "markdown",
   "metadata": {
    "deletable": true,
    "editable": true
   },
   "source": [
    "set up cosmology to get age of the universe at the observed redshift to know when to stop the stellar popultion. -- define A(z) better.\n",
    "\n",
    "Also define the FSPS object and other useful values like the x-axis for plotting."
   ]
  },
  {
   "cell_type": "code",
   "execution_count": 2,
   "metadata": {
    "collapsed": true,
    "deletable": true,
    "editable": true
   },
   "outputs": [],
   "source": [
    "cosmo = FlatLambdaCDM(H0=70, Om0=0.27)"
   ]
  },
  {
   "cell_type": "code",
   "execution_count": 3,
   "metadata": {
    "collapsed": true,
    "deletable": true,
    "editable": true
   },
   "outputs": [],
   "source": [
    "sp = fsps.StellarPopulation(zcontinuous=2, cloudy_dust=True, add_neb_emission = True, sfh=5)"
   ]
  },
  {
   "cell_type": "code",
   "execution_count": 4,
   "metadata": {
    "collapsed": true,
    "deletable": true,
    "editable": true
   },
   "outputs": [],
   "source": [
    "wavelengths = [3551, 4686, 6166, 7480, 8932]    # for u, g, r, i, z filters\n",
    "filters = ['u', 'g', 'r', 'i', 'z']"
   ]
  },
  {
   "cell_type": "markdown",
   "metadata": {
    "deletable": true,
    "editable": true
   },
   "source": [
    "Define data and best fit models"
   ]
  },
  {
   "cell_type": "code",
   "execution_count": 5,
   "metadata": {
    "collapsed": false,
    "deletable": true,
    "editable": true
   },
   "outputs": [],
   "source": [
    "data = {\n",
    "    1 : np.array([20.36, 18.76, 17.99, 17.67, 17.39]),\n",
    "    2 : np.array([20.31, 18.74, 17.98, 17.66, 17.39]),\n",
    "    3 : np.array([16.15, 15.43, 15.4, 15.19, 15.21]),\n",
    "    4 : np.array([17.65, 16.74, 16.49, 16.26, 16.16]),\n",
    "    5 : np.array([19.69, 18.29, 17.7, 17.45, 17.29]),\n",
    "    6 : np.array([17.66, 16.58, 16.25, 16.01, 15.86]),\n",
    "    7 : np.array([17.62, 16.80, 16.57, 16.34, 16.26]),\n",
    "    8 : np.array([19.72, 18.37, 17.88, 17.68, 17.56])\n",
    "}\n",
    "\n",
    "uncert = {\n",
    "    1 : np.array([0.1, 0.1, 0.1, 0.1, 0.1]),\n",
    "    2 : np.array([0.1, 0.1, 0.1, 0.1, 0.1]),\n",
    "    3 : np.array([0.1, 0.1,0.1, 0.1, 0.1]),\n",
    "    4 : np.array([0.1, 0.1, 0.1, 0.1, 0.1]),\n",
    "    5 : np.array([0.1, 0.1,0.1, 0.1, 0.1]),\n",
    "    6 : np.array([0.1, 0.1, 0.1, 0.1, 0.1]), \n",
    "    7 : np.array([0.1, 0.1, 0.1, 0.1, 0.1]),\n",
    "    8 : np.array([0.1, 0.1, 0.1, 0.1, 0.1])\n",
    "}\n",
    "\n",
    "# logz, t_dust, tau, t_start, t_trans, sf_slope\n",
    "# from 2017-10-02 job 277287.1-6:1\n",
    "# model = {\n",
    "#     1 : np.array([0.46, 0.17, 5.22, 1.41, 5.27, -0.88]),  # should be negative metalicity??\n",
    "#     2 : np.array([-0.56, 0.18, 0.53, 2.11, 10.43, -0.44]),\n",
    "#     3 : np.array([-0.67, 0.10, 7.8, 4.35, 10.93, 1.16]),\n",
    "#     4 : np.array([-0.47, 0.17, 5.57, 2.4, 7.81, 0.08]),\n",
    "#     5 : np.array([-1.1, 0.1, 7.71, 2.63, 8.87, -0.96]),\n",
    "#     6 : np.array([-0.38, 0.43, 7.35, 6.60, 11.41, -0.03])\n",
    "# }\n",
    "\n",
    "# c = {\n",
    "#     1 : -24.93,\n",
    "#     2 : -24.98,\n",
    "#     3 : -25.23,\n",
    "#     4 : -24.98,\n",
    "#     5 : -24.63,\n",
    "#     6 : -25.24\n",
    "# }\n",
    "\n",
    "# logz, t_dust, tau, t_start, t_trans, phi\n",
    "# from 2017-12-19 crcjob 423492\n",
    "model = {\n",
    "    1 : np.array([-0.50, 0.18, 0.67, 2.1, 9.50, -0.65]), # very different, but much more accurat values\n",
    "    2 : np.array([-0.55, 0.19, 0.66, 2.0, 9.66, -0.53]), # very differnet\n",
    "    3 : np.array([-0.70, 0.09, 5.95, 8.80, 12.34, 0.68]),\n",
    "    4 : np.array([-0.48, 0.19, 5.81, 3.92, 12.17, 0.34]),\n",
    "    5 : np.array([-1.15, 0.12, 5.04, 3.56, 8.20, -0.83]),\n",
    "    6 : np.array([-0.39, 0.35, 6.90, 4.98, 12.66, -0.03]),\n",
    "    7 : np.array([-0.44, 0.1, 5.80, 2.29, 9.04, 0.08]),\n",
    "    8 : np.array([-1.44, 0.09, 4.70, 4.8, 10.24, -0.77])\n",
    "}\n",
    "\n",
    "c = {\n",
    "    1 : -24.97,\n",
    "    2 : -24.97,\n",
    "    3 : -25.15,\n",
    "    4 : -24.96,\n",
    "    5 : -24.65,\n",
    "    6 : -25.37,\n",
    "    7 : -24.85,\n",
    "    8 : -24.12\n",
    "}\n",
    "\n",
    "redshift = 0.05"
   ]
  },
  {
   "cell_type": "markdown",
   "metadata": {
    "deletable": true,
    "editable": true
   },
   "source": [
    "Get the SED for the model."
   ]
  },
  {
   "cell_type": "code",
   "execution_count": 6,
   "metadata": {
    "collapsed": false,
    "deletable": true,
    "editable": true
   },
   "outputs": [],
   "source": [
    "def get_sed(sp, redshift, logzsol, dust2, tau, tStart, sfTrans, phi):\n",
    "    \"\"\"same as `calculateAge.runFSPS()` as of 2017-10-05\n",
    "    \"\"\"\n",
    "    sdss_bands = ['sdss_u', 'sdss_g', 'sdss_r', 'sdss_i', 'sdss_z']\n",
    "\n",
    "    sp.params['logzsol'] = logzsol\n",
    "    \n",
    "    dust1 = 2.0*dust2\n",
    "    sp.params['dust1'] = dust1\n",
    "    sp.params['dust2'] = dust2\n",
    "\n",
    "    sp.params['tau'] = tau\n",
    "    sp.params['sf_start'] = tStart\n",
    "    sp.params['sf_trunc'] = sfTrans\n",
    "    sp.params['sf_slope'] = np.tan(phi)\n",
    "\n",
    "    tage = cosmo.age(redshift).to('Gyr').value\n",
    "\n",
    "    return sp.get_mags(tage=tage, redshift=redshift, bands=sdss_bands)"
   ]
  },
  {
   "cell_type": "code",
   "execution_count": 7,
   "metadata": {
    "collapsed": false,
    "deletable": true,
    "editable": true
   },
   "outputs": [],
   "source": [
    "model_sed = {}\n",
    "for i in range(1, 9):\n",
    "    model_sed[i] = get_sed(sp, redshift, *model[i])"
   ]
  },
  {
   "cell_type": "markdown",
   "metadata": {
    "deletable": true,
    "editable": true
   },
   "source": [
    "Make the figure"
   ]
  },
  {
   "cell_type": "code",
   "execution_count": 8,
   "metadata": {
    "collapsed": false,
    "deletable": true,
    "editable": true
   },
   "outputs": [
    {
     "data": {
      "text/plain": [
       "{1: array([ 45.37121439,  43.76775616,  42.99677118,  42.66826793,  42.38852051]),\n",
       " 2: array([ 45.35380122,  43.75999082,  42.99411528,  42.66825383,  42.39588892]),\n",
       " 3: array([ 41.2091081 ,  40.56786111,  40.50852559,  40.28538903,  40.33946123]),\n",
       " 4: array([ 42.60277997,  41.71119391,  41.44222801,  41.20459033,  41.11322706]),\n",
       " 5: array([ 44.36039765,  42.94471411,  42.35179828,  42.10326953,  41.93914351]),\n",
       " 6: array([ 42.9863323 ,  41.94151475,  41.59121691,  41.3455692 ,  41.20011147]),\n",
       " 7: array([ 42.56372008,  41.7108555 ,  41.45585404,  41.22373141,  41.1350274 ]),\n",
       " 8: array([ 43.84471772,  42.48006939,  41.99291888,  41.78886315,  41.65840406])}"
      ]
     },
     "execution_count": 8,
     "metadata": {},
     "output_type": "execute_result"
    }
   ],
   "source": [
    "model_sed"
   ]
  },
  {
   "cell_type": "code",
   "execution_count": 20,
   "metadata": {
    "collapsed": false,
    "deletable": true,
    "editable": true
   },
   "outputs": [
    {
     "data": {
      "text/plain": [
       "<matplotlib.figure.Figure at 0x10c6e7438>"
      ]
     },
     "metadata": {},
     "output_type": "display_data"
    },
    {
     "data": {
      "image/png": "[encoded data removed]",
      "text/plain": [
       "<matplotlib.figure.Figure at 0x10c6e74a8>"
      ]
     },
     "metadata": {},
     "output_type": "display_data"
    }
   ],
   "source": [
    "plt.figure('SED Consistence Test')\n",
    "\n",
    "# row and column sharing\n",
    "# ???sharey=True,\n",
    "f, ((ax1, ax2), (ax3, ax4), (ax5, ax6), (ax7, ax8)) = plt.subplots(4, 2, sharex='col', figsize=(6, 9))\n",
    "\n",
    "# add uncertainty\n",
    "ax1.errorbar(wavelengths, data[1], yerr=uncert[1], alpha=0.65)\n",
    "ax1.plot(wavelengths, model_sed[1] + c[1])\n",
    "ax1.invert_yaxis()\n",
    "# ax1.set_title('1')\n",
    "# ax1.text(0.5, 0.5, '1')\n",
    "\n",
    "ax2.errorbar(wavelengths, data[2], yerr=uncert[2], alpha=0.65)\n",
    "ax2.plot(wavelengths, model_sed[2] + c[2])\n",
    "ax2.invert_yaxis()\n",
    "\n",
    "ax3.errorbar(wavelengths, data[3], yerr=uncert[3], alpha=0.65)\n",
    "ax3.plot(wavelengths, model_sed[3] + c[3])\n",
    "ax3.invert_yaxis()\n",
    "# ax3.set_title('3')\n",
    "\n",
    "ax4.errorbar(wavelengths, data[4], yerr=uncert[4], alpha=0.65)\n",
    "ax4.plot(wavelengths, model_sed[4] + c[4])\n",
    "ax4.invert_yaxis()\n",
    "# ax4.set_title('4')\n",
    "\n",
    "ax5.errorbar(wavelengths, data[5], yerr=uncert[5], alpha=0.65)\n",
    "ax5.plot(wavelengths, model_sed[5] + c[5])\n",
    "ax5.invert_yaxis()\n",
    "\n",
    "ax6.errorbar(wavelengths, data[6], yerr=uncert[6], alpha=0.65)\n",
    "ax6.plot(wavelengths, model_sed[6] + c[6])\n",
    "ax6.invert_yaxis()\n",
    "\n",
    "ax7.errorbar(wavelengths, data[7], yerr=uncert[7], alpha=0.65)\n",
    "ax7.plot(wavelengths, model_sed[7] + c[7])\n",
    "ax7.invert_yaxis()\n",
    "\n",
    "ax8.errorbar(wavelengths, data[8], yerr=uncert[8], alpha=0.65, label='mock-data')\n",
    "ax8.plot(wavelengths, model_sed[8] + c[8], label='best fit model')\n",
    "ax8.invert_yaxis()\n",
    "\n",
    "\n",
    "plt.legend()\n",
    "\n",
    "\n",
    "ax7.set_xticks(wavelengths)\n",
    "ax7.set_xticklabels(filters)\n",
    "ax8.set_xticks(wavelengths)\n",
    "ax8.set_xticklabels(filters)\n",
    "\n",
    "# ax3.set_ylabel('Magnitude [mag]', size=14)\n",
    "f.text(0.03, 0.5, 'Magnitude [mag]', ha='center', va='center', size=14, rotation=90)\n",
    "# ax5.set_xlabel('SDSS Filters')\n",
    "# ax6.set_xlabel('SDSS Filters')\n",
    "# https://stackoverflow.com/questions/6963035/pyplot-axes-labels-for-subplots\n",
    "f.text(0.5, 0.08, 'SDSS Filters', ha='center', va='center', size=14)\n",
    "\n",
    "\n",
    "# lable figures\n",
    "f.text(0.17, 0.868, '1', ha='center', va='center', size=10)\n",
    "f.text(0.60, 0.868, '2', ha='center', va='center', size=10)\n",
    "f.text(0.17, 0.668, '3', ha='center', va='center', size=10)\n",
    "f.text(0.60, 0.668, '4', ha='center', va='center', size=10)\n",
    "f.text(0.17, 0.468, '5', ha='center', va='center', size=10)\n",
    "f.text(0.60, 0.47, '6', ha='center', va='center', size=10)\n",
    "f.text(0.17, 0.268, '7', ha='center', va='center', size=10)\n",
    "f.text(0.60, 0.268, '8', ha='center', va='center', size=10)\n",
    "\n",
    "# # add ages\n",
    "# f.text(0.3, 0.73, '10.7 Gyr', ha='center', va='center', size=10)\n",
    "# f.text(0.72, 0.73, '1.4 Gyr', ha='center', va='center', size=10)\n",
    "# f.text(0.3, 0.53, '1.8 Gyr', ha='center', va='center', size=10)\n",
    "# f.text(0.72, 0.53, '4.3 Gyr', ha='center', va='center', size=10)\n",
    "# f.text(0.3, 0.33, '10.7 Gyr', ha='center', va='center', size=10)\n",
    "# f.text(0.72, 0.33, '1.8 Gyr', ha='center', va='center', size=10)\n",
    "# f.text(0.3, 0.13, '2.4 Gyr', ha='center', va='center', size=10)\n",
    "# f.text(0.72, 0.13, '0.44 Gyr', ha='center', va='center', size=10)\n",
    "\n",
    "\n",
    "\n",
    "# ax1.set_title('Sharing x per column, y per row')\n",
    "# ax2.scatter(x, y)\n",
    "# ax3.scatter(x, 2 * y ** 2 - 1, color='r')\n",
    "# ax4.plot(x, 2 * y ** 2 - 1, color='r')\n",
    "\n",
    "#cutting white space does not work for these sub figures\n",
    "# f.set_tight_layout({'pad': 1.5})   #cut edge whitespace\n",
    "plt.savefig('consistancy_sed.pdf')\n",
    "plt.show()"
   ]
  },
  {
   "cell_type": "code",
   "execution_count": 67,
   "metadata": {
    "collapsed": false,
    "deletable": true,
    "editable": true
   },
   "outputs": [
    {
     "data": {
      "text/plain": [
       "[6.0, 4.0]"
      ]
     },
     "execution_count": 67,
     "metadata": {},
     "output_type": "execute_result"
    }
   ],
   "source": [
    "from pylab import rcParams\n",
    "rcParams['figure.figsize']"
   ]
  },
  {
   "cell_type": "code",
   "execution_count": null,
   "metadata": {
    "collapsed": true,
    "deletable": true,
    "editable": true
   },
   "outputs": [],
   "source": []
  }
 ],
 "metadata": {
  "kernelspec": {
   "display_name": "Python 3",
   "language": "python",
   "name": "python3"
  },
  "language_info": {
   "codemirror_mode": {
    "name": "ipython",
    "version": 3
   },
   "file_extension": ".py",
   "mimetype": "text/x-python",
   "name": "python",
   "nbconvert_exporter": "python",
   "pygments_lexer": "ipython3",
   "version": "3.6.3"
  }
 },
 "nbformat": 4,
 "nbformat_minor": 2
}
