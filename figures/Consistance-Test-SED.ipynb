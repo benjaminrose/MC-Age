{
 "cells": [
  {
   "cell_type": "markdown",
   "metadata": {
    "deletable": true,
    "editable": true
   },
   "source": [
    "# Consistance Tests: SED\n",
    "\n",
    "This is going to be the figure that shows that this is self consistent with regard to the selected model having an SED that matches the data. It will be 6 sub-plots each showing the selected model's SED and the data."
   ]
  },
  {
   "cell_type": "code",
   "execution_count": 5,
   "metadata": {
    "collapsed": true,
    "deletable": true,
    "editable": true
   },
   "outputs": [],
   "source": [
    "import numpy as np\n",
    "import matplotlib.pyplot as plt\n",
    "import fsps\n",
    "from astropy.cosmology import FlatLambdaCDM"
   ]
  },
  {
   "cell_type": "markdown",
   "metadata": {
    "deletable": true,
    "editable": true
   },
   "source": [
    "set up cosmology to get age of the universe at the observed redshift to know when to stop the stellar popultion. -- define A(z) better.\n",
    "\n",
    "Also define the FSPS object and other useful values like the x-axis for plotting."
   ]
  },
  {
   "cell_type": "code",
   "execution_count": 6,
   "metadata": {
    "collapsed": true,
    "deletable": true,
    "editable": true
   },
   "outputs": [],
   "source": [
    "cosmo = FlatLambdaCDM(H0=70, Om0=0.27)"
   ]
  },
  {
   "cell_type": "code",
   "execution_count": 7,
   "metadata": {
    "collapsed": true,
    "deletable": true,
    "editable": true
   },
   "outputs": [],
   "source": [
    "sp = fsps.StellarPopulation(zcontinuous=2, cloudy_dust=True, add_neb_emission = True, sfh=5)"
   ]
  },
  {
   "cell_type": "code",
   "execution_count": 2,
   "metadata": {
    "collapsed": true,
    "deletable": true,
    "editable": true
   },
   "outputs": [],
   "source": [
    "wavelengths = [3551, 4686, 6166, 7480, 8932]    # for u, g, r, i, z filters\n",
    "filters = ['u', 'g', 'r', 'i', 'z']"
   ]
  },
  {
   "cell_type": "markdown",
   "metadata": {
    "deletable": true,
    "editable": true
   },
   "source": [
    "Define data and best fit models"
   ]
  },
  {
   "cell_type": "code",
   "execution_count": 15,
   "metadata": {
    "collapsed": false,
    "deletable": true,
    "editable": true
   },
   "outputs": [],
   "source": [
    "data = {\n",
    "    1 : np.array([20.36, 18.76, 17.99, 17.67, 17.39]),\n",
    "    2 : np.array([20.31, 18.74, 17.98, 17.66, 17.39]),\n",
    "    3 : np.array([16.15, 15.43, 15.4, 15.19, 15.21]),\n",
    "    4 : np.array([17.65, 16.74, 16.49, 16.26, 16.16]),\n",
    "    5 : np.array([19.69, 18.29, 17.7, 17.45, 17.29]),\n",
    "    6 : np.array([17.66, 16.58, 16.25, 16.01, 15.86])\n",
    "}\n",
    "\n",
    "uncert = {\n",
    "    1 : np.array([0.1, 0.1, 0.1, 0.1, 0.1]),\n",
    "    2 : np.array([0.1, 0.1, 0.1, 0.1, 0.1]),\n",
    "    3 : np.array([0.1, 0.1,0.1, 0.1, 0.1]),\n",
    "    4 : np.array([0.1, 0.1, 0.1, 0.1, 0.1]),\n",
    "    5 : np.array([0.1, 0.1,0.1, 0.1, 0.1]),\n",
    "    6 : np.array([0.1, 0.1, 0.1, 0.1, 0.1])\n",
    "}\n",
    "\n",
    "# logz, t_dust, \n",
    "# from 2017-10-02 job 277287.1-6:1\n",
    "model = {\n",
    "    1 : np.array([0.46, 0.17, 5.22, 1.41, 5.27, -0.88]),\n",
    "    2 : np.array([-0.56, 0.18, 0.53, 2.11, 10.43, -0.44]),\n",
    "    3 : np.array([-0.67, 0.10, 7.8, 4.35, 10.93, 1.16]),\n",
    "    4 : np.array([-0.47, 0.17, 5.57, 2.4, 7.81, 0.08]),\n",
    "    5 : np.array([-1.1, 0.1, 7.71, 2.63, 8.87, -0.96]),\n",
    "    6 : np.array([-0.38, 0.43, 7.35, 6.60, 11.41, -0.03])\n",
    "}\n",
    "\n",
    "c = {\n",
    "    1 : -24.93,\n",
    "    2 : -24.98,\n",
    "    3 : -25.23,\n",
    "    4 : -24.98,\n",
    "    5 : -24.63,\n",
    "    6 : -25.24\n",
    "}\n",
    "\n",
    "redshift = 0.05"
   ]
  },
  {
   "cell_type": "markdown",
   "metadata": {
    "deletable": true,
    "editable": true
   },
   "source": [
    "Get the SED for the model."
   ]
  },
  {
   "cell_type": "code",
   "execution_count": 9,
   "metadata": {
    "collapsed": false,
    "deletable": true,
    "editable": true
   },
   "outputs": [],
   "source": [
    "def get_sed(sp, redshift, logzsol, dust2, tau, tStart, sfTrans, sfSlope):\n",
    "    \"\"\"same as `calculateAge.runFSPS()` as of 2017-10-05\n",
    "    \"\"\"\n",
    "    sdss_bands = ['sdss_u', 'sdss_g', 'sdss_r', 'sdss_i', 'sdss_z']\n",
    "\n",
    "    sp.params['logzsol'] = logzsol\n",
    "    \n",
    "    dust1 = 2.0*dust2\n",
    "    sp.params['dust1'] = dust1\n",
    "    sp.params['dust2'] = dust2\n",
    "\n",
    "    sp.params['tau'] = tau\n",
    "    sp.params['sf_start'] = tStart\n",
    "    sp.params['sf_trunc'] = sfTrans\n",
    "    sp.params['sf_slope'] = sfSlope\n",
    "\n",
    "    tage = cosmo.age(redshift).to('Gyr').value\n",
    "\n",
    "    return sp.get_mags(tage=tage, redshift=redshift, bands=sdss_bands)"
   ]
  },
  {
   "cell_type": "code",
   "execution_count": 33,
   "metadata": {
    "collapsed": false,
    "deletable": true,
    "editable": true
   },
   "outputs": [],
   "source": [
    "model_sed = {}\n",
    "for i in range(1, 7):\n",
    "    model_sed[i] = get_sed(sp, redshift, *model[i])"
   ]
  },
  {
   "cell_type": "markdown",
   "metadata": {
    "deletable": true,
    "editable": true
   },
   "source": [
    "Make the figure"
   ]
  },
  {
   "cell_type": "code",
   "execution_count": 34,
   "metadata": {
    "collapsed": false,
    "deletable": true,
    "editable": true
   },
   "outputs": [
    {
     "data": {
      "text/plain": [
       "{1: array([ 46.31473796,  44.37802032,  43.46446025,  43.06326573,  42.64070477]),\n",
       " 2: array([ 45.35142501,  43.75998646,  42.99532415,  42.67065123,  42.40004582]),\n",
       " 3: array([ 41.54072812,  40.85958706,  40.76545066,  40.54392389,  40.57140023]),\n",
       " 4: array([ 42.69522381,  41.78647374,  41.5050169 ,  41.26948519,  41.16984455]),\n",
       " 5: array([ 44.30348682,  42.88856501,  42.30085045,  42.05561681,  41.89136657]),\n",
       " 6: array([ 42.92634932,  41.85681756,  41.50378581,  41.25880583,  41.10855899])}"
      ]
     },
     "execution_count": 34,
     "metadata": {},
     "output_type": "execute_result"
    }
   ],
   "source": [
    "model_sed"
   ]
  },
  {
   "cell_type": "code",
   "execution_count": 91,
   "metadata": {
    "collapsed": false,
    "deletable": true,
    "editable": true
   },
   "outputs": [
    {
     "data": {
      "text/plain": [
       "<matplotlib.figure.Figure at 0x10bce90b8>"
      ]
     },
     "metadata": {},
     "output_type": "display_data"
    },
    {
     "data": {
      "image/png": "[encoded data removed]",
      "text/plain": [
       "<matplotlib.figure.Figure at 0x10bce92b0>"
      ]
     },
     "metadata": {},
     "output_type": "display_data"
    }
   ],
   "source": [
    "plt.figure('SED Consistence Test')\n",
    "\n",
    "# row and column sharing\n",
    "f, ((ax1, ax2), (ax3, ax4), (ax5, ax6)) = plt.subplots(3, 2, sharex='col', figsize=(6, 9))\n",
    "\n",
    "# add uncertainty\n",
    "ax1.errorbar(wavelengths, data[1], yerr=uncert[1])\n",
    "ax1.plot(wavelengths, model_sed[1] + c[1])\n",
    "ax1.invert_yaxis()\n",
    "# ax1.set_title('1')\n",
    "# ax1.text(0.5, 0.5, '1')\n",
    "\n",
    "ax2.errorbar(wavelengths, data[2], yerr=uncert[2])\n",
    "ax2.plot(wavelengths, model_sed[2] + c[2])\n",
    "ax2.invert_yaxis()\n",
    "\n",
    "ax3.errorbar(wavelengths, data[3], yerr=uncert[3])\n",
    "ax3.plot(wavelengths, model_sed[3] + c[3])\n",
    "ax3.invert_yaxis()\n",
    "\n",
    "ax4.errorbar(wavelengths, data[4], yerr=uncert[4])\n",
    "ax4.plot(wavelengths, model_sed[4] + c[4])\n",
    "ax4.invert_yaxis()\n",
    "# ax4.set_title('4')\n",
    "\n",
    "ax5.errorbar(wavelengths, data[5], yerr=uncert[5])\n",
    "ax5.plot(wavelengths, model_sed[5] + c[5])\n",
    "ax5.invert_yaxis()\n",
    "\n",
    "ax6.errorbar(wavelengths, data[6], yerr=uncert[6], label='mock-data')\n",
    "ax6.plot(wavelengths, model_sed[6] + c[6], label='best fit model')\n",
    "ax6.invert_yaxis()\n",
    "\n",
    "\n",
    "plt.legend()\n",
    "\n",
    "ax3.set_ylabel('Magnitude [mag]', size=14)\n",
    "\n",
    "ax5.set_xticks(wavelengths)\n",
    "ax5.set_xticklabels(filters)\n",
    "ax6.set_xticks(wavelengths)\n",
    "ax6.set_xticklabels(filters)\n",
    "\n",
    "# ax5.set_xlabel('SDSS Filters')\n",
    "# ax6.set_xlabel('SDSS Filters')\n",
    "# https://stackoverflow.com/questions/6963035/pyplot-axes-labels-for-subplots\n",
    "f.text(0.5, 0.08, 'SDSS Filters', ha='center', va='center', size=14)\n",
    "\n",
    "\n",
    "# ax1.set_title('Sharing x per column, y per row')\n",
    "# ax2.scatter(x, y)\n",
    "# ax3.scatter(x, 2 * y ** 2 - 1, color='r')\n",
    "# ax4.plot(x, 2 * y ** 2 - 1, color='r')\n",
    "\n",
    "plt.savefig('del_consistancy_sed.pdf')\n",
    "plt.show()"
   ]
  },
  {
   "cell_type": "code",
   "execution_count": 67,
   "metadata": {
    "collapsed": false,
    "deletable": true,
    "editable": true
   },
   "outputs": [
    {
     "data": {
      "text/plain": [
       "[6.0, 4.0]"
      ]
     },
     "execution_count": 67,
     "metadata": {},
     "output_type": "execute_result"
    }
   ],
   "source": [
    "from pylab import rcParams\n",
    "rcParams['figure.figsize']"
   ]
  },
  {
   "cell_type": "code",
   "execution_count": null,
   "metadata": {
    "collapsed": true,
    "deletable": true,
    "editable": true
   },
   "outputs": [],
   "source": []
  }
 ],
 "metadata": {
  "kernelspec": {
   "display_name": "Python 3",
   "language": "python",
   "name": "python3"
  },
  "language_info": {
   "codemirror_mode": {
    "name": "ipython",
    "version": 3
   },
   "file_extension": ".py",
   "mimetype": "text/x-python",
   "name": "python",
   "nbconvert_exporter": "python",
   "pygments_lexer": "ipython3",
   "version": "3.6.3"
  }
 },
 "nbformat": 4,
 "nbformat_minor": 2
}
